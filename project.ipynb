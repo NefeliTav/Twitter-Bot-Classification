{
 "cells": [
  {
   "cell_type": "markdown",
   "metadata": {
    "application/vnd.databricks.v1+cell": {
     "inputWidgets": {},
     "nuid": "8e047d78-c403-4ec5-a689-82310499d628",
     "showTitle": false,
     "title": ""
    }
   },
   "source": [
    "# Twitter Bot Detector"
   ]
  },
  {
   "cell_type": "markdown",
   "metadata": {
    "application/vnd.databricks.v1+cell": {
     "inputWidgets": {},
     "nuid": "eca6dfbb-879f-4b8b-9276-bfd9781431e8",
     "showTitle": false,
     "title": ""
    }
   },
   "source": [
    "## Install Dependencies"
   ]
  },
  {
   "cell_type": "code",
   "execution_count": 0,
   "metadata": {
    "application/vnd.databricks.v1+cell": {
     "inputWidgets": {},
     "nuid": "f5307fd9-ffaf-4794-8ce0-8eb9c45f5872",
     "showTitle": false,
     "title": ""
    }
   },
   "outputs": [
    {
     "data": {
      "text/html": [
       "<style scoped>\n",
       "  .ansiout {\n",
       "    display: block;\n",
       "    unicode-bidi: embed;\n",
       "    white-space: pre-wrap;\n",
       "    word-wrap: break-word;\n",
       "    word-break: break-all;\n",
       "    font-family: \"Source Code Pro\", \"Menlo\", monospace;;\n",
       "    font-size: 13px;\n",
       "    color: #555;\n",
       "    margin-left: 4px;\n",
       "    line-height: 19px;\n",
       "  }\n",
       "</style>\n",
       "<div class=\"ansiout\">Requirement already satisfied: pyspark in /usr/local/lib/python3.8/site-packages (3.1.1)\r\n",
       "Requirement already satisfied: py4j==0.10.9 in /usr/local/lib/python3.8/site-packages (from pyspark) (0.10.9)\r\n",
       "<span class=\"ansi-yellow-fg\">WARNING: Running pip as root will break packages and permissions. You should install packages reliably by using venv: https://pip.pypa.io/warnings/venv</span>\r\n",
       "</div>"
      ]
     },
     "metadata": {
      "application/vnd.databricks.v1+output": {
       "addedWidgets": {},
       "arguments": {},
       "data": "<div class=\"ansiout\">Requirement already satisfied: pyspark in /usr/local/lib/python3.8/site-packages (3.1.1)\r\nRequirement already satisfied: py4j==0.10.9 in /usr/local/lib/python3.8/site-packages (from pyspark) (0.10.9)\r\n<span class=\"ansi-yellow-fg\">WARNING: Running pip as root will break packages and permissions. You should install packages reliably by using venv: https://pip.pypa.io/warnings/venv</span>\r\n</div>",
       "datasetInfos": [],
       "metadata": {},
       "removedWidgets": [],
       "type": "html"
      }
     },
     "output_type": "display_data"
    }
   ],
   "source": [
    "!sudo pip install pyspark --upgrade\n",
    "#!sudo pip install --upgrade pip\n",
    "#!pip install -U -q PyDrive\n",
    "#!pip install --upgrade google-api-python-client\n",
    "#!pip install mlflow"
   ]
  },
  {
   "cell_type": "markdown",
   "metadata": {
    "application/vnd.databricks.v1+cell": {
     "inputWidgets": {},
     "nuid": "095c3050-2095-42ec-8f3b-da59d1106259",
     "showTitle": false,
     "title": ""
    }
   },
   "source": [
    "## Import Python Packages"
   ]
  },
  {
   "cell_type": "code",
   "execution_count": 0,
   "metadata": {
    "application/vnd.databricks.v1+cell": {
     "inputWidgets": {},
     "nuid": "2b9fc8f6-4fc1-42c0-9749-b46462026e7b",
     "showTitle": false,
     "title": ""
    }
   },
   "outputs": [
    {
     "data": {
      "text/html": [
       "<style scoped>\n",
       "  .ansiout {\n",
       "    display: block;\n",
       "    unicode-bidi: embed;\n",
       "    white-space: pre-wrap;\n",
       "    word-wrap: break-word;\n",
       "    word-break: break-all;\n",
       "    font-family: \"Source Code Pro\", \"Menlo\", monospace;;\n",
       "    font-size: 13px;\n",
       "    color: #555;\n",
       "    margin-left: 4px;\n",
       "    line-height: 19px;\n",
       "  }\n",
       "</style>\n",
       "<div class=\"ansiout\"></div>"
      ]
     },
     "metadata": {
      "application/vnd.databricks.v1+output": {
       "addedWidgets": {},
       "arguments": {},
       "data": "<div class=\"ansiout\"></div>",
       "datasetInfos": [],
       "metadata": {},
       "removedWidgets": [],
       "type": "html"
      }
     },
     "output_type": "display_data"
    }
   ],
   "source": [
    "import pandas as pd\n",
    "import numpy as np\n",
    "import matplotlib.pyplot as plt\n",
    "import seaborn as sns\n",
    "%matplotlib inline\n",
    "\n",
    "import pyspark\n",
    "from pyspark.sql import *\n",
    "from pyspark.sql.types import *\n",
    "from pyspark.sql.functions import *\n",
    "from pyspark.sql.functions import udf\n",
    "from pyspark.sql.session import SparkSession\n",
    "from pyspark import SparkContext, SparkConf, SparkFiles\n",
    "\n",
    "\n",
    "from pyspark.ml import Pipeline\n",
    "from pyspark.ml.classification import LogisticRegression\n",
    "from pyspark.ml.tuning import CrossValidator, ParamGridBuilder\n",
    "from pyspark.ml.classification import GBTClassifier\n",
    "from pyspark.ml.classification import DecisionTreeClassifier\n",
    "from pyspark.ml.classification import RandomForestClassifier\n",
    "from pyspark.ml.evaluation import BinaryClassificationEvaluator\n",
    "from pyspark.ml.feature import StringIndexer, VectorAssembler, StandardScaler"
   ]
  },
  {
   "cell_type": "markdown",
   "metadata": {
    "application/vnd.databricks.v1+cell": {
     "inputWidgets": {},
     "nuid": "90c54160-df78-4743-a590-f7f5479ee0dd",
     "showTitle": false,
     "title": ""
    }
   },
   "source": [
    "## Check everything is ok"
   ]
  },
  {
   "cell_type": "code",
   "execution_count": 0,
   "metadata": {
    "application/vnd.databricks.v1+cell": {
     "inputWidgets": {},
     "nuid": "97806818-f230-472f-88d1-aa2794c50554",
     "showTitle": false,
     "title": ""
    }
   },
   "outputs": [
    {
     "data": {
      "text/html": [
       "<style scoped>\n",
       "  .ansiout {\n",
       "    display: block;\n",
       "    unicode-bidi: embed;\n",
       "    white-space: pre-wrap;\n",
       "    word-wrap: break-word;\n",
       "    word-break: break-all;\n",
       "    font-family: \"Source Code Pro\", \"Menlo\", monospace;;\n",
       "    font-size: 13px;\n",
       "    color: #555;\n",
       "    margin-left: 4px;\n",
       "    line-height: 19px;\n",
       "  }\n",
       "</style>\n",
       "<div class=\"ansiout\">Out[305]: [(&#39;spark.files.useFetchCache&#39;, &#39;false&#39;),\n",
       " (&#39;spark.databricks.preemption.enabled&#39;, &#39;true&#39;),\n",
       " (&#39;spark.driver.tempDirectory&#39;, &#39;/local_disk0/tmp&#39;),\n",
       " (&#39;spark.hadoop.fs.adl.impl.disable.cache&#39;, &#39;true&#39;),\n",
       " (&#39;spark.hadoop.parquet.block.size.row.check.max&#39;, &#39;10&#39;),\n",
       " (&#39;spark.hadoop.fs.s3a.connection.maximum&#39;, &#39;200&#39;),\n",
       " (&#39;spark.databricks.clusterUsageTags.numPerClusterInitScriptsV2&#39;, &#39;0&#39;),\n",
       " (&#39;spark.repl.class.uri&#39;, &#39;spark://10.172.232.88:40959/classes&#39;),\n",
       " (&#39;spark.executor.extraJavaOptions&#39;,\n",
       "  &#39;-Djava.io.tmpdir=/local_disk0/tmp -XX:ReservedCodeCacheSize=512m -XX:+UseCodeCacheFlushing -Djava.security.properties=/databricks/spark/dbconf/java/extra.security -XX:-UseContainerSupport -XX:+PrintFlagsFinal -XX:+PrintGCDateStamps -verbose:gc -XX:+PrintGCDetails -Xss4m -Djava.library.path=/usr/java/packages/lib/amd64:/usr/lib64:/lib64:/lib:/usr/lib:/usr/lib/x86_64-linux-gnu/jni:/lib/x86_64-linux-gnu:/usr/lib/x86_64-linux-gnu:/usr/lib/jni -Djavax.xml.datatype.DatatypeFactory=com.sun.org.apache.xerces.internal.jaxp.datatype.DatatypeFactoryImpl -Djavax.xml.parsers.DocumentBuilderFactory=com.sun.org.apache.xerces.internal.jaxp.DocumentBuilderFactoryImpl -Djavax.xml.parsers.SAXParserFactory=com.sun.org.apache.xerces.internal.jaxp.SAXParserFactoryImpl -Djavax.xml.validation.SchemaFactory:http://www.w3.org/2001/XMLSchema=com.sun.org.apache.xerces.internal.jaxp.validation.XMLSchemaFactory -Dorg.xml.sax.driver=com.sun.org.apache.xerces.internal.parsers.SAXParser -Dorg.w3c.dom.DOMImplementationSourceList=com.sun.org.apache.xerces.internal.dom.DOMXSImplementationSourceImpl -Djavax.net.ssl.sessionCacheSize=10000 -Dscala.reflect.runtime.disable.typetag.cache=true -Ddatabricks.serviceName=spark-executor-1&#39;),\n",
       " (&#39;spark.hadoop.fs.s3a.fast.upload.active.blocks&#39;, &#39;32&#39;),\n",
       " (&#39;spark.shuffle.reduceLocality.enabled&#39;, &#39;false&#39;),\n",
       " (&#39;spark.sql.streaming.checkpointFileManagerClass&#39;,\n",
       "  &#39;com.databricks.spark.sql.streaming.DatabricksCheckpointFileManager&#39;),\n",
       " (&#39;spark.databricks.service.dbutils.repl.backend&#39;,\n",
       "  &#39;com.databricks.dbconnect.ReplDBUtils&#39;),\n",
       " (&#39;spark.databricks.clusterUsageTags.driverNodeType&#39;, &#39;dev-tier-node&#39;),\n",
       " (&#39;spark.hadoop.spark.sql.sources.outputCommitterClass&#39;,\n",
       "  &#39;com.databricks.backend.daemon.data.client.MapReduceDirectOutputCommitter&#39;),\n",
       " (&#39;spark.driver.port&#39;, &#39;40959&#39;),\n",
       " (&#39;spark.databricks.clusterUsageTags.instanceBootstrapType&#39;, &#39;ssh&#39;),\n",
       " (&#39;spark.streaming.driver.writeAheadLog.allowBatching&#39;, &#39;true&#39;),\n",
       " (&#39;spark.databricks.clusterSource&#39;, &#39;UI&#39;),\n",
       " (&#39;spark.hadoop.fs.AbstractFileSystem.gs.impl&#39;,\n",
       "  &#39;shaded.databricks.V2_1_4.com.google.cloud.hadoop.fs.gcs.GoogleHadoopFS&#39;),\n",
       " (&#39;spark.hadoop.hive.server2.transport.mode&#39;, &#39;http&#39;),\n",
       " (&#39;spark.hadoop.hive.server2.thrift.http.cookie.auth.enabled&#39;, &#39;false&#39;),\n",
       " (&#39;spark.executor.memory&#39;, &#39;8278m&#39;),\n",
       " (&#39;spark.databricks.driverNodeTypeId&#39;, &#39;dev-tier-node&#39;),\n",
       " (&#39;spark.sql.parquet.compression.codec&#39;, &#39;snappy&#39;),\n",
       " (&#39;spark.hadoop.fs.cpfs-adl.impl.disable.cache&#39;, &#39;true&#39;),\n",
       " (&#39;spark.databricks.clusterUsageTags.driverPublicDns&#39;,\n",
       "  &#39;ec2-34-221-77-183.us-west-2.compute.amazonaws.com&#39;),\n",
       " (&#39;spark.app.id&#39;, &#39;local-1620808125268&#39;),\n",
       " (&#39;spark.databricks.clusterUsageTags.hailEnabled&#39;, &#39;false&#39;),\n",
       " (&#39;spark.databricks.clusterUsageTags.clusterLogDeliveryEnabled&#39;, &#39;false&#39;),\n",
       " (&#39;spark.databricks.clusterUsageTags.containerType&#39;, &#39;LXC&#39;),\n",
       " (&#39;spark.eventLog.enabled&#39;, &#39;false&#39;),\n",
       " (&#39;spark.databricks.clusterUsageTags.isIMv2Enabled&#39;, &#39;false&#39;),\n",
       " (&#39;spark.databricks.cloudfetch.hasRegionSupport&#39;, &#39;true&#39;),\n",
       " (&#39;spark.hadoop.databricks.s3.create.deleteUnnecessaryFakeDirectories&#39;,\n",
       "  &#39;false&#39;),\n",
       " (&#39;spark.hadoop.fs.wasb.impl&#39;,\n",
       "  &#39;shaded.databricks.org.apache.hadoop.fs.azure.NativeAzureFileSystem&#39;),\n",
       " (&#39;spark.executor.tempDirectory&#39;, &#39;/local_disk0/tmp&#39;),\n",
       " (&#39;spark.databricks.workerNodeTypeId&#39;, &#39;dev-tier-node&#39;),\n",
       " (&#39;spark.hadoop.mapred.output.committer.class&#39;,\n",
       "  &#39;com.databricks.backend.daemon.data.client.DirectOutputCommitter&#39;),\n",
       " (&#39;spark.hadoop.hive.server2.thrift.http.port&#39;, &#39;10000&#39;),\n",
       " (&#39;spark.hadoop.mapreduce.fileoutputcommitter.algorithm.version&#39;, &#39;2&#39;),\n",
       " (&#39;spark.sql.allowMultipleContexts&#39;, &#39;false&#39;),\n",
       " (&#39;spark.databricks.clusterUsageTags.clusterEbsVolumeSize&#39;, &#39;0&#39;),\n",
       " (&#39;spark.home&#39;, &#39;/databricks/spark&#39;),\n",
       " (&#39;spark.databricks.clusterUsageTags.clusterTargetWorkers&#39;, &#39;0&#39;),\n",
       " (&#39;spark.sql.warehouse.dir&#39;, &#39;/user/hive/warehouse&#39;),\n",
       " (&#39;spark.hadoop.hive.server2.idle.operation.timeout&#39;, &#39;7200000&#39;),\n",
       " (&#39;spark.task.reaper.enabled&#39;, &#39;true&#39;),\n",
       " (&#39;spark.databricks.passthrough.s3a.tokenProviderClassName&#39;,\n",
       "  &#39;com.databricks.backend.daemon.driver.aws.AwsCredentialContextTokenProvider&#39;),\n",
       " (&#39;spark.storage.memoryFraction&#39;, &#39;0.5&#39;),\n",
       " (&#39;spark.databricks.session.share&#39;, &#39;false&#39;),\n",
       " (&#39;spark.databricks.clusterUsageTags.clusterResourceClass&#39;, &#39;default&#39;),\n",
       " (&#39;spark.databricks.clusterUsageTags.clusterFirstOnDemand&#39;, &#39;0&#39;),\n",
       " (&#39;spark.driver.maxResultSize&#39;, &#39;4g&#39;),\n",
       " (&#39;spark.databricks.delta.multiClusterWrites.enabled&#39;, &#39;true&#39;),\n",
       " (&#39;spark.databricks.clusterUsageTags.clusterSku&#39;, &#39;STANDARD_SKU&#39;),\n",
       " (&#39;spark.worker.cleanup.enabled&#39;, &#39;false&#39;),\n",
       " (&#39;spark.sql.legacy.createHiveTableByDefault&#39;, &#39;false&#39;),\n",
       " (&#39;spark.hadoop.fs.gs.impl.disable.cache&#39;, &#39;true&#39;),\n",
       " (&#39;spark.databricks.workspace.matplotlibInline.enabled&#39;, &#39;true&#39;),\n",
       " (&#39;spark.databricks.clusterUsageTags.sparkVersion&#39;, &#39;8.2.x-scala2.12&#39;),\n",
       " (&#39;spark.databricks.clusterUsageTags.enableCredentialPassthrough&#39;, &#39;false&#39;),\n",
       " (&#39;spark.databricks.clusterUsageTags.userProvidedRemoteVolumeType&#39;,\n",
       "  &#39;ebs_volume_type: GENERAL_PURPOSE_SSD\\n&#39;),\n",
       " (&#39;spark.databricks.clusterUsageTags.enableJdbcAutoStart&#39;, &#39;true&#39;),\n",
       " (&#39;spark.hadoop.fs.wasb.impl.disable.cache&#39;, &#39;true&#39;),\n",
       " (&#39;spark.databricks.clusterUsageTags.clusterEbsVolumeType&#39;,\n",
       "  &#39;GENERAL_PURPOSE_SSD&#39;),\n",
       " (&#39;spark.databricks.clusterUsageTags.clusterLogDestination&#39;, &#39;&#39;),\n",
       " (&#39;spark.cleaner.referenceTracking.blocking&#39;, &#39;false&#39;),\n",
       " (&#39;spark.hadoop.parquet.page.size.check.estimate&#39;, &#39;false&#39;),\n",
       " (&#39;spark.hadoop.spark.driverproxy.customHeadersToProperties&#39;,\n",
       "  &#39;X-Databricks-User-Token:spark.databricks.token,X-Databricks-Api-Url:spark.databricks.api.url,X-Databricks-ADLS-Gen1-Token:spark.databricks.adls.gen1.token,X-Databricks-ADLS-Gen2-Token:spark.databricks.adls.gen2.token,X-Databricks-Synapse-Token:spark.databricks.synapse.token,X-Databricks-AWS-Credentials:spark.databricks.aws.creds,X-Databricks-User-Id:spark.databricks.user.id,X-Databricks-User-Name:spark.databricks.user.name&#39;),\n",
       " (&#39;spark.databricks.passthrough.s3a.threadPoolExecutor.factory.class&#39;,\n",
       "  &#39;com.databricks.backend.daemon.driver.aws.S3APassthroughThreadPoolExecutorFactory&#39;),\n",
       " (&#39;spark.databricks.delta.preview.enabled&#39;, &#39;true&#39;),\n",
       " (&#39;spark.databricks.clusterUsageTags.isSingleUserCluster&#39;, &#39;false&#39;),\n",
       " (&#39;spark.databricks.clusterUsageTags.clusterState&#39;, &#39;Pending&#39;),\n",
       " (&#39;spark.databricks.tahoe.logStore.azure.class&#39;,\n",
       "  &#39;com.databricks.tahoe.store.AzureLogStore&#39;),\n",
       " (&#39;spark.repl.class.outputDir&#39;,\n",
       "  &#39;/local_disk0/tmp/repl/spark-1477800143179817169-4e07857a-e710-4681-a623-38af3c1c3097&#39;),\n",
       " (&#39;spark.hadoop.fs.azure.skip.metrics&#39;, &#39;true&#39;),\n",
       " (&#39;spark.hadoop.fs.s3.impl&#39;,\n",
       "  &#39;shaded.databricks.org.apache.hadoop.fs.s3a.S3AFileSystem&#39;),\n",
       " (&#39;spark.databricks.cloudfetch.requesterClassName&#39;,\n",
       "  &#39;com.databricks.spark.sql.cloudfetch.DataDaemonCloudPresignedUrlRequester&#39;),\n",
       " (&#39;spark.master&#39;, &#39;local[8]&#39;),\n",
       " (&#39;spark.scheduler.mode&#39;, &#39;FAIR&#39;),\n",
       " (&#39;spark.sql.sources.default&#39;, &#39;delta&#39;),\n",
       " (&#39;spark.databricks.delta.logStore.crossCloud.fatal&#39;, &#39;true&#39;),\n",
       " (&#39;spark.hadoop.fs.cpfs-s3n.impl&#39;,\n",
       "  &#39;com.databricks.sql.acl.fs.CredentialPassthroughFileSystem&#39;),\n",
       " (&#39;spark.databricks.clusterUsageTags.clusterWorkers&#39;, &#39;0&#39;),\n",
       " (&#39;spark.ui.port&#39;, &#39;41923&#39;),\n",
       " (&#39;spark.hadoop.fs.cpfs-adl.impl&#39;,\n",
       "  &#39;com.databricks.sql.acl.fs.CredentialPassthroughFileSystem&#39;),\n",
       " (&#39;spark.files.fetchFailure.unRegisterOutputOnHost&#39;, &#39;true&#39;),\n",
       " (&#39;spark.databricks.sparkContextId&#39;, &#39;1477800143179817169&#39;),\n",
       " (&#39;spark.hadoop.fs.cpfs-abfss.impl&#39;,\n",
       "  &#39;com.databricks.sql.acl.fs.CredentialPassthroughFileSystem&#39;),\n",
       " (&#39;spark.databricks.clusterUsageTags.enableSqlAclsOnly&#39;, &#39;false&#39;),\n",
       " (&#39;spark.databricks.clusterUsageTags.clusterEbsVolumeCount&#39;, &#39;0&#39;),\n",
       " (&#39;spark.databricks.clusterUsageTags.clusterNumSshKeys&#39;, &#39;0&#39;),\n",
       " (&#39;spark.databricks.tahoe.logStore.aws.class&#39;,\n",
       "  &#39;com.databricks.tahoe.store.S3LockBasedLogStore&#39;),\n",
       " (&#39;spark.speculation.quantile&#39;, &#39;0.9&#39;),\n",
       " (&#39;spark.databricks.clusterUsageTags.privateLinkEnabled&#39;, &#39;false&#39;),\n",
       " (&#39;spark.shuffle.manager&#39;, &#39;SORT&#39;),\n",
       " (&#39;spark.files.overwrite&#39;, &#39;true&#39;),\n",
       " (&#39;spark.executor.extraClassPath&#39;,\n",
       "  &#39;/databricks/spark/dbconf/log4j/executor:/databricks/spark/dbconf/jets3t/:/databricks/spark/dbconf/hadoop:/databricks/hive/conf:/databricks/jars/----jackson_annotations_shaded--libjackson-annotations.jar:/databricks/jars/----jackson_core_shaded--libjackson-core.jar:/databricks/jars/----jackson_databind_shaded--libjackson-databind.jar:/databricks/jars/----jackson_datatype_joda_shaded--libjackson-datatype-joda.jar:/databricks/jars/----scalapb_090--com.lihaoyi__fastparse_2.12__2.1.3_shaded.jar:/databricks/jars/----scalapb_090--com.lihaoyi__sourcecode_2.12__0.1.7_shaded.jar:/databricks/jars/----scalapb_090--runtime-unshaded-jetty9-hadoop1_2.12_deploy_shaded.jar:/databricks/jars/----workspace_spark_3_1--common--kvstore--kvstore-hive-2.3__hadoop-2.7_2.12_deploy.jar:/databricks/jars/----workspace_spark_3_1--common--network-common--network-common-hive-2.3__hadoop-2.7_2.12_deploy.jar:/databricks/jars/----workspace_spark_3_1--common--network-shuffle--network-shuffle-hive-2.3__hadoop-2.7_2.12_deploy.jar:/databricks/jars/----workspace_spark_3_1--common--sketch--sketch-hive-2.3__hadoop-2.7_2.12_deploy.jar:/databricks/jars/----workspace_spark_3_1--common--tags--tags-hive-2.3__hadoop-2.7_2.12_deploy.jar:/databricks/jars/----workspace_spark_3_1--common--unsafe--unsafe-hive-2.3__hadoop-2.7_2.12_deploy.jar:/databricks/jars/----workspace_spark_3_1--core--core-hive-2.3__hadoop-2.7_2.12_deploy.jar:/databricks/jars/----workspace_spark_3_1--core--libcore_generated_resources.jar:/databricks/jars/----workspace_spark_3_1--core--libcore_resources.jar:/databricks/jars/----workspace_spark_3_1--core--proto-hive-2.3__hadoop-2.7_2.12_deploy.jar:/databricks/jars/----workspace_spark_3_1--graphx--graphx-hive-2.3__hadoop-2.7_2.12_deploy.jar:/databricks/jars/----workspace_spark_3_1--launcher--launcher-hive-2.3__hadoop-2.7_2.12_deploy.jar:/databricks/jars/----workspace_spark_3_1--maven-trees--hive-2.3__hadoop-2.7--antlr--antlr--antlr__antlr__2.7.7.jar:/databricks/jars/----workspace_spark_3_1--maven-trees--hive-2.3__hadoop-2.7--com.amazonaws--amazon-kinesis-client--com.amazonaws__amazon-kinesis-client__1.12.0.jar:/databricks/jars/----workspace_spark_3_1--maven-trees--hive-2.3__hadoop-2.7--com.amazonaws--aws-java-sdk-autoscaling--com.amazonaws__aws-java-sdk-autoscaling__1.11.655.jar:/databricks/jars/----workspace_spark_3_1--maven-trees--hive-2.3__hadoop-2.7--com.amazonaws--aws-java-sdk-cloudformation--com.amazonaws__aws-java-sdk-cloudformation__1.11.655.jar:/databricks/jars/----workspace_spark_3_1--maven-trees--hive-2.3__hadoop-2.7--com.amazonaws--aws-java-sdk-cloudfront--com.amazonaws__aws-java-sdk-cloudfront__1.11.655.jar:/databricks/jars/----workspace_spark_3_1--maven-trees--hive-2.3__hadoop-2.7--com.amazonaws--aws-java-sdk-cloudhsm--com.amazonaws__aws-java-sdk-cloudhsm__1.11.655.jar:/databricks/jars/----workspace_spark_3_1--maven-trees--hive-2.3__hadoop-2.7--com.amazonaws--aws-java-sdk-cloudsearch--com.amazonaws__aws-java-sdk-cloudsearch__1.11.655.jar:/databricks/jars/----workspace_spark_3_1--maven-trees--hive-2.3__hadoop-2.7--com.amazonaws--aws-java-sdk-cloudtrail--com.amazonaws__aws-java-sdk-cloudtrail__1.11.655.jar:/databricks/jars/----workspace_spark_3_1--maven-trees--hive-2.3__hadoop-2.7--com.amazonaws--aws-java-sdk-cloudwatch--com.amazonaws__aws-java-sdk-cloudwatch__1.11.655.jar:/databricks/jars/----workspace_spark_3_1--maven-trees--hive-2.3__hadoop-2.7--com.amazonaws--aws-java-sdk-cloudwatchmetrics--com.amazonaws__aws-java-sdk-cloudwatchmetrics__1.11.655.jar:/databricks/jars/----workspace_spark_3_1--maven-trees--hive-2.3__hadoop-2.7--com.amazonaws--aws-java-sdk-codedeploy--com.amazonaws__aws-java-sdk-codedeploy__1.11.655.jar:/databricks/jars/----workspace_spark_3_1--maven-trees--hive-2.3__hadoop-2.7--com.amazonaws--aws-java-sdk-cognitoidentity--com.amazonaws__aws-java-sdk-cognitoidentity__1.11.655.jar:/databricks/jars/----workspace_spark_3_1--maven-trees--hive-2.3__hadoop-2.7--com.amazonaws--aws-java-sdk-cognitosync--com.amazonaws__aws-java-sdk-cognitosync__1.11.655.jar:/databricks/jars/----workspace_spark_3_1--maven-trees--hive-2.3__hadoop-2.7--com.amazonaws--aws-java-sdk-config--com.amazonaws__aws-java-sdk-config__1.11.655.jar:/databricks/jars/----workspace_spark_3_1--maven-trees--hive-2.3__hadoop-2.7--com.amazonaws--aws-java-sdk-core--com.amazonaws__aws-java-sdk-core__1.11.655.jar:/databricks/jars/----workspace_spark_3_1--maven-trees--hive-2.3__hadoop-2.7--com.amazonaws--aws-java-sdk-datapipeline--com.amazonaws__aws-java-sdk-datapipeline__1.11.655.jar:/databricks/jars/----workspace_spark_3_1--maven-trees--hive-2.3__hadoop-2.7--com.amazonaws--aws-java-sdk-directconnect--com.amazonaws__aws-java-sdk-directconnect__1.11.655.jar:/databricks/jars/----workspace_spark_3_1--maven-trees--hive-2.3__hadoop-2.7--com.amazonaws--aws-java-sdk-directory--com.amazonaws__aws-java-sdk-directory__1.11.655.jar:/databricks/jars/----workspace_spark_3_1--maven-trees--hive-2.3__hadoop-2.7--com.amazonaws--aws-java-sdk-dynamodb--com.amazonaws__aws-java-sdk-dynamodb__1.11.655.jar:/databricks/jars/----workspace_spark_3_1--maven-trees--hive-2.3__hadoop-2.7--com.amazonaws--aws-java-sdk-ec2--com.amazonaws__aws-java-sdk-ec2__1.11.655.jar:/databricks/jars/----workspace_spark_3_1--maven-trees--hive-2.3__hadoop-2.7--com.amazonaws--aws-java-sdk-ecs--com.amazonaws__aws-java-sdk-ecs__1.11.655.jar:/databricks/jars/----workspace_spark_3_1--maven-trees--hive-2.3__hadoop-2.7--com.amazonaws--aws-java-sdk-efs--com.amazonaws__aws-java-sdk-efs__1.11.655.jar:/databricks/jars/----workspace_spark_3_1--maven-trees--hive-2.3__hadoop-2.7--com.amazonaws--aws-java-sdk-elasticache--com.amazonaws__aws-java-sdk-elasticache__1.11.655.jar:/databricks/jars/----workspace_spark_3_1--maven-trees--hive-2.3__hadoop-2.7--com.amazonaws--aws-java-sdk-elasticbeanstalk--com.amazonaws__aws-java-sdk-elasticbeanstalk__1.11.655.jar:/databricks/jars/----workspace_spark_3_1--maven-trees--hive-2.3__hadoop-2.7--com.amazonaws--aws-java-sdk-elasticloadbalancing--com.amazonaws__aws-java-sdk-elasticloadbalancing__1.11.655.jar:/databricks/jars/----workspace_spark_3_1--maven-trees--hive-2.3__hadoop-2.7--com.amazonaws--aws-java-sdk-elastictranscoder--com.amazonaws__aws-java-sdk-elastictranscoder__1.11.655.jar:/databricks/jars/----workspace_spark_3_1--maven-trees--hive-2.3__hadoop-2.7--com.amazonaws--aws-java-sdk-emr--com.amazonaws__aws-java-sdk-emr__1.11.655.jar:/databricks/jars/----workspace_spark_3_1--maven-trees--hive-2.3__hadoop-2.7--com.amazonaws--aws-java-sdk-glacier--com.amazonaws__aws-java-sdk-glacier__1.11.655.jar:/databricks/jars/----workspace_spark_3_1--maven-trees--hive-2.3__hadoop-2.7--com.amazonaws--aws-java-sdk-iam--com.amazonaws__aws-java-sdk-iam__1.11.655.jar:/databricks/jars/----workspace_spark_3_1--maven-trees--hive-2.3__hadoop-2.7--com.amazonaws--aws-java-sdk-importexport--com.amazonaws__aws-java-sdk-importexport__1.11.655.jar:/databricks/jars/----workspace_spark_3_1--maven-trees--hive-2.3__hadoop-2.7--com.amazonaws--aws-java-sdk-kinesis--com.amazonaws__aws-java-sdk-kinesis__1.11.655.jar:/databricks/jars/----workspace_spark_3_1--maven-trees--hive-2.3__hadoop-2.7--com.amazonaws--aws-java-sdk-kms--com.amazonaws__aws-java-sdk-kms__1.11.655.jar:/databricks/jars/----workspace_spark_3_1--maven-trees--hive-2.3__hadoop-2.7--com.amazonaws--aws-java-sdk-lambda--com.amazonaws__aws-java-sdk-lambda__1.11.655.jar:/databricks/jars/----workspace_spark_3_1--maven-trees--hive-2.3__hadoop-2.7--com.amazonaws--aws-java-sdk-logs--com.amazonaws__aws-java-sdk-logs__1.11.655.jar:/databricks/jars/----workspace_spark_3_1--maven-trees--hive-2.3__hadoop-2.7--com.amazonaws--aws-java-sdk-machinelearning--com.amazonaws__aws-java-sdk-machinelearning__1.11.655.jar:/databricks/jars/----workspace_spark_3_1--maven-trees--hive-2.3__hadoop-2.7--com.amazonaws--aws-java-sdk-opsworks--com.amazonaws__aws-java-sdk-opsworks__1.11.655.jar:/databricks/jars/----workspace_spark_3_1--maven-trees--hive-2.3__hadoop-2.7--com.amazonaws--aws-java-sdk-rds--com.amazonaws__aws-java-sdk-rds__1.11.655.jar:/databricks/jars/----workspace_spark_3_1--maven-trees--hive-2.3__hadoop-2.7--com.amazonaws--aws-java-sdk-redshift--com.amazonaws__aws-java-sdk-redshift__1.11.655.jar:/databricks/jars/----workspace_spark_3_1--maven-trees--hive-2.3__hadoop-2.7--com.amazonaws--aws-java-sdk-route53--com.amazonaws__aws-java-sdk-route53__1.11.655.jar:/databricks/jars/----workspace_spark_3_1--maven-trees--hive-2.3__hadoop-2.7--com.amazonaws--aws-java-sdk-s3--com.amazonaws__aws-java-sdk-s3__1.11.655.jar:/databricks/jars/----workspace_spark_3_1--maven-trees--hive-2.3__hadoop-2.7--com.amazonaws--aws-java-sdk-ses--com.amazonaws__aws-java-sdk-ses__1.11.655.jar:/databricks/jars/----workspace_spark_3_1--maven-trees--hive-2.3__hadoop-2.7--com.amazonaws--aws-java-sdk-simpledb--com.amazonaws__aws-java-sdk-simpledb__1.11.655.jar:/databricks/jars/----workspace_spark_3_1--maven-trees--hive-2.3__hadoop-2.7--com.amazonaws--aws-java-sdk-simpleworkflow--com.amazonaws__aws-java-sdk-simpleworkflow__1.11.655.jar:/databricks/jars/----workspace_spark_3_1--maven-trees--hive-2.3__hadoop-2.7--com.amazonaws--aws-java-sdk-sns--com.amazonaws__aws-java-sdk-sns__1.11.655.jar:/databricks/jars/----workspace_spark_3_1--maven-trees--hive-2.3__hadoop-2.7--com.amazonaws--aws-java-sdk-sqs--com.amazonaws__aws-java-sdk-sqs__1.11.655.jar:/databricks/jars/----workspace_spark_3_1--maven-trees--hive-2.3__hadoop-2.7--com.amazonaws--aws-java-sdk-ssm--com.amazonaws__aws-java-sdk-ssm__1.11.655.jar:/databricks/jars/----workspace_spark_3_1--maven-trees--hive-2.3__hadoop-2.7--com.amazonaws--aws-java-sdk-storagegateway--com.amazonaws__aws-java-sdk-storagegateway__1.11.655.jar:/databricks/jars/----workspace_spark_3_1--maven-trees--hive-2.3__hadoop-2.7--com.amazonaws--aws-java-sdk-sts--com.amazonaws__aws-java-sdk-sts__1.11.655.jar:/databricks/jars/----workspace_spark_3_1--maven-trees--hive-2.3__hadoop-2.7--com.amazonaws--aws-java-sdk-support--com.amazonaws__aws-java-sdk-support__1.11.655.jar:/databricks/jars/----workspace_spark_3_1--maven-trees--hive-2.3__hadoop-2.7--com.amazonaws--aws-java-sdk-swf-libraries--com.amazonaws__aws-java-sdk-swf-libraries__1.11.22.jar:/databricks/jars/----workspace_spark_3_1--maven-trees--hive-2.3__hadoop-2.7--com.amazonaws--aws-java-sdk-workspaces--com.amazonaws__aws-java-sdk-workspaces__1.11.655.jar:/databricks/jars/----workspace_spark_3_1--maven-trees--hive-2.3__hadoop-2.7--com.amazonaws--jmespath-java--com.amazonaws__jmespath-java__1.11.655.jar:/databricks/jars/----workspace_spark_3_1--maven-trees--hive-2.3__hadoop-2.7--com.chuusai--shapeless_2.12--com.chuusai__shapeless_2.12__2.3.3.jar:/databricks/jars/----workspace_spark_3_1--maven-trees--hive-2.3__hadoop-2.7--com.clearspring.analytics--stream--com.clearspring.analytics__stream__2.9.6.jar:/databricks/jars/----workspace_spark_3_1--maven-trees--hive-2.3__hadoop-2.7--com.databricks--Rserve--com.databricks__Rserve__1.8-3.jar:/databricks/jars/----workspace_spark_3_1--maven-trees--hive-2.3__hadoop-2.7--com.databricks.scalapb--compilerplugin_2.12--com.databricks.scalapb__compilerplugin_2.12__0.4.15-10.jar:/databricks/jars/----workspace_spark_3_1--maven-trees--hive-2.3__hadoop-2.7--com.databricks.scalapb--scalapb-runtime_2.12--com.databricks.scalapb__scalapb-runtime_2.12__0.4.15-10.jar:/databricks/jars/----workspace_spark_3_1--maven-trees--hive-2.3__hadoop-2.7--com.esotericsoftware--kryo-shaded--com.esotericsoftware__kryo-shaded__4.0.2.jar:/databricks/jars/----workspace_spark_3_1--maven-trees--hive-2.3__hadoop-2.7--com.esotericsoftware--minlog--com.esotericsoftware__minlog__1.3.0.jar:/databricks/jars/----workspace_spark_3_1--maven-trees--hive-2.3__hadoop-2.7--com.fasterxml--classmate--com.fasterxml__classmate__1.3.4.jar:/databricks/jars/----workspace_spark_3_1--maven-trees--hive-2.3__hadoop-2.7--com.fasterxml.jackson.core--jackson-annotations--com.fasterxml.jackson.core__jackson-annotations__2.10.0.jar:/databricks/jars/----workspace_spark_3_1--maven-trees--hive-2.3__hadoop-2.7--com.fasterxml.jackson.core--jackson-core--com.fasterxml.jackson.core__jackson-core__2.10.0.jar:/databricks/jars/----workspace_spark_3_1--maven-trees--hive-2.3__hadoop-2.7--com.fasterxml.jackson.core--jackson-databind--com.fasterxml.jackson.core__jackson-databind__2.10.0.jar:/databricks/jars/----workspace_spark_3_1--maven-trees--hive-2.3__hadoop-2.7--com.fasterxml.jackson.dataformat--jackson-dataformat-cbor--com.fasterxml.jackson.dataformat__jackson-dataformat-cbor__2.10.0.jar:/databricks/jars/----workspace_spark_3_1--maven-trees--hive-2.3__hadoop-2.7--com.fasterxml.jackson.datatype--jackson-datatype-joda--com.fasterxml.jackson.datatype__jackson-datatype-joda__2.10.0.jar:/databricks/jars/----workspace_spark_3_1--maven-trees--hive-2.3__hadoop-2.7--com.fasterxml.jackson.module--jackson-module-paranamer--com.fasterxml.jackson.module__jackson-module-paranamer__2.10.0.jar:/databricks/jars/----workspace_spark_3_1--maven-trees--hive-2.3__hadoop-2.7--com.fasterxml.jackson.module--jackson-module-scala_2.12--com.fasterxml.jackson.module__jackson-module-scala_2.12__2.10.0.jar:/databricks/jars/----workspace_spark_3_1--maven-trees--hive-2.3__hadoop-2.7--com.github.ben-manes.caffeine--caffeine--com.github.ben-manes.caffeine__caffeine__2.3.4.jar:/databricks/jars/----workspace_spark_3_1--maven-trees--hive-2.3__hadoop-2.7--com.github.fommil--jniloader--com.github.fommil__jniloader__1.1.jar:/databricks/jars/----workspace_spark_3_1--maven-trees--hive-2.3__hadoop-2.7--com.github.fommil.netlib--core--com.github.fommil.netlib__core__1.1.2.jar:/databricks/jars/----workspace_spark_3_1--maven-trees--hive-2.3__hadoop-2.7--com.github.fommil.netlib--native_ref-java--com.github.fommil.netlib__native_ref-java__1.1.jar:/databricks/jars/----workspace_spark_3_1--maven-trees--hive-2.3__hadoop-2.7--com.github.fommil.netlib--native_ref-java-natives--com.github.fommil.netlib__native_ref-java-natives__1.1.jar:/databricks/jars/----workspace_spark_3_1--maven-trees--hive-2.3__hadoop-2.7--com.github.fommil.netlib--native_system-java--com.github.fommil.netlib__native_system-java__1.1.jar:/databricks/jars/----workspace_spark_3_1--maven-trees--hive-2.3__hadoop-2.7--com.github.fommil.netlib--native_system-java-natives--com.github.fommil.netlib__native_system-java-natives__1.1.jar:/databricks/jars/----workspace_spark_3_1--maven-trees--hive-2.3__hadoop-2.7--com.github.fommil.netlib--netlib-native_ref-linux-x86_64-natives--com.github.fommil.netlib__netlib-native_ref-linux-x86_64-natives__1.1.jar:/databricks/jars/----workspace_spark_3_1--maven-trees--hive-2.3__hadoop-2.7--com.github.fommil.netlib--netlib-native_system-linux-x86_64-natives--com.github.fommil.netlib__netlib-native_system-linux-x86_64-natives__1.1.jar:/databricks/jars/----workspace_spark_3_1--maven-trees--hive-2.3__hadoop-2.7--com.github.joshelser--dropwizard-metrics-hadoop-metrics2-reporter--com.github.joshelser__dropwizard-metrics-hadoop-metrics2-reporter__0.1.2.jar:/databricks/jars/----workspace_spark_3_1--maven-trees--hive-2.3__hadoop-2.7--com.github.luben--zstd-jni--com.github.luben__zstd-jni__1.4.8-1.jar:/databricks/jars/----workspace_spark_3_1--maven-trees--hive-2.3__hadoop-2.7--com.github.wendykierp--JTransforms--com.github.wendykierp__JTransforms__3.1.jar:/databricks/jars/----workspace_spark_3_1--maven-trees--hive-2.3__hadoop-2.7--com.google.code.findbugs--jsr305--com.google.code.findbugs__jsr305__3.0.0.jar:/databricks/jars/----workspace_spark_3_1--maven-trees--hive-2.3__hadoop-2.7--com.google.code.gson--gson--com.google.code.gson__gson__2.2.4.jar:/databricks/jars/----workspace_spark_3_1--maven-trees--hive-2.3__hadoop-2.7--com.google.flatbuffers--flatbuffers-java--com.google.flatbuffers__flatbuffers-java__1.9.0.jar:/databricks/jars/----workspace_spark_3_1--maven-trees--hive-2.3__hadoop-2.7--com.google.guava--guava--com.google.guava__guava__15.0.jar:/databricks/jars/----workspace_spark_3_1--maven-trees--hive-2.3__hadoop-2.7--com.google.protobuf--protobuf-java--com.google.protobuf__protobuf-java__2.6.1.jar:/databricks/jars/----workspace_spark_3_1--maven-trees--hive-2.3__hadoop-2.7--com.h2database--h2--com.h2database__h2__1.4.195.jar:/databricks/jars/----workspace_spark_3_1--maven-trees--hive-2.3__hadoop-2.7--com.helger--profiler--com.helger__profiler__1.1.1.jar:/databricks/jars/----workspace_spark_3_1--maven-trees--hive-2.3__hadoop-2.7--com.jcraft--jsch--com.jcraft__jsch__0.1.50.jar:/databricks/jars/----workspace_spark_3_1--maven-trees--hive-2.3__hadoop-2.7--com.jolbox--bonecp--com.jolbox__bonecp__0.8.0.RELEASE.jar:/databricks/jars/----workspace_spark_3_1--maven-trees--hive-2.3__hadoop-2.7--com.lihaoyi--sourcecode_2.12--com.lihaoyi__sourcecode_2.12__0.1.9.jar:/databricks/jars/----workspace_spark_3_1--maven-trees--hive-2.3__hadoop-2.7--com.microsoft.azure--azure-data-lake-store-sdk--com.microsoft.azure__azure-data-lake-store-sdk__2.3.9.jar:/databricks/jars/----workspace_spark_3_1--maven-trees--hive-2.3__hadoop-2.7--com.ning--compress-lzf--com.ning__compress-lzf__1.0.3.jar:/databricks/jars/----workspace_spark_3_1--maven-trees--hive-2.3__hadoop-2.7--com.sun.mail--javax.mail--com.sun.mail__javax.mail__1.5.2.jar:/databricks/jars/----workspace_spark_3_1--maven-trees--hive-2.3__hadoop-2.7--com.tdunning--json--com.tdunning__json__1.8.jar:/databricks/jars/----workspace_spark_3_1--maven-trees--hive-2.3__hadoop-2.7--com.thoughtworks.paranamer--paranamer--com.thoughtworks.paranamer__paranamer__2.8.jar:/databricks/jars/----workspace_spark_3_1--maven-trees--hive-2.3__hadoop-2.7--com.trueaccord.lenses--lenses_2.12--com.trueaccord.lenses__lenses_2.12__0.4.12.jar:/databricks/jars/----workspace_spark_3_1--maven-trees--hive-2.3__hadoop-2.7--com.twitter--chill-java--com.twitter__chill-java__0.9.5.jar:/databricks/jars/----workspace_spark_3_1--maven-trees--hive-2.3__hadoop-2.7--com.twitter--chill_2.12--com.twitter__chill_2.12__0.9.5.jar:/databricks/jars/----workspace_spark_3_1--maven-trees--hive-2.3__hadoop-2.7--com.twitter--util-app_2.12--com.twitter__util-app_2.12__7.1.0.jar:/databricks/jars/----workspace_spark_3_1--maven-trees--hive-2.3__hadoop-2.7--com.twitter--util-core_2.12--com.twitter__util-core_2.12__7.1.0.jar:/databricks/jars/----workspace_spark_3_1--maven-trees--hive-2.3__hadoop-2.7--com.twitter--util-function_2.12--com.twitter__util-function_2.12__7.1.0.jar:/databricks/jars/----workspace_spark_3_1--maven-trees--hive-2.3__hadoop-2.7--com.twitter--util-jvm_2.12--com.twitter__util-jvm_2.12__7.1.0.jar:/databricks/jars/----workspace_spark_3_1--maven-trees--hive-2.3__hadoop-2.7--com.twitter--util-lint_2.12--com.twitter__util-lint_2.12__7.1.0.jar:/databricks/jars/----workspace_spark_3_1--maven-trees--hive-2.3__hadoop-2.7--com.twitter--util-registry_2.12--com.twitter__util-registry_2.12__7.1.0.jar:/databricks/jars/----workspace_spark_3_1--maven-trees--hive-2.3__hadoop-2.7--com.twitter--util-stats_2.12--com.twitter__util-stats_2.12__7.1.0.jar:/databricks/jars/----workspace_spark_3_1--maven-trees--hive-2.3__hadoop-2.7--com.typesafe--config--com.typesafe__config__1.2.1.jar:/databricks/jars/----workspace_spark_3_1--maven-trees--hive-2.3__hadoop-2.7--com.typesafe.scala-logging--scala-logging_2.12--com.typesafe.scala-logging__scala-logging_2.12__3.7.2.jar:/databricks/jars/----workspace_spark_3_1--maven-trees--hive-2.3__hadoop-2.7--com.univocity--univocity-parsers--com.univocity__univocity-parsers__2.9.1.jar:/databricks/jars/----workspace_spark_3_1--maven-trees--hive-2.3__hadoop-2.7--com.zaxxer--HikariCP--com.zaxxer__HikariCP__3.1.0.jar:/databricks/jars/----workspace_spark_3_1--maven-trees--hive-2.3__hadoop-2.7--commons-beanutils--commons-beanutils--commons-beanutils__commons-beanutils__1.9.4.jar:/databricks/jars/----workspace_spark_3_1--maven-trees--hive-2.3__hadoop-2.7--commons-cli--commons-cli--commons-cli__commons-cli__1.2.jar:/databricks/jars/----workspace_spark_3_1--maven-trees--hive-2.3__hadoop-2.7--commons-codec--commons-codec--commons-codec__commons-codec__1.10.jar:/databricks/jars/----workspace_spark_3_1--maven-trees--hive-2.3__hadoop-2.7--commons-collections--commons-collections--commons-collections__commons-collections__3.2.2.jar:/databricks/jars/----workspace_spark_3_1--maven-trees--hive-2.3__hadoop-2.7--commons-configuration--commons-configuration--commons-configuration__commons-configuration__1.6.jar:/databricks/jars/----workspace_spark_3_1--maven-trees--hive-2.3__hadoop-2.7--commons-dbcp--commons-dbcp--commons-dbcp__commons-dbcp__1.4.jar:/databricks/jars/----workspace_spark_3_1--maven-trees--hive-2.3__hadoop-2.7--commons-digester--commons-digester--commons-digester__commons-digester__1.8.jar:/databricks/jars/----workspace_spark_3_1--maven-trees--hive-2.3__hadoop-2.7--commons-fileupload--commons-fileupload--commons-fileupload__commons-fileupload__1.3.3.jar:/databricks/jars/----workspace_spark_3_1--maven-trees--hive-2.3__hadoop-2.7--commons-httpclient--commons-httpclient--commons-httpclient__commons-httpclient__3.1.jar:/databricks/jars/----workspace_spark_3_1--maven-trees--hive-2.3__hadoop-2.7--commons-io--commons-io--commons-io__commons-io__2.4.jar:/databricks/jars/----workspace_spark_3_1--maven-trees--hive-2.3__hadoop-2.7--commons-lang--commons-lang--commons-lang__commons-lang__2.6.jar:/databricks/jars/----workspace_spark_3_1--maven-trees--hive-2.3__hadoop-2.7--commons-logging--commons-logging--commons-logging__commons-logging__1.1.3.jar:/databricks/jars/----workspace_spark_3_1--maven-trees--hive-2.3__hadoop-2.7--commons-net--commons-net--commons-net__commons-net__3.1.jar:/databricks/jars/----workspace_spark_3_1--maven-trees--hive-2.3__hadoop-2.7--commons-pool--commons-pool--commons-pool__commons-pool__1.5.4.jar:/databricks/jars/----workspace_spark_3_1--maven-trees--hive-2.3__hadoop-2.7--info.ganglia.gmetric4j--gmetric4j--info.ganglia.gmetric4j__gmetric4j__1.0.10.jar:/databricks/jars/----workspace_spark_3_1--maven-trees--hive-2.3__hadoop-2.7--io.airlift--aircompressor--io.airlift__aircompressor__0.10.jar:/databricks/jars/----workspace_spark_3_1--maven-trees--hive-2.3__hadoop-2.7--io.dropwizard.metrics--metrics-core--io.dropwizard.metrics__metrics-core__4.1.1.jar:/databricks/jars/----workspace_spark_3_1--maven-trees--hive-2.3__hadoop-2.7--io.dropwizard.metrics--metrics-graphite--io.dropwizard.metrics__metrics-graphite__4.1.1.jar:/databricks/jars/----workspace_spark_3_1--maven-trees--hive-2.3__hadoop-2.7--io.dropwizard.metrics--metrics-healthchecks--io.dropwizard.metrics__metrics-healthchecks__4.1.1.jar:/databricks/jars/----workspace_spark_3_1--maven-trees--hive-2.3__hadoop-2.7--io.dropwizard.metrics--metrics-jetty9--io.dropwizard.metrics__metrics-jetty9__4.1.1.jar:/databricks/jars/----workspace_spark_3_1--maven-trees--hive-2.3__hadoop-2.7--io.dropwizard.metrics--metrics-jmx--io.dropwizard.metrics__metrics-jmx__4.1.1.jar:/databricks/jars/----workspace_spark_3_1--maven-trees--hive-2.3__hadoop-2.7--io.dropwizard.metrics--metrics-json--io.dropwizard.metrics__metrics-json__4.1.1.jar:/databricks/jars/----workspace_spark_3_1--maven-trees--hive-2.3__hadoop-2.7--io.dropwizard.metrics--metrics-jvm--io.dropwizard.metrics__metrics-jvm__4.1.1.jar:/databricks/jars/----workspace_spark_3_1--maven-trees--hive-2.3__hadoop-2.7--io.dropwizard.metrics--metrics-servlets--io.dropwizard.metrics__metrics-servlets__4.1.1.jar:/databricks/jars/----workspace_spark_3_1--maven-trees--hive-2.3__hadoop-2.7--io.netty--netty-all--io.netty__netty-all__4.1.51.Final.jar:/databricks/jars/----workspace_spark_3_1--maven-trees--hive-2.3__hadoop-2.7--io.prometheus--simpleclient--io.prometheus__simpleclient__0.7.0.jar:/databricks/jars/----workspace_spark_3_1--maven-trees--hive-2.3__hadoop-2.7--io.prometheus--simpleclient_common--io.prometheus__simpleclient_common__0.7.0.jar:/databricks/jars/----workspace_spark_3_1--maven-trees--hive-2.3__hadoop-2.7--io.prometheus--simpleclient_dropwizard--io.prometheus__simpleclient_dropwizard__0.7.0.jar:/databricks/jars/----workspace_spark_3_1--maven-trees--hive-2.3__hadoop-2.7--io.prometheus--simpleclient_pushgateway--io.prometheus__simpleclient_pushgateway__0.7.0.jar:/databricks/jars/----workspace_spark_3_1--maven-trees--hive-2.3__hadoop-2.7--io.prometheus--simpleclient_servlet--io.prometheus__simpleclient_servlet__0.7.0.jar:/databricks/jars/----workspace_spark_3_1--maven-trees--hive-2.3__hadoop-2.7--io.prometheus.jmx--collector--io.prometheus.jmx__collector__0.12.0.jar:/databricks/jars/----workspace_spark_3_1--maven-trees--hive-2.3__hadoop-2.7--jakarta.annotation--jakarta.annotation-api--jakarta.annotation__jakarta.annotation-api__1.3.5.jar:/databricks/jars/----workspace_spark_3_1--maven-trees--hive-2.3__hadoop-2.7--jakarta.validation--jakarta.validation-api--jakarta.validation__jakarta.validation-api__2.0.2.jar:/databricks/jars/----workspace_spark_3_1--maven-trees--hive-2.3__hadoop-2.7--jakarta.ws.rs--jakarta.ws.rs-api--jakarta.ws.rs__jakarta.ws.rs-api__2.1.6.jar:/databricks/jars/----workspace_spark_3_1--maven-trees--hive-2.3__hadoop-2.7--javax.activation--activation--javax.activation__activation__1.1.1.jar:/databricks/jars/----workspace_spark_3_1--maven-trees--hive-2.3__hadoop-2.7--javax.el--javax.el-api--javax.el__javax.el-api__2.2.4.jar:/databricks/jars/----workspace_spark_3_1--maven-trees--hive-2.3__hadoop-2.7--javax.jdo--jdo-api--javax.jdo__jdo-api__3.0.1.jar:/databricks/jars/----workspace_spark_3_1--maven-trees--hive-2.3__hadoop-2.7--javax.servlet--javax.servlet-api--javax.servlet__javax.servlet-api__3.1.0.jar:/databricks/jars/----workspace_spark_3_1--maven-trees--hive-2.3__hadoop-2.7--javax.servlet.jsp--jsp-api--javax.servlet.jsp__jsp-api__2.1.jar:/databricks/jars/----workspace_spark_3_1--maven-trees--hive-2.3__hadoop-2.7--javax.transaction--jta--javax.transaction__jta__1.1.jar:/databricks/jars/----workspace_spark_3_1--maven-trees--hive-2.3__hadoop-2.7--javax.transaction--transaction-api--javax.transaction__transaction-api__1.1.jar:/databricks/jars/----workspace_spark_3_1--maven-trees--hive-2.3__hadoop-2.7--javax.xml.bind--jaxb-api--javax.xml.bind__jaxb-api__2.2.2.jar:/databricks/jars/----workspace_spark_3_1--maven-trees--hive-2.3__hadoop-2.7--javax.xml.stream--stax-api--javax.xml.stream__stax-api__1.0-2.jar:/databricks/jars/----workspace_spark_3_1--maven-trees--hive-2.3__hadoop-2.7--javolution--javolution--javolution__javolution__5.5.1.jar:/databricks/jars/----workspace_spark_3_1--maven-trees--hive-2.3__hadoop-2.7--jets3t-0.7--com.databricks--jets3t--com.databricks__jets3t__0.7.1-0.jar:/databricks/jars/----workspace_spark_3_1--maven-trees--hive-2.3__hadoop-2.7--jets3t-0.7--liball_deps_2.12.jar:/databricks/jars/----workspace_spark_3_1--maven-trees--hive-2.3__hadoop-2.7--jline--jline--jline__jline__2.14.6.jar:/databricks/jars/----workspace_spark_3_1--maven-trees--hive-2.3__hadoop-2.7--joda-time--joda-time--joda-time__joda-time__2.10.5.jar:/databricks/jars/----workspace_spark_3_1--maven-trees--hive-2.3__hadoop-2.7--liball_deps_2.12.jar:/databricks/jars/----workspace_spark_3_1--maven-trees--hive-2.3__hadoop-2.7--log4j--apache-log4j-extras--log4j__apache-log4j-extras__1.2.17.jar:/databricks/jars/----workspace_spark_3_1--maven-trees--hive-2.3__hadoop-2.7--log4j--log4j--log4j__log4j__1.2.17.jar:/databricks/jars/----workspace_spark_3_1--maven-trees--hive-2.3__hadoop-2.7--net.razorvine--pyrolite--net.razorvine__pyrolite__4.30.jar:/databricks/jars/----workspace_spark_3_1--maven-trees--hive-2.3__hadoop-2.7--net.sf.jpam--jpam--net.sf.jpam__jpam__1.1.jar:/databricks/jars/----workspace_spark_3_1--maven-trees--hive-2.3__hadoop-2.7--net.sf.opencsv--opencsv--net.sf.opencsv__opencsv__2.3.jar:/databricks/jars/----workspace_spark_3_1--maven-trees--hive-2.3__hadoop-2.7--net.sf.supercsv--super-csv--net.sf.supercsv__super-csv__2.2.0.jar:/databricks/jars/----workspace_spark_3_1--maven-trees--hive-2.3__hadoop-2.7--net.snowflake--snowflake-ingest-sdk--net.snowflake__snowflake-ingest-sdk__0.9.6.jar:/databricks/jars/----workspace_spark_3_1--maven-trees--hive-2.3__hadoop-2.7--net.snowflake--snowflake-jdbc--net.snowflake__snowflake-jdbc__3.12.8.jar:/databricks/jars/----workspace_spark_3_1--maven-trees--hive-2.3__hadoop-2.7--net.snowflake--spark-snowflake_2.12--net.snowflake__spark-snowflake_2.12__2.8.1-spark_3.0.jar:/databricks/jars/----workspace_spark_3_1--maven-trees--hive-2.3__hadoop-2.7--net.sourceforge.f2j--arpack_combined_all--net.sourceforge.f2j__arpack_combined_all__0.1.jar:/databricks/jars/----workspace_spark_3_1--maven-trees--hive-2.3__hadoop-2.7--org.acplt.remotetea--remotetea-oncrpc--org.acplt.remotetea__remotetea-oncrpc__1.1.2.jar:/databricks/jars/----workspace_spark_3_1--maven-trees--hive-2.3__hadoop-2.7--org.antlr--ST4--org.antlr__ST4__4.0.4.jar:/databricks/jars/----workspace_spark_3_1--maven-trees--hive-2.3__hadoop-2.7--org.antlr--antlr-runtime--org.antlr__antlr-runtime__3.5.2.jar:/databricks/jars/----workspace_spark_3_1--maven-trees--hive-2.3__hadoop-2.7--org.antlr--antlr4-runtime--org.antlr__antlr4-runtime__4.8-1.jar:/databricks/jars/----workspace_spark_3_1--maven-trees--hive-2.3__hadoop-2.7--org.antlr--stringtemplate--org.antlr__stringtemplate__3.2.1.jar:/databricks/jars/----workspace_spark_3_1--maven-trees--hive-2.3__hadoop-2.7--org.apache.ant--ant--org.apache.ant__ant__1.9.2.jar:/databricks/jars/----workspace_spark_3_1--maven-trees--hive-2.3__hadoop-2.7--org.apache.ant--ant-jsch--org.apache.ant__ant-jsch__1.9.2.jar:/databricks/jars/----workspace_spark_3_1--maven-trees--hive-2.3__hadoop-2.7--org.apache.ant--ant-launcher--org.apache.ant__ant-launcher__1.9.2.jar:/databricks/jars/----workspace_spark_3_1--maven-trees--hive-2.3__hadoop-2.7--org.apache.arrow--arrow-format--org.apache.arrow__arrow-format__2.0.0.jar:/databricks/jars/----workspace_spark_3_1--maven-trees--hive-2.3__hadoop-2.7--org.apache.arrow--arrow-memory-core--org.apache.arrow__arrow-memory-core__2.0.0.jar:/databricks/jars/----workspace_spark_3_1--maven-trees--hive-2.3__hadoop-2.7--org.apache.arrow--arrow-memory-netty--org.apache.arrow__arrow-memory-netty__2.0.0.jar:/databricks/jars/----workspace_spark_3_1--maven-trees--hive-2.3__hadoop-2.7--org.apache.arrow--arrow-vector--org.apache.arrow__arrow-vector__2.0.0.jar:/databricks/jars/----workspace_spark_3_1--maven-trees--hive-2.3__hadoop-2.7--org.apache.avro--avro--org.apache.avro__avro__1.8.2.jar:/databricks/jars/----workspace_spark_3_1--maven-trees--hive-2.3__hadoop-2.7--org.apache.avro--avro-ipc--org.apache.avro__avro-ipc__1.8.2.jar:/databricks/jars/----workspace_spark_3_1--maven-trees--hive-2.3__hadoop-2.7--org.apache.avro--avro-mapred-hadoop2--org.apache.avro__avro-mapred-hadoop2__1.8.2.jar:/databricks/jars/----workspace_spark_3_1--maven-trees--hive-2.3__hadoop-2.7--org.apache.commons--commons-compress--org.apache.commons__commons-compress__1.20.jar:/databricks/jars/----workspace_spark_3_1--maven-trees--hive-2.3__hadoop-2.7--org.apache.commons--commons-crypto--org.apache.commons__commons-crypto__1.1.0.jar:/databricks/jars/----workspace_spark_3_1--maven-trees--hive-2.3__hadoop-2.7--org.apache.commons--commons-lang3--org.apache.commons__commons-lang3__3.10.jar:/databricks/jars/----workspace_spark_3_1--maven-trees--hive-2.3__hadoop-2.7--org.apache.commons--commons-math3--org.apache.commons__commons-math3__3.4.1.jar:/databricks/jars/----workspace_spark_3_1--maven-trees--hive-2.3__hadoop-2.7--org.apache.commons--commons-text--org.apache.commons__commons-text__1.6.jar:/databricks/jars/----workspace_spark_3_1--maven-trees--hive-2.3__hadoop-2.7--org.apache.curator--curator-client--org.apache.curator__curator-client__2.7.1.jar:/databricks/jars/----workspace_spark_3_1--maven-trees--hive-2.3__hadoop-2.7--org.apache.curator--curator-framework--org.apache.curator__curator-framework__2.7.1.jar:/databricks/jars/----workspace_spark_3_1--maven-trees--hive-2.3__hadoop-2.7--org.apache.curator--curator-recipes--org.apache.curator__curator-recipes__2.7.1.jar:/databricks/jars/----workspace_spark_3_1--maven-trees--hive-2.3__hadoop-2.7--org.apache.derby--derby--org.apache.derby__derby__10.12.1.1.jar:/databricks/jars/----workspace_spark_3_1--maven-trees--hive-2.3__hadoop-2.7--org.apache.directory.api--api-asn1-api--org.apache.directory.api__api-asn1-api__1.0.0-M20.jar:/databricks/jars/----workspace_spark_3_1--maven-trees--hive-2.3__hadoop-2.7--org.apache.directory.api--api-util--org.apache.directory.api__api-util__1.0.0-M20.jar:/databricks/jars/----workspace_spark_3_1--maven-trees--hive-2.3__hadoop-2.7--org.apache.directory.server--apacheds-i18n--org.apache.directory.server__apacheds-i18n__2.0.0-M15.jar:/databricks/jars/----workspace_spark_3_1--maven-trees--hive-2.3__hadoop-2.7--org.apache.directory.server--apacheds-kerberos-codec--org.apache.directory.server__apacheds-kerberos-codec__2.0.0-M15.jar:/databricks/jars/----workspace_spark_3_1--maven-trees--hive-2.3__hadoop-2.7--org.apache.hadoop--hadoop-annotations--org.apache.hadoop__hadoop-annotations__2.7.4.jar:/databricks/jars/----workspace_spark_3_1--maven-trees--hive-2.3__hadoop-2.7--org.apache.hadoop--hadoop-auth--org.apache.hadoop__hadoop-auth__2.7.4.jar:/databricks/jars/----workspace_spark_3_1--maven-trees--hive-2.3__hadoop-2.7--org.apache.hadoop--hadoop-client--org.apache.hadoop__hadoop-client__2.7.4.jar:/databricks/jars/----workspace_spark_3_1--maven-trees--hive-2.3__hadoop-2.7--org.apache.hadoop--hadoop-common--org.apache.hadoop__hadoop-common__2.7.4.jar:/databricks/jars/----workspace_spark_3_1--maven-trees--hive-2.3__hadoop-2.7--org.apache.hadoop--hadoop-hdfs--org.apache.hadoop__hadoop-hdfs__2.7.4.jar:/databricks/jars/----workspace_spark_3_1--maven-trees--hive-2.3__hadoop-2.7--org.apache.hadoop--hadoop-mapreduce-client-app--org.apache.hadoop__hadoop-mapreduce-client-app__2.7.4.jar:/databricks/jars/----workspace_spark_3_1--maven-trees--hive-2.3__hadoop-2.7--org.apache.hadoop--hadoop-mapreduce-client-common--org.apache.hadoop__hadoop-mapreduce-client-common__2.7.4.jar:/databricks/jars/----workspace_spark_3_1--maven-trees--hive-2.3__hadoop-2.7--org.apache.hadoop--hadoop-mapreduce-client-core--org.apache.hadoop__hadoop-mapreduce-client-core__2.7.4.jar:/databricks/jars/----workspace_spark_3_1--maven-trees--hive-2.3__hadoop-2.7--org.apache.hadoop--hadoop-mapreduce-client-jobclient--org.apache.hadoop__hadoop-mapreduce-client-jobclient__2.7.4.jar:/databricks/jars/----workspace_spark_3_1--maven-trees--hive-2.3__hadoop-2.7--org.apache.hadoop--hadoop-mapreduce-client-shuffle--org.apache.hadoop__hadoop-mapreduce-client-shuffle__2.7.4.jar:/databricks/jars/----workspace_spark_3_1--maven-trees--hive-2.3__hadoop-2.7--org.apache.hadoop--hadoop-yarn-api--org.apache.hadoop__hadoop-yarn-api__2.7.4.jar:/databricks/jars/----workspace_spark_3_1--maven-trees--hive-2.3__hadoop-2.7--org.apache.hadoop--hadoop-yarn-client--org.apache.hadoop__hadoop-yarn-client__2.7.4.jar:/databricks/jars/----workspace_spark_3_1--maven-trees--hive-2.3__hadoop-2.7--org.apache.hadoop--hadoop-yarn-common--org.apache.hadoop__hadoop-yarn-common__2.7.4.jar:/databricks/jars/----workspace_spark_3_1--maven-trees--hive-2.3__hadoop-2.7--org.apache.hadoop--hadoop-yarn-server-common--org.apache.hadoop__hadoop-yarn-server-common__2.7.4.jar:/databricks/jars/----workspace_spark_3_1--maven-trees--hive-2.3__hadoop-2.7--org.apache.hive--hive-beeline--org.apache.hive__hive-beeline__2.3.7.jar:/databricks/jars/----workspace_spark_3_1--maven-trees--hive-2.3__hadoop-2.7--org.apache.hive--hive-cli--org.apache.hive__hive-cli__2.3.7.jar:/databricks/jars/----workspace_spark_3_1--maven-trees--hive-2.3__hadoop-2.7--org.apache.hive--hive-common--org.apache.hive__hive-common__2.3.7.jar:/databricks/jars/----workspace_spark_3_1--maven-trees--hive-2.3__hadoop-2.7--org.apache.hive--hive-exec-core--org.apache.hive__hive-exec-core__2.3.7.jar:/databricks/jars/----workspace_spark_3_1--maven-trees--hive-2.3__hadoop-2.7--org.apache.hive--hive-jdbc--org.apache.hive__hive-jdbc__2.3.7.jar:/databricks/jars/----workspace_spark_3_1--maven-trees--hive-2.3__hadoop-2.7--org.apache.hive--hive-llap-client--org.apache.hive__hive-llap-client__2.3.7.jar:/databricks/jars/----workspace_spark_3_1--maven-trees--hive-2.3__hadoop-2.7--org.apache.hive--hive-llap-common--org.apache.hive__hive-llap-common__2.3.7.jar:/databricks/jars/----workspace_spark_3_1--maven-trees--hive-2.3__hadoop-2.7--org.apache.hive--hive-metastore--org.apache.hive__hive-metastore__2.3.7.jar:/databricks/jars/----workspace_spark_3_1--maven-trees--hive-2.3__hadoop-2.7--org.apache.hive--hive-serde--org.apache.hive__hive-serde__2.3.7.jar:/databricks/jars/----workspace_spark_3_1--maven-trees--hive-2.3__hadoop-2.7--org.apache.hive--hive-shims--org.apache.hive__hive-shims__2.3.7.jar:/databricks/jars/----workspace_spark_3_1--maven-trees--hive-2.3__hadoop-2.7--org.apache.hive--hive-storage-api--org.apache.hive__hive-storage-api__2.7.2.jar:/databricks/jars/----workspace_spark_3_1--maven-trees--hive-2.3__hadoop-2.7--org.apache.hive--hive-vector-code-gen--org.apache.hive__hive-vector-code-gen__2.3.7.jar:/databricks/jars/----workspace_spark_3_1--maven-trees--hive-2.3__hadoop-2.7--org.apache.hive.shims--hive-shims-0.23--org.apache.hive.shims__hive-shims-0.23__2.3.7.jar:/databricks/jars/----workspace_spark_3_1--maven-trees--hive-2.3__hadoop-2.7--org.apache.hive.shims--hive-shims-common--org.apache.hive.shims__hive-shims-common__2.3.7.jar:/databricks/jars/----workspace_spark_3_1--maven-trees--hive-2.3__hadoop-2.7--org.apache.hive.shims--hive-shims-scheduler--org.apache.hive.shims__hive-shims-scheduler__2.3.7.jar:/databricks/jars/----workspace_spark_3_1--maven-trees--hive-2.3__hadoop-2.7--org.apache.htrace--htrace-core--org.apache.htrace__htrace-core__3.1.0-incubating.jar:/databricks/jars/----workspace_spark_3_1--maven-trees--hive-2.3__hadoop-2.7--org.apache.httpcomponents--httpclient--org.apache.httpcomponents__httpclient__4.5.6.jar:/databricks/jars/----workspace_spark_3_1--maven-trees--hive-2.3__hadoop-2.7--org.apache.httpcomponents--httpcore--org.apache.httpcomponents__httpcore__4.4.12.jar:/databricks/jars/----workspace_spark_3_1--maven-trees--hive-2.3__hadoop-2.7--org.apache.ivy--ivy--org.apache.ivy__ivy__2.4.0.jar:/databricks/jars/----workspace_spark_3_1--maven-trees--hive-2.3__hadoop-2.7--org.apache.mesos--mesos-shaded-protobuf--org.apache.mesos__mesos-shaded-protobuf__1.4.0.jar:/databricks/jars/----workspace_spark_3_1--maven-trees--hive-2.3__hadoop-2.7--org.apache.orc--orc-core--org.apache.orc__orc-core__1.5.12.jar:/databricks/jars/----workspace_spark_3_1--maven-trees--hive-2.3__hadoop-2.7--org.apache.orc--orc-mapreduce--org.apache.orc__orc-mapreduce__1.5.12.jar:/databricks/jars/----workspace_spark_3_1--maven-trees--hive-2.3__hadoop-2.7--org.apache.orc--orc-shims--org.apache.orc__orc-shims__1.5.12.jar:/databricks/jars/----workspace_spark_3_1--maven-trees--hive-2.3__hadoop-2.7--org.apache.parquet--parquet-column--org.apache.parquet__parquet-column__1.10.1-databricks6.jar:/databricks/jars/----workspace_spark_3_1--maven-trees--hive-2.3__hadoop-2.7--org.apache.parquet--parquet-common--org.apache.parquet__parquet-common__1.10.1-databricks6.jar:/databricks/jars/----workspace_spark_3_1--maven-trees--hive-2.3__hadoop-2.7--org.apache.parquet--parquet-encoding--org.apache.parquet__parquet-encoding__1.10.1-databricks6.jar:/databricks/jars/----workspace_spark_3_1--maven-trees--hive-2.3__hadoop-2.7--org.apache.parquet--parquet-format--org.apache.parquet__parquet-format__2.4.0.jar:/databricks/jars/----workspace_spark_3_1--maven-trees--hive-2.3__hadoop-2.7--org.apache.parquet--parquet-hadoop--org.apache.parquet__parquet-hadoop__1.10.1-databricks6.jar:/databricks/jars/----workspace_spark_3_1--maven-trees--hive-2.3__hadoop-2.7--org.apache.parquet--parquet-jackson--org.apache.parquet__parquet-jackson__1.10.1-databricks6.jar:/databricks/jars/----workspace_spark_3_1--maven-trees--hive-2.3__hadoop-2.7--org.apache.thrift--libfb303--org.apache.thrift__libfb303__0.9.3.jar:/databricks/jars/----workspace_spark_3_1--maven-trees--hive-2.3__hadoop-2.7--org.apache.thrift--libthrift--org.apache.thrift__libthrift__0.12.0.jar:/databricks/jars/----workspace_spark_3_1--maven-trees--hive-2.3__hadoop-2.7--org.apache.velocity--velocity--org.apache.velocity__velocity__1.5.jar:/databricks/jars/----workspace_spark_3_1--maven-trees--hive-2.3__hadoop-2.7--org.apache.xbean--xbean-asm7-shaded--org.apache.xbean__xbean-asm7-shaded__4.15.jar:/databricks/jars/----workspace_spark_3_1--maven-trees--hive-2.3__hadoop-2.7--org.codehaus.jackson--jackson-core-asl--org.codehaus.jackson__jackson-core-asl__1.9.13.jar:/databricks/jars/----workspace_spark_3_1--maven-trees--hive-2.3__hadoop-2.7--org.codehaus.jackson--jackson-jaxrs--org.codehaus.jackson__jackson-jaxrs__1.9.13.jar:/databricks/jars/----workspace_spark_3_1--maven-trees--hive-2.3__hadoop-2.7--org.codehaus.jackson--jackson-mapper-asl--org.codehaus.jackson__jackson-mapper-asl__1.9.13.jar:/databricks/jars/----workspace_spark_3_1--maven-trees--hive-2.3__hadoop-2.7--org.codehaus.jackson--jackson-xc--org.codehaus.jackson__jackson-xc__1.9.13.jar:/databricks/jars/----workspace_spark_3_1--maven-trees--hive-2.3__hadoop-2.7--org.codehaus.janino--commons-compiler--org.codehaus.janino__commons-compiler__3.0.16.jar:/databricks/jars/----workspace_spark_3_1--maven-trees--hive-2.3__hadoop-2.7--org.codehaus.janino--janino--org.codehaus.janino__janino__3.0.16.jar:/databricks/jars/----workspace_spark_3_1--maven-trees--hive-2.3__hadoop-2.7--org.datanucleus--datanucleus-api-jdo--org.datanucleus__datanucleus-api-jdo__4.2.4.jar:/databricks/jars/----workspace_spark_3_1--maven-trees--hive-2.3__hadoop-2.7--org.datanucleus--datanucleus-core--org.datanucleus__datanucleus-core__4.1.17.jar:/databricks/jars/----workspace_spark_3_1--maven-trees--hive-2.3__hadoop-2.7--org.datanucleus--datanucleus-rdbms--org.datanucleus__datanucleus-rdbms__4.1.19.jar:/databricks/jars/----workspace_spark_3_1--maven-trees--hive-2.3__hadoop-2.7--org.datanucleus--javax.jdo--org.datanucleus__javax.jdo__3.2.0-m3.jar:/databricks\n",
       "*** WARNING: skipped 48296 bytes of output ***\n",
       "\n",
       " (&#39;spark.sql.hive.metastore.sharedPrefixes&#39;,\n",
       "  &#39;org.mariadb.jdbc,com.mysql.jdbc,org.postgresql,com.microsoft.sqlserver,microsoft.sql.DateTimeOffset,microsoft.sql.Types,com.databricks,com.codahale,com.fasterxml.jackson,shaded.databricks&#39;),\n",
       " (&#39;spark.databricks.io.directoryCommit.enableLogicalDelete&#39;, &#39;false&#39;),\n",
       " (&#39;spark.task.reaper.killTimeout&#39;, &#39;60s&#39;),\n",
       " (&#39;spark.r.numRBackendThreads&#39;, &#39;1&#39;),\n",
       " (&#39;spark.hadoop.fs.wasbs.impl.disable.cache&#39;, &#39;true&#39;),\n",
       " (&#39;spark.hadoop.parquet.block.size.row.check.min&#39;, &#39;10&#39;),\n",
       " (&#39;spark.hadoop.hive.server2.use.SSL&#39;, &#39;true&#39;),\n",
       " (&#39;spark.app.startTime&#39;, &#39;1620808120448&#39;),\n",
       " (&#39;spark.hadoop.fs.abfss.impl.disable.cache&#39;, &#39;true&#39;),\n",
       " (&#39;spark.databricks.clusterUsageTags.clusterOwnerUserId&#39;, &#39;4423055200237721&#39;),\n",
       " (&#39;spark.databricks.workspace.multipleResults.enabled&#39;, &#39;true&#39;),\n",
       " (&#39;spark.sql.hive.metastore.version&#39;, &#39;0.13.0&#39;),\n",
       " (&#39;spark.shuffle.service.port&#39;, &#39;4048&#39;),\n",
       " (&#39;spark.databricks.clusterUsageTags.instanceWorkerEnvNetworkType&#39;, &#39;default&#39;),\n",
       " (&#39;spark.databricks.acl.client&#39;,\n",
       "  &#39;com.databricks.spark.sql.acl.client.SparkSqlAclClient&#39;),\n",
       " (&#39;spark.databricks.clusterUsageTags.clusterAvailability&#39;, &#39;ON_DEMAND&#39;),\n",
       " (&#39;spark.hadoop.hive.warehouse.subdir.inherit.perms&#39;, &#39;false&#39;),\n",
       " (&#39;spark.streaming.driver.writeAheadLog.closeFileAfterWrite&#39;, &#39;true&#39;),\n",
       " (&#39;spark.databricks.clusterUsageTags.userProvidedRemoteVolumeSizeGb&#39;, &#39;0&#39;),\n",
       " (&#39;spark.hadoop.hive.server2.keystore.path&#39;,\n",
       "  &#39;/databricks/keys/jetty-ssl-driver-keystore.jks&#39;),\n",
       " (&#39;spark.databricks.credential.redactor&#39;,\n",
       "  &#39;com.databricks.logging.secrets.CredentialRedactorProxyImpl&#39;),\n",
       " (&#39;spark.databricks.clusterUsageTags.clusterOwnerOrgId&#39;, &#39;4873083117217351&#39;),\n",
       " (&#39;spark.databricks.clusterUsageTags.clusterPinned&#39;, &#39;false&#39;),\n",
       " (&#39;spark.databricks.acl.provider&#39;,\n",
       "  &#39;com.databricks.sql.acl.ReflectionBackedAclProvider&#39;),\n",
       " (&#39;spark.hadoop.fs.s3n.impl&#39;,\n",
       "  &#39;shaded.databricks.org.apache.hadoop.fs.s3a.S3AFileSystem&#39;),\n",
       " (&#39;spark.extraListeners&#39;,\n",
       "  &#39;com.databricks.backend.daemon.driver.DBCEventLoggingListener&#39;),\n",
       " (&#39;spark.databricks.clusterUsageTags.enableElasticDisk&#39;, &#39;false&#39;),\n",
       " (&#39;spark.hadoop.spark.databricks.io.parquet.verifyChecksumOnWrite.enabled&#39;,\n",
       "  &#39;false&#39;),\n",
       " (&#39;spark.sql.parquet.cacheMetadata&#39;, &#39;true&#39;),\n",
       " (&#39;spark.databricks.clusterUsageTags.numPerGlobalInitScriptsV2&#39;, &#39;0&#39;),\n",
       " (&#39;spark.hadoop.fs.adl.impl&#39;, &#39;com.databricks.adl.AdlFileSystem&#39;),\n",
       " (&#39;spark.databricks.clusterUsageTags.clusterNodeType&#39;, &#39;dev-tier-node&#39;),\n",
       " (&#39;spark.hadoop.fs.cpfs-abfss.impl.disable.cache&#39;, &#39;true&#39;),\n",
       " (&#39;spark.databricks.clusterUsageTags.driverInstanceId&#39;, &#39;i-07b666e6b82863aff&#39;),\n",
       " (&#39;spark.databricks.clusterUsageTags.enableLocalDiskEncryption&#39;, &#39;false&#39;),\n",
       " (&#39;spark.databricks.tahoe.logStore.class&#39;,\n",
       "  &#39;com.databricks.tahoe.store.DelegatingLogStore&#39;),\n",
       " (&#39;libraryDownload.sleepIntervalSeconds&#39;, &#39;5&#39;),\n",
       " (&#39;spark.databricks.cloudProvider&#39;, &#39;AWS&#39;),\n",
       " (&#39;spark.sql.hive.convertMetastoreParquet&#39;, &#39;true&#39;),\n",
       " (&#39;spark.executor.id&#39;, &#39;driver&#39;),\n",
       " (&#39;spark.databricks.passthrough.adls.tokenProviderClassName&#39;,\n",
       "  &#39;com.databricks.backend.daemon.data.client.adl.AdlCredentialContextTokenProvider&#39;),\n",
       " (&#39;spark.app.name&#39;, &#39;Databricks Shell&#39;),\n",
       " (&#39;spark.driver.allowMultipleContexts&#39;, &#39;false&#39;),\n",
       " (&#39;spark.databricks.clusterUsageTags.workerEnvironmentId&#39;,\n",
       "  &#39;default-worker-env&#39;),\n",
       " (&#39;spark.databricks.service.dbutils.server.backend&#39;,\n",
       "  &#39;com.databricks.dbconnect.SparkServerDBUtils&#39;),\n",
       " (&#39;spark.rdd.compress&#39;, &#39;true&#39;),\n",
       " (&#39;spark.databricks.clusterUsageTags.driverContainerId&#39;,\n",
       "  &#39;4e3d35034fcf44828b49c27b09b02cec&#39;),\n",
       " (&#39;spark.databricks.repl.enableClassFileCleanup&#39;, &#39;true&#39;),\n",
       " (&#39;spark.databricks.eventLog.dir&#39;, &#39;eventlogs&#39;),\n",
       " (&#39;spark.databricks.driverNfs.pathSuffix&#39;, &#39;.ephemeral_nfs&#39;),\n",
       " (&#39;spark.sql.catalogImplementation&#39;, &#39;hive&#39;),\n",
       " (&#39;spark.databricks.clusterUsageTags.clusterCreator&#39;, &#39;Webapp&#39;),\n",
       " (&#39;spark.speculation&#39;, &#39;false&#39;),\n",
       " (&#39;spark.hadoop.fs.s3a.multipart.size&#39;, &#39;10485760&#39;),\n",
       " (&#39;spark.databricks.clusterUsageTags.cloudProvider&#39;, &#39;AWS&#39;),\n",
       " (&#39;spark.hadoop.databricks.dbfs.client.version&#39;, &#39;v1&#39;),\n",
       " (&#39;spark.hadoop.hive.server2.session.check.interval&#39;, &#39;60000&#39;),\n",
       " (&#39;spark.sql.hive.convertCTAS&#39;, &#39;true&#39;),\n",
       " (&#39;spark.metrics.conf&#39;, &#39;/databricks/spark/conf/metrics.properties&#39;),\n",
       " (&#39;spark.hadoop.spark.sql.parquet.output.committer.class&#39;,\n",
       "  &#39;org.apache.spark.sql.parquet.DirectParquetOutputCommitter&#39;),\n",
       " (&#39;spark.databricks.clusterUsageTags.driverContainerPrivateIp&#39;,\n",
       "  &#39;10.172.232.88&#39;),\n",
       " (&#39;spark.hadoop.fs.gs.impl&#39;,\n",
       "  &#39;shaded.databricks.V2_1_4.com.google.cloud.hadoop.fs.gcs.GoogleHadoopFileSystem&#39;),\n",
       " (&#39;spark.hadoop.fs.s3a.fast.upload.default&#39;, &#39;true&#39;),\n",
       " (&#39;spark.akka.frameSize&#39;, &#39;256&#39;),\n",
       " (&#39;spark.hadoop.fs.s3a.fast.upload&#39;, &#39;true&#39;),\n",
       " (&#39;spark.databricks.clusterUsageTags.clusterGeneration&#39;, &#39;0&#39;),\n",
       " (&#39;spark.hadoop.fs.abfs.impl.disable.cache&#39;, &#39;true&#39;),\n",
       " (&#39;spark.hadoop.fs.wasbs.impl&#39;,\n",
       "  &#39;shaded.databricks.org.apache.hadoop.fs.azure.NativeAzureFileSystem&#39;),\n",
       " (&#39;spark.sql.streaming.stopTimeout&#39;, &#39;15s&#39;),\n",
       " (&#39;spark.hadoop.hive.server2.keystore.password&#39;, &#39;[REDACTED]&#39;),\n",
       " (&#39;spark.speculation.multiplier&#39;, &#39;3&#39;),\n",
       " (&#39;spark.databricks.clusterUsageTags.clusterId&#39;, &#39;0512-082740-newt96&#39;),\n",
       " (&#39;spark.storage.blockManagerTimeoutIntervalMs&#39;, &#39;300000&#39;),\n",
       " (&#39;spark.databricks.overrideDefaultCommitProtocol&#39;,\n",
       "  &#39;org.apache.spark.sql.execution.datasources.SQLHadoopMapReduceCommitProtocol&#39;),\n",
       " (&#39;spark.databricks.clusterUsageTags.clusterNoDriverDaemon&#39;, &#39;false&#39;),\n",
       " (&#39;spark.databricks.clusterUsageTags.instanceWorkerEnvId&#39;,\n",
       "  &#39;default-worker-env&#39;),\n",
       " (&#39;libraryDownload.timeoutSeconds&#39;, &#39;180&#39;),\n",
       " (&#39;spark.hadoop.parquet.memory.pool.ratio&#39;, &#39;0.5&#39;),\n",
       " (&#39;spark.sparkr.use.daemon&#39;, &#39;false&#39;),\n",
       " (&#39;spark.scheduler.listenerbus.eventqueue.capacity&#39;, &#39;20000&#39;),\n",
       " (&#39;spark.databricks.clusterUsageTags.clusterScalingType&#39;, &#39;fixed_size&#39;),\n",
       " (&#39;spark.databricks.clusterUsageTags.clusterStateMessage&#39;, &#39;Starting Spark&#39;),\n",
       " (&#39;spark.sql.hive.metastore.jars&#39;, &#39;/databricks/hive/*&#39;),\n",
       " (&#39;spark.databricks.passthrough.adls.gen2.tokenProviderClassName&#39;,\n",
       "  &#39;com.databricks.backend.daemon.data.client.adl.AdlGen2CredentialContextTokenProvider&#39;),\n",
       " (&#39;spark.hadoop.parquet.page.write-checksum.enabled&#39;, &#39;true&#39;),\n",
       " (&#39;spark.hadoop.databricks.s3commit.client.sslTrustAll&#39;, &#39;false&#39;),\n",
       " (&#39;spark.hadoop.fs.s3a.threads.max&#39;, &#39;136&#39;),\n",
       " (&#39;spark.databricks.clusterUsageTags.driverInstancePrivateIp&#39;,\n",
       "  &#39;10.172.241.28&#39;),\n",
       " (&#39;spark.r.backendConnectionTimeout&#39;, &#39;604800&#39;),\n",
       " (&#39;spark.databricks.tahoe.logStore.gcp.class&#39;,\n",
       "  &#39;com.databricks.tahoe.store.GCPLogStore&#39;),\n",
       " (&#39;spark.serializer.objectStreamReset&#39;, &#39;100&#39;),\n",
       " (&#39;spark.sql.sources.commitProtocolClass&#39;,\n",
       "  &#39;com.databricks.sql.transaction.directory.DirectoryAtomicCommitProtocol&#39;),\n",
       " (&#39;spark.hadoop.fs.abfss.impl&#39;,\n",
       "  &#39;shaded.databricks.azurebfs.org.apache.hadoop.fs.azurebfs.SecureAzureBlobFileSystem&#39;),\n",
       " (&#39;spark.hadoop.hive.server2.idle.session.timeout&#39;, &#39;900000&#39;),\n",
       " (&#39;spark.databricks.redactor&#39;,\n",
       "  &#39;com.databricks.spark.util.DatabricksSparkLogRedactorProxy&#39;),\n",
       " (&#39;spark.databricks.clusterUsageTags.autoTerminationMinutes&#39;, &#39;120&#39;),\n",
       " (&#39;spark.driver.host&#39;, &#39;10.172.232.88&#39;),\n",
       " (&#39;spark.databricks.clusterUsageTags.clusterPythonVersion&#39;, &#39;3&#39;),\n",
       " (&#39;spark.hadoop.fs.s3a.impl&#39;,\n",
       "  &#39;shaded.databricks.org.apache.hadoop.fs.s3a.S3AFileSystem&#39;),\n",
       " (&#39;spark.r.sql.derby.temp.dir&#39;, &#39;/tmp/RtmpnrvDCd&#39;),\n",
       " (&#39;spark.databricks.clusterUsageTags.enableDfAcls&#39;, &#39;false&#39;),\n",
       " (&#39;spark.databricks.clusterUsageTags.userProvidedRemoteVolumeCount&#39;, &#39;0&#39;),\n",
       " (&#39;spark.shuffle.service.enabled&#39;, &#39;true&#39;),\n",
       " (&#39;spark.hadoop.fs.cpfs-s3.impl&#39;,\n",
       "  &#39;com.databricks.sql.acl.fs.CredentialPassthroughFileSystem&#39;),\n",
       " (&#39;spark.databricks.clusterUsageTags.clusterName&#39;, &#39;project&#39;),\n",
       " (&#39;spark.hadoop.parquet.page.verify-checksum.enabled&#39;, &#39;true&#39;),\n",
       " (&#39;spark.hadoop.fs.s3a.multipart.threshold&#39;, &#39;104857600&#39;),\n",
       " (&#39;spark.databricks.clusterUsageTags.dataPlaneRegion&#39;, &#39;us-west-2&#39;),\n",
       " (&#39;spark.rpc.message.maxSize&#39;, &#39;256&#39;),\n",
       " (&#39;spark.logConf&#39;, &#39;true&#39;),\n",
       " (&#39;spark.databricks.clusterUsageTags.enableJobsAutostart&#39;, &#39;true&#39;),\n",
       " (&#39;spark.databricks.driverNfs.enabled&#39;, &#39;true&#39;),\n",
       " (&#39;spark.databricks.clusterUsageTags.clusterMetastoreAccessType&#39;,\n",
       "  &#39;RDS_DIRECT&#39;),\n",
       " (&#39;spark.hadoop.hive.server2.enable.doAs&#39;, &#39;false&#39;),\n",
       " (&#39;eventLog.rolloverIntervalSeconds&#39;, &#39;3600&#39;),\n",
       " (&#39;spark.databricks.clusterUsageTags.ngrokNpipEnabled&#39;, &#39;false&#39;),\n",
       " (&#39;spark.databricks.clusterUsageTags.instanceProfileUsed&#39;, &#39;false&#39;),\n",
       " (&#39;spark.shuffle.memoryFraction&#39;, &#39;0.2&#39;),\n",
       " (&#39;spark.databricks.clusterUsageTags.clusterAllTags&#39;,\n",
       "  &#39;[{&#34;key&#34;:&#34;Name&#34;,&#34;value&#34;:&#34;ce-worker&#34;}]&#39;),\n",
       " (&#39;spark.hadoop.fs.abfs.impl&#39;,\n",
       "  &#39;shaded.databricks.azurebfs.org.apache.hadoop.fs.azurebfs.AzureBlobFileSystem&#39;),\n",
       " (&#39;spark.databricks.clusterUsageTags.containerZoneId&#39;, &#39;us-west-2c&#39;),\n",
       " (&#39;spark.hadoop.fs.cpfs-s3a.impl&#39;,\n",
       "  &#39;com.databricks.sql.acl.fs.CredentialPassthroughFileSystem&#39;),\n",
       " (&#39;spark.databricks.acl.scim.client&#39;,\n",
       "  &#39;com.databricks.spark.sql.acl.client.DriverToWebappScimClient&#39;),\n",
       " (&#39;spark.databricks.clusterUsageTags.region&#39;, &#39;us-west-2&#39;),\n",
       " (&#39;spark.databricks.clusterUsageTags.clusterSpotBidPricePercent&#39;, &#39;100&#39;)]</div>"
      ]
     },
     "metadata": {
      "application/vnd.databricks.v1+output": {
       "addedWidgets": {},
       "arguments": {},
       "data": "<div class=\"ansiout\">Out[305]: [(&#39;spark.files.useFetchCache&#39;, &#39;false&#39;),\n (&#39;spark.databricks.preemption.enabled&#39;, &#39;true&#39;),\n (&#39;spark.driver.tempDirectory&#39;, &#39;/local_disk0/tmp&#39;),\n (&#39;spark.hadoop.fs.adl.impl.disable.cache&#39;, &#39;true&#39;),\n (&#39;spark.hadoop.parquet.block.size.row.check.max&#39;, &#39;10&#39;),\n (&#39;spark.hadoop.fs.s3a.connection.maximum&#39;, &#39;200&#39;),\n (&#39;spark.databricks.clusterUsageTags.numPerClusterInitScriptsV2&#39;, &#39;0&#39;),\n (&#39;spark.repl.class.uri&#39;, &#39;spark://10.172.232.88:40959/classes&#39;),\n (&#39;spark.executor.extraJavaOptions&#39;,\n  &#39;-Djava.io.tmpdir=/local_disk0/tmp -XX:ReservedCodeCacheSize=512m -XX:+UseCodeCacheFlushing -Djava.security.properties=/databricks/spark/dbconf/java/extra.security -XX:-UseContainerSupport -XX:+PrintFlagsFinal -XX:+PrintGCDateStamps -verbose:gc -XX:+PrintGCDetails -Xss4m -Djava.library.path=/usr/java/packages/lib/amd64:/usr/lib64:/lib64:/lib:/usr/lib:/usr/lib/x86_64-linux-gnu/jni:/lib/x86_64-linux-gnu:/usr/lib/x86_64-linux-gnu:/usr/lib/jni -Djavax.xml.datatype.DatatypeFactory=com.sun.org.apache.xerces.internal.jaxp.datatype.DatatypeFactoryImpl -Djavax.xml.parsers.DocumentBuilderFactory=com.sun.org.apache.xerces.internal.jaxp.DocumentBuilderFactoryImpl -Djavax.xml.parsers.SAXParserFactory=com.sun.org.apache.xerces.internal.jaxp.SAXParserFactoryImpl -Djavax.xml.validation.SchemaFactory:http://www.w3.org/2001/XMLSchema=com.sun.org.apache.xerces.internal.jaxp.validation.XMLSchemaFactory -Dorg.xml.sax.driver=com.sun.org.apache.xerces.internal.parsers.SAXParser -Dorg.w3c.dom.DOMImplementationSourceList=com.sun.org.apache.xerces.internal.dom.DOMXSImplementationSourceImpl -Djavax.net.ssl.sessionCacheSize=10000 -Dscala.reflect.runtime.disable.typetag.cache=true -Ddatabricks.serviceName=spark-executor-1&#39;),\n (&#39;spark.hadoop.fs.s3a.fast.upload.active.blocks&#39;, &#39;32&#39;),\n (&#39;spark.shuffle.reduceLocality.enabled&#39;, &#39;false&#39;),\n (&#39;spark.sql.streaming.checkpointFileManagerClass&#39;,\n  &#39;com.databricks.spark.sql.streaming.DatabricksCheckpointFileManager&#39;),\n (&#39;spark.databricks.service.dbutils.repl.backend&#39;,\n  &#39;com.databricks.dbconnect.ReplDBUtils&#39;),\n (&#39;spark.databricks.clusterUsageTags.driverNodeType&#39;, &#39;dev-tier-node&#39;),\n (&#39;spark.hadoop.spark.sql.sources.outputCommitterClass&#39;,\n  &#39;com.databricks.backend.daemon.data.client.MapReduceDirectOutputCommitter&#39;),\n (&#39;spark.driver.port&#39;, &#39;40959&#39;),\n (&#39;spark.databricks.clusterUsageTags.instanceBootstrapType&#39;, &#39;ssh&#39;),\n (&#39;spark.streaming.driver.writeAheadLog.allowBatching&#39;, &#39;true&#39;),\n (&#39;spark.databricks.clusterSource&#39;, &#39;UI&#39;),\n (&#39;spark.hadoop.fs.AbstractFileSystem.gs.impl&#39;,\n  &#39;shaded.databricks.V2_1_4.com.google.cloud.hadoop.fs.gcs.GoogleHadoopFS&#39;),\n (&#39;spark.hadoop.hive.server2.transport.mode&#39;, &#39;http&#39;),\n (&#39;spark.hadoop.hive.server2.thrift.http.cookie.auth.enabled&#39;, &#39;false&#39;),\n (&#39;spark.executor.memory&#39;, &#39;8278m&#39;),\n (&#39;spark.databricks.driverNodeTypeId&#39;, &#39;dev-tier-node&#39;),\n (&#39;spark.sql.parquet.compression.codec&#39;, &#39;snappy&#39;),\n (&#39;spark.hadoop.fs.cpfs-adl.impl.disable.cache&#39;, &#39;true&#39;),\n (&#39;spark.databricks.clusterUsageTags.driverPublicDns&#39;,\n  &#39;ec2-34-221-77-183.us-west-2.compute.amazonaws.com&#39;),\n (&#39;spark.app.id&#39;, &#39;local-1620808125268&#39;),\n (&#39;spark.databricks.clusterUsageTags.hailEnabled&#39;, &#39;false&#39;),\n (&#39;spark.databricks.clusterUsageTags.clusterLogDeliveryEnabled&#39;, &#39;false&#39;),\n (&#39;spark.databricks.clusterUsageTags.containerType&#39;, &#39;LXC&#39;),\n (&#39;spark.eventLog.enabled&#39;, &#39;false&#39;),\n (&#39;spark.databricks.clusterUsageTags.isIMv2Enabled&#39;, &#39;false&#39;),\n (&#39;spark.databricks.cloudfetch.hasRegionSupport&#39;, &#39;true&#39;),\n (&#39;spark.hadoop.databricks.s3.create.deleteUnnecessaryFakeDirectories&#39;,\n  &#39;false&#39;),\n (&#39;spark.hadoop.fs.wasb.impl&#39;,\n  &#39;shaded.databricks.org.apache.hadoop.fs.azure.NativeAzureFileSystem&#39;),\n (&#39;spark.executor.tempDirectory&#39;, &#39;/local_disk0/tmp&#39;),\n (&#39;spark.databricks.workerNodeTypeId&#39;, &#39;dev-tier-node&#39;),\n (&#39;spark.hadoop.mapred.output.committer.class&#39;,\n  &#39;com.databricks.backend.daemon.data.client.DirectOutputCommitter&#39;),\n (&#39;spark.hadoop.hive.server2.thrift.http.port&#39;, &#39;10000&#39;),\n (&#39;spark.hadoop.mapreduce.fileoutputcommitter.algorithm.version&#39;, &#39;2&#39;),\n (&#39;spark.sql.allowMultipleContexts&#39;, &#39;false&#39;),\n (&#39;spark.databricks.clusterUsageTags.clusterEbsVolumeSize&#39;, &#39;0&#39;),\n (&#39;spark.home&#39;, &#39;/databricks/spark&#39;),\n (&#39;spark.databricks.clusterUsageTags.clusterTargetWorkers&#39;, &#39;0&#39;),\n (&#39;spark.sql.warehouse.dir&#39;, &#39;/user/hive/warehouse&#39;),\n (&#39;spark.hadoop.hive.server2.idle.operation.timeout&#39;, &#39;7200000&#39;),\n (&#39;spark.task.reaper.enabled&#39;, &#39;true&#39;),\n (&#39;spark.databricks.passthrough.s3a.tokenProviderClassName&#39;,\n  &#39;com.databricks.backend.daemon.driver.aws.AwsCredentialContextTokenProvider&#39;),\n (&#39;spark.storage.memoryFraction&#39;, &#39;0.5&#39;),\n (&#39;spark.databricks.session.share&#39;, &#39;false&#39;),\n (&#39;spark.databricks.clusterUsageTags.clusterResourceClass&#39;, &#39;default&#39;),\n (&#39;spark.databricks.clusterUsageTags.clusterFirstOnDemand&#39;, &#39;0&#39;),\n (&#39;spark.driver.maxResultSize&#39;, &#39;4g&#39;),\n (&#39;spark.databricks.delta.multiClusterWrites.enabled&#39;, &#39;true&#39;),\n (&#39;spark.databricks.clusterUsageTags.clusterSku&#39;, &#39;STANDARD_SKU&#39;),\n (&#39;spark.worker.cleanup.enabled&#39;, &#39;false&#39;),\n (&#39;spark.sql.legacy.createHiveTableByDefault&#39;, &#39;false&#39;),\n (&#39;spark.hadoop.fs.gs.impl.disable.cache&#39;, &#39;true&#39;),\n (&#39;spark.databricks.workspace.matplotlibInline.enabled&#39;, &#39;true&#39;),\n (&#39;spark.databricks.clusterUsageTags.sparkVersion&#39;, &#39;8.2.x-scala2.12&#39;),\n (&#39;spark.databricks.clusterUsageTags.enableCredentialPassthrough&#39;, &#39;false&#39;),\n (&#39;spark.databricks.clusterUsageTags.userProvidedRemoteVolumeType&#39;,\n  &#39;ebs_volume_type: GENERAL_PURPOSE_SSD\\n&#39;),\n (&#39;spark.databricks.clusterUsageTags.enableJdbcAutoStart&#39;, &#39;true&#39;),\n (&#39;spark.hadoop.fs.wasb.impl.disable.cache&#39;, &#39;true&#39;),\n (&#39;spark.databricks.clusterUsageTags.clusterEbsVolumeType&#39;,\n  &#39;GENERAL_PURPOSE_SSD&#39;),\n (&#39;spark.databricks.clusterUsageTags.clusterLogDestination&#39;, &#39;&#39;),\n (&#39;spark.cleaner.referenceTracking.blocking&#39;, &#39;false&#39;),\n (&#39;spark.hadoop.parquet.page.size.check.estimate&#39;, &#39;false&#39;),\n (&#39;spark.hadoop.spark.driverproxy.customHeadersToProperties&#39;,\n  &#39;X-Databricks-User-Token:spark.databricks.token,X-Databricks-Api-Url:spark.databricks.api.url,X-Databricks-ADLS-Gen1-Token:spark.databricks.adls.gen1.token,X-Databricks-ADLS-Gen2-Token:spark.databricks.adls.gen2.token,X-Databricks-Synapse-Token:spark.databricks.synapse.token,X-Databricks-AWS-Credentials:spark.databricks.aws.creds,X-Databricks-User-Id:spark.databricks.user.id,X-Databricks-User-Name:spark.databricks.user.name&#39;),\n (&#39;spark.databricks.passthrough.s3a.threadPoolExecutor.factory.class&#39;,\n  &#39;com.databricks.backend.daemon.driver.aws.S3APassthroughThreadPoolExecutorFactory&#39;),\n (&#39;spark.databricks.delta.preview.enabled&#39;, &#39;true&#39;),\n (&#39;spark.databricks.clusterUsageTags.isSingleUserCluster&#39;, &#39;false&#39;),\n (&#39;spark.databricks.clusterUsageTags.clusterState&#39;, &#39;Pending&#39;),\n (&#39;spark.databricks.tahoe.logStore.azure.class&#39;,\n  &#39;com.databricks.tahoe.store.AzureLogStore&#39;),\n (&#39;spark.repl.class.outputDir&#39;,\n  &#39;/local_disk0/tmp/repl/spark-1477800143179817169-4e07857a-e710-4681-a623-38af3c1c3097&#39;),\n (&#39;spark.hadoop.fs.azure.skip.metrics&#39;, &#39;true&#39;),\n (&#39;spark.hadoop.fs.s3.impl&#39;,\n  &#39;shaded.databricks.org.apache.hadoop.fs.s3a.S3AFileSystem&#39;),\n (&#39;spark.databricks.cloudfetch.requesterClassName&#39;,\n  &#39;com.databricks.spark.sql.cloudfetch.DataDaemonCloudPresignedUrlRequester&#39;),\n (&#39;spark.master&#39;, &#39;local[8]&#39;),\n (&#39;spark.scheduler.mode&#39;, &#39;FAIR&#39;),\n (&#39;spark.sql.sources.default&#39;, &#39;delta&#39;),\n (&#39;spark.databricks.delta.logStore.crossCloud.fatal&#39;, &#39;true&#39;),\n (&#39;spark.hadoop.fs.cpfs-s3n.impl&#39;,\n  &#39;com.databricks.sql.acl.fs.CredentialPassthroughFileSystem&#39;),\n (&#39;spark.databricks.clusterUsageTags.clusterWorkers&#39;, &#39;0&#39;),\n (&#39;spark.ui.port&#39;, &#39;41923&#39;),\n (&#39;spark.hadoop.fs.cpfs-adl.impl&#39;,\n  &#39;com.databricks.sql.acl.fs.CredentialPassthroughFileSystem&#39;),\n (&#39;spark.files.fetchFailure.unRegisterOutputOnHost&#39;, &#39;true&#39;),\n (&#39;spark.databricks.sparkContextId&#39;, &#39;1477800143179817169&#39;),\n (&#39;spark.hadoop.fs.cpfs-abfss.impl&#39;,\n  &#39;com.databricks.sql.acl.fs.CredentialPassthroughFileSystem&#39;),\n (&#39;spark.databricks.clusterUsageTags.enableSqlAclsOnly&#39;, &#39;false&#39;),\n (&#39;spark.databricks.clusterUsageTags.clusterEbsVolumeCount&#39;, &#39;0&#39;),\n (&#39;spark.databricks.clusterUsageTags.clusterNumSshKeys&#39;, &#39;0&#39;),\n (&#39;spark.databricks.tahoe.logStore.aws.class&#39;,\n  &#39;com.databricks.tahoe.store.S3LockBasedLogStore&#39;),\n (&#39;spark.speculation.quantile&#39;, &#39;0.9&#39;),\n (&#39;spark.databricks.clusterUsageTags.privateLinkEnabled&#39;, &#39;false&#39;),\n (&#39;spark.shuffle.manager&#39;, &#39;SORT&#39;),\n (&#39;spark.files.overwrite&#39;, &#39;true&#39;),\n (&#39;spark.executor.extraClassPath&#39;,\n  &#39;/databricks/spark/dbconf/log4j/executor:/databricks/spark/dbconf/jets3t/:/databricks/spark/dbconf/hadoop:/databricks/hive/conf:/databricks/jars/----jackson_annotations_shaded--libjackson-annotations.jar:/databricks/jars/----jackson_core_shaded--libjackson-core.jar:/databricks/jars/----jackson_databind_shaded--libjackson-databind.jar:/databricks/jars/----jackson_datatype_joda_shaded--libjackson-datatype-joda.jar:/databricks/jars/----scalapb_090--com.lihaoyi__fastparse_2.12__2.1.3_shaded.jar:/databricks/jars/----scalapb_090--com.lihaoyi__sourcecode_2.12__0.1.7_shaded.jar:/databricks/jars/----scalapb_090--runtime-unshaded-jetty9-hadoop1_2.12_deploy_shaded.jar:/databricks/jars/----workspace_spark_3_1--common--kvstore--kvstore-hive-2.3__hadoop-2.7_2.12_deploy.jar:/databricks/jars/----workspace_spark_3_1--common--network-common--network-common-hive-2.3__hadoop-2.7_2.12_deploy.jar:/databricks/jars/----workspace_spark_3_1--common--network-shuffle--network-shuffle-hive-2.3__hadoop-2.7_2.12_deploy.jar:/databricks/jars/----workspace_spark_3_1--common--sketch--sketch-hive-2.3__hadoop-2.7_2.12_deploy.jar:/databricks/jars/----workspace_spark_3_1--common--tags--tags-hive-2.3__hadoop-2.7_2.12_deploy.jar:/databricks/jars/----workspace_spark_3_1--common--unsafe--unsafe-hive-2.3__hadoop-2.7_2.12_deploy.jar:/databricks/jars/----workspace_spark_3_1--core--core-hive-2.3__hadoop-2.7_2.12_deploy.jar:/databricks/jars/----workspace_spark_3_1--core--libcore_generated_resources.jar:/databricks/jars/----workspace_spark_3_1--core--libcore_resources.jar:/databricks/jars/----workspace_spark_3_1--core--proto-hive-2.3__hadoop-2.7_2.12_deploy.jar:/databricks/jars/----workspace_spark_3_1--graphx--graphx-hive-2.3__hadoop-2.7_2.12_deploy.jar:/databricks/jars/----workspace_spark_3_1--launcher--launcher-hive-2.3__hadoop-2.7_2.12_deploy.jar:/databricks/jars/----workspace_spark_3_1--maven-trees--hive-2.3__hadoop-2.7--antlr--antlr--antlr__antlr__2.7.7.jar:/databricks/jars/----workspace_spark_3_1--maven-trees--hive-2.3__hadoop-2.7--com.amazonaws--amazon-kinesis-client--com.amazonaws__amazon-kinesis-client__1.12.0.jar:/databricks/jars/----workspace_spark_3_1--maven-trees--hive-2.3__hadoop-2.7--com.amazonaws--aws-java-sdk-autoscaling--com.amazonaws__aws-java-sdk-autoscaling__1.11.655.jar:/databricks/jars/----workspace_spark_3_1--maven-trees--hive-2.3__hadoop-2.7--com.amazonaws--aws-java-sdk-cloudformation--com.amazonaws__aws-java-sdk-cloudformation__1.11.655.jar:/databricks/jars/----workspace_spark_3_1--maven-trees--hive-2.3__hadoop-2.7--com.amazonaws--aws-java-sdk-cloudfront--com.amazonaws__aws-java-sdk-cloudfront__1.11.655.jar:/databricks/jars/----workspace_spark_3_1--maven-trees--hive-2.3__hadoop-2.7--com.amazonaws--aws-java-sdk-cloudhsm--com.amazonaws__aws-java-sdk-cloudhsm__1.11.655.jar:/databricks/jars/----workspace_spark_3_1--maven-trees--hive-2.3__hadoop-2.7--com.amazonaws--aws-java-sdk-cloudsearch--com.amazonaws__aws-java-sdk-cloudsearch__1.11.655.jar:/databricks/jars/----workspace_spark_3_1--maven-trees--hive-2.3__hadoop-2.7--com.amazonaws--aws-java-sdk-cloudtrail--com.amazonaws__aws-java-sdk-cloudtrail__1.11.655.jar:/databricks/jars/----workspace_spark_3_1--maven-trees--hive-2.3__hadoop-2.7--com.amazonaws--aws-java-sdk-cloudwatch--com.amazonaws__aws-java-sdk-cloudwatch__1.11.655.jar:/databricks/jars/----workspace_spark_3_1--maven-trees--hive-2.3__hadoop-2.7--com.amazonaws--aws-java-sdk-cloudwatchmetrics--com.amazonaws__aws-java-sdk-cloudwatchmetrics__1.11.655.jar:/databricks/jars/----workspace_spark_3_1--maven-trees--hive-2.3__hadoop-2.7--com.amazonaws--aws-java-sdk-codedeploy--com.amazonaws__aws-java-sdk-codedeploy__1.11.655.jar:/databricks/jars/----workspace_spark_3_1--maven-trees--hive-2.3__hadoop-2.7--com.amazonaws--aws-java-sdk-cognitoidentity--com.amazonaws__aws-java-sdk-cognitoidentity__1.11.655.jar:/databricks/jars/----workspace_spark_3_1--maven-trees--hive-2.3__hadoop-2.7--com.amazonaws--aws-java-sdk-cognitosync--com.amazonaws__aws-java-sdk-cognitosync__1.11.655.jar:/databricks/jars/----workspace_spark_3_1--maven-trees--hive-2.3__hadoop-2.7--com.amazonaws--aws-java-sdk-config--com.amazonaws__aws-java-sdk-config__1.11.655.jar:/databricks/jars/----workspace_spark_3_1--maven-trees--hive-2.3__hadoop-2.7--com.amazonaws--aws-java-sdk-core--com.amazonaws__aws-java-sdk-core__1.11.655.jar:/databricks/jars/----workspace_spark_3_1--maven-trees--hive-2.3__hadoop-2.7--com.amazonaws--aws-java-sdk-datapipeline--com.amazonaws__aws-java-sdk-datapipeline__1.11.655.jar:/databricks/jars/----workspace_spark_3_1--maven-trees--hive-2.3__hadoop-2.7--com.amazonaws--aws-java-sdk-directconnect--com.amazonaws__aws-java-sdk-directconnect__1.11.655.jar:/databricks/jars/----workspace_spark_3_1--maven-trees--hive-2.3__hadoop-2.7--com.amazonaws--aws-java-sdk-directory--com.amazonaws__aws-java-sdk-directory__1.11.655.jar:/databricks/jars/----workspace_spark_3_1--maven-trees--hive-2.3__hadoop-2.7--com.amazonaws--aws-java-sdk-dynamodb--com.amazonaws__aws-java-sdk-dynamodb__1.11.655.jar:/databricks/jars/----workspace_spark_3_1--maven-trees--hive-2.3__hadoop-2.7--com.amazonaws--aws-java-sdk-ec2--com.amazonaws__aws-java-sdk-ec2__1.11.655.jar:/databricks/jars/----workspace_spark_3_1--maven-trees--hive-2.3__hadoop-2.7--com.amazonaws--aws-java-sdk-ecs--com.amazonaws__aws-java-sdk-ecs__1.11.655.jar:/databricks/jars/----workspace_spark_3_1--maven-trees--hive-2.3__hadoop-2.7--com.amazonaws--aws-java-sdk-efs--com.amazonaws__aws-java-sdk-efs__1.11.655.jar:/databricks/jars/----workspace_spark_3_1--maven-trees--hive-2.3__hadoop-2.7--com.amazonaws--aws-java-sdk-elasticache--com.amazonaws__aws-java-sdk-elasticache__1.11.655.jar:/databricks/jars/----workspace_spark_3_1--maven-trees--hive-2.3__hadoop-2.7--com.amazonaws--aws-java-sdk-elasticbeanstalk--com.amazonaws__aws-java-sdk-elasticbeanstalk__1.11.655.jar:/databricks/jars/----workspace_spark_3_1--maven-trees--hive-2.3__hadoop-2.7--com.amazonaws--aws-java-sdk-elasticloadbalancing--com.amazonaws__aws-java-sdk-elasticloadbalancing__1.11.655.jar:/databricks/jars/----workspace_spark_3_1--maven-trees--hive-2.3__hadoop-2.7--com.amazonaws--aws-java-sdk-elastictranscoder--com.amazonaws__aws-java-sdk-elastictranscoder__1.11.655.jar:/databricks/jars/----workspace_spark_3_1--maven-trees--hive-2.3__hadoop-2.7--com.amazonaws--aws-java-sdk-emr--com.amazonaws__aws-java-sdk-emr__1.11.655.jar:/databricks/jars/----workspace_spark_3_1--maven-trees--hive-2.3__hadoop-2.7--com.amazonaws--aws-java-sdk-glacier--com.amazonaws__aws-java-sdk-glacier__1.11.655.jar:/databricks/jars/----workspace_spark_3_1--maven-trees--hive-2.3__hadoop-2.7--com.amazonaws--aws-java-sdk-iam--com.amazonaws__aws-java-sdk-iam__1.11.655.jar:/databricks/jars/----workspace_spark_3_1--maven-trees--hive-2.3__hadoop-2.7--com.amazonaws--aws-java-sdk-importexport--com.amazonaws__aws-java-sdk-importexport__1.11.655.jar:/databricks/jars/----workspace_spark_3_1--maven-trees--hive-2.3__hadoop-2.7--com.amazonaws--aws-java-sdk-kinesis--com.amazonaws__aws-java-sdk-kinesis__1.11.655.jar:/databricks/jars/----workspace_spark_3_1--maven-trees--hive-2.3__hadoop-2.7--com.amazonaws--aws-java-sdk-kms--com.amazonaws__aws-java-sdk-kms__1.11.655.jar:/databricks/jars/----workspace_spark_3_1--maven-trees--hive-2.3__hadoop-2.7--com.amazonaws--aws-java-sdk-lambda--com.amazonaws__aws-java-sdk-lambda__1.11.655.jar:/databricks/jars/----workspace_spark_3_1--maven-trees--hive-2.3__hadoop-2.7--com.amazonaws--aws-java-sdk-logs--com.amazonaws__aws-java-sdk-logs__1.11.655.jar:/databricks/jars/----workspace_spark_3_1--maven-trees--hive-2.3__hadoop-2.7--com.amazonaws--aws-java-sdk-machinelearning--com.amazonaws__aws-java-sdk-machinelearning__1.11.655.jar:/databricks/jars/----workspace_spark_3_1--maven-trees--hive-2.3__hadoop-2.7--com.amazonaws--aws-java-sdk-opsworks--com.amazonaws__aws-java-sdk-opsworks__1.11.655.jar:/databricks/jars/----workspace_spark_3_1--maven-trees--hive-2.3__hadoop-2.7--com.amazonaws--aws-java-sdk-rds--com.amazonaws__aws-java-sdk-rds__1.11.655.jar:/databricks/jars/----workspace_spark_3_1--maven-trees--hive-2.3__hadoop-2.7--com.amazonaws--aws-java-sdk-redshift--com.amazonaws__aws-java-sdk-redshift__1.11.655.jar:/databricks/jars/----workspace_spark_3_1--maven-trees--hive-2.3__hadoop-2.7--com.amazonaws--aws-java-sdk-route53--com.amazonaws__aws-java-sdk-route53__1.11.655.jar:/databricks/jars/----workspace_spark_3_1--maven-trees--hive-2.3__hadoop-2.7--com.amazonaws--aws-java-sdk-s3--com.amazonaws__aws-java-sdk-s3__1.11.655.jar:/databricks/jars/----workspace_spark_3_1--maven-trees--hive-2.3__hadoop-2.7--com.amazonaws--aws-java-sdk-ses--com.amazonaws__aws-java-sdk-ses__1.11.655.jar:/databricks/jars/----workspace_spark_3_1--maven-trees--hive-2.3__hadoop-2.7--com.amazonaws--aws-java-sdk-simpledb--com.amazonaws__aws-java-sdk-simpledb__1.11.655.jar:/databricks/jars/----workspace_spark_3_1--maven-trees--hive-2.3__hadoop-2.7--com.amazonaws--aws-java-sdk-simpleworkflow--com.amazonaws__aws-java-sdk-simpleworkflow__1.11.655.jar:/databricks/jars/----workspace_spark_3_1--maven-trees--hive-2.3__hadoop-2.7--com.amazonaws--aws-java-sdk-sns--com.amazonaws__aws-java-sdk-sns__1.11.655.jar:/databricks/jars/----workspace_spark_3_1--maven-trees--hive-2.3__hadoop-2.7--com.amazonaws--aws-java-sdk-sqs--com.amazonaws__aws-java-sdk-sqs__1.11.655.jar:/databricks/jars/----workspace_spark_3_1--maven-trees--hive-2.3__hadoop-2.7--com.amazonaws--aws-java-sdk-ssm--com.amazonaws__aws-java-sdk-ssm__1.11.655.jar:/databricks/jars/----workspace_spark_3_1--maven-trees--hive-2.3__hadoop-2.7--com.amazonaws--aws-java-sdk-storagegateway--com.amazonaws__aws-java-sdk-storagegateway__1.11.655.jar:/databricks/jars/----workspace_spark_3_1--maven-trees--hive-2.3__hadoop-2.7--com.amazonaws--aws-java-sdk-sts--com.amazonaws__aws-java-sdk-sts__1.11.655.jar:/databricks/jars/----workspace_spark_3_1--maven-trees--hive-2.3__hadoop-2.7--com.amazonaws--aws-java-sdk-support--com.amazonaws__aws-java-sdk-support__1.11.655.jar:/databricks/jars/----workspace_spark_3_1--maven-trees--hive-2.3__hadoop-2.7--com.amazonaws--aws-java-sdk-swf-libraries--com.amazonaws__aws-java-sdk-swf-libraries__1.11.22.jar:/databricks/jars/----workspace_spark_3_1--maven-trees--hive-2.3__hadoop-2.7--com.amazonaws--aws-java-sdk-workspaces--com.amazonaws__aws-java-sdk-workspaces__1.11.655.jar:/databricks/jars/----workspace_spark_3_1--maven-trees--hive-2.3__hadoop-2.7--com.amazonaws--jmespath-java--com.amazonaws__jmespath-java__1.11.655.jar:/databricks/jars/----workspace_spark_3_1--maven-trees--hive-2.3__hadoop-2.7--com.chuusai--shapeless_2.12--com.chuusai__shapeless_2.12__2.3.3.jar:/databricks/jars/----workspace_spark_3_1--maven-trees--hive-2.3__hadoop-2.7--com.clearspring.analytics--stream--com.clearspring.analytics__stream__2.9.6.jar:/databricks/jars/----workspace_spark_3_1--maven-trees--hive-2.3__hadoop-2.7--com.databricks--Rserve--com.databricks__Rserve__1.8-3.jar:/databricks/jars/----workspace_spark_3_1--maven-trees--hive-2.3__hadoop-2.7--com.databricks.scalapb--compilerplugin_2.12--com.databricks.scalapb__compilerplugin_2.12__0.4.15-10.jar:/databricks/jars/----workspace_spark_3_1--maven-trees--hive-2.3__hadoop-2.7--com.databricks.scalapb--scalapb-runtime_2.12--com.databricks.scalapb__scalapb-runtime_2.12__0.4.15-10.jar:/databricks/jars/----workspace_spark_3_1--maven-trees--hive-2.3__hadoop-2.7--com.esotericsoftware--kryo-shaded--com.esotericsoftware__kryo-shaded__4.0.2.jar:/databricks/jars/----workspace_spark_3_1--maven-trees--hive-2.3__hadoop-2.7--com.esotericsoftware--minlog--com.esotericsoftware__minlog__1.3.0.jar:/databricks/jars/----workspace_spark_3_1--maven-trees--hive-2.3__hadoop-2.7--com.fasterxml--classmate--com.fasterxml__classmate__1.3.4.jar:/databricks/jars/----workspace_spark_3_1--maven-trees--hive-2.3__hadoop-2.7--com.fasterxml.jackson.core--jackson-annotations--com.fasterxml.jackson.core__jackson-annotations__2.10.0.jar:/databricks/jars/----workspace_spark_3_1--maven-trees--hive-2.3__hadoop-2.7--com.fasterxml.jackson.core--jackson-core--com.fasterxml.jackson.core__jackson-core__2.10.0.jar:/databricks/jars/----workspace_spark_3_1--maven-trees--hive-2.3__hadoop-2.7--com.fasterxml.jackson.core--jackson-databind--com.fasterxml.jackson.core__jackson-databind__2.10.0.jar:/databricks/jars/----workspace_spark_3_1--maven-trees--hive-2.3__hadoop-2.7--com.fasterxml.jackson.dataformat--jackson-dataformat-cbor--com.fasterxml.jackson.dataformat__jackson-dataformat-cbor__2.10.0.jar:/databricks/jars/----workspace_spark_3_1--maven-trees--hive-2.3__hadoop-2.7--com.fasterxml.jackson.datatype--jackson-datatype-joda--com.fasterxml.jackson.datatype__jackson-datatype-joda__2.10.0.jar:/databricks/jars/----workspace_spark_3_1--maven-trees--hive-2.3__hadoop-2.7--com.fasterxml.jackson.module--jackson-module-paranamer--com.fasterxml.jackson.module__jackson-module-paranamer__2.10.0.jar:/databricks/jars/----workspace_spark_3_1--maven-trees--hive-2.3__hadoop-2.7--com.fasterxml.jackson.module--jackson-module-scala_2.12--com.fasterxml.jackson.module__jackson-module-scala_2.12__2.10.0.jar:/databricks/jars/----workspace_spark_3_1--maven-trees--hive-2.3__hadoop-2.7--com.github.ben-manes.caffeine--caffeine--com.github.ben-manes.caffeine__caffeine__2.3.4.jar:/databricks/jars/----workspace_spark_3_1--maven-trees--hive-2.3__hadoop-2.7--com.github.fommil--jniloader--com.github.fommil__jniloader__1.1.jar:/databricks/jars/----workspace_spark_3_1--maven-trees--hive-2.3__hadoop-2.7--com.github.fommil.netlib--core--com.github.fommil.netlib__core__1.1.2.jar:/databricks/jars/----workspace_spark_3_1--maven-trees--hive-2.3__hadoop-2.7--com.github.fommil.netlib--native_ref-java--com.github.fommil.netlib__native_ref-java__1.1.jar:/databricks/jars/----workspace_spark_3_1--maven-trees--hive-2.3__hadoop-2.7--com.github.fommil.netlib--native_ref-java-natives--com.github.fommil.netlib__native_ref-java-natives__1.1.jar:/databricks/jars/----workspace_spark_3_1--maven-trees--hive-2.3__hadoop-2.7--com.github.fommil.netlib--native_system-java--com.github.fommil.netlib__native_system-java__1.1.jar:/databricks/jars/----workspace_spark_3_1--maven-trees--hive-2.3__hadoop-2.7--com.github.fommil.netlib--native_system-java-natives--com.github.fommil.netlib__native_system-java-natives__1.1.jar:/databricks/jars/----workspace_spark_3_1--maven-trees--hive-2.3__hadoop-2.7--com.github.fommil.netlib--netlib-native_ref-linux-x86_64-natives--com.github.fommil.netlib__netlib-native_ref-linux-x86_64-natives__1.1.jar:/databricks/jars/----workspace_spark_3_1--maven-trees--hive-2.3__hadoop-2.7--com.github.fommil.netlib--netlib-native_system-linux-x86_64-natives--com.github.fommil.netlib__netlib-native_system-linux-x86_64-natives__1.1.jar:/databricks/jars/----workspace_spark_3_1--maven-trees--hive-2.3__hadoop-2.7--com.github.joshelser--dropwizard-metrics-hadoop-metrics2-reporter--com.github.joshelser__dropwizard-metrics-hadoop-metrics2-reporter__0.1.2.jar:/databricks/jars/----workspace_spark_3_1--maven-trees--hive-2.3__hadoop-2.7--com.github.luben--zstd-jni--com.github.luben__zstd-jni__1.4.8-1.jar:/databricks/jars/----workspace_spark_3_1--maven-trees--hive-2.3__hadoop-2.7--com.github.wendykierp--JTransforms--com.github.wendykierp__JTransforms__3.1.jar:/databricks/jars/----workspace_spark_3_1--maven-trees--hive-2.3__hadoop-2.7--com.google.code.findbugs--jsr305--com.google.code.findbugs__jsr305__3.0.0.jar:/databricks/jars/----workspace_spark_3_1--maven-trees--hive-2.3__hadoop-2.7--com.google.code.gson--gson--com.google.code.gson__gson__2.2.4.jar:/databricks/jars/----workspace_spark_3_1--maven-trees--hive-2.3__hadoop-2.7--com.google.flatbuffers--flatbuffers-java--com.google.flatbuffers__flatbuffers-java__1.9.0.jar:/databricks/jars/----workspace_spark_3_1--maven-trees--hive-2.3__hadoop-2.7--com.google.guava--guava--com.google.guava__guava__15.0.jar:/databricks/jars/----workspace_spark_3_1--maven-trees--hive-2.3__hadoop-2.7--com.google.protobuf--protobuf-java--com.google.protobuf__protobuf-java__2.6.1.jar:/databricks/jars/----workspace_spark_3_1--maven-trees--hive-2.3__hadoop-2.7--com.h2database--h2--com.h2database__h2__1.4.195.jar:/databricks/jars/----workspace_spark_3_1--maven-trees--hive-2.3__hadoop-2.7--com.helger--profiler--com.helger__profiler__1.1.1.jar:/databricks/jars/----workspace_spark_3_1--maven-trees--hive-2.3__hadoop-2.7--com.jcraft--jsch--com.jcraft__jsch__0.1.50.jar:/databricks/jars/----workspace_spark_3_1--maven-trees--hive-2.3__hadoop-2.7--com.jolbox--bonecp--com.jolbox__bonecp__0.8.0.RELEASE.jar:/databricks/jars/----workspace_spark_3_1--maven-trees--hive-2.3__hadoop-2.7--com.lihaoyi--sourcecode_2.12--com.lihaoyi__sourcecode_2.12__0.1.9.jar:/databricks/jars/----workspace_spark_3_1--maven-trees--hive-2.3__hadoop-2.7--com.microsoft.azure--azure-data-lake-store-sdk--com.microsoft.azure__azure-data-lake-store-sdk__2.3.9.jar:/databricks/jars/----workspace_spark_3_1--maven-trees--hive-2.3__hadoop-2.7--com.ning--compress-lzf--com.ning__compress-lzf__1.0.3.jar:/databricks/jars/----workspace_spark_3_1--maven-trees--hive-2.3__hadoop-2.7--com.sun.mail--javax.mail--com.sun.mail__javax.mail__1.5.2.jar:/databricks/jars/----workspace_spark_3_1--maven-trees--hive-2.3__hadoop-2.7--com.tdunning--json--com.tdunning__json__1.8.jar:/databricks/jars/----workspace_spark_3_1--maven-trees--hive-2.3__hadoop-2.7--com.thoughtworks.paranamer--paranamer--com.thoughtworks.paranamer__paranamer__2.8.jar:/databricks/jars/----workspace_spark_3_1--maven-trees--hive-2.3__hadoop-2.7--com.trueaccord.lenses--lenses_2.12--com.trueaccord.lenses__lenses_2.12__0.4.12.jar:/databricks/jars/----workspace_spark_3_1--maven-trees--hive-2.3__hadoop-2.7--com.twitter--chill-java--com.twitter__chill-java__0.9.5.jar:/databricks/jars/----workspace_spark_3_1--maven-trees--hive-2.3__hadoop-2.7--com.twitter--chill_2.12--com.twitter__chill_2.12__0.9.5.jar:/databricks/jars/----workspace_spark_3_1--maven-trees--hive-2.3__hadoop-2.7--com.twitter--util-app_2.12--com.twitter__util-app_2.12__7.1.0.jar:/databricks/jars/----workspace_spark_3_1--maven-trees--hive-2.3__hadoop-2.7--com.twitter--util-core_2.12--com.twitter__util-core_2.12__7.1.0.jar:/databricks/jars/----workspace_spark_3_1--maven-trees--hive-2.3__hadoop-2.7--com.twitter--util-function_2.12--com.twitter__util-function_2.12__7.1.0.jar:/databricks/jars/----workspace_spark_3_1--maven-trees--hive-2.3__hadoop-2.7--com.twitter--util-jvm_2.12--com.twitter__util-jvm_2.12__7.1.0.jar:/databricks/jars/----workspace_spark_3_1--maven-trees--hive-2.3__hadoop-2.7--com.twitter--util-lint_2.12--com.twitter__util-lint_2.12__7.1.0.jar:/databricks/jars/----workspace_spark_3_1--maven-trees--hive-2.3__hadoop-2.7--com.twitter--util-registry_2.12--com.twitter__util-registry_2.12__7.1.0.jar:/databricks/jars/----workspace_spark_3_1--maven-trees--hive-2.3__hadoop-2.7--com.twitter--util-stats_2.12--com.twitter__util-stats_2.12__7.1.0.jar:/databricks/jars/----workspace_spark_3_1--maven-trees--hive-2.3__hadoop-2.7--com.typesafe--config--com.typesafe__config__1.2.1.jar:/databricks/jars/----workspace_spark_3_1--maven-trees--hive-2.3__hadoop-2.7--com.typesafe.scala-logging--scala-logging_2.12--com.typesafe.scala-logging__scala-logging_2.12__3.7.2.jar:/databricks/jars/----workspace_spark_3_1--maven-trees--hive-2.3__hadoop-2.7--com.univocity--univocity-parsers--com.univocity__univocity-parsers__2.9.1.jar:/databricks/jars/----workspace_spark_3_1--maven-trees--hive-2.3__hadoop-2.7--com.zaxxer--HikariCP--com.zaxxer__HikariCP__3.1.0.jar:/databricks/jars/----workspace_spark_3_1--maven-trees--hive-2.3__hadoop-2.7--commons-beanutils--commons-beanutils--commons-beanutils__commons-beanutils__1.9.4.jar:/databricks/jars/----workspace_spark_3_1--maven-trees--hive-2.3__hadoop-2.7--commons-cli--commons-cli--commons-cli__commons-cli__1.2.jar:/databricks/jars/----workspace_spark_3_1--maven-trees--hive-2.3__hadoop-2.7--commons-codec--commons-codec--commons-codec__commons-codec__1.10.jar:/databricks/jars/----workspace_spark_3_1--maven-trees--hive-2.3__hadoop-2.7--commons-collections--commons-collections--commons-collections__commons-collections__3.2.2.jar:/databricks/jars/----workspace_spark_3_1--maven-trees--hive-2.3__hadoop-2.7--commons-configuration--commons-configuration--commons-configuration__commons-configuration__1.6.jar:/databricks/jars/----workspace_spark_3_1--maven-trees--hive-2.3__hadoop-2.7--commons-dbcp--commons-dbcp--commons-dbcp__commons-dbcp__1.4.jar:/databricks/jars/----workspace_spark_3_1--maven-trees--hive-2.3__hadoop-2.7--commons-digester--commons-digester--commons-digester__commons-digester__1.8.jar:/databricks/jars/----workspace_spark_3_1--maven-trees--hive-2.3__hadoop-2.7--commons-fileupload--commons-fileupload--commons-fileupload__commons-fileupload__1.3.3.jar:/databricks/jars/----workspace_spark_3_1--maven-trees--hive-2.3__hadoop-2.7--commons-httpclient--commons-httpclient--commons-httpclient__commons-httpclient__3.1.jar:/databricks/jars/----workspace_spark_3_1--maven-trees--hive-2.3__hadoop-2.7--commons-io--commons-io--commons-io__commons-io__2.4.jar:/databricks/jars/----workspace_spark_3_1--maven-trees--hive-2.3__hadoop-2.7--commons-lang--commons-lang--commons-lang__commons-lang__2.6.jar:/databricks/jars/----workspace_spark_3_1--maven-trees--hive-2.3__hadoop-2.7--commons-logging--commons-logging--commons-logging__commons-logging__1.1.3.jar:/databricks/jars/----workspace_spark_3_1--maven-trees--hive-2.3__hadoop-2.7--commons-net--commons-net--commons-net__commons-net__3.1.jar:/databricks/jars/----workspace_spark_3_1--maven-trees--hive-2.3__hadoop-2.7--commons-pool--commons-pool--commons-pool__commons-pool__1.5.4.jar:/databricks/jars/----workspace_spark_3_1--maven-trees--hive-2.3__hadoop-2.7--info.ganglia.gmetric4j--gmetric4j--info.ganglia.gmetric4j__gmetric4j__1.0.10.jar:/databricks/jars/----workspace_spark_3_1--maven-trees--hive-2.3__hadoop-2.7--io.airlift--aircompressor--io.airlift__aircompressor__0.10.jar:/databricks/jars/----workspace_spark_3_1--maven-trees--hive-2.3__hadoop-2.7--io.dropwizard.metrics--metrics-core--io.dropwizard.metrics__metrics-core__4.1.1.jar:/databricks/jars/----workspace_spark_3_1--maven-trees--hive-2.3__hadoop-2.7--io.dropwizard.metrics--metrics-graphite--io.dropwizard.metrics__metrics-graphite__4.1.1.jar:/databricks/jars/----workspace_spark_3_1--maven-trees--hive-2.3__hadoop-2.7--io.dropwizard.metrics--metrics-healthchecks--io.dropwizard.metrics__metrics-healthchecks__4.1.1.jar:/databricks/jars/----workspace_spark_3_1--maven-trees--hive-2.3__hadoop-2.7--io.dropwizard.metrics--metrics-jetty9--io.dropwizard.metrics__metrics-jetty9__4.1.1.jar:/databricks/jars/----workspace_spark_3_1--maven-trees--hive-2.3__hadoop-2.7--io.dropwizard.metrics--metrics-jmx--io.dropwizard.metrics__metrics-jmx__4.1.1.jar:/databricks/jars/----workspace_spark_3_1--maven-trees--hive-2.3__hadoop-2.7--io.dropwizard.metrics--metrics-json--io.dropwizard.metrics__metrics-json__4.1.1.jar:/databricks/jars/----workspace_spark_3_1--maven-trees--hive-2.3__hadoop-2.7--io.dropwizard.metrics--metrics-jvm--io.dropwizard.metrics__metrics-jvm__4.1.1.jar:/databricks/jars/----workspace_spark_3_1--maven-trees--hive-2.3__hadoop-2.7--io.dropwizard.metrics--metrics-servlets--io.dropwizard.metrics__metrics-servlets__4.1.1.jar:/databricks/jars/----workspace_spark_3_1--maven-trees--hive-2.3__hadoop-2.7--io.netty--netty-all--io.netty__netty-all__4.1.51.Final.jar:/databricks/jars/----workspace_spark_3_1--maven-trees--hive-2.3__hadoop-2.7--io.prometheus--simpleclient--io.prometheus__simpleclient__0.7.0.jar:/databricks/jars/----workspace_spark_3_1--maven-trees--hive-2.3__hadoop-2.7--io.prometheus--simpleclient_common--io.prometheus__simpleclient_common__0.7.0.jar:/databricks/jars/----workspace_spark_3_1--maven-trees--hive-2.3__hadoop-2.7--io.prometheus--simpleclient_dropwizard--io.prometheus__simpleclient_dropwizard__0.7.0.jar:/databricks/jars/----workspace_spark_3_1--maven-trees--hive-2.3__hadoop-2.7--io.prometheus--simpleclient_pushgateway--io.prometheus__simpleclient_pushgateway__0.7.0.jar:/databricks/jars/----workspace_spark_3_1--maven-trees--hive-2.3__hadoop-2.7--io.prometheus--simpleclient_servlet--io.prometheus__simpleclient_servlet__0.7.0.jar:/databricks/jars/----workspace_spark_3_1--maven-trees--hive-2.3__hadoop-2.7--io.prometheus.jmx--collector--io.prometheus.jmx__collector__0.12.0.jar:/databricks/jars/----workspace_spark_3_1--maven-trees--hive-2.3__hadoop-2.7--jakarta.annotation--jakarta.annotation-api--jakarta.annotation__jakarta.annotation-api__1.3.5.jar:/databricks/jars/----workspace_spark_3_1--maven-trees--hive-2.3__hadoop-2.7--jakarta.validation--jakarta.validation-api--jakarta.validation__jakarta.validation-api__2.0.2.jar:/databricks/jars/----workspace_spark_3_1--maven-trees--hive-2.3__hadoop-2.7--jakarta.ws.rs--jakarta.ws.rs-api--jakarta.ws.rs__jakarta.ws.rs-api__2.1.6.jar:/databricks/jars/----workspace_spark_3_1--maven-trees--hive-2.3__hadoop-2.7--javax.activation--activation--javax.activation__activation__1.1.1.jar:/databricks/jars/----workspace_spark_3_1--maven-trees--hive-2.3__hadoop-2.7--javax.el--javax.el-api--javax.el__javax.el-api__2.2.4.jar:/databricks/jars/----workspace_spark_3_1--maven-trees--hive-2.3__hadoop-2.7--javax.jdo--jdo-api--javax.jdo__jdo-api__3.0.1.jar:/databricks/jars/----workspace_spark_3_1--maven-trees--hive-2.3__hadoop-2.7--javax.servlet--javax.servlet-api--javax.servlet__javax.servlet-api__3.1.0.jar:/databricks/jars/----workspace_spark_3_1--maven-trees--hive-2.3__hadoop-2.7--javax.servlet.jsp--jsp-api--javax.servlet.jsp__jsp-api__2.1.jar:/databricks/jars/----workspace_spark_3_1--maven-trees--hive-2.3__hadoop-2.7--javax.transaction--jta--javax.transaction__jta__1.1.jar:/databricks/jars/----workspace_spark_3_1--maven-trees--hive-2.3__hadoop-2.7--javax.transaction--transaction-api--javax.transaction__transaction-api__1.1.jar:/databricks/jars/----workspace_spark_3_1--maven-trees--hive-2.3__hadoop-2.7--javax.xml.bind--jaxb-api--javax.xml.bind__jaxb-api__2.2.2.jar:/databricks/jars/----workspace_spark_3_1--maven-trees--hive-2.3__hadoop-2.7--javax.xml.stream--stax-api--javax.xml.stream__stax-api__1.0-2.jar:/databricks/jars/----workspace_spark_3_1--maven-trees--hive-2.3__hadoop-2.7--javolution--javolution--javolution__javolution__5.5.1.jar:/databricks/jars/----workspace_spark_3_1--maven-trees--hive-2.3__hadoop-2.7--jets3t-0.7--com.databricks--jets3t--com.databricks__jets3t__0.7.1-0.jar:/databricks/jars/----workspace_spark_3_1--maven-trees--hive-2.3__hadoop-2.7--jets3t-0.7--liball_deps_2.12.jar:/databricks/jars/----workspace_spark_3_1--maven-trees--hive-2.3__hadoop-2.7--jline--jline--jline__jline__2.14.6.jar:/databricks/jars/----workspace_spark_3_1--maven-trees--hive-2.3__hadoop-2.7--joda-time--joda-time--joda-time__joda-time__2.10.5.jar:/databricks/jars/----workspace_spark_3_1--maven-trees--hive-2.3__hadoop-2.7--liball_deps_2.12.jar:/databricks/jars/----workspace_spark_3_1--maven-trees--hive-2.3__hadoop-2.7--log4j--apache-log4j-extras--log4j__apache-log4j-extras__1.2.17.jar:/databricks/jars/----workspace_spark_3_1--maven-trees--hive-2.3__hadoop-2.7--log4j--log4j--log4j__log4j__1.2.17.jar:/databricks/jars/----workspace_spark_3_1--maven-trees--hive-2.3__hadoop-2.7--net.razorvine--pyrolite--net.razorvine__pyrolite__4.30.jar:/databricks/jars/----workspace_spark_3_1--maven-trees--hive-2.3__hadoop-2.7--net.sf.jpam--jpam--net.sf.jpam__jpam__1.1.jar:/databricks/jars/----workspace_spark_3_1--maven-trees--hive-2.3__hadoop-2.7--net.sf.opencsv--opencsv--net.sf.opencsv__opencsv__2.3.jar:/databricks/jars/----workspace_spark_3_1--maven-trees--hive-2.3__hadoop-2.7--net.sf.supercsv--super-csv--net.sf.supercsv__super-csv__2.2.0.jar:/databricks/jars/----workspace_spark_3_1--maven-trees--hive-2.3__hadoop-2.7--net.snowflake--snowflake-ingest-sdk--net.snowflake__snowflake-ingest-sdk__0.9.6.jar:/databricks/jars/----workspace_spark_3_1--maven-trees--hive-2.3__hadoop-2.7--net.snowflake--snowflake-jdbc--net.snowflake__snowflake-jdbc__3.12.8.jar:/databricks/jars/----workspace_spark_3_1--maven-trees--hive-2.3__hadoop-2.7--net.snowflake--spark-snowflake_2.12--net.snowflake__spark-snowflake_2.12__2.8.1-spark_3.0.jar:/databricks/jars/----workspace_spark_3_1--maven-trees--hive-2.3__hadoop-2.7--net.sourceforge.f2j--arpack_combined_all--net.sourceforge.f2j__arpack_combined_all__0.1.jar:/databricks/jars/----workspace_spark_3_1--maven-trees--hive-2.3__hadoop-2.7--org.acplt.remotetea--remotetea-oncrpc--org.acplt.remotetea__remotetea-oncrpc__1.1.2.jar:/databricks/jars/----workspace_spark_3_1--maven-trees--hive-2.3__hadoop-2.7--org.antlr--ST4--org.antlr__ST4__4.0.4.jar:/databricks/jars/----workspace_spark_3_1--maven-trees--hive-2.3__hadoop-2.7--org.antlr--antlr-runtime--org.antlr__antlr-runtime__3.5.2.jar:/databricks/jars/----workspace_spark_3_1--maven-trees--hive-2.3__hadoop-2.7--org.antlr--antlr4-runtime--org.antlr__antlr4-runtime__4.8-1.jar:/databricks/jars/----workspace_spark_3_1--maven-trees--hive-2.3__hadoop-2.7--org.antlr--stringtemplate--org.antlr__stringtemplate__3.2.1.jar:/databricks/jars/----workspace_spark_3_1--maven-trees--hive-2.3__hadoop-2.7--org.apache.ant--ant--org.apache.ant__ant__1.9.2.jar:/databricks/jars/----workspace_spark_3_1--maven-trees--hive-2.3__hadoop-2.7--org.apache.ant--ant-jsch--org.apache.ant__ant-jsch__1.9.2.jar:/databricks/jars/----workspace_spark_3_1--maven-trees--hive-2.3__hadoop-2.7--org.apache.ant--ant-launcher--org.apache.ant__ant-launcher__1.9.2.jar:/databricks/jars/----workspace_spark_3_1--maven-trees--hive-2.3__hadoop-2.7--org.apache.arrow--arrow-format--org.apache.arrow__arrow-format__2.0.0.jar:/databricks/jars/----workspace_spark_3_1--maven-trees--hive-2.3__hadoop-2.7--org.apache.arrow--arrow-memory-core--org.apache.arrow__arrow-memory-core__2.0.0.jar:/databricks/jars/----workspace_spark_3_1--maven-trees--hive-2.3__hadoop-2.7--org.apache.arrow--arrow-memory-netty--org.apache.arrow__arrow-memory-netty__2.0.0.jar:/databricks/jars/----workspace_spark_3_1--maven-trees--hive-2.3__hadoop-2.7--org.apache.arrow--arrow-vector--org.apache.arrow__arrow-vector__2.0.0.jar:/databricks/jars/----workspace_spark_3_1--maven-trees--hive-2.3__hadoop-2.7--org.apache.avro--avro--org.apache.avro__avro__1.8.2.jar:/databricks/jars/----workspace_spark_3_1--maven-trees--hive-2.3__hadoop-2.7--org.apache.avro--avro-ipc--org.apache.avro__avro-ipc__1.8.2.jar:/databricks/jars/----workspace_spark_3_1--maven-trees--hive-2.3__hadoop-2.7--org.apache.avro--avro-mapred-hadoop2--org.apache.avro__avro-mapred-hadoop2__1.8.2.jar:/databricks/jars/----workspace_spark_3_1--maven-trees--hive-2.3__hadoop-2.7--org.apache.commons--commons-compress--org.apache.commons__commons-compress__1.20.jar:/databricks/jars/----workspace_spark_3_1--maven-trees--hive-2.3__hadoop-2.7--org.apache.commons--commons-crypto--org.apache.commons__commons-crypto__1.1.0.jar:/databricks/jars/----workspace_spark_3_1--maven-trees--hive-2.3__hadoop-2.7--org.apache.commons--commons-lang3--org.apache.commons__commons-lang3__3.10.jar:/databricks/jars/----workspace_spark_3_1--maven-trees--hive-2.3__hadoop-2.7--org.apache.commons--commons-math3--org.apache.commons__commons-math3__3.4.1.jar:/databricks/jars/----workspace_spark_3_1--maven-trees--hive-2.3__hadoop-2.7--org.apache.commons--commons-text--org.apache.commons__commons-text__1.6.jar:/databricks/jars/----workspace_spark_3_1--maven-trees--hive-2.3__hadoop-2.7--org.apache.curator--curator-client--org.apache.curator__curator-client__2.7.1.jar:/databricks/jars/----workspace_spark_3_1--maven-trees--hive-2.3__hadoop-2.7--org.apache.curator--curator-framework--org.apache.curator__curator-framework__2.7.1.jar:/databricks/jars/----workspace_spark_3_1--maven-trees--hive-2.3__hadoop-2.7--org.apache.curator--curator-recipes--org.apache.curator__curator-recipes__2.7.1.jar:/databricks/jars/----workspace_spark_3_1--maven-trees--hive-2.3__hadoop-2.7--org.apache.derby--derby--org.apache.derby__derby__10.12.1.1.jar:/databricks/jars/----workspace_spark_3_1--maven-trees--hive-2.3__hadoop-2.7--org.apache.directory.api--api-asn1-api--org.apache.directory.api__api-asn1-api__1.0.0-M20.jar:/databricks/jars/----workspace_spark_3_1--maven-trees--hive-2.3__hadoop-2.7--org.apache.directory.api--api-util--org.apache.directory.api__api-util__1.0.0-M20.jar:/databricks/jars/----workspace_spark_3_1--maven-trees--hive-2.3__hadoop-2.7--org.apache.directory.server--apacheds-i18n--org.apache.directory.server__apacheds-i18n__2.0.0-M15.jar:/databricks/jars/----workspace_spark_3_1--maven-trees--hive-2.3__hadoop-2.7--org.apache.directory.server--apacheds-kerberos-codec--org.apache.directory.server__apacheds-kerberos-codec__2.0.0-M15.jar:/databricks/jars/----workspace_spark_3_1--maven-trees--hive-2.3__hadoop-2.7--org.apache.hadoop--hadoop-annotations--org.apache.hadoop__hadoop-annotations__2.7.4.jar:/databricks/jars/----workspace_spark_3_1--maven-trees--hive-2.3__hadoop-2.7--org.apache.hadoop--hadoop-auth--org.apache.hadoop__hadoop-auth__2.7.4.jar:/databricks/jars/----workspace_spark_3_1--maven-trees--hive-2.3__hadoop-2.7--org.apache.hadoop--hadoop-client--org.apache.hadoop__hadoop-client__2.7.4.jar:/databricks/jars/----workspace_spark_3_1--maven-trees--hive-2.3__hadoop-2.7--org.apache.hadoop--hadoop-common--org.apache.hadoop__hadoop-common__2.7.4.jar:/databricks/jars/----workspace_spark_3_1--maven-trees--hive-2.3__hadoop-2.7--org.apache.hadoop--hadoop-hdfs--org.apache.hadoop__hadoop-hdfs__2.7.4.jar:/databricks/jars/----workspace_spark_3_1--maven-trees--hive-2.3__hadoop-2.7--org.apache.hadoop--hadoop-mapreduce-client-app--org.apache.hadoop__hadoop-mapreduce-client-app__2.7.4.jar:/databricks/jars/----workspace_spark_3_1--maven-trees--hive-2.3__hadoop-2.7--org.apache.hadoop--hadoop-mapreduce-client-common--org.apache.hadoop__hadoop-mapreduce-client-common__2.7.4.jar:/databricks/jars/----workspace_spark_3_1--maven-trees--hive-2.3__hadoop-2.7--org.apache.hadoop--hadoop-mapreduce-client-core--org.apache.hadoop__hadoop-mapreduce-client-core__2.7.4.jar:/databricks/jars/----workspace_spark_3_1--maven-trees--hive-2.3__hadoop-2.7--org.apache.hadoop--hadoop-mapreduce-client-jobclient--org.apache.hadoop__hadoop-mapreduce-client-jobclient__2.7.4.jar:/databricks/jars/----workspace_spark_3_1--maven-trees--hive-2.3__hadoop-2.7--org.apache.hadoop--hadoop-mapreduce-client-shuffle--org.apache.hadoop__hadoop-mapreduce-client-shuffle__2.7.4.jar:/databricks/jars/----workspace_spark_3_1--maven-trees--hive-2.3__hadoop-2.7--org.apache.hadoop--hadoop-yarn-api--org.apache.hadoop__hadoop-yarn-api__2.7.4.jar:/databricks/jars/----workspace_spark_3_1--maven-trees--hive-2.3__hadoop-2.7--org.apache.hadoop--hadoop-yarn-client--org.apache.hadoop__hadoop-yarn-client__2.7.4.jar:/databricks/jars/----workspace_spark_3_1--maven-trees--hive-2.3__hadoop-2.7--org.apache.hadoop--hadoop-yarn-common--org.apache.hadoop__hadoop-yarn-common__2.7.4.jar:/databricks/jars/----workspace_spark_3_1--maven-trees--hive-2.3__hadoop-2.7--org.apache.hadoop--hadoop-yarn-server-common--org.apache.hadoop__hadoop-yarn-server-common__2.7.4.jar:/databricks/jars/----workspace_spark_3_1--maven-trees--hive-2.3__hadoop-2.7--org.apache.hive--hive-beeline--org.apache.hive__hive-beeline__2.3.7.jar:/databricks/jars/----workspace_spark_3_1--maven-trees--hive-2.3__hadoop-2.7--org.apache.hive--hive-cli--org.apache.hive__hive-cli__2.3.7.jar:/databricks/jars/----workspace_spark_3_1--maven-trees--hive-2.3__hadoop-2.7--org.apache.hive--hive-common--org.apache.hive__hive-common__2.3.7.jar:/databricks/jars/----workspace_spark_3_1--maven-trees--hive-2.3__hadoop-2.7--org.apache.hive--hive-exec-core--org.apache.hive__hive-exec-core__2.3.7.jar:/databricks/jars/----workspace_spark_3_1--maven-trees--hive-2.3__hadoop-2.7--org.apache.hive--hive-jdbc--org.apache.hive__hive-jdbc__2.3.7.jar:/databricks/jars/----workspace_spark_3_1--maven-trees--hive-2.3__hadoop-2.7--org.apache.hive--hive-llap-client--org.apache.hive__hive-llap-client__2.3.7.jar:/databricks/jars/----workspace_spark_3_1--maven-trees--hive-2.3__hadoop-2.7--org.apache.hive--hive-llap-common--org.apache.hive__hive-llap-common__2.3.7.jar:/databricks/jars/----workspace_spark_3_1--maven-trees--hive-2.3__hadoop-2.7--org.apache.hive--hive-metastore--org.apache.hive__hive-metastore__2.3.7.jar:/databricks/jars/----workspace_spark_3_1--maven-trees--hive-2.3__hadoop-2.7--org.apache.hive--hive-serde--org.apache.hive__hive-serde__2.3.7.jar:/databricks/jars/----workspace_spark_3_1--maven-trees--hive-2.3__hadoop-2.7--org.apache.hive--hive-shims--org.apache.hive__hive-shims__2.3.7.jar:/databricks/jars/----workspace_spark_3_1--maven-trees--hive-2.3__hadoop-2.7--org.apache.hive--hive-storage-api--org.apache.hive__hive-storage-api__2.7.2.jar:/databricks/jars/----workspace_spark_3_1--maven-trees--hive-2.3__hadoop-2.7--org.apache.hive--hive-vector-code-gen--org.apache.hive__hive-vector-code-gen__2.3.7.jar:/databricks/jars/----workspace_spark_3_1--maven-trees--hive-2.3__hadoop-2.7--org.apache.hive.shims--hive-shims-0.23--org.apache.hive.shims__hive-shims-0.23__2.3.7.jar:/databricks/jars/----workspace_spark_3_1--maven-trees--hive-2.3__hadoop-2.7--org.apache.hive.shims--hive-shims-common--org.apache.hive.shims__hive-shims-common__2.3.7.jar:/databricks/jars/----workspace_spark_3_1--maven-trees--hive-2.3__hadoop-2.7--org.apache.hive.shims--hive-shims-scheduler--org.apache.hive.shims__hive-shims-scheduler__2.3.7.jar:/databricks/jars/----workspace_spark_3_1--maven-trees--hive-2.3__hadoop-2.7--org.apache.htrace--htrace-core--org.apache.htrace__htrace-core__3.1.0-incubating.jar:/databricks/jars/----workspace_spark_3_1--maven-trees--hive-2.3__hadoop-2.7--org.apache.httpcomponents--httpclient--org.apache.httpcomponents__httpclient__4.5.6.jar:/databricks/jars/----workspace_spark_3_1--maven-trees--hive-2.3__hadoop-2.7--org.apache.httpcomponents--httpcore--org.apache.httpcomponents__httpcore__4.4.12.jar:/databricks/jars/----workspace_spark_3_1--maven-trees--hive-2.3__hadoop-2.7--org.apache.ivy--ivy--org.apache.ivy__ivy__2.4.0.jar:/databricks/jars/----workspace_spark_3_1--maven-trees--hive-2.3__hadoop-2.7--org.apache.mesos--mesos-shaded-protobuf--org.apache.mesos__mesos-shaded-protobuf__1.4.0.jar:/databricks/jars/----workspace_spark_3_1--maven-trees--hive-2.3__hadoop-2.7--org.apache.orc--orc-core--org.apache.orc__orc-core__1.5.12.jar:/databricks/jars/----workspace_spark_3_1--maven-trees--hive-2.3__hadoop-2.7--org.apache.orc--orc-mapreduce--org.apache.orc__orc-mapreduce__1.5.12.jar:/databricks/jars/----workspace_spark_3_1--maven-trees--hive-2.3__hadoop-2.7--org.apache.orc--orc-shims--org.apache.orc__orc-shims__1.5.12.jar:/databricks/jars/----workspace_spark_3_1--maven-trees--hive-2.3__hadoop-2.7--org.apache.parquet--parquet-column--org.apache.parquet__parquet-column__1.10.1-databricks6.jar:/databricks/jars/----workspace_spark_3_1--maven-trees--hive-2.3__hadoop-2.7--org.apache.parquet--parquet-common--org.apache.parquet__parquet-common__1.10.1-databricks6.jar:/databricks/jars/----workspace_spark_3_1--maven-trees--hive-2.3__hadoop-2.7--org.apache.parquet--parquet-encoding--org.apache.parquet__parquet-encoding__1.10.1-databricks6.jar:/databricks/jars/----workspace_spark_3_1--maven-trees--hive-2.3__hadoop-2.7--org.apache.parquet--parquet-format--org.apache.parquet__parquet-format__2.4.0.jar:/databricks/jars/----workspace_spark_3_1--maven-trees--hive-2.3__hadoop-2.7--org.apache.parquet--parquet-hadoop--org.apache.parquet__parquet-hadoop__1.10.1-databricks6.jar:/databricks/jars/----workspace_spark_3_1--maven-trees--hive-2.3__hadoop-2.7--org.apache.parquet--parquet-jackson--org.apache.parquet__parquet-jackson__1.10.1-databricks6.jar:/databricks/jars/----workspace_spark_3_1--maven-trees--hive-2.3__hadoop-2.7--org.apache.thrift--libfb303--org.apache.thrift__libfb303__0.9.3.jar:/databricks/jars/----workspace_spark_3_1--maven-trees--hive-2.3__hadoop-2.7--org.apache.thrift--libthrift--org.apache.thrift__libthrift__0.12.0.jar:/databricks/jars/----workspace_spark_3_1--maven-trees--hive-2.3__hadoop-2.7--org.apache.velocity--velocity--org.apache.velocity__velocity__1.5.jar:/databricks/jars/----workspace_spark_3_1--maven-trees--hive-2.3__hadoop-2.7--org.apache.xbean--xbean-asm7-shaded--org.apache.xbean__xbean-asm7-shaded__4.15.jar:/databricks/jars/----workspace_spark_3_1--maven-trees--hive-2.3__hadoop-2.7--org.codehaus.jackson--jackson-core-asl--org.codehaus.jackson__jackson-core-asl__1.9.13.jar:/databricks/jars/----workspace_spark_3_1--maven-trees--hive-2.3__hadoop-2.7--org.codehaus.jackson--jackson-jaxrs--org.codehaus.jackson__jackson-jaxrs__1.9.13.jar:/databricks/jars/----workspace_spark_3_1--maven-trees--hive-2.3__hadoop-2.7--org.codehaus.jackson--jackson-mapper-asl--org.codehaus.jackson__jackson-mapper-asl__1.9.13.jar:/databricks/jars/----workspace_spark_3_1--maven-trees--hive-2.3__hadoop-2.7--org.codehaus.jackson--jackson-xc--org.codehaus.jackson__jackson-xc__1.9.13.jar:/databricks/jars/----workspace_spark_3_1--maven-trees--hive-2.3__hadoop-2.7--org.codehaus.janino--commons-compiler--org.codehaus.janino__commons-compiler__3.0.16.jar:/databricks/jars/----workspace_spark_3_1--maven-trees--hive-2.3__hadoop-2.7--org.codehaus.janino--janino--org.codehaus.janino__janino__3.0.16.jar:/databricks/jars/----workspace_spark_3_1--maven-trees--hive-2.3__hadoop-2.7--org.datanucleus--datanucleus-api-jdo--org.datanucleus__datanucleus-api-jdo__4.2.4.jar:/databricks/jars/----workspace_spark_3_1--maven-trees--hive-2.3__hadoop-2.7--org.datanucleus--datanucleus-core--org.datanucleus__datanucleus-core__4.1.17.jar:/databricks/jars/----workspace_spark_3_1--maven-trees--hive-2.3__hadoop-2.7--org.datanucleus--datanucleus-rdbms--org.datanucleus__datanucleus-rdbms__4.1.19.jar:/databricks/jars/----workspace_spark_3_1--maven-trees--hive-2.3__hadoop-2.7--org.datanucleus--javax.jdo--org.datanucleus__javax.jdo__3.2.0-m3.jar:/databricks\n*** WARNING: skipped 48296 bytes of output ***\n\n (&#39;spark.sql.hive.metastore.sharedPrefixes&#39;,\n  &#39;org.mariadb.jdbc,com.mysql.jdbc,org.postgresql,com.microsoft.sqlserver,microsoft.sql.DateTimeOffset,microsoft.sql.Types,com.databricks,com.codahale,com.fasterxml.jackson,shaded.databricks&#39;),\n (&#39;spark.databricks.io.directoryCommit.enableLogicalDelete&#39;, &#39;false&#39;),\n (&#39;spark.task.reaper.killTimeout&#39;, &#39;60s&#39;),\n (&#39;spark.r.numRBackendThreads&#39;, &#39;1&#39;),\n (&#39;spark.hadoop.fs.wasbs.impl.disable.cache&#39;, &#39;true&#39;),\n (&#39;spark.hadoop.parquet.block.size.row.check.min&#39;, &#39;10&#39;),\n (&#39;spark.hadoop.hive.server2.use.SSL&#39;, &#39;true&#39;),\n (&#39;spark.app.startTime&#39;, &#39;1620808120448&#39;),\n (&#39;spark.hadoop.fs.abfss.impl.disable.cache&#39;, &#39;true&#39;),\n (&#39;spark.databricks.clusterUsageTags.clusterOwnerUserId&#39;, &#39;4423055200237721&#39;),\n (&#39;spark.databricks.workspace.multipleResults.enabled&#39;, &#39;true&#39;),\n (&#39;spark.sql.hive.metastore.version&#39;, &#39;0.13.0&#39;),\n (&#39;spark.shuffle.service.port&#39;, &#39;4048&#39;),\n (&#39;spark.databricks.clusterUsageTags.instanceWorkerEnvNetworkType&#39;, &#39;default&#39;),\n (&#39;spark.databricks.acl.client&#39;,\n  &#39;com.databricks.spark.sql.acl.client.SparkSqlAclClient&#39;),\n (&#39;spark.databricks.clusterUsageTags.clusterAvailability&#39;, &#39;ON_DEMAND&#39;),\n (&#39;spark.hadoop.hive.warehouse.subdir.inherit.perms&#39;, &#39;false&#39;),\n (&#39;spark.streaming.driver.writeAheadLog.closeFileAfterWrite&#39;, &#39;true&#39;),\n (&#39;spark.databricks.clusterUsageTags.userProvidedRemoteVolumeSizeGb&#39;, &#39;0&#39;),\n (&#39;spark.hadoop.hive.server2.keystore.path&#39;,\n  &#39;/databricks/keys/jetty-ssl-driver-keystore.jks&#39;),\n (&#39;spark.databricks.credential.redactor&#39;,\n  &#39;com.databricks.logging.secrets.CredentialRedactorProxyImpl&#39;),\n (&#39;spark.databricks.clusterUsageTags.clusterOwnerOrgId&#39;, &#39;4873083117217351&#39;),\n (&#39;spark.databricks.clusterUsageTags.clusterPinned&#39;, &#39;false&#39;),\n (&#39;spark.databricks.acl.provider&#39;,\n  &#39;com.databricks.sql.acl.ReflectionBackedAclProvider&#39;),\n (&#39;spark.hadoop.fs.s3n.impl&#39;,\n  &#39;shaded.databricks.org.apache.hadoop.fs.s3a.S3AFileSystem&#39;),\n (&#39;spark.extraListeners&#39;,\n  &#39;com.databricks.backend.daemon.driver.DBCEventLoggingListener&#39;),\n (&#39;spark.databricks.clusterUsageTags.enableElasticDisk&#39;, &#39;false&#39;),\n (&#39;spark.hadoop.spark.databricks.io.parquet.verifyChecksumOnWrite.enabled&#39;,\n  &#39;false&#39;),\n (&#39;spark.sql.parquet.cacheMetadata&#39;, &#39;true&#39;),\n (&#39;spark.databricks.clusterUsageTags.numPerGlobalInitScriptsV2&#39;, &#39;0&#39;),\n (&#39;spark.hadoop.fs.adl.impl&#39;, &#39;com.databricks.adl.AdlFileSystem&#39;),\n (&#39;spark.databricks.clusterUsageTags.clusterNodeType&#39;, &#39;dev-tier-node&#39;),\n (&#39;spark.hadoop.fs.cpfs-abfss.impl.disable.cache&#39;, &#39;true&#39;),\n (&#39;spark.databricks.clusterUsageTags.driverInstanceId&#39;, &#39;i-07b666e6b82863aff&#39;),\n (&#39;spark.databricks.clusterUsageTags.enableLocalDiskEncryption&#39;, &#39;false&#39;),\n (&#39;spark.databricks.tahoe.logStore.class&#39;,\n  &#39;com.databricks.tahoe.store.DelegatingLogStore&#39;),\n (&#39;libraryDownload.sleepIntervalSeconds&#39;, &#39;5&#39;),\n (&#39;spark.databricks.cloudProvider&#39;, &#39;AWS&#39;),\n (&#39;spark.sql.hive.convertMetastoreParquet&#39;, &#39;true&#39;),\n (&#39;spark.executor.id&#39;, &#39;driver&#39;),\n (&#39;spark.databricks.passthrough.adls.tokenProviderClassName&#39;,\n  &#39;com.databricks.backend.daemon.data.client.adl.AdlCredentialContextTokenProvider&#39;),\n (&#39;spark.app.name&#39;, &#39;Databricks Shell&#39;),\n (&#39;spark.driver.allowMultipleContexts&#39;, &#39;false&#39;),\n (&#39;spark.databricks.clusterUsageTags.workerEnvironmentId&#39;,\n  &#39;default-worker-env&#39;),\n (&#39;spark.databricks.service.dbutils.server.backend&#39;,\n  &#39;com.databricks.dbconnect.SparkServerDBUtils&#39;),\n (&#39;spark.rdd.compress&#39;, &#39;true&#39;),\n (&#39;spark.databricks.clusterUsageTags.driverContainerId&#39;,\n  &#39;4e3d35034fcf44828b49c27b09b02cec&#39;),\n (&#39;spark.databricks.repl.enableClassFileCleanup&#39;, &#39;true&#39;),\n (&#39;spark.databricks.eventLog.dir&#39;, &#39;eventlogs&#39;),\n (&#39;spark.databricks.driverNfs.pathSuffix&#39;, &#39;.ephemeral_nfs&#39;),\n (&#39;spark.sql.catalogImplementation&#39;, &#39;hive&#39;),\n (&#39;spark.databricks.clusterUsageTags.clusterCreator&#39;, &#39;Webapp&#39;),\n (&#39;spark.speculation&#39;, &#39;false&#39;),\n (&#39;spark.hadoop.fs.s3a.multipart.size&#39;, &#39;10485760&#39;),\n (&#39;spark.databricks.clusterUsageTags.cloudProvider&#39;, &#39;AWS&#39;),\n (&#39;spark.hadoop.databricks.dbfs.client.version&#39;, &#39;v1&#39;),\n (&#39;spark.hadoop.hive.server2.session.check.interval&#39;, &#39;60000&#39;),\n (&#39;spark.sql.hive.convertCTAS&#39;, &#39;true&#39;),\n (&#39;spark.metrics.conf&#39;, &#39;/databricks/spark/conf/metrics.properties&#39;),\n (&#39;spark.hadoop.spark.sql.parquet.output.committer.class&#39;,\n  &#39;org.apache.spark.sql.parquet.DirectParquetOutputCommitter&#39;),\n (&#39;spark.databricks.clusterUsageTags.driverContainerPrivateIp&#39;,\n  &#39;10.172.232.88&#39;),\n (&#39;spark.hadoop.fs.gs.impl&#39;,\n  &#39;shaded.databricks.V2_1_4.com.google.cloud.hadoop.fs.gcs.GoogleHadoopFileSystem&#39;),\n (&#39;spark.hadoop.fs.s3a.fast.upload.default&#39;, &#39;true&#39;),\n (&#39;spark.akka.frameSize&#39;, &#39;256&#39;),\n (&#39;spark.hadoop.fs.s3a.fast.upload&#39;, &#39;true&#39;),\n (&#39;spark.databricks.clusterUsageTags.clusterGeneration&#39;, &#39;0&#39;),\n (&#39;spark.hadoop.fs.abfs.impl.disable.cache&#39;, &#39;true&#39;),\n (&#39;spark.hadoop.fs.wasbs.impl&#39;,\n  &#39;shaded.databricks.org.apache.hadoop.fs.azure.NativeAzureFileSystem&#39;),\n (&#39;spark.sql.streaming.stopTimeout&#39;, &#39;15s&#39;),\n (&#39;spark.hadoop.hive.server2.keystore.password&#39;, &#39;[REDACTED]&#39;),\n (&#39;spark.speculation.multiplier&#39;, &#39;3&#39;),\n (&#39;spark.databricks.clusterUsageTags.clusterId&#39;, &#39;0512-082740-newt96&#39;),\n (&#39;spark.storage.blockManagerTimeoutIntervalMs&#39;, &#39;300000&#39;),\n (&#39;spark.databricks.overrideDefaultCommitProtocol&#39;,\n  &#39;org.apache.spark.sql.execution.datasources.SQLHadoopMapReduceCommitProtocol&#39;),\n (&#39;spark.databricks.clusterUsageTags.clusterNoDriverDaemon&#39;, &#39;false&#39;),\n (&#39;spark.databricks.clusterUsageTags.instanceWorkerEnvId&#39;,\n  &#39;default-worker-env&#39;),\n (&#39;libraryDownload.timeoutSeconds&#39;, &#39;180&#39;),\n (&#39;spark.hadoop.parquet.memory.pool.ratio&#39;, &#39;0.5&#39;),\n (&#39;spark.sparkr.use.daemon&#39;, &#39;false&#39;),\n (&#39;spark.scheduler.listenerbus.eventqueue.capacity&#39;, &#39;20000&#39;),\n (&#39;spark.databricks.clusterUsageTags.clusterScalingType&#39;, &#39;fixed_size&#39;),\n (&#39;spark.databricks.clusterUsageTags.clusterStateMessage&#39;, &#39;Starting Spark&#39;),\n (&#39;spark.sql.hive.metastore.jars&#39;, &#39;/databricks/hive/*&#39;),\n (&#39;spark.databricks.passthrough.adls.gen2.tokenProviderClassName&#39;,\n  &#39;com.databricks.backend.daemon.data.client.adl.AdlGen2CredentialContextTokenProvider&#39;),\n (&#39;spark.hadoop.parquet.page.write-checksum.enabled&#39;, &#39;true&#39;),\n (&#39;spark.hadoop.databricks.s3commit.client.sslTrustAll&#39;, &#39;false&#39;),\n (&#39;spark.hadoop.fs.s3a.threads.max&#39;, &#39;136&#39;),\n (&#39;spark.databricks.clusterUsageTags.driverInstancePrivateIp&#39;,\n  &#39;10.172.241.28&#39;),\n (&#39;spark.r.backendConnectionTimeout&#39;, &#39;604800&#39;),\n (&#39;spark.databricks.tahoe.logStore.gcp.class&#39;,\n  &#39;com.databricks.tahoe.store.GCPLogStore&#39;),\n (&#39;spark.serializer.objectStreamReset&#39;, &#39;100&#39;),\n (&#39;spark.sql.sources.commitProtocolClass&#39;,\n  &#39;com.databricks.sql.transaction.directory.DirectoryAtomicCommitProtocol&#39;),\n (&#39;spark.hadoop.fs.abfss.impl&#39;,\n  &#39;shaded.databricks.azurebfs.org.apache.hadoop.fs.azurebfs.SecureAzureBlobFileSystem&#39;),\n (&#39;spark.hadoop.hive.server2.idle.session.timeout&#39;, &#39;900000&#39;),\n (&#39;spark.databricks.redactor&#39;,\n  &#39;com.databricks.spark.util.DatabricksSparkLogRedactorProxy&#39;),\n (&#39;spark.databricks.clusterUsageTags.autoTerminationMinutes&#39;, &#39;120&#39;),\n (&#39;spark.driver.host&#39;, &#39;10.172.232.88&#39;),\n (&#39;spark.databricks.clusterUsageTags.clusterPythonVersion&#39;, &#39;3&#39;),\n (&#39;spark.hadoop.fs.s3a.impl&#39;,\n  &#39;shaded.databricks.org.apache.hadoop.fs.s3a.S3AFileSystem&#39;),\n (&#39;spark.r.sql.derby.temp.dir&#39;, &#39;/tmp/RtmpnrvDCd&#39;),\n (&#39;spark.databricks.clusterUsageTags.enableDfAcls&#39;, &#39;false&#39;),\n (&#39;spark.databricks.clusterUsageTags.userProvidedRemoteVolumeCount&#39;, &#39;0&#39;),\n (&#39;spark.shuffle.service.enabled&#39;, &#39;true&#39;),\n (&#39;spark.hadoop.fs.cpfs-s3.impl&#39;,\n  &#39;com.databricks.sql.acl.fs.CredentialPassthroughFileSystem&#39;),\n (&#39;spark.databricks.clusterUsageTags.clusterName&#39;, &#39;project&#39;),\n (&#39;spark.hadoop.parquet.page.verify-checksum.enabled&#39;, &#39;true&#39;),\n (&#39;spark.hadoop.fs.s3a.multipart.threshold&#39;, &#39;104857600&#39;),\n (&#39;spark.databricks.clusterUsageTags.dataPlaneRegion&#39;, &#39;us-west-2&#39;),\n (&#39;spark.rpc.message.maxSize&#39;, &#39;256&#39;),\n (&#39;spark.logConf&#39;, &#39;true&#39;),\n (&#39;spark.databricks.clusterUsageTags.enableJobsAutostart&#39;, &#39;true&#39;),\n (&#39;spark.databricks.driverNfs.enabled&#39;, &#39;true&#39;),\n (&#39;spark.databricks.clusterUsageTags.clusterMetastoreAccessType&#39;,\n  &#39;RDS_DIRECT&#39;),\n (&#39;spark.hadoop.hive.server2.enable.doAs&#39;, &#39;false&#39;),\n (&#39;eventLog.rolloverIntervalSeconds&#39;, &#39;3600&#39;),\n (&#39;spark.databricks.clusterUsageTags.ngrokNpipEnabled&#39;, &#39;false&#39;),\n (&#39;spark.databricks.clusterUsageTags.instanceProfileUsed&#39;, &#39;false&#39;),\n (&#39;spark.shuffle.memoryFraction&#39;, &#39;0.2&#39;),\n (&#39;spark.databricks.clusterUsageTags.clusterAllTags&#39;,\n  &#39;[{&#34;key&#34;:&#34;Name&#34;,&#34;value&#34;:&#34;ce-worker&#34;}]&#39;),\n (&#39;spark.hadoop.fs.abfs.impl&#39;,\n  &#39;shaded.databricks.azurebfs.org.apache.hadoop.fs.azurebfs.AzureBlobFileSystem&#39;),\n (&#39;spark.databricks.clusterUsageTags.containerZoneId&#39;, &#39;us-west-2c&#39;),\n (&#39;spark.hadoop.fs.cpfs-s3a.impl&#39;,\n  &#39;com.databricks.sql.acl.fs.CredentialPassthroughFileSystem&#39;),\n (&#39;spark.databricks.acl.scim.client&#39;,\n  &#39;com.databricks.spark.sql.acl.client.DriverToWebappScimClient&#39;),\n (&#39;spark.databricks.clusterUsageTags.region&#39;, &#39;us-west-2&#39;),\n (&#39;spark.databricks.clusterUsageTags.clusterSpotBidPricePercent&#39;, &#39;100&#39;)]</div>",
       "datasetInfos": [],
       "metadata": {},
       "removedWidgets": [],
       "type": "html"
      }
     },
     "output_type": "display_data"
    }
   ],
   "source": [
    "spark\n",
    "sc._conf.getAll()"
   ]
  },
  {
   "cell_type": "markdown",
   "metadata": {
    "application/vnd.databricks.v1+cell": {
     "inputWidgets": {},
     "nuid": "5fa4db3f-381f-4c4b-9c38-6186566240cd",
     "showTitle": false,
     "title": ""
    }
   },
   "source": [
    "## Upload Dataset"
   ]
  },
  {
   "cell_type": "code",
   "execution_count": 0,
   "metadata": {
    "application/vnd.databricks.v1+cell": {
     "inputWidgets": {},
     "nuid": "c34b20f6-0e86-4196-9d19-c91888513424",
     "showTitle": false,
     "title": ""
    }
   },
   "outputs": [
    {
     "data": {
      "text/html": [
       "<style scoped>\n",
       "  .ansiout {\n",
       "    display: block;\n",
       "    unicode-bidi: embed;\n",
       "    white-space: pre-wrap;\n",
       "    word-wrap: break-word;\n",
       "    word-break: break-all;\n",
       "    font-family: \"Source Code Pro\", \"Menlo\", monospace;;\n",
       "    font-size: 13px;\n",
       "    color: #555;\n",
       "    margin-left: 4px;\n",
       "    line-height: 19px;\n",
       "  }\n",
       "</style>\n",
       "<div class=\"ansiout\"></div>"
      ]
     },
     "metadata": {
      "application/vnd.databricks.v1+output": {
       "addedWidgets": {},
       "arguments": {},
       "data": "<div class=\"ansiout\"></div>",
       "datasetInfos": [],
       "metadata": {},
       "removedWidgets": [],
       "type": "html"
      }
     },
     "output_type": "display_data"
    }
   ],
   "source": [
    "bot_df = spark.read.format(\"csv\").load(\"dbfs:/FileStore/shared_uploads/tavoulari.1977701@studenti.uniroma1.it/twitter_human_bots_dataset_clean-2.csv\", header='true')"
   ]
  },
  {
   "cell_type": "markdown",
   "metadata": {
    "application/vnd.databricks.v1+cell": {
     "inputWidgets": {},
     "nuid": "d626bef5-ec05-43b6-ba43-6ca2196ab530",
     "showTitle": false,
     "title": ""
    }
   },
   "source": [
    "## Convert numbers stored as text to numbers"
   ]
  },
  {
   "cell_type": "code",
   "execution_count": 0,
   "metadata": {
    "application/vnd.databricks.v1+cell": {
     "inputWidgets": {},
     "nuid": "1475f6e9-3638-4a06-bb64-ac9bd6388d00",
     "showTitle": false,
     "title": ""
    }
   },
   "outputs": [
    {
     "data": {
      "text/html": [
       "<style scoped>\n",
       "  .ansiout {\n",
       "    display: block;\n",
       "    unicode-bidi: embed;\n",
       "    white-space: pre-wrap;\n",
       "    word-wrap: break-word;\n",
       "    word-break: break-all;\n",
       "    font-family: \"Source Code Pro\", \"Menlo\", monospace;;\n",
       "    font-size: 13px;\n",
       "    color: #555;\n",
       "    margin-left: 4px;\n",
       "    line-height: 19px;\n",
       "  }\n",
       "</style>\n",
       "<div class=\"ansiout\">root\n",
       "-- account_type: string (nullable = true)\n",
       "-- follower_count: integer (nullable = true)\n",
       "-- friends_count: integer (nullable = true)\n",
       "-- listed_count: integer (nullable = true)\n",
       "-- statuses_count: integer (nullable = true)\n",
       "-- retweets: float (nullable = true)\n",
       "-- with_url: float (nullable = true)\n",
       "-- with_mention: float (nullable = true)\n",
       "-- geo_enabled: integer (nullable = true)\n",
       "-- verified: integer (nullable = true)\n",
       "-- has_extended_profile: integer (nullable = true)\n",
       "-- default_profile: integer (nullable = true)\n",
       "-- default_profile_image: integer (nullable = true)\n",
       "-- created_at: integer (nullable = true)\n",
       "\n",
       "+------------+--------------+-------------+------------+--------------+----------+-----------+------------+-----------+--------+--------------------+---------------+---------------------+----------+\n",
       "account_type|follower_count|friends_count|listed_count|statuses_count|  retweets|   with_url|with_mention|geo_enabled|verified|has_extended_profile|default_profile|default_profile_image|created_at|\n",
       "+------------+--------------+-------------+------------+--------------+----------+-----------+------------+-----------+--------+--------------------+---------------+---------------------+----------+\n",
       "         bot|          1701|            4|          53|         13123|       0.0|        0.0|         0.0|          0|       0|                   0|              0|                    0|      1670|\n",
       "       human|           823|          852|           5|           251|0.34108528| 0.33333334|   0.4031008|          0|       0|                   1|              0|                    0|      1645|\n",
       "       human|           193|          807|           2|          1204|0.15384616| 0.23846154|         0.3|          1|       0|                   0|              0|                    0|      1425|\n",
       "       human|           569|          659|           2|          1651|0.63076925|0.092307694|   0.9692308|          1|       0|                   0|              1|                    0|      1756|\n",
       "       human|        748287|          118|        1817|          4292|0.23255815| 0.20930232|   0.8062016|          1|       1|                   0|              0|                    0|      3405|\n",
       "+------------+--------------+-------------+------------+--------------+----------+-----------+------------+-----------+--------+--------------------+---------------+---------------------+----------+\n",
       "only showing top 5 rows\n",
       "\n",
       "</div>"
      ]
     },
     "metadata": {
      "application/vnd.databricks.v1+output": {
       "addedWidgets": {},
       "arguments": {},
       "data": "<div class=\"ansiout\">root\n |-- account_type: string (nullable = true)\n |-- follower_count: integer (nullable = true)\n |-- friends_count: integer (nullable = true)\n |-- listed_count: integer (nullable = true)\n |-- statuses_count: integer (nullable = true)\n |-- retweets: float (nullable = true)\n |-- with_url: float (nullable = true)\n |-- with_mention: float (nullable = true)\n |-- geo_enabled: integer (nullable = true)\n |-- verified: integer (nullable = true)\n |-- has_extended_profile: integer (nullable = true)\n |-- default_profile: integer (nullable = true)\n |-- default_profile_image: integer (nullable = true)\n |-- created_at: integer (nullable = true)\n\n+------------+--------------+-------------+------------+--------------+----------+-----------+------------+-----------+--------+--------------------+---------------+---------------------+----------+\n|account_type|follower_count|friends_count|listed_count|statuses_count|  retweets|   with_url|with_mention|geo_enabled|verified|has_extended_profile|default_profile|default_profile_image|created_at|\n+------------+--------------+-------------+------------+--------------+----------+-----------+------------+-----------+--------+--------------------+---------------+---------------------+----------+\n|         bot|          1701|            4|          53|         13123|       0.0|        0.0|         0.0|          0|       0|                   0|              0|                    0|      1670|\n|       human|           823|          852|           5|           251|0.34108528| 0.33333334|   0.4031008|          0|       0|                   1|              0|                    0|      1645|\n|       human|           193|          807|           2|          1204|0.15384616| 0.23846154|         0.3|          1|       0|                   0|              0|                    0|      1425|\n|       human|           569|          659|           2|          1651|0.63076925|0.092307694|   0.9692308|          1|       0|                   0|              1|                    0|      1756|\n|       human|        748287|          118|        1817|          4292|0.23255815| 0.20930232|   0.8062016|          1|       1|                   0|              0|                    0|      3405|\n+------------+--------------+-------------+------------+--------------+----------+-----------+------------+-----------+--------+--------------------+---------------+---------------------+----------+\nonly showing top 5 rows\n\n</div>",
       "datasetInfos": [],
       "metadata": {},
       "removedWidgets": [],
       "type": "html"
      }
     },
     "output_type": "display_data"
    }
   ],
   "source": [
    "temp_df = bot_df\n",
    "bot_df = bot_df.withColumn(\"geo_enabled\", when(bot_df.geo_enabled == \"False\",0) \\\n",
    "                           .when(bot_df.geo_enabled == \"True\",1))\n",
    "bot_df = bot_df.withColumn(\"verified\", when(bot_df.verified == \"False\",0) \\\n",
    "                           .when(bot_df.verified == \"True\",1))\n",
    "bot_df = bot_df.withColumn(\"has_extended_profile\", when(bot_df.has_extended_profile == \"False\",0) \\\n",
    "                           .when(bot_df.has_extended_profile == \"True\",1))\n",
    "bot_df = bot_df.withColumn(\"default_profile\", when(bot_df.default_profile == \"False\",0) \\\n",
    "                           .when(bot_df.default_profile == \"True\",1))\n",
    "bot_df = bot_df.withColumn(\"default_profile_image\", when(bot_df.default_profile_image == \"False\",0) \\\n",
    "                           .when(bot_df.default_profile_image == \"True\",1))\n",
    "#bot_df = bot_df.withColumn(\"account_type\", when(bot_df.account_type == \"human\",0) \\\n",
    "                           #.when(bot_df.account_type == \"bot\",1))\n",
    "\n",
    "# Subtract profiles' creation dates from current date\n",
    "def to_days(then):\n",
    "  now = datetime.datetime.now()\n",
    "  date_time_obj = datetime.datetime.strptime(then, '%Y-%m-%d %H:%M:%S').date()\n",
    "  diff =(now.date() - date_time_obj)\n",
    "  diff = str(diff).split(' ')\n",
    "  bot_pdf[\"created_at\"][i] = int(diff[0])\n",
    "  return int(diff[0])\n",
    "\n",
    "to_days_UDF = spark.udf.register(\"to_days\",to_days)\n",
    "bot_df = bot_df.withColumn(\"created_at\", to_days_UDF(col(\"created_at\")))\n",
    "\n",
    "bot_df = bot_df.selectExpr(\"account_type\",\"cast(follower_count as int) follower_count\",\"cast(friends_count as int) friends_count\",\"cast(listed_count as int) listed_count\",\"cast(statuses_count as int) statuses_count\",\"cast(retweets as float) retweets\",\"cast(with_url as float) with_url\",\"cast(with_mention as float) with_mention\",\"geo_enabled\", \"verified\", \"has_extended_profile\", \"default_profile\", \"default_profile_image\",\"cast(created_at as int) created_at\")\n",
    "\n",
    "bot_df_text = temp_df.selectExpr(\"screen_name\", \"description\", \"tweet_text\")\n",
    "bot_df.printSchema()\n",
    "bot_df.show(5)\n"
   ]
  },
  {
   "cell_type": "markdown",
   "metadata": {
    "application/vnd.databricks.v1+cell": {
     "inputWidgets": {},
     "nuid": "d94ee7b4-71bf-4f18-b924-095e9ec12f60",
     "showTitle": false,
     "title": ""
    }
   },
   "source": [
    "## Split features into categories"
   ]
  },
  {
   "cell_type": "code",
   "execution_count": 0,
   "metadata": {
    "application/vnd.databricks.v1+cell": {
     "inputWidgets": {},
     "nuid": "a93c1599-eaff-43e9-a4d7-db1b20245d0d",
     "showTitle": false,
     "title": ""
    }
   },
   "outputs": [
    {
     "data": {
      "text/html": [
       "<style scoped>\n",
       "  .ansiout {\n",
       "    display: block;\n",
       "    unicode-bidi: embed;\n",
       "    white-space: pre-wrap;\n",
       "    word-wrap: break-word;\n",
       "    word-break: break-all;\n",
       "    font-family: \"Source Code Pro\", \"Menlo\", monospace;;\n",
       "    font-size: 13px;\n",
       "    color: #555;\n",
       "    margin-left: 4px;\n",
       "    line-height: 19px;\n",
       "  }\n",
       "</style>\n",
       "<div class=\"ansiout\"></div>"
      ]
     },
     "metadata": {
      "application/vnd.databricks.v1+output": {
       "addedWidgets": {},
       "arguments": {},
       "data": "<div class=\"ansiout\"></div>",
       "datasetInfos": [],
       "metadata": {},
       "removedWidgets": [],
       "type": "html"
      }
     },
     "output_type": "display_data"
    }
   ],
   "source": [
    "# Let's define some constants which we will use throughout this notebook\n",
    "NUMERICAL_FEATURES = [\"geo_enabled\", \n",
    "                      \"verified\", \n",
    "                      \"follower_count\", \n",
    "                      \"friends_count\",\n",
    "                      \"listed_count\",\n",
    "                      \"statuses_count\",\n",
    "                      \"retweets\",\n",
    "                      \"with_url\",\n",
    "                      \"with_mention\",\n",
    "                      \"has_extended_profile\",\n",
    "                      \"default_profile\",\n",
    "                      \"default_profile_image\",\n",
    "                      \"created_at\"\n",
    "                      ]\n",
    "\n",
    "TEXTUAL_FEATURES =  [\"screen_name\",\n",
    "                     \"description\",\n",
    "                     \"tweet_text\"\n",
    "                     ]\n",
    "\n",
    "TARGET_VARIABLE = \"account_type\""
   ]
  },
  {
   "cell_type": "code",
   "execution_count": 0,
   "metadata": {
    "application/vnd.databricks.v1+cell": {
     "inputWidgets": {},
     "nuid": "ea0e63e9-2aeb-46c4-addd-dac61dbe6c7b",
     "showTitle": false,
     "title": ""
    }
   },
   "outputs": [
    {
     "data": {
      "text/html": [
       "<style scoped>\n",
       "  .ansiout {\n",
       "    display: block;\n",
       "    unicode-bidi: embed;\n",
       "    white-space: pre-wrap;\n",
       "    word-wrap: break-word;\n",
       "    word-break: break-all;\n",
       "    font-family: \"Source Code Pro\", \"Menlo\", monospace;;\n",
       "    font-size: 13px;\n",
       "    color: #555;\n",
       "    margin-left: 4px;\n",
       "    line-height: 19px;\n",
       "  }\n",
       "</style>\n",
       "<div class=\"ansiout\">+------------+-----+\n",
       "account_type|count|\n",
       "+------------+-----+\n",
       "       human|18935|\n",
       "         bot| 5260|\n",
       "+------------+-----+\n",
       "\n",
       "</div>"
      ]
     },
     "metadata": {
      "application/vnd.databricks.v1+output": {
       "addedWidgets": {},
       "arguments": {},
       "data": "<div class=\"ansiout\">+------------+-----+\n|account_type|count|\n+------------+-----+\n|       human|18935|\n|         bot| 5260|\n+------------+-----+\n\n</div>",
       "datasetInfos": [],
       "metadata": {},
       "removedWidgets": [],
       "type": "html"
      }
     },
     "output_type": "display_data"
    }
   ],
   "source": [
    "RANDOM_SEED = 42 # for reproducibility\n",
    "bot_df.groupBy(TARGET_VARIABLE).count().show()\n",
    "train_df, test_df = bot_df.randomSplit([0.8, 0.2], seed=RANDOM_SEED)"
   ]
  },
  {
   "cell_type": "markdown",
   "metadata": {
    "application/vnd.databricks.v1+cell": {
     "inputWidgets": {},
     "nuid": "ee9bc9da-c666-4b68-bd8b-956dd0fbe8de",
     "showTitle": false,
     "title": ""
    }
   },
   "source": [
    "## Vectorize features"
   ]
  },
  {
   "cell_type": "code",
   "execution_count": 0,
   "metadata": {
    "application/vnd.databricks.v1+cell": {
     "inputWidgets": {},
     "nuid": "2f34feae-c731-42bc-a2b0-92d28f8c3e36",
     "showTitle": false,
     "title": ""
    }
   },
   "outputs": [
    {
     "data": {
      "text/html": [
       "<style scoped>\n",
       "  .ansiout {\n",
       "    display: block;\n",
       "    unicode-bidi: embed;\n",
       "    white-space: pre-wrap;\n",
       "    word-wrap: break-word;\n",
       "    word-break: break-all;\n",
       "    font-family: \"Source Code Pro\", \"Menlo\", monospace;;\n",
       "    font-size: 13px;\n",
       "    color: #555;\n",
       "    margin-left: 4px;\n",
       "    line-height: 19px;\n",
       "  }\n",
       "</style>\n",
       "<div class=\"ansiout\"></div>"
      ]
     },
     "metadata": {
      "application/vnd.databricks.v1+output": {
       "addedWidgets": {},
       "arguments": {},
       "data": "<div class=\"ansiout\"></div>",
       "datasetInfos": [],
       "metadata": {},
       "removedWidgets": [],
       "type": "html"
      }
     },
     "output_type": "display_data"
    }
   ],
   "source": [
    "def to_numerical(df, numerical_features, target_variable):\n",
    "\n",
    "    \"\"\"\n",
    "    Args:\n",
    "        - df: the input dataframe\n",
    "        - numerical_features: the list of column names in `df` corresponding to numerical features\n",
    "        - target_variable: the column name in `df` corresponding to the target variable\n",
    "\n",
    "    Return:\n",
    "        - transformer: the pipeline of transformation fit to `df` (for future usage)\n",
    "        - df_transformed: the dataframe transformed according to the pipeline\n",
    "    \"\"\"\n",
    "    \n",
    "    # 1. Indexing the target column (i.e., transform it into 0/1) and rename it as \"label\"\n",
    "    # Note that by default StringIndexer will assign the value `0` to the most frequent label, which in the case of `deposit` is `no`\n",
    "    # As such, this nicely resembles the idea of having `deposit = 0` if no deposit is subscribed, or `deposit = 1` otherwise.\n",
    "    label_indexer = StringIndexer(inputCol = target_variable, outputCol = \"label\")\n",
    "    \n",
    "    # 2. Assemble all the features into a single vector\n",
    "    assembler = VectorAssembler(inputCols=numerical_features, outputCol=\"features\")\n",
    "\n",
    "    # 3. Populate the stages of the pipeline\n",
    "    stages = [label_indexer] + [assembler]\n",
    "\n",
    "    # 4. Setup the pipeline with the stages above\n",
    "    pipeline = Pipeline(stages=stages)\n",
    "\n",
    "    # 5. Transform the input dataframe accordingly\n",
    "    transformer = pipeline.fit(df)\n",
    "    df_transformed = transformer.transform(df)\n",
    "\n",
    "    # 6. Eventually, return both the transformed dataframe and the transformer object for future transformations\n",
    "    return transformer, df_transformed"
   ]
  },
  {
   "cell_type": "code",
   "execution_count": 0,
   "metadata": {
    "application/vnd.databricks.v1+cell": {
     "inputWidgets": {},
     "nuid": "b1d6ab10-6803-4aef-8021-0aa8157d9e56",
     "showTitle": false,
     "title": ""
    }
   },
   "outputs": [
    {
     "data": {
      "text/html": [
       "<style scoped>\n",
       "  .ansiout {\n",
       "    display: block;\n",
       "    unicode-bidi: embed;\n",
       "    white-space: pre-wrap;\n",
       "    word-wrap: break-word;\n",
       "    word-break: break-all;\n",
       "    font-family: \"Source Code Pro\", \"Menlo\", monospace;;\n",
       "    font-size: 13px;\n",
       "    color: #555;\n",
       "    margin-left: 4px;\n",
       "    line-height: 19px;\n",
       "  }\n",
       "</style>\n",
       "<div class=\"ansiout\"></div>"
      ]
     },
     "metadata": {
      "application/vnd.databricks.v1+output": {
       "addedWidgets": {},
       "arguments": {},
       "data": "<div class=\"ansiout\"></div>",
       "datasetInfos": [],
       "metadata": {},
       "removedWidgets": [],
       "type": "html"
      }
     },
     "output_type": "display_data"
    }
   ],
   "source": [
    "oh_transformer, oh_train_df = to_numerical(train_df, NUMERICAL_FEATURES, TARGET_VARIABLE)"
   ]
  },
  {
   "cell_type": "code",
   "execution_count": 0,
   "metadata": {
    "application/vnd.databricks.v1+cell": {
     "inputWidgets": {},
     "nuid": "9ac52d6a-ad44-464c-ac93-aa628371595c",
     "showTitle": false,
     "title": ""
    }
   },
   "outputs": [
    {
     "data": {
      "text/html": [
       "<style scoped>\n",
       "  .ansiout {\n",
       "    display: block;\n",
       "    unicode-bidi: embed;\n",
       "    white-space: pre-wrap;\n",
       "    word-wrap: break-word;\n",
       "    word-break: break-all;\n",
       "    font-family: \"Source Code Pro\", \"Menlo\", monospace;;\n",
       "    font-size: 13px;\n",
       "    color: #555;\n",
       "    margin-left: 4px;\n",
       "    line-height: 19px;\n",
       "  }\n",
       "</style>\n",
       "<div class=\"ansiout\">+------------+--------------+-------------+------------+--------------+----------+----------+------------+-----------+--------+--------------------+---------------+---------------------+----------+-----+--------------------+\n",
       "account_type|follower_count|friends_count|listed_count|statuses_count|  retweets|  with_url|with_mention|geo_enabled|verified|has_extended_profile|default_profile|default_profile_image|created_at|label|            features|\n",
       "+------------+--------------+-------------+------------+--------------+----------+----------+------------+-----------+--------+--------------------+---------------+---------------------+----------+-----+--------------------+\n",
       "         bot|             0|            0|           0|            18| 0.7222222|0.22222222|   0.6666667|          0|       0|                   0|              1|                    0|      3087|  1.0|(13,[5,6,7,8,10,1...|\n",
       "         bot|             0|            0|           0|            34| 0.8064516|0.38709676|   0.7741935|          0|       0|                   0|              1|                    1|      3692|  1.0|(13,[5,6,7,8,10,1...|\n",
       "         bot|             0|            0|           1|           224| 0.9655172|0.57758623|   0.9396552|          0|       0|                   0|              1|                    0|      1409|  1.0|(13,[4,5,6,7,8,10...|\n",
       "         bot|             0|            2|           0|            59|       0.0|       1.0|         1.0|          0|       0|                   0|              1|                    1|       872|  1.0|(13,[3,5,7,8,10,1...|\n",
       "         bot|             0|            9|           0|             6|       0.0|       0.0|   0.6666667|          0|       0|                   1|              0|                    0|       899|  1.0|(13,[3,5,8,9,12],...|\n",
       "         bot|             0|           26|           0|            51| 0.1632653|0.71428573|  0.24489796|          0|       0|                   0|              1|                    0|      3013|  1.0|(13,[3,5,6,7,8,10...|\n",
       "         bot|             1|            0|           0|            15| 0.6923077|0.15384616|   0.6923077|          0|       0|                   0|              1|                    0|      2492|  1.0|(13,[2,5,6,7,8,10...|\n",
       "         bot|             1|            0|           0|            16|0.53333336|0.33333334|  0.46666667|          0|       0|                   0|              1|                    0|      2947|  1.0|(13,[2,5,6,7,8,10...|\n",
       "         bot|             1|            0|           0|            25| 0.6363636|0.22727273|   0.6363636|          0|       0|                   0|              1|                    0|      2486|  1.0|(13,[2,5,6,7,8,10...|\n",
       "         bot|             1|            0|           0|            25|      0.72|      0.16|        0.68|          0|       0|                   0|              1|                    0|      2654|  1.0|(13,[2,5,6,7,8,10...|\n",
       "+------------+--------------+-------------+------------+--------------+----------+----------+------------+-----------+--------+--------------------+---------------+---------------------+----------+-----+--------------------+\n",
       "only showing top 10 rows\n",
       "\n",
       "</div>"
      ]
     },
     "metadata": {
      "application/vnd.databricks.v1+output": {
       "addedWidgets": {},
       "arguments": {},
       "data": "<div class=\"ansiout\">+------------+--------------+-------------+------------+--------------+----------+----------+------------+-----------+--------+--------------------+---------------+---------------------+----------+-----+--------------------+\n|account_type|follower_count|friends_count|listed_count|statuses_count|  retweets|  with_url|with_mention|geo_enabled|verified|has_extended_profile|default_profile|default_profile_image|created_at|label|            features|\n+------------+--------------+-------------+------------+--------------+----------+----------+------------+-----------+--------+--------------------+---------------+---------------------+----------+-----+--------------------+\n|         bot|             0|            0|           0|            18| 0.7222222|0.22222222|   0.6666667|          0|       0|                   0|              1|                    0|      3087|  1.0|(13,[5,6,7,8,10,1...|\n|         bot|             0|            0|           0|            34| 0.8064516|0.38709676|   0.7741935|          0|       0|                   0|              1|                    1|      3692|  1.0|(13,[5,6,7,8,10,1...|\n|         bot|             0|            0|           1|           224| 0.9655172|0.57758623|   0.9396552|          0|       0|                   0|              1|                    0|      1409|  1.0|(13,[4,5,6,7,8,10...|\n|         bot|             0|            2|           0|            59|       0.0|       1.0|         1.0|          0|       0|                   0|              1|                    1|       872|  1.0|(13,[3,5,7,8,10,1...|\n|         bot|             0|            9|           0|             6|       0.0|       0.0|   0.6666667|          0|       0|                   1|              0|                    0|       899|  1.0|(13,[3,5,8,9,12],...|\n|         bot|             0|           26|           0|            51| 0.1632653|0.71428573|  0.24489796|          0|       0|                   0|              1|                    0|      3013|  1.0|(13,[3,5,6,7,8,10...|\n|         bot|             1|            0|           0|            15| 0.6923077|0.15384616|   0.6923077|          0|       0|                   0|              1|                    0|      2492|  1.0|(13,[2,5,6,7,8,10...|\n|         bot|             1|            0|           0|            16|0.53333336|0.33333334|  0.46666667|          0|       0|                   0|              1|                    0|      2947|  1.0|(13,[2,5,6,7,8,10...|\n|         bot|             1|            0|           0|            25| 0.6363636|0.22727273|   0.6363636|          0|       0|                   0|              1|                    0|      2486|  1.0|(13,[2,5,6,7,8,10...|\n|         bot|             1|            0|           0|            25|      0.72|      0.16|        0.68|          0|       0|                   0|              1|                    0|      2654|  1.0|(13,[2,5,6,7,8,10...|\n+------------+--------------+-------------+------------+--------------+----------+----------+------------+-----------+--------+--------------------+---------------+---------------------+----------+-----+--------------------+\nonly showing top 10 rows\n\n</div>",
       "datasetInfos": [],
       "metadata": {},
       "removedWidgets": [],
       "type": "html"
      }
     },
     "output_type": "display_data"
    }
   ],
   "source": [
    "oh_train_df.show(10)"
   ]
  },
  {
   "cell_type": "code",
   "execution_count": 0,
   "metadata": {
    "application/vnd.databricks.v1+cell": {
     "inputWidgets": {},
     "nuid": "6a80c80e-df38-472a-8308-3e4a6666d2fa",
     "showTitle": false,
     "title": ""
    }
   },
   "outputs": [
    {
     "data": {
      "text/html": [
       "<style scoped>\n",
       "  .ansiout {\n",
       "    display: block;\n",
       "    unicode-bidi: embed;\n",
       "    white-space: pre-wrap;\n",
       "    word-wrap: break-word;\n",
       "    word-break: break-all;\n",
       "    font-family: \"Source Code Pro\", \"Menlo\", monospace;;\n",
       "    font-size: 13px;\n",
       "    color: #555;\n",
       "    margin-left: 4px;\n",
       "    line-height: 19px;\n",
       "  }\n",
       "</style>\n",
       "<div class=\"ansiout\"></div>"
      ]
     },
     "metadata": {
      "application/vnd.databricks.v1+output": {
       "addedWidgets": {},
       "arguments": {},
       "data": "<div class=\"ansiout\"></div>",
       "datasetInfos": [],
       "metadata": {},
       "removedWidgets": [],
       "type": "html"
      }
     },
     "output_type": "display_data"
    }
   ],
   "source": [
    "train = oh_train_df.select([\"features\", \"label\"])"
   ]
  },
  {
   "cell_type": "code",
   "execution_count": 0,
   "metadata": {
    "application/vnd.databricks.v1+cell": {
     "inputWidgets": {},
     "nuid": "22470841-f1f5-4c45-afd7-90fabbc1ead3",
     "showTitle": false,
     "title": ""
    }
   },
   "outputs": [
    {
     "data": {
      "text/html": [
       "<style scoped>\n",
       "  .ansiout {\n",
       "    display: block;\n",
       "    unicode-bidi: embed;\n",
       "    white-space: pre-wrap;\n",
       "    word-wrap: break-word;\n",
       "    word-break: break-all;\n",
       "    font-family: \"Source Code Pro\", \"Menlo\", monospace;;\n",
       "    font-size: 13px;\n",
       "    color: #555;\n",
       "    margin-left: 4px;\n",
       "    line-height: 19px;\n",
       "  }\n",
       "</style>\n",
       "<div class=\"ansiout\">+-----------------------------------------------------------------------------------------------------------------------------+-----+\n",
       "features                                                                                                                     |label|\n",
       "+-----------------------------------------------------------------------------------------------------------------------------+-----+\n",
       "(13,[5,6,7,8,10,12],[18.0,0.7222222089767456,0.2222222238779068,0.6666666865348816,1.0,3087.0])                              |1.0  |\n",
       "(13,[5,6,7,8,10,11,12],[34.0,0.8064516186714172,0.3870967626571655,0.774193525314331,1.0,1.0,3692.0])                        |1.0  |\n",
       "(13,[4,5,6,7,8,10,12],[1.0,224.0,0.9655172228813171,0.5775862336158752,0.9396551847457886,1.0,1409.0])                       |1.0  |\n",
       "(13,[3,5,7,8,10,11,12],[2.0,59.0,1.0,1.0,1.0,1.0,872.0])                                                                     |1.0  |\n",
       "(13,[3,5,8,9,12],[9.0,6.0,0.6666666865348816,1.0,899.0])                                                                     |1.0  |\n",
       "(13,[3,5,6,7,8,10,12],[26.0,51.0,0.16326530277729034,0.7142857313156128,0.2448979616165161,1.0,3013.0])                      |1.0  |\n",
       "(13,[2,5,6,7,8,10,12],[1.0,15.0,0.692307710647583,0.1538461595773697,0.692307710647583,1.0,2492.0])                          |1.0  |\n",
       "(13,[2,5,6,7,8,10,12],[1.0,16.0,0.5333333611488342,0.3333333432674408,0.46666666865348816,1.0,2947.0])                       |1.0  |\n",
       "(13,[2,5,6,7,8,10,12],[1.0,25.0,0.6363636255264282,0.22727273404598236,0.6363636255264282,1.0,2486.0])                       |1.0  |\n",
       "(13,[2,5,6,7,8,10,12],[1.0,25.0,0.7200000286102295,0.1599999964237213,0.6800000071525574,1.0,2654.0])                        |1.0  |\n",
       "[0.0,0.0,1.0,0.0,1.0,11.0,0.4545454680919647,0.27272728085517883,0.4545454680919647,0.0,1.0,0.0,3897.0]                      |1.0  |\n",
       "(13,[2,5,10,12],[2.0,12.0,1.0,3511.0])                                                                                       |1.0  |\n",
       "(13,[2,5,6,7,8,10,12],[2.0,19.0,0.05882352963089943,0.29411765933036804,0.05882352963089943,1.0,3210.0])                     |1.0  |\n",
       "(13,[2,5,7,8,10,11,12],[2.0,24.0,0.9583333134651184,0.0833333358168602,1.0,1.0,3773.0])                                      |1.0  |\n",
       "(13,[2,5,6,7,8,10,12],[2.0,25.0,0.7368420958518982,0.2631579041481018,0.6842105388641357,1.0,3170.0])                        |1.0  |\n",
       "(13,[2,5,7,10,11,12],[2.0,1029.0,1.0,1.0,1.0,2121.0])                                                                        |1.0  |\n",
       "(13,[0,2,5,7,10,11,12],[1.0,2.0,2160.0,1.0,1.0,1.0,2121.0])                                                                  |1.0  |\n",
       "[1.0,0.0,2.0,0.0,1.0,1641.0,0.8958333134651184,0.40625,0.9375,0.0,1.0,0.0,1545.0]                                            |1.0  |\n",
       "[0.0,0.0,2.0,15.0,0.0,1293.0,0.3644859790802002,0.07476635277271271,0.9626168012619019,0.0,1.0,0.0,4399.0]                   |1.0  |\n",
       "(13,[2,3,5,6,7,8,12],[2.0,50.0,64.0,0.60317462682724,0.1587301641702652,0.7777777910232544,3220.0])                          |1.0  |\n",
       "[0.0,0.0,2.0,58.0,0.0,675.0,0.9887640476226807,0.449438214302063,0.9438202381134033,0.0,1.0,0.0,1435.0]                      |1.0  |\n",
       "(13,[2,3,5,8,10,12],[2.0,103.0,5.0,0.20000000298023224,1.0,3247.0])                                                          |1.0  |\n",
       "(13,[2,5,6,7,8,10,12],[3.0,15.0,0.7857142686843872,0.2142857164144516,0.7857142686843872,1.0,2817.0])                        |1.0  |\n",
       "(13,[2,5,6,7,8,10,12],[3.0,35.0,0.6363636255264282,0.12121212482452393,0.5757575631141663,1.0,3473.0])                       |1.0  |\n",
       "(13,[2,5,6,7,8,10,12],[3.0,41.0,0.7027027010917664,0.13513512909412384,0.7027027010917664,1.0,3803.0])                       |1.0  |\n",
       "[0.0,0.0,3.0,0.0,0.0,118.0,0.9672130942344666,0.4262295067310333,0.9508196711540222,0.0,1.0,1.0,4059.0]                      |1.0  |\n",
       "(13,[2,4,5,6,7,8,12],[3.0,1.0,112.0,0.9903846383094788,0.692307710647583,0.8653846383094788,3801.0])                         |1.0  |\n",
       "[0.0,0.0,3.0,24.0,1.0,2231.0,0.9605262875556946,0.3684210479259491,0.9210526347160339,1.0,0.0,0.0,4608.0]                    |1.0  |\n",
       "[1.0,0.0,3.0,39.0,2.0,2320.0,0.390625,0.2265625,0.8828125,0.0,1.0,0.0,2940.0]                                                |1.0  |\n",
       "(13,[2,3,5,6,7,8,12],[3.0,43.0,3100.0,0.8222222328186035,0.47777777910232544,0.9444444179534912,4382.0])                     |1.0  |\n",
       "[1.0,0.0,3.0,63.0,1.0,6861.0,0.0,1.0,0.0,0.0,1.0,0.0,2121.0]                                                                 |1.0  |\n",
       "[0.0,0.0,3.0,85.0,0.0,27.0,0.5909090638160706,0.04545454680919647,0.5454545617103577,0.0,1.0,0.0,3521.0]                     |1.0  |\n",
       "(13,[2,5,6,7,8,10,12],[4.0,18.0,0.7058823704719543,0.3529411852359772,0.7058823704719543,1.0,3161.0])                        |1.0  |\n",
       "(13,[2,5,6,7,8,10,12],[4.0,19.0,0.5,0.1666666716337204,0.4444444477558136,1.0,4015.0])                                       |1.0  |\n",
       "(13,[2,5,6,7,8,10,12],[4.0,23.0,0.6363636255264282,0.27272728085517883,0.5909090638160706,1.0,3008.0])                       |1.0  |\n",
       "(13,[2,5,6,7,8,10,12],[4.0,23.0,0.7368420958518982,0.15789473056793213,0.7368420958518982,1.0,3396.0])                       |1.0  |\n",
       "(13,[2,5,6,7,8,12],[4.0,24.0,0.7272727489471436,0.13636364042758942,0.6818181872367859,4120.0])                              |1.0  |\n",
       "(13,[2,5,6,7,8,10,12],[4.0,50.0,0.4791666567325592,0.1666666716337204,0.7291666865348816,1.0,2703.0])                        |1.0  |\n",
       "[0.0,0.0,4.0,5.0,2.0,7234.0,0.007692307699471712,0.2461538463830948,0.4923076927661896,0.0,1.0,1.0,3190.0]                   |1.0  |\n",
       "[0.0,0.0,4.0,14.0,1.0,1462.0,0.6739130616188049,0.31521740555763245,0.6521739363670349,1.0,0.0,0.0,1431.0]                   |1.0  |\n",
       "[1.0,0.0,4.0,24.0,0.0,76.0,0.375,0.125,0.375,0.0,1.0,0.0,3031.0]                                                             |1.0  |\n",
       "[0.0,0.0,4.0,26.0,0.0,25.0,0.6666666865348816,0.4166666567325592,0.7083333134651184,0.0,1.0,0.0,2338.0]                      |1.0  |\n",
       "[0.0,0.0,4.0,50.0,0.0,26.0,0.7599999904632568,0.23999999463558197,0.6800000071525574,0.0,1.0,0.0,2928.0]                     |1.0  |\n",
       "(13,[2,3,5,10,12],[4.0,153.0,9.0,1.0,2364.0])                                                                                |1.0  |\n",
       "[1.0,0.0,4.0,167.0,0.0,17.0,0.0714285746216774,0.3571428656578064,0.1428571492433548,0.0,0.0,0.0,2795.0]                     |1.0  |\n",
       "(13,[2,5,6,7,8,10,12],[5.0,21.0,0.6111111044883728,0.2222222238779068,0.5,1.0,2994.0])                                       |1.0  |\n",
       "(13,[2,5,6,7,8,10,12],[5.0,22.0,0.4000000059604645,0.05000000074505806,0.30000001192092896,1.0,4306.0])                      |1.0  |\n",
       "(13,[2,5,6,7,8,10,12],[5.0,28.0,0.5600000023841858,0.03999999910593033,0.5199999809265137,1.0,3371.0])                       |1.0  |\n",
       "(13,[2,5,6,7,8,10,12],[5.0,28.0,0.7777777910232544,0.25925925374031067,0.7777777910232544,1.0,3233.0])                       |1.0  |\n",
       "(13,[2,5,6,7,8,10,12],[5.0,44.0,0.6341463327407837,0.17073170840740204,0.6097561120986938,1.0,2867.0])                       |1.0  |\n",
       "(13,[2,5,6,7,8,10,12],[5.0,47.0,0.43589743971824646,0.1538461595773697,0.43589743971824646,1.0,3008.0])                      |1.0  |\n",
       "(13,[2,5,6,7,8,12],[5.0,143.0,0.8898305296897888,0.2881355881690979,0.8728813529014587,3789.0])                              |1.0  |\n",
       "(13,[2,4,5,10,12],[5.0,2.0,1763.0,1.0,1281.0])                                                                               |1.0  |\n",
       "[0.0,0.0,5.0,16.0,0.0,2176.0,0.9404761791229248,0.3452380895614624,0.9285714030265808,0.0,1.0,0.0,4194.0]                    |1.0  |\n",
       "[0.0,0.0,5.0,43.0,0.0,16.0,0.6666666865348816,0.13333334028720856,0.6666666865348816,0.0,1.0,0.0,2684.0]                     |1.0  |\n",
       "[0.0,0.0,5.0,58.0,0.0,377.0,0.3140496015548706,0.7438016533851624,0.3057851195335388,1.0,0.0,0.0,2276.0]                     |1.0  |\n",
       "[0.0,0.0,5.0,102.0,2.0,891.0,0.9793814420700073,0.4020618498325348,0.9484536051750183,0.0,1.0,0.0,4396.0]                    |1.0  |\n",
       "[0.0,0.0,5.0,107.0,0.0,18.0,0.7058823704719543,0.1764705926179886,0.5882353186607361,0.0,1.0,0.0,1447.0]                     |1.0  |\n",
       "[0.0,0.0,5.0,116.0,0.0,18.0,0.5,0.0555555559694767,0.5,0.0,1.0,0.0,1196.0]                                                   |1.0  |\n",
       "(13,[2,3,5,6,7,8,12],[5.0,149.0,143.0,0.5234375,0.25,0.859375,2856.0])                                                       |1.0  |\n",
       "[0.0,0.0,5.0,173.0,0.0,701.0,0.23140496015548706,0.19834710657596588,0.8347107172012329,0.0,1.0,0.0,3758.0]                  |1.0  |\n",
       "(13,[2,5,10,12],[6.0,5.0,1.0,3270.0])                                                                                        |1.0  |\n",
       "(13,[2,5,6,7,8,10,12],[6.0,16.0,0.6875,0.125,0.6875,1.0,3314.0])                                                             |1.0  |\n",
       "(13,[2,5,6,7,8,10,12],[6.0,24.0,0.6086956262588501,0.30434781312942505,0.6086956262588501,1.0,1586.0])                       |1.0  |\n",
       "(13,[2,5,6,7,8,10,12],[6.0,27.0,0.6666666865348816,0.3333333432674408,0.6296296119689941,1.0,1335.0])                        |1.0  |\n",
       "(13,[2,5,6,7,8,10,12],[6.0,54.0,0.5400000214576721,0.20000000298023224,0.5400000214576721,1.0,3035.0])                       |1.0  |\n",
       "(13,[2,5,6,7,8,10,12],[6.0,59.0,0.5471698045730591,0.11320754885673523,0.5283018946647644,1.0,4109.0])                       |1.0  |\n",
       "[0.0,0.0,6.0,0.0,0.0,97.0,0.7402597665786743,0.37662336230278015,0.8831169009208679,0.0,1.0,1.0,3755.0]                      |1.0  |\n",
       "(13,[2,5,6,7,8,12],[6.0,122.0,0.9714285731315613,0.6761904954910278,0.9333333373069763,3799.0])                              |1.0  |\n",
       "(13,[2,5,6,7,8,10,12],[6.0,366.0,0.7982456088066101,0.48245614767074585,0.9561403393745422,1.0,1727.0])                      |1.0  |\n",
       "(13,[0,2,5,6,7,8,12],[1.0,6.0,956.0,0.9029126167297363,0.3786407709121704,0.9514563083648682,2769.0])                        |1.0  |\n",
       "(13,[2,5,6,7,8,10,12],[6.0,2551.0,0.01550387591123581,0.9922480583190918,0.9224806427955627,1.0,3520.0])                     |1.0  |\n",
       "(13,[2,3,5,10,12],[6.0,3.0,5257.0,1.0,2548.0])                                                                               |1.0  |\n",
       "[1.0,0.0,6.0,12.0,0.0,41.0,0.02500000037252903,0.0,0.05000000074505806,0.0,1.0,0.0,3288.0]                                   |1.0  |\n",
       "[0.0,0.0,6.0,16.0,0.0,60.0,0.0517241396009922,0.08620689809322357,0.06896551698446274,1.0,1.0,0.0,1686.0]                    |1.0  |\n",
       "[0.0,0.0,6.0,25.0,0.0,20.0,0.8823529481887817,0.1764705926179886,0.8823529481887817,1.0,1.0,0.0,1687.0]                      |1.0  |\n",
       "[0.0,0.0,6.0,41.0,0.0,478.0,0.023255813866853714,0.12403100728988647,0.03100775182247162,0.0,1.0,0.0,4130.0]                 |1.0  |\n",
       "[1.0,0.0,6.0,191.0,2.0,1214.0,0.7454545497894287,0.38181817531585693,0.8363636136054993,1.0,1.0,0.0,2681.0]                  |1.0  |\n",
       "(13,[2,5,6,7,8,12],[7.0,16.0,0.7142857313156128,0.0714285746216774,0.7857142686843872,3720.0])                               |1.0  |\n",
       "(13,[2,5,6,7,8,10,12],[7.0,30.0,0.5,0.11538461595773697,0.42307692766189575,1.0,3182.0])                                     |1.0  |\n",
       "(13,[2,5,6,7,8,10,12],[7.0,31.0,0.5714285969734192,0.1785714328289032,0.5,1.0,3939.0])                                       |1.0  |\n",
       "(13,[2,5,6,7,8,10,12],[7.0,42.0,0.7179487347602844,0.10256410390138626,0.6410256624221802,1.0,2906.0])                       |1.0  |\n",
       "(13,[2,5,6,7,8,10,12],[7.0,55.0,0.5208333134651184,0.0833333358168602,0.4791666567325592,1.0,2785.0])                        |1.0  |\n",
       "(13,[2,4,5,10,12],[7.0,6.0,309.0,1.0,1025.0])                                                                                |1.0  |\n",
       "[0.0,0.0,7.0,8.0,0.0,2740.0,0.9444444179534912,0.47777777910232544,0.9444444179534912,1.0,1.0,0.0,4347.0]                    |1.0  |\n",
       "[0.0,0.0,7.0,25.0,1.0,3025.0,0.8902438879013062,0.3658536672592163,0.9512194991111755,0.0,0.0,0.0,3215.0]                    |1.0  |\n",
       "[0.0,0.0,7.0,44.0,1.0,2342.0,0.9791666865348816,0.3333333432674408,0.9791666865348816,0.0,0.0,0.0,3340.0]                    |1.0  |\n",
       "[0.0,0.0,7.0,114.0,0.0,241.0,0.6036036014556885,0.18918919563293457,0.9009009003639221,0.0,1.0,0.0,1680.0]                   |1.0  |\n",
       "[0.0,0.0,7.0,136.0,0.0,29.0,0.7586206793785095,0.13793103396892548,0.5862069129943848,0.0,1.0,0.0,3112.0]                    |1.0  |\n",
       "(13,[2,5,10,12],[8.0,8.0,1.0,3483.0])                                                                                        |1.0  |\n",
       "(13,[2,5,6,7,8,10,12],[8.0,33.0,0.6000000238418579,0.13333334028720856,0.5666666626930237,1.0,3075.0])                       |1.0  |\n",
       "(13,[2,5,6,7,8,10,12],[8.0,57.0,0.6470588445663452,0.21568627655506134,0.6274510025978088,1.0,2101.0])                       |1.0  |\n",
       "(13,[2,4,5,7,12],[8.0,13.0,560562.0,1.0,1844.0])                                                                             |1.0  |\n",
       "[0.0,0.0,8.0,12.0,0.0,34.0,0.8214285969734192,0.2857142984867096,0.8571428656578064,0.0,1.0,0.0,3777.0]                      |1.0  |\n",
       "[0.0,0.0,8.0,30.0,0.0,922.0,0.0,1.0,1.0,0.0,1.0,1.0,2616.0]                                                                  |1.0  |\n",
       "[0.0,0.0,8.0,31.0,0.0,525.0,0.9759036302566528,0.42168673872947693,0.891566276550293,0.0,1.0,0.0,1703.0]                     |1.0  |\n",
       "[0.0,0.0,8.0,33.0,2.0,2143.0,0.0,1.0,0.0,0.0,1.0,1.0,2590.0]                                                                 |1.0  |\n",
       "[0.0,0.0,8.0,135.0,0.0,1034.0,0.966292142868042,0.4157303273677826,0.9887640476226807,0.0,1.0,0.0,1585.0]                    |1.0  |\n",
       "[0.0,0.0,8.0,176.0,0.0,1182.0,0.9883720874786377,0.5,0.9534883499145508,0.0,1.0,0.0,4048.0]                                  |1.0  |\n",
       "(13,[2,5,6,7,8,12],[9.0,37.0,0.5517241358757019,0.13793103396892548,0.517241358757019,3333.0])                               |1.0  |\n",
       "(13,[2,5,6,7,8,10,12],[9.0,50.0,0.695652186870575,0.1304347813129425,0.6521739363670349,1.0,3851.0])                         |1.0  |\n",
       "(13,[2,5,6,7,8,10,12],[9.0,61.0,0.75,0.1607142835855484,0.6964285969734192,1.0,3190.0])                                      |1.0  |\n",
       "[1.0,0.0,9.0,0.0,0.0,131.0,0.5666666626930237,0.28333333134651184,0.7166666388511658,0.0,1.0,0.0,2875.0]                     |1.0  |\n",
       "(13,[2,4,5,10,12],[9.0,3.0,2970.0,1.0,1934.0])                                                                               |1.0  |\n",
       "(13,[2,4,5,6,7,8,12],[9.0,8.0,1219.0,0.9917355179786682,0.40495866537094116,0.9834710955619812,2511.0])                      |1.0  |\n",
       "[0.0,0.0,9.0,2.0,0.0,32.0,0.7586206793785095,0.27586206793785095,0.7586206793785095,0.0,1.0,0.0,2892.0]                      |1.0  |\n",
       "[0.0,0.0,9.0,5.0,0.0,2239.0,0.8125,0.0357142873108387,0.9732142686843872,0.0,1.0,0.0,1053.0]                                 |1.0  |\n",
       "[0.0,0.0,9.0,60.0,0.0,122.0,0.8910890817642212,0.8712871074676514,0.8910890817642212,0.0,1.0,0.0,1221.0]                     |1.0  |\n",
       "[0.0,0.0,9.0,87.0,0.0,32.0,0.37037035822868347,0.40740740299224854,0.37037035822868347,0.0,1.0,0.0,3287.0]                   |1.0  |\n",
       "[0.0,0.0,9.0,112.0,0.0,27.0,0.6000000238418579,0.2800000011920929,0.5600000023841858,0.0,1.0,0.0,1869.0]                     |1.0  |\n",
       "[0.0,0.0,9.0,126.0,0.0,26.0,0.7368420958518982,0.21052631735801697,0.7368420958518982,0.0,1.0,0.0,2553.0]                    |1.0  |\n",
       "[0.0,0.0,9.0,324.0,0.0,9.0,0.2222222238779068,0.3333333432674408,0.3333333432674408,0.0,1.0,0.0,4280.0]                      |1.0  |\n",
       "(13,[2,5,6,7,8,10,12],[10.0,34.0,0.5517241358757019,0.06896551698446274,0.5517241358757019,1.0,2669.0])                      |1.0  |\n",
       "(13,[2,5,6,7,8,10,12],[10.0,34.0,0.7419354915618896,0.29032257199287415,0.6774193644523621,1.0,4053.0])                      |1.0  |\n",
       "(13,[2,5,6,7,8,10,12],[10.0,37.0,0.5,0.29411765933036804,0.5,1.0,2041.0])                                                    |1.0  |\n",
       "(13,[2,5,6,7,8,10,12],[10.0,51.0,0.644444465637207,0.15555556118488312,0.6222222447395325,1.0,2583.0])                       |1.0  |\n",
       "(13,[2,5,6,7,8,10,12],[10.0,134.0,0.8571428656578064,0.3949579894542694,0.8151260614395142,1.0,3899.0])                      |1.0  |\n",
       "(13,[2,4,5,6,7,8,12],[10.0,2.0,1444.0,0.9674796462059021,0.3983739912509918,0.9512194991111755,2507.0])                      |1.0  |\n",
       "(13,[2,3,5,6,7,8,12],[10.0,42.0,962.0,0.4955752193927765,0.4690265357494354,0.7168141603469849,4387.0])                      |1.0  |\n",
       "[0.0,0.0,10.0,77.0,0.0,381.0,0.7676767706871033,0.3030303120613098,0.939393937587738,1.0,0.0,0.0,4416.0]                     |1.0  |\n",
       "(13,[2,3,4,5,7,10,12],[10.0,87.0,1.0,10420.0,1.0,1.0,2378.0])                                                                |1.0  |\n",
       "[0.0,0.0,10.0,202.0,0.0,45.0,0.5476190447807312,0.0714285746216774,0.6904761791229248,0.0,1.0,0.0,2519.0]                    |1.0  |\n",
       "[0.0,0.0,10.0,216.0,0.0,63.0,0.4833333194255829,0.2666666805744171,0.4333333373069763,0.0,1.0,0.0,2451.0]                    |1.0  |\n",
       "[0.0,0.0,10.0,493.0,0.0,71.0,0.7878788113594055,0.5454545617103577,0.8030303120613098,0.0,1.0,0.0,2826.0]                    |1.0  |\n",
       "(13,[2,5,6,7,8,10,12],[11.0,19.0,0.47058823704719543,0.11764705926179886,0.3529411852359772,1.0,3618.0])                     |1.0  |\n",
       "(13,[2,5,6,7,8,10,12],[11.0,28.0,0.6296296119689941,0.29629629850387573,0.7407407164573669,1.0,2496.0])                      |1.0  |\n",
       "(13,[2,5,6,7,8,10,12],[11.0,47.0,0.5454545617103577,0.22727273404598236,0.5454545617103577,1.0,2507.0])                      |1.0  |\n",
       "[1.0,0.0,11.0,0.0,0.0,63.0,0.7058823704719543,0.21568627655506134,0.686274528503418,0.0,1.0,0.0,3217.0]                      |1.0  |\n",
       "[0.0,0.0,11.0,24.0,1.0,1846.0,0.0,0.03846153989434242,0.9769230484962463,0.0,1.0,0.0,1414.0]                                 |1.0  |\n",
       "[0.0,0.0,11.0,29.0,0.0,2914.0,0.9518072009086609,0.46987950801849365,0.9277108311653137,0.0,1.0,0.0,2891.0]                  |1.0  |\n",
       "[0.0,0.0,11.0,70.0,1.0,2127.0,0.9764705896377563,0.3764705955982208,0.9411764740943909,0.0,0.0,0.0,3974.0]                   |1.0  |\n",
       "[0.0,0.0,11.0,88.0,0.0,1434.0,0.8765432238578796,0.4444444477558136,0.9135802388191223,0.0,1.0,0.0,3630.0]                   |1.0  |\n",
       "[0.0,0.0,11.0,944.0,0.0,39.0,0.0810810774564743,0.3243243098258972,0.3513513505458832,0.0,1.0,0.0,2675.0]                    |1.0  |\n",
       "(13,[2,5,6,7,8,10,12],[12.0,28.0,0.75,0.2083333283662796,0.75,1.0,3667.0])                                                   |1.0  |\n",
       "(13,[2,5,6,7,8,12],[12.0,40.0,0.5945945978164673,0.10810811072587967,0.5405405163764954,3965.0])                             |1.0  |\n",
       "(13,[0,2,5,6,7,8,12],[1.0,12.0,82.0,0.3199999928474426,0.13333334028720856,0.41333332657814026,3398.0])                      |1.0  |\n",
       "(13,[2,5,6,7,8,10,12],[12.0,288.0,0.3442623019218445,0.1147540956735611,0.6967213153839111,1.0,3839.0])                      |1.0  |\n",
       "[0.0,0.0,12.0,0.0,1.0,41.0,0.6842105388641357,0.18421052396297455,0.6842105388641357,0.0,1.0,0.0,2385.0]                     |1.0  |\n",
       "[1.0,0.0,12.0,43.0,0.0,1474.0,0.8735632300376892,0.36781609058380127,0.8620689511299133,0.0,1.0,0.0,2944.0]                  |1.0  |\n",
       "(13,[2,3,5,6,7,8,12],[12.0,48.0,714.0,0.9879518151283264,0.33734938502311707,0.9759036302566528,3864.0])                     |1.0  |\n",
       "(13,[2,5,6,7,8,10,12],[13.0,50.0,0.6808510422706604,0.12765957415103912,0.6595744490623474,1.0,1930.0])                      |1.0  |\n",
       "(13,[2,5,6,7,8,10,12],[13.0,75.0,0.6153846383094788,0.20000000298023224,0.5692307949066162,1.0,3856.0])                      |1.0  |\n",
       "(13,[2,3,5,6,7,8,12],[13.0,36.0,3094.0,0.8222222328186035,0.4888888895511627,0.8777777552604675,3272.0])                     |1.0  |\n",
       "[0.0,0.0,13.0,96.0,0.0,1423.0,0.8117647171020508,0.2705882489681244,0.9764705896377563,0.0,1.0,0.0,4424.0]                   |1.0  |\n",
       "[0.0,0.0,13.0,258.0,0.0,71.0,0.09859155118465424,0.5070422291755676,0.30985915660858154,1.0,0.0,0.0,1211.0]                  |1.0  |\n",
       "(13,[2,5,8,10,12],[14.0,17.0,0.23529411852359772,1.0,3646.0])                                                                |1.0  |\n",
       "(13,[2,5,6,7,8,10,12],[14.0,36.0,0.4333333373069763,0.13333334028720856,0.4000000059604645,1.0,3955.0])                      |1.0  |\n",
       "(13,[2,5,6,7,8,10,12],[14.0,38.0,0.6944444179534912,0.1111111119389534,0.6388888955116272,1.0,4058.0])                       |1.0  |\n",
       "(13,[2,5,6,7,8,10,12],[14.0,45.0,0.7804877758026123,0.19512194395065308,0.7317073345184326,1.0,2367.0])                      |1.0  |\n",
       "(13,[2,5,6,7,8,12],[14.0,55.0,0.36538460850715637,0.26923078298568726,0.6538461446762085,3880.0])                            |1.0  |\n",
       "(13,[2,5,6,7,8,10,12],[14.0,59.0,0.6415094137191772,0.15094339847564697,0.5660377144813538,1.0,3230.0])                      |1.0  |\n",
       "(13,[2,5,6,7,8,10,12],[14.0,101.0,0.59375,0.1145833358168602,0.5729166865348816,1.0,3933.0])                                 |1.0  |\n",
       "(13,[2,3,4,5,8,12],[14.0,12.0,2.0,1065.0,0.03076923079788685,1008.0])                                                        |1.0  |\n",
       "[0.0,0.0,14.0,56.0,0.0,24.0,0.05263157933950424,0.2631579041481018,0.5789473652839661,0.0,1.0,0.0,3227.0]                    |1.0  |\n",
       "(13,[2,3,5,6,7,8,12],[14.0,86.0,1812.0,0.8913043737411499,0.3804347813129425,0.945652186870575,3511.0])                      |1.0  |\n",
       "[0.0,0.0,14.0,105.0,1.0,2612.0,0.9008264541625977,0.04958677664399147,0.9090909361839294,1.0,1.0,0.0,2236.0]                 |1.0  |\n",
       "[0.0,0.0,14.0,219.0,0.0,24.0,0.4583333432674408,0.0833333358168602,0.4166666567325592,0.0,1.0,0.0,3027.0]                    |1.0  |\n",
       "[1.0,0.0,14.0,325.0,0.0,2237.0,0.7636363506317139,0.19090908765792847,0.9363636374473572,1.0,1.0,0.0,3237.0]                 |1.0  |\n",
       "[0.0,0.0,14.0,490.0,0.0,1216.0,0.9878048896789551,0.353658527135849,0.9268292784690857,0.0,1.0,0.0,2466.0]                   |1.0  |\n",
       "(13,[2,5,6,7,8,10,12],[15.0,35.0,0.7419354915618896,0.16129031777381897,0.7419354915618896,1.0,3483.0])                      |1.0  |\n",
       "(13,[2,5,6,7,8,10,12],[15.0,67.0,0.6666666865348816,0.2063492089509964,0.60317462682724,1.0,4337.0])                         |1.0  |\n",
       "(13,[2,5,6,7,8,10,12],[15.0,93.0,0.8235294222831726,0.21176470816135406,0.7529411911964417,1.0,3765.0])                      |1.0  |\n",
       "(13,[2,5,6,7,8,10,12],[15.0,1177.0,0.9494949579238892,0.4747474789619446,1.0,1.0,3854.0])                                    |1.0  |\n",
       "[0.0,0.0,15.0,0.0,1.0,30.0,0.699999988079071,0.4000000059604645,0.6666666865348816,0.0,1.0,0.0,3057.0]                       |1.0  |\n",
       "[0.0,0.0,15.0,0.0,1.0,48.0,0.32608696818351746,0.695652186870575,0.3695652186870575,0.0,1.0,0.0,2989.0]                      |1.0  |\n",
       "[0.0,0.0,15.0,22.0,1.0,870.0,0.8461538553237915,0.07692307978868484,0.9230769276618958,1.0,0.0,0.0,3858.0]                   |1.0  |\n",
       "[1.0,0.0,15.0,62.0,0.0,3021.0,0.023255813866853714,0.023255813866853714,0.9767441749572754,0.0,0.0,0.0,3923.0]               |1.0  |\n",
       "[0.0,0.0,15.0,64.0,1.0,2589.0,0.9890109896659851,0.32967033982276917,0.9450549483299255,0.0,0.0,0.0,3732.0]                  |1.0  |\n",
       "[1.0,0.0,15.0,145.0,0.0,630.0,0.0,0.9384615421295166,0.9153845906257629,1.0,0.0,0.0,2901.0]                                  |1.0  |\n",
       "(13,[2,5,6,7,8,10,12],[16.0,78.0,0.6301369667053223,0.24657534062862396,0.6164383292198181,1.0,1805.0])                      |1.0  |\n",
       "(13,[2,5,6,7,8,10,12],[16.0,91.0,0.7228915691375732,0.16867469251155853,0.6746987700462341,1.0,3897.0])                      |1.0  |\n",
       "[0.0,0.0,16.0,49.0,1.0,3072.0,0.9767441749572754,0.43023255467414856,0.9418604373931885,0.0,1.0,0.0,3180.0]                  |1.0  |\n",
       "[0.0,0.0,16.0,120.0,1.0,3641.0,0.2945736348628998,0.2945736348628998,0.7829457521438599,1.0,1.0,0.0,3790.0]                  |1.0  |\n",
       "[1.0,0.0,17.0,0.0,0.0,46.0,0.6829268336296082,0.17073170840740204,0.6097561120986938,0.0,1.0,0.0,3767.0]                     |1.0  |\n",
       "(13,[2,5,6,7,8,10,12],[17.0,335.0,0.41129031777381897,0.13709677755832672,0.5080645084381104,1.0,2982.0])                    |1.0  |\n",
       "[0.0,0.0,17.0,39.0,0.0,723.0,0.6534653306007385,0.2574257552623749,0.9207921028137207,0.0,1.0,0.0,2260.0]                    |1.0  |\n",
       "[0.0,0.0,17.0,55.0,0.0,227.0,0.10236220806837082,0.023622047156095505,0.7165354490280151,1.0,1.0,0.0,1430.0]                 |1.0  |\n",
       "[0.0,0.0,17.0,106.0,0.0,1590.0,0.6019417643547058,0.3009708821773529,0.9514563083648682,0.0,1.0,0.0,2341.0]                  |1.0  |\n",
       "[0.0,0.0,17.0,165.0,5.0,697.0,0.9468085169792175,0.38297873735427856,0.9468085169792175,0.0,0.0,0.0,3453.0]                  |1.0  |\n",
       "[1.0,0.0,17.0,208.0,0.0,51.0,0.5714285969734192,0.261904776096344,0.8333333134651184,0.0,0.0,1.0,3718.0]                     |1.0  |\n",
       "[0.0,0.0,17.0,220.0,0.0,43.0,0.5,0.1315789520740509,0.4736842215061188,0.0,1.0,0.0,1220.0]                                   |1.0  |\n",
       "[0.0,0.0,17.0,254.0,0.0,65.0,0.688524603843689,0.2295081913471222,0.6393442749977112,0.0,1.0,0.0,3226.0]                     |1.0  |\n",
       "(13,[2,5,6,7,8,10,12],[18.0,54.0,0.3469387888908386,0.06122449040412903,0.30612245202064514,1.0,3090.0])                     |1.0  |\n",
       "(13,[2,5,6,7,8,10,12],[18.0,72.0,0.6911764740943909,0.14705882966518402,0.6911764740943909,1.0,4027.0])                      |1.0  |\n",
       "\n",
       "*** WARNING: skipped 2560472 bytes of output ***\n",
       "\n",
       "[0.0,1.0,696130.0,9068.0,5353.0,78110.0,0.5153846144676208,0.26153847575187683,0.8384615182876587,0.0,0.0,0.0,4487.0]        |0.0  |\n",
       "[1.0,1.0,697638.0,2266.0,3041.0,5976.0,0.05384615436196327,0.2230769246816635,0.45384615659713745,1.0,0.0,0.0,3740.0]        |0.0  |\n",
       "[1.0,1.0,701650.0,2291.0,2012.0,161814.0,0.5503876209259033,0.45736435055732727,0.8217054009437561,1.0,0.0,0.0,4555.0]       |0.0  |\n",
       "[1.0,1.0,704245.0,146.0,2227.0,9976.0,0.234375,0.078125,0.3046875,0.0,0.0,0.0,3955.0]                                        |0.0  |\n",
       "[0.0,1.0,705867.0,371.0,0.0,3239.0,0.10769230872392654,0.7384615540504456,0.42307692766189575,0.0,1.0,0.0,3619.0]            |0.0  |\n",
       "[1.0,1.0,714063.0,1208.0,788.0,78950.0,0.6640625,0.2421875,0.7890625,1.0,0.0,0.0,4377.0]                                     |0.0  |\n",
       "[1.0,1.0,716474.0,226.0,1225.0,1375.0,0.2936508059501648,0.1031746044754982,0.6428571343421936,1.0,1.0,0.0,3404.0]           |0.0  |\n",
       "[0.0,1.0,722571.0,1776.0,2754.0,25791.0,0.2846153974533081,0.1538461595773697,0.8769230842590332,1.0,0.0,0.0,4440.0]         |0.0  |\n",
       "[1.0,1.0,723232.0,1066.0,4732.0,9861.0,0.03076923079788685,0.4923076927661896,0.7153846025466919,1.0,0.0,0.0,4212.0]         |0.0  |\n",
       "[0.0,1.0,728888.0,18.0,4786.0,776.0,0.007692307699471712,1.0,0.023076923564076424,0.0,1.0,0.0,3245.0]                        |0.0  |\n",
       "[1.0,1.0,732338.0,1962.0,1495.0,12040.0,0.1538461595773697,0.5307692289352417,0.7692307829856873,1.0,0.0,0.0,3361.0]         |0.0  |\n",
       "[0.0,1.0,736962.0,22.0,1500.0,10776.0,0.13953489065170288,0.4806201457977295,0.44961240887641907,0.0,0.0,0.0,4033.0]         |0.0  |\n",
       "[0.0,1.0,761675.0,2.0,24063.0,4973.0,0.0,1.0,0.015384615398943424,0.0,0.0,0.0,4543.0]                                        |0.0  |\n",
       "[1.0,1.0,769030.0,73.0,1335.0,1767.0,0.07692307978868484,0.13076923787593842,0.7230769395828247,0.0,0.0,0.0,3411.0]          |0.0  |\n",
       "[1.0,1.0,773520.0,1072.0,353.0,19937.0,0.5193798542022705,0.09302325546741486,0.7751938104629517,1.0,1.0,0.0,4352.0]         |0.0  |\n",
       "[1.0,1.0,776321.0,2685.0,3577.0,10927.0,0.1538461595773697,0.3153846263885498,0.7769230604171753,1.0,0.0,0.0,4037.0]         |0.0  |\n",
       "[1.0,1.0,784401.0,179.0,988.0,6583.0,0.04615384712815285,0.5846154093742371,0.1846153885126114,0.0,1.0,0.0,3359.0]           |0.0  |\n",
       "[1.0,1.0,797609.0,3094.0,3024.0,418038.0,0.03076923079788685,0.9538461565971375,0.07692307978868484,0.0,0.0,0.0,4626.0]      |0.0  |\n",
       "[1.0,1.0,798199.0,1590.0,3728.0,259877.0,0.03846153989434242,0.9538461565971375,0.04615384712815285,0.0,0.0,0.0,4579.0]      |0.0  |\n",
       "[1.0,1.0,807807.0,262.0,903.0,3549.0,0.13076923787593842,0.36153846979141235,0.26153847575187683,0.0,1.0,0.0,3582.0]         |0.0  |\n",
       "[0.0,1.0,815425.0,58.0,4453.0,770.0,0.302325576543808,0.1860465109348297,0.5736433863639832,0.0,0.0,0.0,2984.0]              |0.0  |\n",
       "[0.0,1.0,816044.0,140.0,6696.0,2035.0,0.1782945692539215,0.42635658383369446,0.682170569896698,0.0,0.0,0.0,4326.0]           |0.0  |\n",
       "[1.0,1.0,817745.0,40.0,1118.0,4166.0,0.16153846681118011,0.13846154510974884,0.2230769246816635,1.0,0.0,0.0,4423.0]          |0.0  |\n",
       "[1.0,0.0,834408.0,355.0,1537.0,7587.0,0.8062015771865845,0.1627907007932663,0.8682170510292053,0.0,1.0,0.0,3759.0]           |0.0  |\n",
       "[1.0,1.0,854230.0,1575.0,986.0,60500.0,0.0615384615957737,0.11538461595773697,0.800000011920929,1.0,0.0,0.0,3786.0]          |0.0  |\n",
       "[1.0,1.0,859960.0,1433.0,17833.0,27995.0,0.0923076942563057,0.2538461685180664,0.8692307472229004,0.0,0.0,0.0,5123.0]        |0.0  |\n",
       "[1.0,1.0,860554.0,1740.0,1785.0,5778.0,0.1846153885126114,0.32307693362236023,0.7461538314819336,0.0,1.0,0.0,4579.0]         |0.0  |\n",
       "[1.0,1.0,876285.0,1463.0,4908.0,17484.0,0.32307693362236023,0.19230769574642181,0.7692307829856873,0.0,0.0,0.0,4299.0]       |0.0  |\n",
       "(13,[2,3,4,5,6,8,12],[896709.0,96.0,1295.0,27410.0,0.00800000037997961,0.00800000037997961,3577.0])                          |0.0  |\n",
       "[0.0,1.0,902380.0,2199.0,2375.0,63536.0,0.023076923564076424,0.2538461685180664,0.1230769231915474,0.0,0.0,0.0,4626.0]       |0.0  |\n",
       "[1.0,1.0,904205.0,358.0,1352.0,1999.0,0.1230769231915474,0.10000000149011612,0.5461538434028625,0.0,1.0,0.0,2896.0]          |0.0  |\n",
       "[1.0,1.0,921404.0,274.0,1737.0,7426.0,0.10769230872392654,0.2846153974533081,0.26923078298568726,1.0,0.0,0.0,3771.0]         |0.0  |\n",
       "[0.0,1.0,924579.0,21.0,13670.0,1732.0,0.007692307699471712,0.14615385234355927,0.023076923564076424,0.0,1.0,0.0,4058.0]      |0.0  |\n",
       "[0.0,1.0,927844.0,93.0,4592.0,604.0,0.16153846681118011,0.39230769872665405,0.5769230723381042,1.0,0.0,0.0,3836.0]           |0.0  |\n",
       "[0.0,1.0,928498.0,3446.0,2033.0,23837.0,0.03846153989434242,0.32307693362236023,0.26923078298568726,0.0,0.0,0.0,4168.0]      |0.0  |\n",
       "[1.0,1.0,928729.0,139.0,5347.0,10327.0,0.3333333432674408,0.3488371968269348,0.8217054009437561,0.0,0.0,0.0,4410.0]          |0.0  |\n",
       "[0.0,1.0,938703.0,249.0,2533.0,1003.0,0.2846153974533081,0.2846153974533081,0.38461539149284363,0.0,1.0,0.0,3361.0]          |0.0  |\n",
       "[0.0,1.0,944104.0,839.0,5325.0,9597.0,0.7384615540504456,0.06923077255487442,0.9307692050933838,0.0,0.0,0.0,4410.0]          |0.0  |\n",
       "[0.0,1.0,951053.0,81.0,193.0,5945.0,0.7317073345184326,0.34959349036216736,0.7479674816131592,1.0,1.0,0.0,2178.0]            |0.0  |\n",
       "[1.0,1.0,958367.0,1145.0,2849.0,13533.0,0.30000001192092896,0.07692307978868484,0.7461538314819336,0.0,1.0,0.0,4284.0]       |0.0  |\n",
       "[0.0,1.0,989149.0,379.0,2376.0,5698.0,0.11538461595773697,0.6692307591438293,0.4615384638309479,0.0,0.0,0.0,4315.0]          |0.0  |\n",
       "[0.0,1.0,995525.0,37.0,978.0,269.0,0.0615384615957737,0.10000000149011612,0.35384616255760193,0.0,1.0,0.0,3279.0]            |0.0  |\n",
       "[1.0,1.0,995734.0,1048.0,3165.0,21505.0,0.3769230842590332,0.4615384638309479,0.6230769157409668,1.0,0.0,0.0,4286.0]         |0.0  |\n",
       "[0.0,1.0,995769.0,1726.0,5083.0,771.0,0.5307692289352417,0.4307692348957062,0.607692301273346,0.0,0.0,0.0,4178.0]            |0.0  |\n",
       "(13,[1,2,4,5,7,8,12],[1.0,997029.0,11589.0,2418.0,1.0,0.14615385234355927,4389.0])                                           |0.0  |\n",
       "[0.0,0.0,1003059.0,93.0,3400.0,5876.0,0.0923076942563057,0.6153846383094788,0.20769231021404266,0.0,0.0,0.0,3106.0]          |0.0  |\n",
       "[0.0,1.0,1007877.0,675.0,2518.0,24477.0,0.2538461685180664,0.5461538434028625,0.6000000238418579,0.0,0.0,0.0,4296.0]         |0.0  |\n",
       "[1.0,1.0,1051389.0,122.0,1966.0,299.0,0.12403100728988647,0.5968992114067078,0.5891472697257996,0.0,0.0,0.0,3278.0]          |0.0  |\n",
       "[0.0,1.0,1057748.0,45.0,1958.0,254.0,0.0,0.023076923564076424,0.14615385234355927,1.0,1.0,0.0,3015.0]                        |0.0  |\n",
       "[0.0,1.0,1066341.0,374.0,622.0,12745.0,0.0615384615957737,0.7307692170143127,0.26153847575187683,1.0,0.0,0.0,4013.0]         |0.0  |\n",
       "[0.0,1.0,1082108.0,344.0,5241.0,1679.0,0.20000000298023224,0.16923077404499054,0.446153849363327,0.0,0.0,0.0,3805.0]         |0.0  |\n",
       "[1.0,0.0,1100647.0,292.0,805.0,21351.0,0.0,1.0,0.0923076942563057,0.0,0.0,0.0,4250.0]                                        |0.0  |\n",
       "[1.0,0.0,1101344.0,51.0,4487.0,488.0,0.0,0.0923076942563057,0.807692289352417,0.0,1.0,0.0,3338.0]                            |0.0  |\n",
       "[1.0,1.0,1105867.0,95199.0,6163.0,39651.0,0.3076923191547394,0.0923076942563057,0.800000011920929,0.0,0.0,0.0,4626.0]        |0.0  |\n",
       "[1.0,1.0,1126769.0,381.0,24874.0,6849.0,0.30000001192092896,0.48461538553237915,0.7153846025466919,1.0,0.0,0.0,4278.0]       |0.0  |\n",
       "[0.0,1.0,1127526.0,494.0,14753.0,28713.0,0.8538461327552795,0.5153846144676208,0.8615384697914124,0.0,1.0,0.0,4068.0]        |0.0  |\n",
       "[1.0,1.0,1155335.0,1318.0,540.0,5599.0,0.5769230723381042,0.23076923191547394,0.800000011920929,1.0,0.0,0.0,4045.0]          |0.0  |\n",
       "[0.0,1.0,1160374.0,959.0,2650.0,6706.0,0.1538461595773697,0.6230769157409668,0.699999988079071,0.0,0.0,0.0,3877.0]           |0.0  |\n",
       "[1.0,1.0,1180217.0,10.0,229.0,4015.0,0.007692307699471712,0.2153846174478531,0.08461538702249527,1.0,1.0,0.0,2668.0]         |0.0  |\n",
       "[1.0,1.0,1202169.0,577.0,690.0,8539.0,0.04615384712815285,0.7769230604171753,0.807692289352417,0.0,1.0,0.0,3719.0]           |0.0  |\n",
       "[0.0,1.0,1202490.0,168.0,3262.0,7729.0,0.6538461446762085,0.29230770468711853,0.6615384817123413,0.0,1.0,0.0,3681.0]         |0.0  |\n",
       "[1.0,1.0,1203538.0,172.0,2770.0,5164.0,0.16923077404499054,0.692307710647583,0.42307692766189575,0.0,0.0,0.0,4364.0]         |0.0  |\n",
       "[1.0,0.0,1203813.0,519.0,1818.0,17561.0,0.1825396865606308,0.3253968358039856,0.3095238208770752,1.0,0.0,0.0,4399.0]         |0.0  |\n",
       "[1.0,1.0,1203898.0,312.0,1471.0,3332.0,0.05384615436196327,0.0923076942563057,0.8461538553237915,1.0,0.0,0.0,4404.0]         |0.0  |\n",
       "[1.0,1.0,1218874.0,328.0,558.0,6040.0,0.4153846204280853,0.07692307978868484,0.6153846383094788,1.0,0.0,0.0,3610.0]          |0.0  |\n",
       "[1.0,1.0,1221323.0,681.0,1390.0,26307.0,0.3333333432674408,0.21705426275730133,0.5736433863639832,1.0,0.0,0.0,3049.0]        |0.0  |\n",
       "[0.0,1.0,1221388.0,106.0,5897.0,1278.0,0.341269850730896,0.4126984179019928,0.8015872836112976,0.0,0.0,0.0,4479.0]           |0.0  |\n",
       "[0.0,1.0,1227061.0,320.0,1820.0,3233.0,0.08461538702249527,0.4692307710647583,0.4307692348957062,0.0,1.0,0.0,2973.0]         |0.0  |\n",
       "[0.0,1.0,1240699.0,706.0,814.0,7918.0,0.20769231021404266,0.36153846979141235,0.446153849363327,0.0,0.0,0.0,3214.0]          |0.0  |\n",
       "[1.0,1.0,1270285.0,2819.0,931.0,22300.0,0.1538461595773697,0.4692307710647583,0.5461538434028625,1.0,0.0,0.0,4353.0]         |0.0  |\n",
       "[0.0,1.0,1296060.0,552.0,9883.0,10943.0,0.42307692766189575,0.29230770468711853,0.6769230961799622,0.0,0.0,0.0,4492.0]       |0.0  |\n",
       "[1.0,1.0,1323686.0,2.0,704.0,1781.0,0.0615384615957737,0.05384615436196327,0.1230769231915474,0.0,0.0,0.0,3874.0]            |0.0  |\n",
       "[0.0,1.0,1348629.0,77.0,2472.0,7066.0,0.39230769872665405,0.23076923191547394,0.5923076868057251,0.0,0.0,0.0,3897.0]         |0.0  |\n",
       "[1.0,1.0,1411903.0,571.0,3174.0,2743.0,0.2153846174478531,0.45384615659713745,0.5307692289352417,0.0,0.0,0.0,3590.0]         |0.0  |\n",
       "[0.0,1.0,1413787.0,160.0,3068.0,5540.0,0.23076923191547394,0.2230769246816635,0.607692301273346,0.0,0.0,0.0,3396.0]          |0.0  |\n",
       "[1.0,1.0,1429262.0,7709.0,8446.0,105238.0,0.8615384697914124,0.5076923370361328,0.8846153616905212,0.0,0.0,0.0,4492.0]       |0.0  |\n",
       "[1.0,1.0,1442957.0,1925.0,15941.0,152352.0,0.26923078298568726,0.17692308127880096,0.8153846263885498,0.0,0.0,0.0,5122.0]    |0.0  |\n",
       "[0.0,1.0,1471177.0,308.0,972.0,3999.0,0.32307693362236023,0.29230770468711853,0.6769230961799622,0.0,0.0,0.0,3702.0]         |0.0  |\n",
       "[1.0,0.0,1478787.0,971.0,6649.0,41857.0,0.0,0.20769231021404266,0.2230769246816635,0.0,0.0,0.0,4269.0]                       |0.0  |\n",
       "[1.0,1.0,1499077.0,5816.0,2052.0,30297.0,0.4615384638309479,0.3153846263885498,0.6384615302085876,1.0,0.0,0.0,4281.0]        |0.0  |\n",
       "[1.0,1.0,1499442.0,763.0,980.0,20301.0,0.45384615659713745,0.30000001192092896,0.6384615302085876,0.0,0.0,0.0,3640.0]        |0.0  |\n",
       "[1.0,1.0,1518816.0,21343.0,18912.0,162131.0,0.8139534592628479,0.302325576543808,0.8604651093482971,1.0,0.0,0.0,5145.0]      |0.0  |\n",
       "[0.0,1.0,1521431.0,3499.0,3131.0,30441.0,0.03076923079788685,0.5307692289352417,0.2769230902194977,0.0,1.0,0.0,3520.0]       |0.0  |\n",
       "[1.0,1.0,1534049.0,142.0,4052.0,279.0,0.328125,0.1484375,0.5859375,0.0,0.0,0.0,3097.0]                                       |0.0  |\n",
       "[1.0,1.0,1547082.0,2562.0,673.0,4377.0,0.17322835326194763,0.5118110179901123,0.3779527544975281,1.0,0.0,0.0,3781.0]         |0.0  |\n",
       "[0.0,1.0,1552307.0,2472.0,1495.0,8438.0,0.3515625,0.09375,0.890625,0.0,0.0,0.0,4154.0]                                       |0.0  |\n",
       "[1.0,1.0,1563237.0,77.0,3169.0,22500.0,0.10000000149011612,0.3461538553237915,0.3076923191547394,0.0,0.0,0.0,3988.0]         |0.0  |\n",
       "[1.0,1.0,1586556.0,292.0,2844.0,4321.0,0.24806201457977295,0.3178294599056244,0.7596899271011353,0.0,0.0,0.0,3869.0]         |0.0  |\n",
       "[1.0,1.0,1594995.0,184.0,380.0,6400.0,0.03846153989434242,0.16923077404499054,0.4000000059604645,1.0,0.0,0.0,4099.0]         |0.0  |\n",
       "[0.0,1.0,1595987.0,414.0,4508.0,17683.0,0.5426356792449951,0.4728682041168213,0.7906976938247681,0.0,0.0,0.0,4383.0]         |0.0  |\n",
       "[1.0,1.0,1651764.0,1343.0,2526.0,10969.0,0.5078125,0.1328125,0.8828125,1.0,0.0,0.0,4446.0]                                   |0.0  |\n",
       "[0.0,1.0,1697427.0,591.0,6484.0,41705.0,0.07692307978868484,0.2461538463830948,0.7461538314819336,0.0,0.0,0.0,4456.0]        |0.0  |\n",
       "[1.0,1.0,1698235.0,2431.0,1518.0,15140.0,0.6456692814826965,0.3700787425041199,0.7401574850082397,0.0,0.0,0.0,4433.0]        |0.0  |\n",
       "[0.0,1.0,1719616.0,1501.0,11663.0,12784.0,0.3384615480899811,0.007692307699471712,0.7846153974533081,0.0,0.0,0.0,4269.0]     |0.0  |\n",
       "[1.0,1.0,1731539.0,851.0,13963.0,136680.0,0.7076923251152039,0.4153846204280853,0.7461538314819336,0.0,0.0,0.0,4579.0]       |0.0  |\n",
       "[0.0,1.0,1737044.0,1875.0,3192.0,15838.0,0.4384615421295166,0.2153846174478531,0.7230769395828247,0.0,0.0,0.0,4158.0]        |0.0  |\n",
       "[0.0,1.0,1759233.0,494.0,592.0,19563.0,0.23846153914928436,0.23846153914928436,0.30000001192092896,0.0,0.0,0.0,3398.0]       |0.0  |\n",
       "[1.0,1.0,1797985.0,521.0,2804.0,7211.0,0.06923077255487442,0.38461539149284363,0.5461538434028625,0.0,0.0,0.0,3150.0]        |0.0  |\n",
       "[0.0,0.0,1837796.0,44.0,25663.0,460.0,0.015384615398943424,0.1846153885126114,0.06923077255487442,1.0,1.0,0.0,4039.0]        |0.0  |\n",
       "[0.0,0.0,1849952.0,5.0,705.0,20434.0,0.2945736348628998,0.08527132123708725,0.27906978130340576,1.0,0.0,0.0,3824.0]          |0.0  |\n",
       "[1.0,1.0,1896311.0,28.0,2277.0,2830.0,0.08461538702249527,0.04615384712815285,0.607692301273346,0.0,0.0,0.0,3708.0]          |0.0  |\n",
       "[0.0,1.0,1984729.0,1327.0,10957.0,59237.0,0.7692307829856873,0.3384615480899811,0.807692289352417,0.0,0.0,0.0,3879.0]        |0.0  |\n",
       "[1.0,1.0,2015578.0,395.0,349.0,38358.0,0.015384615398943424,0.6769230961799622,0.33076924085617065,0.0,0.0,0.0,2183.0]       |0.0  |\n",
       "[1.0,0.0,2056199.0,269.0,4701.0,25344.0,0.0,1.0,0.11538461595773697,0.0,0.0,0.0,4252.0]                                      |0.0  |\n",
       "[1.0,1.0,2069054.0,2905.0,3735.0,74691.0,0.1230769231915474,0.16153846681118011,0.6846153736114502,0.0,0.0,0.0,4032.0]       |0.0  |\n",
       "[0.0,1.0,2151586.0,414.0,6848.0,8225.0,0.2153846174478531,0.5230769515037537,0.5692307949066162,0.0,0.0,0.0,4498.0]          |0.0  |\n",
       "[0.0,1.0,2153941.0,305.0,4513.0,4942.0,0.10769230872392654,0.3076923191547394,0.5846154093742371,0.0,0.0,0.0,3975.0]         |0.0  |\n",
       "[1.0,1.0,2178038.0,1924.0,1652.0,12247.0,0.699999988079071,0.20769231021404266,0.8230769038200378,1.0,1.0,0.0,3347.0]        |0.0  |\n",
       "[1.0,1.0,2192595.0,192.0,26486.0,2481.0,0.3076923191547394,0.3153846263885498,0.4769230782985687,0.0,0.0,0.0,3835.0]         |0.0  |\n",
       "[1.0,1.0,2192857.0,1237.0,7308.0,49047.0,0.3384615480899811,0.35384616255760193,0.7384615540504456,0.0,0.0,0.0,4423.0]       |0.0  |\n",
       "[1.0,1.0,2215237.0,133.0,626.0,937.0,0.0923076942563057,0.0615384615957737,0.4769230782985687,0.0,0.0,0.0,3156.0]            |0.0  |\n",
       "[0.0,1.0,2225897.0,130.0,13098.0,13736.0,0.1846153885126114,0.45384615659713745,0.3769230842590332,0.0,0.0,0.0,4298.0]       |0.0  |\n",
       "[1.0,1.0,2287850.0,1709.0,3793.0,8872.0,0.3153846263885498,0.5846154093742371,0.6615384817123413,1.0,0.0,0.0,4330.0]         |0.0  |\n",
       "[0.0,1.0,2310659.0,287.0,5340.0,2426.0,0.2868216931819916,0.356589138507843,0.40310078859329224,0.0,0.0,0.0,4031.0]          |0.0  |\n",
       "[1.0,1.0,2319724.0,206.0,6893.0,8097.0,0.17692308127880096,0.5230769515037537,0.6615384817123413,1.0,0.0,0.0,4395.0]         |0.0  |\n",
       "[1.0,1.0,2339328.0,458.0,4241.0,20225.0,0.05384615436196327,0.06923077255487442,0.6461538672447205,0.0,0.0,0.0,4279.0]       |0.0  |\n",
       "(13,[2,3,4,5,7,12],[2471494.0,16.0,6505.0,6907.0,0.14615385234355927,3969.0])                                                |0.0  |\n",
       "[1.0,0.0,2473793.0,287.0,1233.0,19490.0,0.1472868174314499,0.8294573426246643,0.27906978130340576,1.0,0.0,0.0,4371.0]        |0.0  |\n",
       "[1.0,1.0,2569282.0,12.0,574.0,7654.0,0.007692307699471712,0.9769230484962463,0.19230769574642181,0.0,0.0,0.0,2982.0]         |0.0  |\n",
       "[0.0,1.0,2592657.0,96.0,1233.0,3309.0,0.36153846979141235,0.23076923191547394,0.6307692527770996,0.0,0.0,0.0,2941.0]         |0.0  |\n",
       "[1.0,1.0,2603405.0,531.0,6384.0,31.0,0.0,0.06666667014360428,0.8999999761581421,0.0,1.0,0.0,3594.0]                          |0.0  |\n",
       "[1.0,1.0,2608187.0,81.0,7027.0,693.0,0.13178294897079468,0.5581395626068115,0.44961240887641907,0.0,0.0,0.0,4498.0]          |0.0  |\n",
       "[0.0,1.0,2611878.0,248.0,705.0,1017.0,0.10000000149011612,0.023076923564076424,0.3461538553237915,0.0,0.0,0.0,3674.0]        |0.0  |\n",
       "[0.0,1.0,2710411.0,964.0,28443.0,38936.0,0.10000000149011612,0.26923078298568726,0.6692307591438293,1.0,0.0,0.0,5034.0]      |0.0  |\n",
       "[0.0,1.0,2762898.0,8242.0,4802.0,21283.0,0.2734375,0.3671875,0.5625,0.0,0.0,0.0,4425.0]                                      |0.0  |\n",
       "[1.0,1.0,2889541.0,2280.0,5161.0,116482.0,0.1230769231915474,0.1538461595773697,0.8307692408561707,0.0,0.0,0.0,4450.0]       |0.0  |\n",
       "[1.0,1.0,2983079.0,3714.0,12608.0,49726.0,0.13076923787593842,0.8692307472229004,0.19230769574642181,0.0,0.0,0.0,4440.0]     |0.0  |\n",
       "(13,[1,2,4,5,7,8,12],[1.0,3081863.0,10665.0,266.0,0.06923077255487442,0.446153849363327,4554.0])                             |0.0  |\n",
       "[1.0,1.0,3102587.0,720.0,17703.0,13459.0,0.20769231021404266,0.16153846681118011,0.7923076748847961,0.0,0.0,0.0,4276.0]      |0.0  |\n",
       "[1.0,1.0,3107347.0,642.0,7035.0,23254.0,0.0,0.9615384340286255,0.19230769574642181,0.0,0.0,0.0,4466.0]                       |0.0  |\n",
       "[1.0,1.0,3138706.0,761.0,4159.0,8385.0,0.6692307591438293,0.20769231021404266,0.9692307710647583,0.0,0.0,0.0,3004.0]         |0.0  |\n",
       "[1.0,1.0,3174770.0,415.0,5202.0,4147.0,0.16923077404499054,0.5153846144676208,0.4769230782985687,0.0,0.0,0.0,4040.0]         |0.0  |\n",
       "[0.0,1.0,3235157.0,51.0,532.0,302.0,0.03846153989434242,0.07692307978868484,0.2538461685180664,0.0,1.0,0.0,1826.0]           |0.0  |\n",
       "(13,[1,2,4,5,7,8,12],[1.0,3246452.0,18218.0,107.0,0.6074766516685486,0.3644859790802002,4395.0])                             |0.0  |\n",
       "[0.0,1.0,3260475.0,1085.0,3008.0,5413.0,0.1230769231915474,0.20769231021404266,0.7153846025466919,0.0,0.0,0.0,4177.0]        |0.0  |\n",
       "[1.0,1.0,3271800.0,2781.0,23344.0,20047.0,0.0923076942563057,0.5384615659713745,0.3769230842590332,0.0,0.0,0.0,5092.0]       |0.0  |\n",
       "[1.0,1.0,3294133.0,69570.0,13237.0,95084.0,0.2769230902194977,0.20769231021404266,0.7076923251152039,1.0,0.0,0.0,5103.0]     |0.0  |\n",
       "[0.0,1.0,3362180.0,134.0,1110.0,4049.0,0.6875,0.25,0.734375,0.0,1.0,0.0,3469.0]                                              |0.0  |\n",
       "[1.0,1.0,3370247.0,343.0,2528.0,23683.0,0.8230769038200378,0.16923077404499054,0.8615384697914124,0.0,1.0,0.0,4077.0]        |0.0  |\n",
       "[1.0,1.0,3475037.0,307.0,7552.0,17164.0,0.007692307699471712,0.36153846979141235,0.007692307699471712,0.0,1.0,0.0,3910.0]    |0.0  |\n",
       "[1.0,1.0,3610951.0,894.0,3069.0,13992.0,0.1846153885126114,0.39230769872665405,0.4153846204280853,0.0,0.0,0.0,4142.0]        |0.0  |\n",
       "[1.0,1.0,3638130.0,333.0,206.0,6006.0,0.4692307710647583,0.11538461595773697,0.7307692170143127,1.0,0.0,0.0,2420.0]          |0.0  |\n",
       "[0.0,1.0,3710109.0,433.0,4931.0,1684.0,0.26356589794158936,0.5503876209259033,0.5116279125213623,0.0,0.0,0.0,3199.0]         |0.0  |\n",
       "[0.0,1.0,3779990.0,1048.0,10047.0,14575.0,0.015384615398943424,0.3076923191547394,0.5307692289352417,1.0,0.0,0.0,3830.0]     |0.0  |\n",
       "[0.0,1.0,3807092.0,83.0,21611.0,2044.0,0.007692307699471712,0.08461538702249527,0.35384616255760193,1.0,0.0,0.0,4332.0]      |0.0  |\n",
       "[0.0,1.0,3921279.0,507.0,5084.0,13060.0,0.007692307699471712,0.9769230484962463,0.23076923191547394,0.0,0.0,0.0,4407.0]      |0.0  |\n",
       "[1.0,1.0,3960698.0,676.0,19022.0,18843.0,0.1846153885126114,0.607692301273346,0.5769230723381042,1.0,0.0,0.0,4388.0]         |0.0  |\n",
       "[1.0,1.0,4044242.0,122.0,5329.0,3799.0,0.16153846681118011,0.6307692527770996,0.2538461685180664,0.0,1.0,0.0,2476.0]         |0.0  |\n",
       "[0.0,1.0,4110292.0,892.0,3200.0,25120.0,0.0615384615957737,0.11538461595773697,0.7923076748847961,0.0,0.0,0.0,3942.0]        |0.0  |\n",
       "[0.0,1.0,4180501.0,4235.0,3803.0,16870.0,0.0,0.6384615302085876,0.13076923787593842,0.0,0.0,0.0,3505.0]                      |0.0  |\n",
       "[1.0,1.0,4254444.0,1869.0,12116.0,2147.0,0.16923077404499054,0.14615385234355927,0.807692289352417,0.0,1.0,0.0,3714.0]       |0.0  |\n",
       "[0.0,1.0,4289626.0,238.0,4437.0,1348.0,0.05384615436196327,0.023076923564076424,0.3461538553237915,1.0,0.0,0.0,3578.0]       |0.0  |\n",
       "[1.0,1.0,4403354.0,12150.0,18849.0,2012.0,0.359375,0.3984375,0.8046875,0.0,0.0,0.0,4425.0]                                   |0.0  |\n",
       "[1.0,1.0,4497473.0,997.0,4969.0,28909.0,0.604651153087616,0.356589138507843,0.6666666865348816,0.0,0.0,0.0,3730.0]           |0.0  |\n",
       "[0.0,1.0,4524444.0,281.0,1059.0,2819.0,0.32307693362236023,0.03076923079788685,0.8769230842590332,0.0,1.0,0.0,2402.0]        |0.0  |\n",
       "[0.0,1.0,4655215.0,90.0,5842.0,4622.0,0.2153846174478531,0.5,0.3769230842590332,0.0,0.0,0.0,4324.0]                          |0.0  |\n",
       "[1.0,1.0,4729281.0,1598.0,32166.0,19898.0,0.2538461685180664,0.2846153974533081,0.36153846979141235,0.0,0.0,0.0,4340.0]      |0.0  |\n",
       "[0.0,1.0,4848370.0,518.0,2455.0,8144.0,0.0923076942563057,0.4307692348957062,0.20000000298023224,0.0,0.0,0.0,3730.0]         |0.0  |\n",
       "[1.0,1.0,5009603.0,415.0,30363.0,7198.0,0.4000000059604645,0.35384616255760193,0.5769230723381042,0.0,0.0,0.0,4872.0]        |0.0  |\n",
       "[0.0,1.0,5025826.0,842.0,18951.0,10217.0,0.07692307978868484,0.8692307472229004,0.33076924085617065,0.0,1.0,0.0,4362.0]      |0.0  |\n",
       "[1.0,1.0,5035330.0,592.0,5757.0,5590.0,0.06504064798355103,0.31707316637039185,0.2195121943950653,1.0,0.0,0.0,4223.0]        |0.0  |\n",
       "[1.0,1.0,5237305.0,50.0,1863.0,5174.0,0.05426356568932533,0.07751937955617905,0.3100775182247162,0.0,0.0,0.0,3792.0]         |0.0  |\n",
       "[0.0,1.0,5646088.0,35179.0,11742.0,105.0,0.031578946858644485,0.75789475440979,0.46315789222717285,0.0,0.0,0.0,4683.0]       |0.0  |\n",
       "[1.0,1.0,5756416.0,685.0,33348.0,31629.0,0.5230769515037537,0.48461538553237915,0.699999988079071,0.0,0.0,0.0,4407.0]        |0.0  |\n",
       "[1.0,1.0,5852589.0,0.0,652.0,693.0,0.015384615398943424,0.0615384615957737,0.4769230782985687,1.0,1.0,0.0,2230.0]            |0.0  |\n",
       "[0.0,1.0,5980752.0,659.0,20700.0,4217.0,0.20000000298023224,0.33076924085617065,0.5153846144676208,0.0,0.0,0.0,4285.0]       |0.0  |\n",
       "[1.0,1.0,6165964.0,141.0,8182.0,6997.0,0.0,0.2846153974533081,0.3692307770252228,1.0,0.0,0.0,4101.0]                         |0.0  |\n",
       "[1.0,1.0,6228791.0,579.0,3953.0,40863.0,0.9147287011146545,0.19379845261573792,0.9147287011146545,1.0,0.0,0.0,4326.0]        |0.0  |\n",
       "[1.0,1.0,7535474.0,30.0,6260.0,6966.0,0.6153846383094788,0.36153846979141235,0.9230769276618958,0.0,0.0,0.0,3558.0]          |0.0  |\n",
       "[1.0,1.0,7856505.0,151.0,1291.0,28551.0,0.08461538702249527,0.4000000059604645,0.26153847575187683,0.0,0.0,0.0,4125.0]       |0.0  |\n",
       "[1.0,1.0,7963942.0,626.0,12034.0,3058.0,0.17692308127880096,0.48461538553237915,0.692307710647583,0.0,0.0,0.0,4024.0]        |0.0  |\n",
       "[1.0,1.0,8145170.0,1260.0,6361.0,209.0,0.11382114142179489,0.3008130192756653,0.38211381435394287,0.0,0.0,0.0,4450.0]        |0.0  |\n",
       "[1.0,1.0,9954809.0,199.0,3317.0,1899.0,0.14173229038715363,0.10236220806837082,0.3779527544975281,0.0,0.0,0.0,3711.0]        |0.0  |\n",
       "[0.0,1.0,1.2979851E7,254166.0,31726.0,6735.0,0.0615384615957737,0.2153846174478531,0.3153846263885498,1.0,0.0,0.0,4022.0]    |0.0  |\n",
       "[1.0,1.0,1.3265106E7,1024.0,13247.0,20327.0,0.6124030947685242,0.1782945692539215,0.8062015771865845,0.0,0.0,0.0,4337.0]     |0.0  |\n",
       "[1.0,1.0,1.381203E7,724.0,2683.0,50324.0,0.32307693362236023,0.19230769574642181,0.6153846383094788,1.0,0.0,0.0,4021.0]      |0.0  |\n",
       "[1.0,1.0,1.7358182E7,18.0,11694.0,10901.0,0.17692308127880096,0.16153846681118011,0.7307692170143127,0.0,1.0,0.0,4316.0]     |0.0  |\n",
       "[1.0,1.0,1.7888279E7,0.0,15200.0,29142.0,0.023076923564076424,0.807692289352417,0.20000000298023224,0.0,0.0,0.0,4216.0]      |0.0  |\n",
       "[0.0,1.0,2.0117511E7,666.0,16411.0,12324.0,0.023076923564076424,0.30000001192092896,0.6384615302085876,0.0,0.0,0.0,4733.0]   |0.0  |\n",
       "[0.0,1.0,2.6122918E7,157.0,52482.0,3145.0,0.023076923564076424,0.4769230782985687,0.6769230961799622,0.0,0.0,0.0,4195.0]     |0.0  |\n",
       "[0.0,1.0,2.7945747E7,68.0,20794.0,690.0,0.4202898442745209,0.3333333432674408,0.6376811861991882,1.0,0.0,0.0,4146.0]         |0.0  |\n",
       "[1.0,1.0,3.4803294E7,14748.0,87370.0,11472.0,0.05384615436196327,0.6384615302085876,0.4923076927661896,0.0,1.0,0.0,3977.0]   |0.0  |\n",
       "[1.0,1.0,4.1374261E7,5758.0,101835.0,17715.0,0.16923077404499054,0.13076923787593842,0.8538461327552795,1.0,0.0,0.0,4135.0]  |0.0  |\n",
       "[0.0,1.0,4.364262E7,317.0,84301.0,13253.0,0.23846153914928436,0.3384615480899811,0.7538461685180664,0.0,0.0,0.0,4492.0]      |0.0  |\n",
       "[0.0,1.0,4.6482887E7,392.0,52719.0,11634.0,0.4000000059604645,0.2230769246816635,0.6000000238418579,0.0,0.0,0.0,3708.0]      |0.0  |\n",
       "+-----------------------------------------------------------------------------------------------------------------------------+-----+\n",
       "\n",
       "</div>"
      ]
     },
     "metadata": {
      "application/vnd.databricks.v1+output": {
       "addedWidgets": {},
       "arguments": {},
       "data": "<div class=\"ansiout\">+-----------------------------------------------------------------------------------------------------------------------------+-----+\n|features                                                                                                                     |label|\n+-----------------------------------------------------------------------------------------------------------------------------+-----+\n|(13,[5,6,7,8,10,12],[18.0,0.7222222089767456,0.2222222238779068,0.6666666865348816,1.0,3087.0])                              |1.0  |\n|(13,[5,6,7,8,10,11,12],[34.0,0.8064516186714172,0.3870967626571655,0.774193525314331,1.0,1.0,3692.0])                        |1.0  |\n|(13,[4,5,6,7,8,10,12],[1.0,224.0,0.9655172228813171,0.5775862336158752,0.9396551847457886,1.0,1409.0])                       |1.0  |\n|(13,[3,5,7,8,10,11,12],[2.0,59.0,1.0,1.0,1.0,1.0,872.0])                                                                     |1.0  |\n|(13,[3,5,8,9,12],[9.0,6.0,0.6666666865348816,1.0,899.0])                                                                     |1.0  |\n|(13,[3,5,6,7,8,10,12],[26.0,51.0,0.16326530277729034,0.7142857313156128,0.2448979616165161,1.0,3013.0])                      |1.0  |\n|(13,[2,5,6,7,8,10,12],[1.0,15.0,0.692307710647583,0.1538461595773697,0.692307710647583,1.0,2492.0])                          |1.0  |\n|(13,[2,5,6,7,8,10,12],[1.0,16.0,0.5333333611488342,0.3333333432674408,0.46666666865348816,1.0,2947.0])                       |1.0  |\n|(13,[2,5,6,7,8,10,12],[1.0,25.0,0.6363636255264282,0.22727273404598236,0.6363636255264282,1.0,2486.0])                       |1.0  |\n|(13,[2,5,6,7,8,10,12],[1.0,25.0,0.7200000286102295,0.1599999964237213,0.6800000071525574,1.0,2654.0])                        |1.0  |\n|[0.0,0.0,1.0,0.0,1.0,11.0,0.4545454680919647,0.27272728085517883,0.4545454680919647,0.0,1.0,0.0,3897.0]                      |1.0  |\n|(13,[2,5,10,12],[2.0,12.0,1.0,3511.0])                                                                                       |1.0  |\n|(13,[2,5,6,7,8,10,12],[2.0,19.0,0.05882352963089943,0.29411765933036804,0.05882352963089943,1.0,3210.0])                     |1.0  |\n|(13,[2,5,7,8,10,11,12],[2.0,24.0,0.9583333134651184,0.0833333358168602,1.0,1.0,3773.0])                                      |1.0  |\n|(13,[2,5,6,7,8,10,12],[2.0,25.0,0.7368420958518982,0.2631579041481018,0.6842105388641357,1.0,3170.0])                        |1.0  |\n|(13,[2,5,7,10,11,12],[2.0,1029.0,1.0,1.0,1.0,2121.0])                                                                        |1.0  |\n|(13,[0,2,5,7,10,11,12],[1.0,2.0,2160.0,1.0,1.0,1.0,2121.0])                                                                  |1.0  |\n|[1.0,0.0,2.0,0.0,1.0,1641.0,0.8958333134651184,0.40625,0.9375,0.0,1.0,0.0,1545.0]                                            |1.0  |\n|[0.0,0.0,2.0,15.0,0.0,1293.0,0.3644859790802002,0.07476635277271271,0.9626168012619019,0.0,1.0,0.0,4399.0]                   |1.0  |\n|(13,[2,3,5,6,7,8,12],[2.0,50.0,64.0,0.60317462682724,0.1587301641702652,0.7777777910232544,3220.0])                          |1.0  |\n|[0.0,0.0,2.0,58.0,0.0,675.0,0.9887640476226807,0.449438214302063,0.9438202381134033,0.0,1.0,0.0,1435.0]                      |1.0  |\n|(13,[2,3,5,8,10,12],[2.0,103.0,5.0,0.20000000298023224,1.0,3247.0])                                                          |1.0  |\n|(13,[2,5,6,7,8,10,12],[3.0,15.0,0.7857142686843872,0.2142857164144516,0.7857142686843872,1.0,2817.0])                        |1.0  |\n|(13,[2,5,6,7,8,10,12],[3.0,35.0,0.6363636255264282,0.12121212482452393,0.5757575631141663,1.0,3473.0])                       |1.0  |\n|(13,[2,5,6,7,8,10,12],[3.0,41.0,0.7027027010917664,0.13513512909412384,0.7027027010917664,1.0,3803.0])                       |1.0  |\n|[0.0,0.0,3.0,0.0,0.0,118.0,0.9672130942344666,0.4262295067310333,0.9508196711540222,0.0,1.0,1.0,4059.0]                      |1.0  |\n|(13,[2,4,5,6,7,8,12],[3.0,1.0,112.0,0.9903846383094788,0.692307710647583,0.8653846383094788,3801.0])                         |1.0  |\n|[0.0,0.0,3.0,24.0,1.0,2231.0,0.9605262875556946,0.3684210479259491,0.9210526347160339,1.0,0.0,0.0,4608.0]                    |1.0  |\n|[1.0,0.0,3.0,39.0,2.0,2320.0,0.390625,0.2265625,0.8828125,0.0,1.0,0.0,2940.0]                                                |1.0  |\n|(13,[2,3,5,6,7,8,12],[3.0,43.0,3100.0,0.8222222328186035,0.47777777910232544,0.9444444179534912,4382.0])                     |1.0  |\n|[1.0,0.0,3.0,63.0,1.0,6861.0,0.0,1.0,0.0,0.0,1.0,0.0,2121.0]                                                                 |1.0  |\n|[0.0,0.0,3.0,85.0,0.0,27.0,0.5909090638160706,0.04545454680919647,0.5454545617103577,0.0,1.0,0.0,3521.0]                     |1.0  |\n|(13,[2,5,6,7,8,10,12],[4.0,18.0,0.7058823704719543,0.3529411852359772,0.7058823704719543,1.0,3161.0])                        |1.0  |\n|(13,[2,5,6,7,8,10,12],[4.0,19.0,0.5,0.1666666716337204,0.4444444477558136,1.0,4015.0])                                       |1.0  |\n|(13,[2,5,6,7,8,10,12],[4.0,23.0,0.6363636255264282,0.27272728085517883,0.5909090638160706,1.0,3008.0])                       |1.0  |\n|(13,[2,5,6,7,8,10,12],[4.0,23.0,0.7368420958518982,0.15789473056793213,0.7368420958518982,1.0,3396.0])                       |1.0  |\n|(13,[2,5,6,7,8,12],[4.0,24.0,0.7272727489471436,0.13636364042758942,0.6818181872367859,4120.0])                              |1.0  |\n|(13,[2,5,6,7,8,10,12],[4.0,50.0,0.4791666567325592,0.1666666716337204,0.7291666865348816,1.0,2703.0])                        |1.0  |\n|[0.0,0.0,4.0,5.0,2.0,7234.0,0.007692307699471712,0.2461538463830948,0.4923076927661896,0.0,1.0,1.0,3190.0]                   |1.0  |\n|[0.0,0.0,4.0,14.0,1.0,1462.0,0.6739130616188049,0.31521740555763245,0.6521739363670349,1.0,0.0,0.0,1431.0]                   |1.0  |\n|[1.0,0.0,4.0,24.0,0.0,76.0,0.375,0.125,0.375,0.0,1.0,0.0,3031.0]                                                             |1.0  |\n|[0.0,0.0,4.0,26.0,0.0,25.0,0.6666666865348816,0.4166666567325592,0.7083333134651184,0.0,1.0,0.0,2338.0]                      |1.0  |\n|[0.0,0.0,4.0,50.0,0.0,26.0,0.7599999904632568,0.23999999463558197,0.6800000071525574,0.0,1.0,0.0,2928.0]                     |1.0  |\n|(13,[2,3,5,10,12],[4.0,153.0,9.0,1.0,2364.0])                                                                                |1.0  |\n|[1.0,0.0,4.0,167.0,0.0,17.0,0.0714285746216774,0.3571428656578064,0.1428571492433548,0.0,0.0,0.0,2795.0]                     |1.0  |\n|(13,[2,5,6,7,8,10,12],[5.0,21.0,0.6111111044883728,0.2222222238779068,0.5,1.0,2994.0])                                       |1.0  |\n|(13,[2,5,6,7,8,10,12],[5.0,22.0,0.4000000059604645,0.05000000074505806,0.30000001192092896,1.0,4306.0])                      |1.0  |\n|(13,[2,5,6,7,8,10,12],[5.0,28.0,0.5600000023841858,0.03999999910593033,0.5199999809265137,1.0,3371.0])                       |1.0  |\n|(13,[2,5,6,7,8,10,12],[5.0,28.0,0.7777777910232544,0.25925925374031067,0.7777777910232544,1.0,3233.0])                       |1.0  |\n|(13,[2,5,6,7,8,10,12],[5.0,44.0,0.6341463327407837,0.17073170840740204,0.6097561120986938,1.0,2867.0])                       |1.0  |\n|(13,[2,5,6,7,8,10,12],[5.0,47.0,0.43589743971824646,0.1538461595773697,0.43589743971824646,1.0,3008.0])                      |1.0  |\n|(13,[2,5,6,7,8,12],[5.0,143.0,0.8898305296897888,0.2881355881690979,0.8728813529014587,3789.0])                              |1.0  |\n|(13,[2,4,5,10,12],[5.0,2.0,1763.0,1.0,1281.0])                                                                               |1.0  |\n|[0.0,0.0,5.0,16.0,0.0,2176.0,0.9404761791229248,0.3452380895614624,0.9285714030265808,0.0,1.0,0.0,4194.0]                    |1.0  |\n|[0.0,0.0,5.0,43.0,0.0,16.0,0.6666666865348816,0.13333334028720856,0.6666666865348816,0.0,1.0,0.0,2684.0]                     |1.0  |\n|[0.0,0.0,5.0,58.0,0.0,377.0,0.3140496015548706,0.7438016533851624,0.3057851195335388,1.0,0.0,0.0,2276.0]                     |1.0  |\n|[0.0,0.0,5.0,102.0,2.0,891.0,0.9793814420700073,0.4020618498325348,0.9484536051750183,0.0,1.0,0.0,4396.0]                    |1.0  |\n|[0.0,0.0,5.0,107.0,0.0,18.0,0.7058823704719543,0.1764705926179886,0.5882353186607361,0.0,1.0,0.0,1447.0]                     |1.0  |\n|[0.0,0.0,5.0,116.0,0.0,18.0,0.5,0.0555555559694767,0.5,0.0,1.0,0.0,1196.0]                                                   |1.0  |\n|(13,[2,3,5,6,7,8,12],[5.0,149.0,143.0,0.5234375,0.25,0.859375,2856.0])                                                       |1.0  |\n|[0.0,0.0,5.0,173.0,0.0,701.0,0.23140496015548706,0.19834710657596588,0.8347107172012329,0.0,1.0,0.0,3758.0]                  |1.0  |\n|(13,[2,5,10,12],[6.0,5.0,1.0,3270.0])                                                                                        |1.0  |\n|(13,[2,5,6,7,8,10,12],[6.0,16.0,0.6875,0.125,0.6875,1.0,3314.0])                                                             |1.0  |\n|(13,[2,5,6,7,8,10,12],[6.0,24.0,0.6086956262588501,0.30434781312942505,0.6086956262588501,1.0,1586.0])                       |1.0  |\n|(13,[2,5,6,7,8,10,12],[6.0,27.0,0.6666666865348816,0.3333333432674408,0.6296296119689941,1.0,1335.0])                        |1.0  |\n|(13,[2,5,6,7,8,10,12],[6.0,54.0,0.5400000214576721,0.20000000298023224,0.5400000214576721,1.0,3035.0])                       |1.0  |\n|(13,[2,5,6,7,8,10,12],[6.0,59.0,0.5471698045730591,0.11320754885673523,0.5283018946647644,1.0,4109.0])                       |1.0  |\n|[0.0,0.0,6.0,0.0,0.0,97.0,0.7402597665786743,0.37662336230278015,0.8831169009208679,0.0,1.0,1.0,3755.0]                      |1.0  |\n|(13,[2,5,6,7,8,12],[6.0,122.0,0.9714285731315613,0.6761904954910278,0.9333333373069763,3799.0])                              |1.0  |\n|(13,[2,5,6,7,8,10,12],[6.0,366.0,0.7982456088066101,0.48245614767074585,0.9561403393745422,1.0,1727.0])                      |1.0  |\n|(13,[0,2,5,6,7,8,12],[1.0,6.0,956.0,0.9029126167297363,0.3786407709121704,0.9514563083648682,2769.0])                        |1.0  |\n|(13,[2,5,6,7,8,10,12],[6.0,2551.0,0.01550387591123581,0.9922480583190918,0.9224806427955627,1.0,3520.0])                     |1.0  |\n|(13,[2,3,5,10,12],[6.0,3.0,5257.0,1.0,2548.0])                                                                               |1.0  |\n|[1.0,0.0,6.0,12.0,0.0,41.0,0.02500000037252903,0.0,0.05000000074505806,0.0,1.0,0.0,3288.0]                                   |1.0  |\n|[0.0,0.0,6.0,16.0,0.0,60.0,0.0517241396009922,0.08620689809322357,0.06896551698446274,1.0,1.0,0.0,1686.0]                    |1.0  |\n|[0.0,0.0,6.0,25.0,0.0,20.0,0.8823529481887817,0.1764705926179886,0.8823529481887817,1.0,1.0,0.0,1687.0]                      |1.0  |\n|[0.0,0.0,6.0,41.0,0.0,478.0,0.023255813866853714,0.12403100728988647,0.03100775182247162,0.0,1.0,0.0,4130.0]                 |1.0  |\n|[1.0,0.0,6.0,191.0,2.0,1214.0,0.7454545497894287,0.38181817531585693,0.8363636136054993,1.0,1.0,0.0,2681.0]                  |1.0  |\n|(13,[2,5,6,7,8,12],[7.0,16.0,0.7142857313156128,0.0714285746216774,0.7857142686843872,3720.0])                               |1.0  |\n|(13,[2,5,6,7,8,10,12],[7.0,30.0,0.5,0.11538461595773697,0.42307692766189575,1.0,3182.0])                                     |1.0  |\n|(13,[2,5,6,7,8,10,12],[7.0,31.0,0.5714285969734192,0.1785714328289032,0.5,1.0,3939.0])                                       |1.0  |\n|(13,[2,5,6,7,8,10,12],[7.0,42.0,0.7179487347602844,0.10256410390138626,0.6410256624221802,1.0,2906.0])                       |1.0  |\n|(13,[2,5,6,7,8,10,12],[7.0,55.0,0.5208333134651184,0.0833333358168602,0.4791666567325592,1.0,2785.0])                        |1.0  |\n|(13,[2,4,5,10,12],[7.0,6.0,309.0,1.0,1025.0])                                                                                |1.0  |\n|[0.0,0.0,7.0,8.0,0.0,2740.0,0.9444444179534912,0.47777777910232544,0.9444444179534912,1.0,1.0,0.0,4347.0]                    |1.0  |\n|[0.0,0.0,7.0,25.0,1.0,3025.0,0.8902438879013062,0.3658536672592163,0.9512194991111755,0.0,0.0,0.0,3215.0]                    |1.0  |\n|[0.0,0.0,7.0,44.0,1.0,2342.0,0.9791666865348816,0.3333333432674408,0.9791666865348816,0.0,0.0,0.0,3340.0]                    |1.0  |\n|[0.0,0.0,7.0,114.0,0.0,241.0,0.6036036014556885,0.18918919563293457,0.9009009003639221,0.0,1.0,0.0,1680.0]                   |1.0  |\n|[0.0,0.0,7.0,136.0,0.0,29.0,0.7586206793785095,0.13793103396892548,0.5862069129943848,0.0,1.0,0.0,3112.0]                    |1.0  |\n|(13,[2,5,10,12],[8.0,8.0,1.0,3483.0])                                                                                        |1.0  |\n|(13,[2,5,6,7,8,10,12],[8.0,33.0,0.6000000238418579,0.13333334028720856,0.5666666626930237,1.0,3075.0])                       |1.0  |\n|(13,[2,5,6,7,8,10,12],[8.0,57.0,0.6470588445663452,0.21568627655506134,0.6274510025978088,1.0,2101.0])                       |1.0  |\n|(13,[2,4,5,7,12],[8.0,13.0,560562.0,1.0,1844.0])                                                                             |1.0  |\n|[0.0,0.0,8.0,12.0,0.0,34.0,0.8214285969734192,0.2857142984867096,0.8571428656578064,0.0,1.0,0.0,3777.0]                      |1.0  |\n|[0.0,0.0,8.0,30.0,0.0,922.0,0.0,1.0,1.0,0.0,1.0,1.0,2616.0]                                                                  |1.0  |\n|[0.0,0.0,8.0,31.0,0.0,525.0,0.9759036302566528,0.42168673872947693,0.891566276550293,0.0,1.0,0.0,1703.0]                     |1.0  |\n|[0.0,0.0,8.0,33.0,2.0,2143.0,0.0,1.0,0.0,0.0,1.0,1.0,2590.0]                                                                 |1.0  |\n|[0.0,0.0,8.0,135.0,0.0,1034.0,0.966292142868042,0.4157303273677826,0.9887640476226807,0.0,1.0,0.0,1585.0]                    |1.0  |\n|[0.0,0.0,8.0,176.0,0.0,1182.0,0.9883720874786377,0.5,0.9534883499145508,0.0,1.0,0.0,4048.0]                                  |1.0  |\n|(13,[2,5,6,7,8,12],[9.0,37.0,0.5517241358757019,0.13793103396892548,0.517241358757019,3333.0])                               |1.0  |\n|(13,[2,5,6,7,8,10,12],[9.0,50.0,0.695652186870575,0.1304347813129425,0.6521739363670349,1.0,3851.0])                         |1.0  |\n|(13,[2,5,6,7,8,10,12],[9.0,61.0,0.75,0.1607142835855484,0.6964285969734192,1.0,3190.0])                                      |1.0  |\n|[1.0,0.0,9.0,0.0,0.0,131.0,0.5666666626930237,0.28333333134651184,0.7166666388511658,0.0,1.0,0.0,2875.0]                     |1.0  |\n|(13,[2,4,5,10,12],[9.0,3.0,2970.0,1.0,1934.0])                                                                               |1.0  |\n|(13,[2,4,5,6,7,8,12],[9.0,8.0,1219.0,0.9917355179786682,0.40495866537094116,0.9834710955619812,2511.0])                      |1.0  |\n|[0.0,0.0,9.0,2.0,0.0,32.0,0.7586206793785095,0.27586206793785095,0.7586206793785095,0.0,1.0,0.0,2892.0]                      |1.0  |\n|[0.0,0.0,9.0,5.0,0.0,2239.0,0.8125,0.0357142873108387,0.9732142686843872,0.0,1.0,0.0,1053.0]                                 |1.0  |\n|[0.0,0.0,9.0,60.0,0.0,122.0,0.8910890817642212,0.8712871074676514,0.8910890817642212,0.0,1.0,0.0,1221.0]                     |1.0  |\n|[0.0,0.0,9.0,87.0,0.0,32.0,0.37037035822868347,0.40740740299224854,0.37037035822868347,0.0,1.0,0.0,3287.0]                   |1.0  |\n|[0.0,0.0,9.0,112.0,0.0,27.0,0.6000000238418579,0.2800000011920929,0.5600000023841858,0.0,1.0,0.0,1869.0]                     |1.0  |\n|[0.0,0.0,9.0,126.0,0.0,26.0,0.7368420958518982,0.21052631735801697,0.7368420958518982,0.0,1.0,0.0,2553.0]                    |1.0  |\n|[0.0,0.0,9.0,324.0,0.0,9.0,0.2222222238779068,0.3333333432674408,0.3333333432674408,0.0,1.0,0.0,4280.0]                      |1.0  |\n|(13,[2,5,6,7,8,10,12],[10.0,34.0,0.5517241358757019,0.06896551698446274,0.5517241358757019,1.0,2669.0])                      |1.0  |\n|(13,[2,5,6,7,8,10,12],[10.0,34.0,0.7419354915618896,0.29032257199287415,0.6774193644523621,1.0,4053.0])                      |1.0  |\n|(13,[2,5,6,7,8,10,12],[10.0,37.0,0.5,0.29411765933036804,0.5,1.0,2041.0])                                                    |1.0  |\n|(13,[2,5,6,7,8,10,12],[10.0,51.0,0.644444465637207,0.15555556118488312,0.6222222447395325,1.0,2583.0])                       |1.0  |\n|(13,[2,5,6,7,8,10,12],[10.0,134.0,0.8571428656578064,0.3949579894542694,0.8151260614395142,1.0,3899.0])                      |1.0  |\n|(13,[2,4,5,6,7,8,12],[10.0,2.0,1444.0,0.9674796462059021,0.3983739912509918,0.9512194991111755,2507.0])                      |1.0  |\n|(13,[2,3,5,6,7,8,12],[10.0,42.0,962.0,0.4955752193927765,0.4690265357494354,0.7168141603469849,4387.0])                      |1.0  |\n|[0.0,0.0,10.0,77.0,0.0,381.0,0.7676767706871033,0.3030303120613098,0.939393937587738,1.0,0.0,0.0,4416.0]                     |1.0  |\n|(13,[2,3,4,5,7,10,12],[10.0,87.0,1.0,10420.0,1.0,1.0,2378.0])                                                                |1.0  |\n|[0.0,0.0,10.0,202.0,0.0,45.0,0.5476190447807312,0.0714285746216774,0.6904761791229248,0.0,1.0,0.0,2519.0]                    |1.0  |\n|[0.0,0.0,10.0,216.0,0.0,63.0,0.4833333194255829,0.2666666805744171,0.4333333373069763,0.0,1.0,0.0,2451.0]                    |1.0  |\n|[0.0,0.0,10.0,493.0,0.0,71.0,0.7878788113594055,0.5454545617103577,0.8030303120613098,0.0,1.0,0.0,2826.0]                    |1.0  |\n|(13,[2,5,6,7,8,10,12],[11.0,19.0,0.47058823704719543,0.11764705926179886,0.3529411852359772,1.0,3618.0])                     |1.0  |\n|(13,[2,5,6,7,8,10,12],[11.0,28.0,0.6296296119689941,0.29629629850387573,0.7407407164573669,1.0,2496.0])                      |1.0  |\n|(13,[2,5,6,7,8,10,12],[11.0,47.0,0.5454545617103577,0.22727273404598236,0.5454545617103577,1.0,2507.0])                      |1.0  |\n|[1.0,0.0,11.0,0.0,0.0,63.0,0.7058823704719543,0.21568627655506134,0.686274528503418,0.0,1.0,0.0,3217.0]                      |1.0  |\n|[0.0,0.0,11.0,24.0,1.0,1846.0,0.0,0.03846153989434242,0.9769230484962463,0.0,1.0,0.0,1414.0]                                 |1.0  |\n|[0.0,0.0,11.0,29.0,0.0,2914.0,0.9518072009086609,0.46987950801849365,0.9277108311653137,0.0,1.0,0.0,2891.0]                  |1.0  |\n|[0.0,0.0,11.0,70.0,1.0,2127.0,0.9764705896377563,0.3764705955982208,0.9411764740943909,0.0,0.0,0.0,3974.0]                   |1.0  |\n|[0.0,0.0,11.0,88.0,0.0,1434.0,0.8765432238578796,0.4444444477558136,0.9135802388191223,0.0,1.0,0.0,3630.0]                   |1.0  |\n|[0.0,0.0,11.0,944.0,0.0,39.0,0.0810810774564743,0.3243243098258972,0.3513513505458832,0.0,1.0,0.0,2675.0]                    |1.0  |\n|(13,[2,5,6,7,8,10,12],[12.0,28.0,0.75,0.2083333283662796,0.75,1.0,3667.0])                                                   |1.0  |\n|(13,[2,5,6,7,8,12],[12.0,40.0,0.5945945978164673,0.10810811072587967,0.5405405163764954,3965.0])                             |1.0  |\n|(13,[0,2,5,6,7,8,12],[1.0,12.0,82.0,0.3199999928474426,0.13333334028720856,0.41333332657814026,3398.0])                      |1.0  |\n|(13,[2,5,6,7,8,10,12],[12.0,288.0,0.3442623019218445,0.1147540956735611,0.6967213153839111,1.0,3839.0])                      |1.0  |\n|[0.0,0.0,12.0,0.0,1.0,41.0,0.6842105388641357,0.18421052396297455,0.6842105388641357,0.0,1.0,0.0,2385.0]                     |1.0  |\n|[1.0,0.0,12.0,43.0,0.0,1474.0,0.8735632300376892,0.36781609058380127,0.8620689511299133,0.0,1.0,0.0,2944.0]                  |1.0  |\n|(13,[2,3,5,6,7,8,12],[12.0,48.0,714.0,0.9879518151283264,0.33734938502311707,0.9759036302566528,3864.0])                     |1.0  |\n|(13,[2,5,6,7,8,10,12],[13.0,50.0,0.6808510422706604,0.12765957415103912,0.6595744490623474,1.0,1930.0])                      |1.0  |\n|(13,[2,5,6,7,8,10,12],[13.0,75.0,0.6153846383094788,0.20000000298023224,0.5692307949066162,1.0,3856.0])                      |1.0  |\n|(13,[2,3,5,6,7,8,12],[13.0,36.0,3094.0,0.8222222328186035,0.4888888895511627,0.8777777552604675,3272.0])                     |1.0  |\n|[0.0,0.0,13.0,96.0,0.0,1423.0,0.8117647171020508,0.2705882489681244,0.9764705896377563,0.0,1.0,0.0,4424.0]                   |1.0  |\n|[0.0,0.0,13.0,258.0,0.0,71.0,0.09859155118465424,0.5070422291755676,0.30985915660858154,1.0,0.0,0.0,1211.0]                  |1.0  |\n|(13,[2,5,8,10,12],[14.0,17.0,0.23529411852359772,1.0,3646.0])                                                                |1.0  |\n|(13,[2,5,6,7,8,10,12],[14.0,36.0,0.4333333373069763,0.13333334028720856,0.4000000059604645,1.0,3955.0])                      |1.0  |\n|(13,[2,5,6,7,8,10,12],[14.0,38.0,0.6944444179534912,0.1111111119389534,0.6388888955116272,1.0,4058.0])                       |1.0  |\n|(13,[2,5,6,7,8,10,12],[14.0,45.0,0.7804877758026123,0.19512194395065308,0.7317073345184326,1.0,2367.0])                      |1.0  |\n|(13,[2,5,6,7,8,12],[14.0,55.0,0.36538460850715637,0.26923078298568726,0.6538461446762085,3880.0])                            |1.0  |\n|(13,[2,5,6,7,8,10,12],[14.0,59.0,0.6415094137191772,0.15094339847564697,0.5660377144813538,1.0,3230.0])                      |1.0  |\n|(13,[2,5,6,7,8,10,12],[14.0,101.0,0.59375,0.1145833358168602,0.5729166865348816,1.0,3933.0])                                 |1.0  |\n|(13,[2,3,4,5,8,12],[14.0,12.0,2.0,1065.0,0.03076923079788685,1008.0])                                                        |1.0  |\n|[0.0,0.0,14.0,56.0,0.0,24.0,0.05263157933950424,0.2631579041481018,0.5789473652839661,0.0,1.0,0.0,3227.0]                    |1.0  |\n|(13,[2,3,5,6,7,8,12],[14.0,86.0,1812.0,0.8913043737411499,0.3804347813129425,0.945652186870575,3511.0])                      |1.0  |\n|[0.0,0.0,14.0,105.0,1.0,2612.0,0.9008264541625977,0.04958677664399147,0.9090909361839294,1.0,1.0,0.0,2236.0]                 |1.0  |\n|[0.0,0.0,14.0,219.0,0.0,24.0,0.4583333432674408,0.0833333358168602,0.4166666567325592,0.0,1.0,0.0,3027.0]                    |1.0  |\n|[1.0,0.0,14.0,325.0,0.0,2237.0,0.7636363506317139,0.19090908765792847,0.9363636374473572,1.0,1.0,0.0,3237.0]                 |1.0  |\n|[0.0,0.0,14.0,490.0,0.0,1216.0,0.9878048896789551,0.353658527135849,0.9268292784690857,0.0,1.0,0.0,2466.0]                   |1.0  |\n|(13,[2,5,6,7,8,10,12],[15.0,35.0,0.7419354915618896,0.16129031777381897,0.7419354915618896,1.0,3483.0])                      |1.0  |\n|(13,[2,5,6,7,8,10,12],[15.0,67.0,0.6666666865348816,0.2063492089509964,0.60317462682724,1.0,4337.0])                         |1.0  |\n|(13,[2,5,6,7,8,10,12],[15.0,93.0,0.8235294222831726,0.21176470816135406,0.7529411911964417,1.0,3765.0])                      |1.0  |\n|(13,[2,5,6,7,8,10,12],[15.0,1177.0,0.9494949579238892,0.4747474789619446,1.0,1.0,3854.0])                                    |1.0  |\n|[0.0,0.0,15.0,0.0,1.0,30.0,0.699999988079071,0.4000000059604645,0.6666666865348816,0.0,1.0,0.0,3057.0]                       |1.0  |\n|[0.0,0.0,15.0,0.0,1.0,48.0,0.32608696818351746,0.695652186870575,0.3695652186870575,0.0,1.0,0.0,2989.0]                      |1.0  |\n|[0.0,0.0,15.0,22.0,1.0,870.0,0.8461538553237915,0.07692307978868484,0.9230769276618958,1.0,0.0,0.0,3858.0]                   |1.0  |\n|[1.0,0.0,15.0,62.0,0.0,3021.0,0.023255813866853714,0.023255813866853714,0.9767441749572754,0.0,0.0,0.0,3923.0]               |1.0  |\n|[0.0,0.0,15.0,64.0,1.0,2589.0,0.9890109896659851,0.32967033982276917,0.9450549483299255,0.0,0.0,0.0,3732.0]                  |1.0  |\n|[1.0,0.0,15.0,145.0,0.0,630.0,0.0,0.9384615421295166,0.9153845906257629,1.0,0.0,0.0,2901.0]                                  |1.0  |\n|(13,[2,5,6,7,8,10,12],[16.0,78.0,0.6301369667053223,0.24657534062862396,0.6164383292198181,1.0,1805.0])                      |1.0  |\n|(13,[2,5,6,7,8,10,12],[16.0,91.0,0.7228915691375732,0.16867469251155853,0.6746987700462341,1.0,3897.0])                      |1.0  |\n|[0.0,0.0,16.0,49.0,1.0,3072.0,0.9767441749572754,0.43023255467414856,0.9418604373931885,0.0,1.0,0.0,3180.0]                  |1.0  |\n|[0.0,0.0,16.0,120.0,1.0,3641.0,0.2945736348628998,0.2945736348628998,0.7829457521438599,1.0,1.0,0.0,3790.0]                  |1.0  |\n|[1.0,0.0,17.0,0.0,0.0,46.0,0.6829268336296082,0.17073170840740204,0.6097561120986938,0.0,1.0,0.0,3767.0]                     |1.0  |\n|(13,[2,5,6,7,8,10,12],[17.0,335.0,0.41129031777381897,0.13709677755832672,0.5080645084381104,1.0,2982.0])                    |1.0  |\n|[0.0,0.0,17.0,39.0,0.0,723.0,0.6534653306007385,0.2574257552623749,0.9207921028137207,0.0,1.0,0.0,2260.0]                    |1.0  |\n|[0.0,0.0,17.0,55.0,0.0,227.0,0.10236220806837082,0.023622047156095505,0.7165354490280151,1.0,1.0,0.0,1430.0]                 |1.0  |\n|[0.0,0.0,17.0,106.0,0.0,1590.0,0.6019417643547058,0.3009708821773529,0.9514563083648682,0.0,1.0,0.0,2341.0]                  |1.0  |\n|[0.0,0.0,17.0,165.0,5.0,697.0,0.9468085169792175,0.38297873735427856,0.9468085169792175,0.0,0.0,0.0,3453.0]                  |1.0  |\n|[1.0,0.0,17.0,208.0,0.0,51.0,0.5714285969734192,0.261904776096344,0.8333333134651184,0.0,0.0,1.0,3718.0]                     |1.0  |\n|[0.0,0.0,17.0,220.0,0.0,43.0,0.5,0.1315789520740509,0.4736842215061188,0.0,1.0,0.0,1220.0]                                   |1.0  |\n|[0.0,0.0,17.0,254.0,0.0,65.0,0.688524603843689,0.2295081913471222,0.6393442749977112,0.0,1.0,0.0,3226.0]                     |1.0  |\n|(13,[2,5,6,7,8,10,12],[18.0,54.0,0.3469387888908386,0.06122449040412903,0.30612245202064514,1.0,3090.0])                     |1.0  |\n|(13,[2,5,6,7,8,10,12],[18.0,72.0,0.6911764740943909,0.14705882966518402,0.6911764740943909,1.0,4027.0])                      |1.0  |\n\n*** WARNING: skipped 2560472 bytes of output ***\n\n|[0.0,1.0,696130.0,9068.0,5353.0,78110.0,0.5153846144676208,0.26153847575187683,0.8384615182876587,0.0,0.0,0.0,4487.0]        |0.0  |\n|[1.0,1.0,697638.0,2266.0,3041.0,5976.0,0.05384615436196327,0.2230769246816635,0.45384615659713745,1.0,0.0,0.0,3740.0]        |0.0  |\n|[1.0,1.0,701650.0,2291.0,2012.0,161814.0,0.5503876209259033,0.45736435055732727,0.8217054009437561,1.0,0.0,0.0,4555.0]       |0.0  |\n|[1.0,1.0,704245.0,146.0,2227.0,9976.0,0.234375,0.078125,0.3046875,0.0,0.0,0.0,3955.0]                                        |0.0  |\n|[0.0,1.0,705867.0,371.0,0.0,3239.0,0.10769230872392654,0.7384615540504456,0.42307692766189575,0.0,1.0,0.0,3619.0]            |0.0  |\n|[1.0,1.0,714063.0,1208.0,788.0,78950.0,0.6640625,0.2421875,0.7890625,1.0,0.0,0.0,4377.0]                                     |0.0  |\n|[1.0,1.0,716474.0,226.0,1225.0,1375.0,0.2936508059501648,0.1031746044754982,0.6428571343421936,1.0,1.0,0.0,3404.0]           |0.0  |\n|[0.0,1.0,722571.0,1776.0,2754.0,25791.0,0.2846153974533081,0.1538461595773697,0.8769230842590332,1.0,0.0,0.0,4440.0]         |0.0  |\n|[1.0,1.0,723232.0,1066.0,4732.0,9861.0,0.03076923079788685,0.4923076927661896,0.7153846025466919,1.0,0.0,0.0,4212.0]         |0.0  |\n|[0.0,1.0,728888.0,18.0,4786.0,776.0,0.007692307699471712,1.0,0.023076923564076424,0.0,1.0,0.0,3245.0]                        |0.0  |\n|[1.0,1.0,732338.0,1962.0,1495.0,12040.0,0.1538461595773697,0.5307692289352417,0.7692307829856873,1.0,0.0,0.0,3361.0]         |0.0  |\n|[0.0,1.0,736962.0,22.0,1500.0,10776.0,0.13953489065170288,0.4806201457977295,0.44961240887641907,0.0,0.0,0.0,4033.0]         |0.0  |\n|[0.0,1.0,761675.0,2.0,24063.0,4973.0,0.0,1.0,0.015384615398943424,0.0,0.0,0.0,4543.0]                                        |0.0  |\n|[1.0,1.0,769030.0,73.0,1335.0,1767.0,0.07692307978868484,0.13076923787593842,0.7230769395828247,0.0,0.0,0.0,3411.0]          |0.0  |\n|[1.0,1.0,773520.0,1072.0,353.0,19937.0,0.5193798542022705,0.09302325546741486,0.7751938104629517,1.0,1.0,0.0,4352.0]         |0.0  |\n|[1.0,1.0,776321.0,2685.0,3577.0,10927.0,0.1538461595773697,0.3153846263885498,0.7769230604171753,1.0,0.0,0.0,4037.0]         |0.0  |\n|[1.0,1.0,784401.0,179.0,988.0,6583.0,0.04615384712815285,0.5846154093742371,0.1846153885126114,0.0,1.0,0.0,3359.0]           |0.0  |\n|[1.0,1.0,797609.0,3094.0,3024.0,418038.0,0.03076923079788685,0.9538461565971375,0.07692307978868484,0.0,0.0,0.0,4626.0]      |0.0  |\n|[1.0,1.0,798199.0,1590.0,3728.0,259877.0,0.03846153989434242,0.9538461565971375,0.04615384712815285,0.0,0.0,0.0,4579.0]      |0.0  |\n|[1.0,1.0,807807.0,262.0,903.0,3549.0,0.13076923787593842,0.36153846979141235,0.26153847575187683,0.0,1.0,0.0,3582.0]         |0.0  |\n|[0.0,1.0,815425.0,58.0,4453.0,770.0,0.302325576543808,0.1860465109348297,0.5736433863639832,0.0,0.0,0.0,2984.0]              |0.0  |\n|[0.0,1.0,816044.0,140.0,6696.0,2035.0,0.1782945692539215,0.42635658383369446,0.682170569896698,0.0,0.0,0.0,4326.0]           |0.0  |\n|[1.0,1.0,817745.0,40.0,1118.0,4166.0,0.16153846681118011,0.13846154510974884,0.2230769246816635,1.0,0.0,0.0,4423.0]          |0.0  |\n|[1.0,0.0,834408.0,355.0,1537.0,7587.0,0.8062015771865845,0.1627907007932663,0.8682170510292053,0.0,1.0,0.0,3759.0]           |0.0  |\n|[1.0,1.0,854230.0,1575.0,986.0,60500.0,0.0615384615957737,0.11538461595773697,0.800000011920929,1.0,0.0,0.0,3786.0]          |0.0  |\n|[1.0,1.0,859960.0,1433.0,17833.0,27995.0,0.0923076942563057,0.2538461685180664,0.8692307472229004,0.0,0.0,0.0,5123.0]        |0.0  |\n|[1.0,1.0,860554.0,1740.0,1785.0,5778.0,0.1846153885126114,0.32307693362236023,0.7461538314819336,0.0,1.0,0.0,4579.0]         |0.0  |\n|[1.0,1.0,876285.0,1463.0,4908.0,17484.0,0.32307693362236023,0.19230769574642181,0.7692307829856873,0.0,0.0,0.0,4299.0]       |0.0  |\n|(13,[2,3,4,5,6,8,12],[896709.0,96.0,1295.0,27410.0,0.00800000037997961,0.00800000037997961,3577.0])                          |0.0  |\n|[0.0,1.0,902380.0,2199.0,2375.0,63536.0,0.023076923564076424,0.2538461685180664,0.1230769231915474,0.0,0.0,0.0,4626.0]       |0.0  |\n|[1.0,1.0,904205.0,358.0,1352.0,1999.0,0.1230769231915474,0.10000000149011612,0.5461538434028625,0.0,1.0,0.0,2896.0]          |0.0  |\n|[1.0,1.0,921404.0,274.0,1737.0,7426.0,0.10769230872392654,0.2846153974533081,0.26923078298568726,1.0,0.0,0.0,3771.0]         |0.0  |\n|[0.0,1.0,924579.0,21.0,13670.0,1732.0,0.007692307699471712,0.14615385234355927,0.023076923564076424,0.0,1.0,0.0,4058.0]      |0.0  |\n|[0.0,1.0,927844.0,93.0,4592.0,604.0,0.16153846681118011,0.39230769872665405,0.5769230723381042,1.0,0.0,0.0,3836.0]           |0.0  |\n|[0.0,1.0,928498.0,3446.0,2033.0,23837.0,0.03846153989434242,0.32307693362236023,0.26923078298568726,0.0,0.0,0.0,4168.0]      |0.0  |\n|[1.0,1.0,928729.0,139.0,5347.0,10327.0,0.3333333432674408,0.3488371968269348,0.8217054009437561,0.0,0.0,0.0,4410.0]          |0.0  |\n|[0.0,1.0,938703.0,249.0,2533.0,1003.0,0.2846153974533081,0.2846153974533081,0.38461539149284363,0.0,1.0,0.0,3361.0]          |0.0  |\n|[0.0,1.0,944104.0,839.0,5325.0,9597.0,0.7384615540504456,0.06923077255487442,0.9307692050933838,0.0,0.0,0.0,4410.0]          |0.0  |\n|[0.0,1.0,951053.0,81.0,193.0,5945.0,0.7317073345184326,0.34959349036216736,0.7479674816131592,1.0,1.0,0.0,2178.0]            |0.0  |\n|[1.0,1.0,958367.0,1145.0,2849.0,13533.0,0.30000001192092896,0.07692307978868484,0.7461538314819336,0.0,1.0,0.0,4284.0]       |0.0  |\n|[0.0,1.0,989149.0,379.0,2376.0,5698.0,0.11538461595773697,0.6692307591438293,0.4615384638309479,0.0,0.0,0.0,4315.0]          |0.0  |\n|[0.0,1.0,995525.0,37.0,978.0,269.0,0.0615384615957737,0.10000000149011612,0.35384616255760193,0.0,1.0,0.0,3279.0]            |0.0  |\n|[1.0,1.0,995734.0,1048.0,3165.0,21505.0,0.3769230842590332,0.4615384638309479,0.6230769157409668,1.0,0.0,0.0,4286.0]         |0.0  |\n|[0.0,1.0,995769.0,1726.0,5083.0,771.0,0.5307692289352417,0.4307692348957062,0.607692301273346,0.0,0.0,0.0,4178.0]            |0.0  |\n|(13,[1,2,4,5,7,8,12],[1.0,997029.0,11589.0,2418.0,1.0,0.14615385234355927,4389.0])                                           |0.0  |\n|[0.0,0.0,1003059.0,93.0,3400.0,5876.0,0.0923076942563057,0.6153846383094788,0.20769231021404266,0.0,0.0,0.0,3106.0]          |0.0  |\n|[0.0,1.0,1007877.0,675.0,2518.0,24477.0,0.2538461685180664,0.5461538434028625,0.6000000238418579,0.0,0.0,0.0,4296.0]         |0.0  |\n|[1.0,1.0,1051389.0,122.0,1966.0,299.0,0.12403100728988647,0.5968992114067078,0.5891472697257996,0.0,0.0,0.0,3278.0]          |0.0  |\n|[0.0,1.0,1057748.0,45.0,1958.0,254.0,0.0,0.023076923564076424,0.14615385234355927,1.0,1.0,0.0,3015.0]                        |0.0  |\n|[0.0,1.0,1066341.0,374.0,622.0,12745.0,0.0615384615957737,0.7307692170143127,0.26153847575187683,1.0,0.0,0.0,4013.0]         |0.0  |\n|[0.0,1.0,1082108.0,344.0,5241.0,1679.0,0.20000000298023224,0.16923077404499054,0.446153849363327,0.0,0.0,0.0,3805.0]         |0.0  |\n|[1.0,0.0,1100647.0,292.0,805.0,21351.0,0.0,1.0,0.0923076942563057,0.0,0.0,0.0,4250.0]                                        |0.0  |\n|[1.0,0.0,1101344.0,51.0,4487.0,488.0,0.0,0.0923076942563057,0.807692289352417,0.0,1.0,0.0,3338.0]                            |0.0  |\n|[1.0,1.0,1105867.0,95199.0,6163.0,39651.0,0.3076923191547394,0.0923076942563057,0.800000011920929,0.0,0.0,0.0,4626.0]        |0.0  |\n|[1.0,1.0,1126769.0,381.0,24874.0,6849.0,0.30000001192092896,0.48461538553237915,0.7153846025466919,1.0,0.0,0.0,4278.0]       |0.0  |\n|[0.0,1.0,1127526.0,494.0,14753.0,28713.0,0.8538461327552795,0.5153846144676208,0.8615384697914124,0.0,1.0,0.0,4068.0]        |0.0  |\n|[1.0,1.0,1155335.0,1318.0,540.0,5599.0,0.5769230723381042,0.23076923191547394,0.800000011920929,1.0,0.0,0.0,4045.0]          |0.0  |\n|[0.0,1.0,1160374.0,959.0,2650.0,6706.0,0.1538461595773697,0.6230769157409668,0.699999988079071,0.0,0.0,0.0,3877.0]           |0.0  |\n|[1.0,1.0,1180217.0,10.0,229.0,4015.0,0.007692307699471712,0.2153846174478531,0.08461538702249527,1.0,1.0,0.0,2668.0]         |0.0  |\n|[1.0,1.0,1202169.0,577.0,690.0,8539.0,0.04615384712815285,0.7769230604171753,0.807692289352417,0.0,1.0,0.0,3719.0]           |0.0  |\n|[0.0,1.0,1202490.0,168.0,3262.0,7729.0,0.6538461446762085,0.29230770468711853,0.6615384817123413,0.0,1.0,0.0,3681.0]         |0.0  |\n|[1.0,1.0,1203538.0,172.0,2770.0,5164.0,0.16923077404499054,0.692307710647583,0.42307692766189575,0.0,0.0,0.0,4364.0]         |0.0  |\n|[1.0,0.0,1203813.0,519.0,1818.0,17561.0,0.1825396865606308,0.3253968358039856,0.3095238208770752,1.0,0.0,0.0,4399.0]         |0.0  |\n|[1.0,1.0,1203898.0,312.0,1471.0,3332.0,0.05384615436196327,0.0923076942563057,0.8461538553237915,1.0,0.0,0.0,4404.0]         |0.0  |\n|[1.0,1.0,1218874.0,328.0,558.0,6040.0,0.4153846204280853,0.07692307978868484,0.6153846383094788,1.0,0.0,0.0,3610.0]          |0.0  |\n|[1.0,1.0,1221323.0,681.0,1390.0,26307.0,0.3333333432674408,0.21705426275730133,0.5736433863639832,1.0,0.0,0.0,3049.0]        |0.0  |\n|[0.0,1.0,1221388.0,106.0,5897.0,1278.0,0.341269850730896,0.4126984179019928,0.8015872836112976,0.0,0.0,0.0,4479.0]           |0.0  |\n|[0.0,1.0,1227061.0,320.0,1820.0,3233.0,0.08461538702249527,0.4692307710647583,0.4307692348957062,0.0,1.0,0.0,2973.0]         |0.0  |\n|[0.0,1.0,1240699.0,706.0,814.0,7918.0,0.20769231021404266,0.36153846979141235,0.446153849363327,0.0,0.0,0.0,3214.0]          |0.0  |\n|[1.0,1.0,1270285.0,2819.0,931.0,22300.0,0.1538461595773697,0.4692307710647583,0.5461538434028625,1.0,0.0,0.0,4353.0]         |0.0  |\n|[0.0,1.0,1296060.0,552.0,9883.0,10943.0,0.42307692766189575,0.29230770468711853,0.6769230961799622,0.0,0.0,0.0,4492.0]       |0.0  |\n|[1.0,1.0,1323686.0,2.0,704.0,1781.0,0.0615384615957737,0.05384615436196327,0.1230769231915474,0.0,0.0,0.0,3874.0]            |0.0  |\n|[0.0,1.0,1348629.0,77.0,2472.0,7066.0,0.39230769872665405,0.23076923191547394,0.5923076868057251,0.0,0.0,0.0,3897.0]         |0.0  |\n|[1.0,1.0,1411903.0,571.0,3174.0,2743.0,0.2153846174478531,0.45384615659713745,0.5307692289352417,0.0,0.0,0.0,3590.0]         |0.0  |\n|[0.0,1.0,1413787.0,160.0,3068.0,5540.0,0.23076923191547394,0.2230769246816635,0.607692301273346,0.0,0.0,0.0,3396.0]          |0.0  |\n|[1.0,1.0,1429262.0,7709.0,8446.0,105238.0,0.8615384697914124,0.5076923370361328,0.8846153616905212,0.0,0.0,0.0,4492.0]       |0.0  |\n|[1.0,1.0,1442957.0,1925.0,15941.0,152352.0,0.26923078298568726,0.17692308127880096,0.8153846263885498,0.0,0.0,0.0,5122.0]    |0.0  |\n|[0.0,1.0,1471177.0,308.0,972.0,3999.0,0.32307693362236023,0.29230770468711853,0.6769230961799622,0.0,0.0,0.0,3702.0]         |0.0  |\n|[1.0,0.0,1478787.0,971.0,6649.0,41857.0,0.0,0.20769231021404266,0.2230769246816635,0.0,0.0,0.0,4269.0]                       |0.0  |\n|[1.0,1.0,1499077.0,5816.0,2052.0,30297.0,0.4615384638309479,0.3153846263885498,0.6384615302085876,1.0,0.0,0.0,4281.0]        |0.0  |\n|[1.0,1.0,1499442.0,763.0,980.0,20301.0,0.45384615659713745,0.30000001192092896,0.6384615302085876,0.0,0.0,0.0,3640.0]        |0.0  |\n|[1.0,1.0,1518816.0,21343.0,18912.0,162131.0,0.8139534592628479,0.302325576543808,0.8604651093482971,1.0,0.0,0.0,5145.0]      |0.0  |\n|[0.0,1.0,1521431.0,3499.0,3131.0,30441.0,0.03076923079788685,0.5307692289352417,0.2769230902194977,0.0,1.0,0.0,3520.0]       |0.0  |\n|[1.0,1.0,1534049.0,142.0,4052.0,279.0,0.328125,0.1484375,0.5859375,0.0,0.0,0.0,3097.0]                                       |0.0  |\n|[1.0,1.0,1547082.0,2562.0,673.0,4377.0,0.17322835326194763,0.5118110179901123,0.3779527544975281,1.0,0.0,0.0,3781.0]         |0.0  |\n|[0.0,1.0,1552307.0,2472.0,1495.0,8438.0,0.3515625,0.09375,0.890625,0.0,0.0,0.0,4154.0]                                       |0.0  |\n|[1.0,1.0,1563237.0,77.0,3169.0,22500.0,0.10000000149011612,0.3461538553237915,0.3076923191547394,0.0,0.0,0.0,3988.0]         |0.0  |\n|[1.0,1.0,1586556.0,292.0,2844.0,4321.0,0.24806201457977295,0.3178294599056244,0.7596899271011353,0.0,0.0,0.0,3869.0]         |0.0  |\n|[1.0,1.0,1594995.0,184.0,380.0,6400.0,0.03846153989434242,0.16923077404499054,0.4000000059604645,1.0,0.0,0.0,4099.0]         |0.0  |\n|[0.0,1.0,1595987.0,414.0,4508.0,17683.0,0.5426356792449951,0.4728682041168213,0.7906976938247681,0.0,0.0,0.0,4383.0]         |0.0  |\n|[1.0,1.0,1651764.0,1343.0,2526.0,10969.0,0.5078125,0.1328125,0.8828125,1.0,0.0,0.0,4446.0]                                   |0.0  |\n|[0.0,1.0,1697427.0,591.0,6484.0,41705.0,0.07692307978868484,0.2461538463830948,0.7461538314819336,0.0,0.0,0.0,4456.0]        |0.0  |\n|[1.0,1.0,1698235.0,2431.0,1518.0,15140.0,0.6456692814826965,0.3700787425041199,0.7401574850082397,0.0,0.0,0.0,4433.0]        |0.0  |\n|[0.0,1.0,1719616.0,1501.0,11663.0,12784.0,0.3384615480899811,0.007692307699471712,0.7846153974533081,0.0,0.0,0.0,4269.0]     |0.0  |\n|[1.0,1.0,1731539.0,851.0,13963.0,136680.0,0.7076923251152039,0.4153846204280853,0.7461538314819336,0.0,0.0,0.0,4579.0]       |0.0  |\n|[0.0,1.0,1737044.0,1875.0,3192.0,15838.0,0.4384615421295166,0.2153846174478531,0.7230769395828247,0.0,0.0,0.0,4158.0]        |0.0  |\n|[0.0,1.0,1759233.0,494.0,592.0,19563.0,0.23846153914928436,0.23846153914928436,0.30000001192092896,0.0,0.0,0.0,3398.0]       |0.0  |\n|[1.0,1.0,1797985.0,521.0,2804.0,7211.0,0.06923077255487442,0.38461539149284363,0.5461538434028625,0.0,0.0,0.0,3150.0]        |0.0  |\n|[0.0,0.0,1837796.0,44.0,25663.0,460.0,0.015384615398943424,0.1846153885126114,0.06923077255487442,1.0,1.0,0.0,4039.0]        |0.0  |\n|[0.0,0.0,1849952.0,5.0,705.0,20434.0,0.2945736348628998,0.08527132123708725,0.27906978130340576,1.0,0.0,0.0,3824.0]          |0.0  |\n|[1.0,1.0,1896311.0,28.0,2277.0,2830.0,0.08461538702249527,0.04615384712815285,0.607692301273346,0.0,0.0,0.0,3708.0]          |0.0  |\n|[0.0,1.0,1984729.0,1327.0,10957.0,59237.0,0.7692307829856873,0.3384615480899811,0.807692289352417,0.0,0.0,0.0,3879.0]        |0.0  |\n|[1.0,1.0,2015578.0,395.0,349.0,38358.0,0.015384615398943424,0.6769230961799622,0.33076924085617065,0.0,0.0,0.0,2183.0]       |0.0  |\n|[1.0,0.0,2056199.0,269.0,4701.0,25344.0,0.0,1.0,0.11538461595773697,0.0,0.0,0.0,4252.0]                                      |0.0  |\n|[1.0,1.0,2069054.0,2905.0,3735.0,74691.0,0.1230769231915474,0.16153846681118011,0.6846153736114502,0.0,0.0,0.0,4032.0]       |0.0  |\n|[0.0,1.0,2151586.0,414.0,6848.0,8225.0,0.2153846174478531,0.5230769515037537,0.5692307949066162,0.0,0.0,0.0,4498.0]          |0.0  |\n|[0.0,1.0,2153941.0,305.0,4513.0,4942.0,0.10769230872392654,0.3076923191547394,0.5846154093742371,0.0,0.0,0.0,3975.0]         |0.0  |\n|[1.0,1.0,2178038.0,1924.0,1652.0,12247.0,0.699999988079071,0.20769231021404266,0.8230769038200378,1.0,1.0,0.0,3347.0]        |0.0  |\n|[1.0,1.0,2192595.0,192.0,26486.0,2481.0,0.3076923191547394,0.3153846263885498,0.4769230782985687,0.0,0.0,0.0,3835.0]         |0.0  |\n|[1.0,1.0,2192857.0,1237.0,7308.0,49047.0,0.3384615480899811,0.35384616255760193,0.7384615540504456,0.0,0.0,0.0,4423.0]       |0.0  |\n|[1.0,1.0,2215237.0,133.0,626.0,937.0,0.0923076942563057,0.0615384615957737,0.4769230782985687,0.0,0.0,0.0,3156.0]            |0.0  |\n|[0.0,1.0,2225897.0,130.0,13098.0,13736.0,0.1846153885126114,0.45384615659713745,0.3769230842590332,0.0,0.0,0.0,4298.0]       |0.0  |\n|[1.0,1.0,2287850.0,1709.0,3793.0,8872.0,0.3153846263885498,0.5846154093742371,0.6615384817123413,1.0,0.0,0.0,4330.0]         |0.0  |\n|[0.0,1.0,2310659.0,287.0,5340.0,2426.0,0.2868216931819916,0.356589138507843,0.40310078859329224,0.0,0.0,0.0,4031.0]          |0.0  |\n|[1.0,1.0,2319724.0,206.0,6893.0,8097.0,0.17692308127880096,0.5230769515037537,0.6615384817123413,1.0,0.0,0.0,4395.0]         |0.0  |\n|[1.0,1.0,2339328.0,458.0,4241.0,20225.0,0.05384615436196327,0.06923077255487442,0.6461538672447205,0.0,0.0,0.0,4279.0]       |0.0  |\n|(13,[2,3,4,5,7,12],[2471494.0,16.0,6505.0,6907.0,0.14615385234355927,3969.0])                                                |0.0  |\n|[1.0,0.0,2473793.0,287.0,1233.0,19490.0,0.1472868174314499,0.8294573426246643,0.27906978130340576,1.0,0.0,0.0,4371.0]        |0.0  |\n|[1.0,1.0,2569282.0,12.0,574.0,7654.0,0.007692307699471712,0.9769230484962463,0.19230769574642181,0.0,0.0,0.0,2982.0]         |0.0  |\n|[0.0,1.0,2592657.0,96.0,1233.0,3309.0,0.36153846979141235,0.23076923191547394,0.6307692527770996,0.0,0.0,0.0,2941.0]         |0.0  |\n|[1.0,1.0,2603405.0,531.0,6384.0,31.0,0.0,0.06666667014360428,0.8999999761581421,0.0,1.0,0.0,3594.0]                          |0.0  |\n|[1.0,1.0,2608187.0,81.0,7027.0,693.0,0.13178294897079468,0.5581395626068115,0.44961240887641907,0.0,0.0,0.0,4498.0]          |0.0  |\n|[0.0,1.0,2611878.0,248.0,705.0,1017.0,0.10000000149011612,0.023076923564076424,0.3461538553237915,0.0,0.0,0.0,3674.0]        |0.0  |\n|[0.0,1.0,2710411.0,964.0,28443.0,38936.0,0.10000000149011612,0.26923078298568726,0.6692307591438293,1.0,0.0,0.0,5034.0]      |0.0  |\n|[0.0,1.0,2762898.0,8242.0,4802.0,21283.0,0.2734375,0.3671875,0.5625,0.0,0.0,0.0,4425.0]                                      |0.0  |\n|[1.0,1.0,2889541.0,2280.0,5161.0,116482.0,0.1230769231915474,0.1538461595773697,0.8307692408561707,0.0,0.0,0.0,4450.0]       |0.0  |\n|[1.0,1.0,2983079.0,3714.0,12608.0,49726.0,0.13076923787593842,0.8692307472229004,0.19230769574642181,0.0,0.0,0.0,4440.0]     |0.0  |\n|(13,[1,2,4,5,7,8,12],[1.0,3081863.0,10665.0,266.0,0.06923077255487442,0.446153849363327,4554.0])                             |0.0  |\n|[1.0,1.0,3102587.0,720.0,17703.0,13459.0,0.20769231021404266,0.16153846681118011,0.7923076748847961,0.0,0.0,0.0,4276.0]      |0.0  |\n|[1.0,1.0,3107347.0,642.0,7035.0,23254.0,0.0,0.9615384340286255,0.19230769574642181,0.0,0.0,0.0,4466.0]                       |0.0  |\n|[1.0,1.0,3138706.0,761.0,4159.0,8385.0,0.6692307591438293,0.20769231021404266,0.9692307710647583,0.0,0.0,0.0,3004.0]         |0.0  |\n|[1.0,1.0,3174770.0,415.0,5202.0,4147.0,0.16923077404499054,0.5153846144676208,0.4769230782985687,0.0,0.0,0.0,4040.0]         |0.0  |\n|[0.0,1.0,3235157.0,51.0,532.0,302.0,0.03846153989434242,0.07692307978868484,0.2538461685180664,0.0,1.0,0.0,1826.0]           |0.0  |\n|(13,[1,2,4,5,7,8,12],[1.0,3246452.0,18218.0,107.0,0.6074766516685486,0.3644859790802002,4395.0])                             |0.0  |\n|[0.0,1.0,3260475.0,1085.0,3008.0,5413.0,0.1230769231915474,0.20769231021404266,0.7153846025466919,0.0,0.0,0.0,4177.0]        |0.0  |\n|[1.0,1.0,3271800.0,2781.0,23344.0,20047.0,0.0923076942563057,0.5384615659713745,0.3769230842590332,0.0,0.0,0.0,5092.0]       |0.0  |\n|[1.0,1.0,3294133.0,69570.0,13237.0,95084.0,0.2769230902194977,0.20769231021404266,0.7076923251152039,1.0,0.0,0.0,5103.0]     |0.0  |\n|[0.0,1.0,3362180.0,134.0,1110.0,4049.0,0.6875,0.25,0.734375,0.0,1.0,0.0,3469.0]                                              |0.0  |\n|[1.0,1.0,3370247.0,343.0,2528.0,23683.0,0.8230769038200378,0.16923077404499054,0.8615384697914124,0.0,1.0,0.0,4077.0]        |0.0  |\n|[1.0,1.0,3475037.0,307.0,7552.0,17164.0,0.007692307699471712,0.36153846979141235,0.007692307699471712,0.0,1.0,0.0,3910.0]    |0.0  |\n|[1.0,1.0,3610951.0,894.0,3069.0,13992.0,0.1846153885126114,0.39230769872665405,0.4153846204280853,0.0,0.0,0.0,4142.0]        |0.0  |\n|[1.0,1.0,3638130.0,333.0,206.0,6006.0,0.4692307710647583,0.11538461595773697,0.7307692170143127,1.0,0.0,0.0,2420.0]          |0.0  |\n|[0.0,1.0,3710109.0,433.0,4931.0,1684.0,0.26356589794158936,0.5503876209259033,0.5116279125213623,0.0,0.0,0.0,3199.0]         |0.0  |\n|[0.0,1.0,3779990.0,1048.0,10047.0,14575.0,0.015384615398943424,0.3076923191547394,0.5307692289352417,1.0,0.0,0.0,3830.0]     |0.0  |\n|[0.0,1.0,3807092.0,83.0,21611.0,2044.0,0.007692307699471712,0.08461538702249527,0.35384616255760193,1.0,0.0,0.0,4332.0]      |0.0  |\n|[0.0,1.0,3921279.0,507.0,5084.0,13060.0,0.007692307699471712,0.9769230484962463,0.23076923191547394,0.0,0.0,0.0,4407.0]      |0.0  |\n|[1.0,1.0,3960698.0,676.0,19022.0,18843.0,0.1846153885126114,0.607692301273346,0.5769230723381042,1.0,0.0,0.0,4388.0]         |0.0  |\n|[1.0,1.0,4044242.0,122.0,5329.0,3799.0,0.16153846681118011,0.6307692527770996,0.2538461685180664,0.0,1.0,0.0,2476.0]         |0.0  |\n|[0.0,1.0,4110292.0,892.0,3200.0,25120.0,0.0615384615957737,0.11538461595773697,0.7923076748847961,0.0,0.0,0.0,3942.0]        |0.0  |\n|[0.0,1.0,4180501.0,4235.0,3803.0,16870.0,0.0,0.6384615302085876,0.13076923787593842,0.0,0.0,0.0,3505.0]                      |0.0  |\n|[1.0,1.0,4254444.0,1869.0,12116.0,2147.0,0.16923077404499054,0.14615385234355927,0.807692289352417,0.0,1.0,0.0,3714.0]       |0.0  |\n|[0.0,1.0,4289626.0,238.0,4437.0,1348.0,0.05384615436196327,0.023076923564076424,0.3461538553237915,1.0,0.0,0.0,3578.0]       |0.0  |\n|[1.0,1.0,4403354.0,12150.0,18849.0,2012.0,0.359375,0.3984375,0.8046875,0.0,0.0,0.0,4425.0]                                   |0.0  |\n|[1.0,1.0,4497473.0,997.0,4969.0,28909.0,0.604651153087616,0.356589138507843,0.6666666865348816,0.0,0.0,0.0,3730.0]           |0.0  |\n|[0.0,1.0,4524444.0,281.0,1059.0,2819.0,0.32307693362236023,0.03076923079788685,0.8769230842590332,0.0,1.0,0.0,2402.0]        |0.0  |\n|[0.0,1.0,4655215.0,90.0,5842.0,4622.0,0.2153846174478531,0.5,0.3769230842590332,0.0,0.0,0.0,4324.0]                          |0.0  |\n|[1.0,1.0,4729281.0,1598.0,32166.0,19898.0,0.2538461685180664,0.2846153974533081,0.36153846979141235,0.0,0.0,0.0,4340.0]      |0.0  |\n|[0.0,1.0,4848370.0,518.0,2455.0,8144.0,0.0923076942563057,0.4307692348957062,0.20000000298023224,0.0,0.0,0.0,3730.0]         |0.0  |\n|[1.0,1.0,5009603.0,415.0,30363.0,7198.0,0.4000000059604645,0.35384616255760193,0.5769230723381042,0.0,0.0,0.0,4872.0]        |0.0  |\n|[0.0,1.0,5025826.0,842.0,18951.0,10217.0,0.07692307978868484,0.8692307472229004,0.33076924085617065,0.0,1.0,0.0,4362.0]      |0.0  |\n|[1.0,1.0,5035330.0,592.0,5757.0,5590.0,0.06504064798355103,0.31707316637039185,0.2195121943950653,1.0,0.0,0.0,4223.0]        |0.0  |\n|[1.0,1.0,5237305.0,50.0,1863.0,5174.0,0.05426356568932533,0.07751937955617905,0.3100775182247162,0.0,0.0,0.0,3792.0]         |0.0  |\n|[0.0,1.0,5646088.0,35179.0,11742.0,105.0,0.031578946858644485,0.75789475440979,0.46315789222717285,0.0,0.0,0.0,4683.0]       |0.0  |\n|[1.0,1.0,5756416.0,685.0,33348.0,31629.0,0.5230769515037537,0.48461538553237915,0.699999988079071,0.0,0.0,0.0,4407.0]        |0.0  |\n|[1.0,1.0,5852589.0,0.0,652.0,693.0,0.015384615398943424,0.0615384615957737,0.4769230782985687,1.0,1.0,0.0,2230.0]            |0.0  |\n|[0.0,1.0,5980752.0,659.0,20700.0,4217.0,0.20000000298023224,0.33076924085617065,0.5153846144676208,0.0,0.0,0.0,4285.0]       |0.0  |\n|[1.0,1.0,6165964.0,141.0,8182.0,6997.0,0.0,0.2846153974533081,0.3692307770252228,1.0,0.0,0.0,4101.0]                         |0.0  |\n|[1.0,1.0,6228791.0,579.0,3953.0,40863.0,0.9147287011146545,0.19379845261573792,0.9147287011146545,1.0,0.0,0.0,4326.0]        |0.0  |\n|[1.0,1.0,7535474.0,30.0,6260.0,6966.0,0.6153846383094788,0.36153846979141235,0.9230769276618958,0.0,0.0,0.0,3558.0]          |0.0  |\n|[1.0,1.0,7856505.0,151.0,1291.0,28551.0,0.08461538702249527,0.4000000059604645,0.26153847575187683,0.0,0.0,0.0,4125.0]       |0.0  |\n|[1.0,1.0,7963942.0,626.0,12034.0,3058.0,0.17692308127880096,0.48461538553237915,0.692307710647583,0.0,0.0,0.0,4024.0]        |0.0  |\n|[1.0,1.0,8145170.0,1260.0,6361.0,209.0,0.11382114142179489,0.3008130192756653,0.38211381435394287,0.0,0.0,0.0,4450.0]        |0.0  |\n|[1.0,1.0,9954809.0,199.0,3317.0,1899.0,0.14173229038715363,0.10236220806837082,0.3779527544975281,0.0,0.0,0.0,3711.0]        |0.0  |\n|[0.0,1.0,1.2979851E7,254166.0,31726.0,6735.0,0.0615384615957737,0.2153846174478531,0.3153846263885498,1.0,0.0,0.0,4022.0]    |0.0  |\n|[1.0,1.0,1.3265106E7,1024.0,13247.0,20327.0,0.6124030947685242,0.1782945692539215,0.8062015771865845,0.0,0.0,0.0,4337.0]     |0.0  |\n|[1.0,1.0,1.381203E7,724.0,2683.0,50324.0,0.32307693362236023,0.19230769574642181,0.6153846383094788,1.0,0.0,0.0,4021.0]      |0.0  |\n|[1.0,1.0,1.7358182E7,18.0,11694.0,10901.0,0.17692308127880096,0.16153846681118011,0.7307692170143127,0.0,1.0,0.0,4316.0]     |0.0  |\n|[1.0,1.0,1.7888279E7,0.0,15200.0,29142.0,0.023076923564076424,0.807692289352417,0.20000000298023224,0.0,0.0,0.0,4216.0]      |0.0  |\n|[0.0,1.0,2.0117511E7,666.0,16411.0,12324.0,0.023076923564076424,0.30000001192092896,0.6384615302085876,0.0,0.0,0.0,4733.0]   |0.0  |\n|[0.0,1.0,2.6122918E7,157.0,52482.0,3145.0,0.023076923564076424,0.4769230782985687,0.6769230961799622,0.0,0.0,0.0,4195.0]     |0.0  |\n|[0.0,1.0,2.7945747E7,68.0,20794.0,690.0,0.4202898442745209,0.3333333432674408,0.6376811861991882,1.0,0.0,0.0,4146.0]         |0.0  |\n|[1.0,1.0,3.4803294E7,14748.0,87370.0,11472.0,0.05384615436196327,0.6384615302085876,0.4923076927661896,0.0,1.0,0.0,3977.0]   |0.0  |\n|[1.0,1.0,4.1374261E7,5758.0,101835.0,17715.0,0.16923077404499054,0.13076923787593842,0.8538461327552795,1.0,0.0,0.0,4135.0]  |0.0  |\n|[0.0,1.0,4.364262E7,317.0,84301.0,13253.0,0.23846153914928436,0.3384615480899811,0.7538461685180664,0.0,0.0,0.0,4492.0]      |0.0  |\n|[0.0,1.0,4.6482887E7,392.0,52719.0,11634.0,0.4000000059604645,0.2230769246816635,0.6000000238418579,0.0,0.0,0.0,3708.0]      |0.0  |\n+-----------------------------------------------------------------------------------------------------------------------------+-----+\n\n</div>",
       "datasetInfos": [],
       "metadata": {},
       "removedWidgets": [],
       "type": "html"
      }
     },
     "output_type": "display_data"
    }
   ],
   "source": [
    "train.show(22000, truncate=False)"
   ]
  },
  {
   "cell_type": "markdown",
   "metadata": {
    "application/vnd.databricks.v1+cell": {
     "inputWidgets": {},
     "nuid": "0d504b12-ce3e-448d-ae85-9c22bcc5c080",
     "showTitle": false,
     "title": ""
    }
   },
   "source": [
    "## Logistic Regression"
   ]
  },
  {
   "cell_type": "code",
   "execution_count": 0,
   "metadata": {
    "application/vnd.databricks.v1+cell": {
     "inputWidgets": {},
     "nuid": "9ff92410-1b42-4d1b-8a51-34ee09baf5c6",
     "showTitle": false,
     "title": ""
    }
   },
   "outputs": [
    {
     "data": {
      "text/html": [
       "<style scoped>\n",
       "  .ansiout {\n",
       "    display: block;\n",
       "    unicode-bidi: embed;\n",
       "    white-space: pre-wrap;\n",
       "    word-wrap: break-word;\n",
       "    word-break: break-all;\n",
       "    font-family: \"Source Code Pro\", \"Menlo\", monospace;;\n",
       "    font-size: 13px;\n",
       "    color: #555;\n",
       "    margin-left: 4px;\n",
       "    line-height: 19px;\n",
       "  }\n",
       "</style>\n",
       "<div class=\"ansiout\"></div>"
      ]
     },
     "metadata": {
      "application/vnd.databricks.v1+output": {
       "addedWidgets": {},
       "arguments": {},
       "data": "<div class=\"ansiout\"></div>",
       "datasetInfos": [],
       "metadata": {},
       "removedWidgets": [],
       "type": "html"
      }
     },
     "output_type": "display_data"
    }
   ],
   "source": [
    "# This setting corresponds to no regularization at all (i.e., both regParam=0 and elasticNetParam=0)\n",
    "log_reg = LogisticRegression(featuresCol = \"features\", labelCol = \"label\", maxIter=100)\n",
    "log_reg_model = log_reg.fit(train)"
   ]
  },
  {
   "cell_type": "code",
   "execution_count": 0,
   "metadata": {
    "application/vnd.databricks.v1+cell": {
     "inputWidgets": {},
     "nuid": "3008e494-ec70-4bc6-9011-c649bcec27a1",
     "showTitle": false,
     "title": ""
    }
   },
   "outputs": [
    {
     "data": {
      "text/html": [
       "<style scoped>\n",
       "  .ansiout {\n",
       "    display: block;\n",
       "    unicode-bidi: embed;\n",
       "    white-space: pre-wrap;\n",
       "    word-wrap: break-word;\n",
       "    word-break: break-all;\n",
       "    font-family: \"Source Code Pro\", \"Menlo\", monospace;;\n",
       "    font-size: 13px;\n",
       "    color: #555;\n",
       "    margin-left: 4px;\n",
       "    line-height: 19px;\n",
       "  }\n",
       "</style>\n",
       "<div class=\"ansiout\">Intercept: -0.47799\n",
       "13 Coefficients: [-0.950,-2.287,-0.000,0.000,0.000,0.000,2.084,0.606,-2.251,-0.590,0.565,0.319,0.000]\n",
       "</div>"
      ]
     },
     "metadata": {
      "application/vnd.databricks.v1+output": {
       "addedWidgets": {},
       "arguments": {},
       "data": "<div class=\"ansiout\">Intercept: -0.47799\n13 Coefficients: [-0.950,-2.287,-0.000,0.000,0.000,0.000,2.084,0.606,-2.251,-0.590,0.565,0.319,0.000]\n</div>",
       "datasetInfos": [],
       "metadata": {},
       "removedWidgets": [],
       "type": "html"
      }
     },
     "output_type": "display_data"
    }
   ],
   "source": [
    "print(\"Intercept: {:.5f}\".format(log_reg_model.intercept))\n",
    "print(\"{:d} Coefficients: [{:s}]\".format(len(log_reg_model.coefficients), \",\".join([\"{:.3f}\".format(c) for c in log_reg_model.coefficients])))"
   ]
  },
  {
   "cell_type": "markdown",
   "metadata": {
    "application/vnd.databricks.v1+cell": {
     "inputWidgets": {},
     "nuid": "ed236427-ce55-4008-88b8-8875495a4204",
     "showTitle": false,
     "title": ""
    }
   },
   "source": [
    "## Plots"
   ]
  },
  {
   "cell_type": "code",
   "execution_count": 0,
   "metadata": {
    "application/vnd.databricks.v1+cell": {
     "inputWidgets": {},
     "nuid": "2ff8dbea-bf18-4e32-9a44-f2503f60cea1",
     "showTitle": false,
     "title": ""
    }
   },
   "outputs": [
    {
     "data": {
      "image/png": "[encoded data removed]"
     },
     "metadata": {
      "application/vnd.databricks.v1+output": {
       "addedWidgets": {},
       "arguments": {},
       "data": "/plots/2e4ca8bc-a740-40f8-b738-c1ce791a6827.png",
       "datasetInfos": [],
       "metadata": {},
       "removedWidgets": [],
       "type": "image"
      }
     },
     "output_type": "display_data"
    }
   ],
   "source": [
    "theta = np.sort(log_reg_model.coefficients)\n",
    "\n",
    "fig, ax = plt.subplots(1, 1, figsize=(8,6))\n",
    "_ = sns.lineplot(x=range(0,len(log_reg_model.coefficients)), y=theta, marker=\"o\", axes=ax)\n",
    "_ = ax.set_xlabel(\"Theta Index\", labelpad=20)\n",
    "_ = ax.set_ylabel(\"Theta Value (log odds)\", labelpad=20)"
   ]
  },
  {
   "cell_type": "code",
   "execution_count": 0,
   "metadata": {
    "application/vnd.databricks.v1+cell": {
     "inputWidgets": {},
     "nuid": "8dee798e-8858-4567-93bd-6b654f457b1b",
     "showTitle": false,
     "title": ""
    }
   },
   "outputs": [
    {
     "data": {
      "text/html": [
       "<style scoped>\n",
       "  .ansiout {\n",
       "    display: block;\n",
       "    unicode-bidi: embed;\n",
       "    white-space: pre-wrap;\n",
       "    word-wrap: break-word;\n",
       "    word-break: break-all;\n",
       "    font-family: \"Source Code Pro\", \"Menlo\", monospace;;\n",
       "    font-size: 13px;\n",
       "    color: #555;\n",
       "    margin-left: 4px;\n",
       "    line-height: 19px;\n",
       "  }\n",
       "</style>\n",
       "<div class=\"ansiout\"></div>"
      ]
     },
     "metadata": {
      "application/vnd.databricks.v1+output": {
       "addedWidgets": {},
       "arguments": {},
       "data": "<div class=\"ansiout\"></div>",
       "datasetInfos": [],
       "metadata": {},
       "removedWidgets": [],
       "type": "html"
      }
     },
     "output_type": "display_data"
    }
   ],
   "source": [
    "# Collect training summary\n",
    "training_summary = log_reg_model.summary"
   ]
  },
  {
   "cell_type": "code",
   "execution_count": 0,
   "metadata": {
    "application/vnd.databricks.v1+cell": {
     "inputWidgets": {},
     "nuid": "514fad93-ad47-45e5-a6f7-ee30d60611d6",
     "showTitle": false,
     "title": ""
    }
   },
   "outputs": [
    {
     "data": {
      "image/png": "[encoded data removed]"
     },
     "metadata": {
      "application/vnd.databricks.v1+output": {
       "addedWidgets": {},
       "arguments": {},
       "data": "/plots/ae44d678-c5ad-449a-bec5-0918e7e10942.png",
       "datasetInfos": [],
       "metadata": {},
       "removedWidgets": [],
       "type": "image"
      }
     },
     "output_type": "display_data"
    }
   ],
   "source": [
    "precision_recall = training_summary.pr.toPandas()\n",
    "\n",
    "fig, ax = plt.subplots(1, 1, figsize=(8,6))\n",
    "_ = sns.lineplot(x=precision_recall['recall'], y=precision_recall['precision'], marker=\"s\", axes=ax)\n",
    "_ = ax.set_xlabel(\"Recall\", labelpad=20)\n",
    "_ = ax.set_ylabel(\"Precision\", labelpad=20)\n",
    "_ = ax.set_title(\"Precision vs. Recall\")"
   ]
  },
  {
   "cell_type": "code",
   "execution_count": 0,
   "metadata": {
    "application/vnd.databricks.v1+cell": {
     "inputWidgets": {},
     "nuid": "c959c297-40aa-41fd-a8fd-0c6068d16aed",
     "showTitle": false,
     "title": ""
    }
   },
   "outputs": [
    {
     "data": {
      "image/png": "[encoded data removed]"
     },
     "metadata": {
      "application/vnd.databricks.v1+output": {
       "addedWidgets": {},
       "arguments": {},
       "data": "/plots/455ac47d-3230-438e-8309-33d27892aed0.png",
       "datasetInfos": [],
       "metadata": {},
       "removedWidgets": [],
       "type": "image"
      }
     },
     "output_type": "display_data"
    }
   ],
   "source": [
    "roc = training_summary.roc.toPandas()\n",
    "\n",
    "fig, ax = plt.subplots(1, 1, figsize=(8,6))\n",
    "_ = sns.lineplot(x=roc['FPR'], y=roc['TPR'], marker=\"s\", axes=ax)\n",
    "_ = ax.set_xlabel(\"False Positive Rate\", labelpad=20)\n",
    "_ = ax.set_ylabel(\"True Positive Rate\", labelpad=20)\n",
    "_ = ax.set_title(\"ROC Curve\")"
   ]
  },
  {
   "cell_type": "code",
   "execution_count": 0,
   "metadata": {
    "application/vnd.databricks.v1+cell": {
     "inputWidgets": {},
     "nuid": "a2386285-6eb0-4c67-9291-e53ad2ccbe47",
     "showTitle": false,
     "title": ""
    }
   },
   "outputs": [
    {
     "data": {
      "text/html": [
       "<style scoped>\n",
       "  .ansiout {\n",
       "    display: block;\n",
       "    unicode-bidi: embed;\n",
       "    white-space: pre-wrap;\n",
       "    word-wrap: break-word;\n",
       "    word-break: break-all;\n",
       "    font-family: \"Source Code Pro\", \"Menlo\", monospace;;\n",
       "    font-size: 13px;\n",
       "    color: #555;\n",
       "    margin-left: 4px;\n",
       "    line-height: 19px;\n",
       "  }\n",
       "</style>\n",
       "<div class=\"ansiout\">Training Set AUC: 0.814\n",
       "</div>"
      ]
     },
     "metadata": {
      "application/vnd.databricks.v1+output": {
       "addedWidgets": {},
       "arguments": {},
       "data": "<div class=\"ansiout\">Training Set AUC: 0.814\n</div>",
       "datasetInfos": [],
       "metadata": {},
       "removedWidgets": [],
       "type": "html"
      }
     },
     "output_type": "display_data"
    }
   ],
   "source": [
    "# Print out the Area Under the ROC Curve (AUC)\n",
    "print('Training Set AUC: {:.3f}'.format(training_summary.areaUnderROC))"
   ]
  },
  {
   "cell_type": "markdown",
   "metadata": {
    "application/vnd.databricks.v1+cell": {
     "inputWidgets": {},
     "nuid": "56331691-c1b8-4079-82f1-270543a0b86b",
     "showTitle": false,
     "title": ""
    }
   },
   "source": [
    "## Test Set"
   ]
  },
  {
   "cell_type": "code",
   "execution_count": 0,
   "metadata": {
    "application/vnd.databricks.v1+cell": {
     "inputWidgets": {},
     "nuid": "e0ed6fb2-b1c9-4dd2-b6f7-41f0e71f9dfd",
     "showTitle": false,
     "title": ""
    }
   },
   "outputs": [
    {
     "data": {
      "text/html": [
       "<style scoped>\n",
       "  .ansiout {\n",
       "    display: block;\n",
       "    unicode-bidi: embed;\n",
       "    white-space: pre-wrap;\n",
       "    word-wrap: break-word;\n",
       "    word-break: break-all;\n",
       "    font-family: \"Source Code Pro\", \"Menlo\", monospace;;\n",
       "    font-size: 13px;\n",
       "    color: #555;\n",
       "    margin-left: 4px;\n",
       "    line-height: 19px;\n",
       "  }\n",
       "</style>\n",
       "<div class=\"ansiout\"></div>"
      ]
     },
     "metadata": {
      "application/vnd.databricks.v1+output": {
       "addedWidgets": {},
       "arguments": {},
       "data": "<div class=\"ansiout\"></div>",
       "datasetInfos": [],
       "metadata": {},
       "removedWidgets": [],
       "type": "html"
      }
     },
     "output_type": "display_data"
    }
   ],
   "source": [
    "# Here, we use the same transformer as the one returned by the `to_numerical` function above yet applied to the test set\n",
    "oh_test_df = oh_transformer.transform(test_df)"
   ]
  },
  {
   "cell_type": "code",
   "execution_count": 0,
   "metadata": {
    "application/vnd.databricks.v1+cell": {
     "inputWidgets": {},
     "nuid": "431f39e5-3500-40a4-bcbc-e47786648cc7",
     "showTitle": false,
     "title": ""
    }
   },
   "outputs": [
    {
     "data": {
      "text/html": [
       "<style scoped>\n",
       "  .ansiout {\n",
       "    display: block;\n",
       "    unicode-bidi: embed;\n",
       "    white-space: pre-wrap;\n",
       "    word-wrap: break-word;\n",
       "    word-break: break-all;\n",
       "    font-family: \"Source Code Pro\", \"Menlo\", monospace;;\n",
       "    font-size: 13px;\n",
       "    color: #555;\n",
       "    margin-left: 4px;\n",
       "    line-height: 19px;\n",
       "  }\n",
       "</style>\n",
       "<div class=\"ansiout\">+------------+--------------+-------------+------------+--------------+----------+----------+------------+-----------+--------+--------------------+---------------+---------------------+----------+-----+--------------------+\n",
       "account_type|follower_count|friends_count|listed_count|statuses_count|  retweets|  with_url|with_mention|geo_enabled|verified|has_extended_profile|default_profile|default_profile_image|created_at|label|            features|\n",
       "+------------+--------------+-------------+------------+--------------+----------+----------+------------+-----------+--------+--------------------+---------------+---------------------+----------+-----+--------------------+\n",
       "         bot|             0|            0|           0|           104| 0.9879518| 0.3493976|  0.91566265|          0|       0|                   0|              1|                    0|      3069|  1.0|(13,[5,6,7,8,10,1...|\n",
       "         bot|             0|           12|           0|           456|0.33333334|0.33333334|   0.6666667|          0|       0|                   0|              0|                    0|      3917|  1.0|(13,[3,5,6,7,8,12...|\n",
       "         bot|             1|            0|           0|             9|0.71428573|0.42857143|  0.71428573|          0|       0|                   0|              1|                    0|      3382|  1.0|(13,[2,5,6,7,8,10...|\n",
       "         bot|             1|            0|           0|            27|       0.6|      0.12|         0.6|          0|       0|                   0|              1|                    0|      2309|  1.0|(13,[2,5,6,7,8,10...|\n",
       "         bot|             2|            0|           0|           648|       0.0| 0.8923077|         0.0|          0|       0|                   0|              1|                    1|      2126|  1.0|(13,[2,5,7,10,11,...|\n",
       "+------------+--------------+-------------+------------+--------------+----------+----------+------------+-----------+--------+--------------------+---------------+---------------------+----------+-----+--------------------+\n",
       "only showing top 5 rows\n",
       "\n",
       "</div>"
      ]
     },
     "metadata": {
      "application/vnd.databricks.v1+output": {
       "addedWidgets": {},
       "arguments": {},
       "data": "<div class=\"ansiout\">+------------+--------------+-------------+------------+--------------+----------+----------+------------+-----------+--------+--------------------+---------------+---------------------+----------+-----+--------------------+\n|account_type|follower_count|friends_count|listed_count|statuses_count|  retweets|  with_url|with_mention|geo_enabled|verified|has_extended_profile|default_profile|default_profile_image|created_at|label|            features|\n+------------+--------------+-------------+------------+--------------+----------+----------+------------+-----------+--------+--------------------+---------------+---------------------+----------+-----+--------------------+\n|         bot|             0|            0|           0|           104| 0.9879518| 0.3493976|  0.91566265|          0|       0|                   0|              1|                    0|      3069|  1.0|(13,[5,6,7,8,10,1...|\n|         bot|             0|           12|           0|           456|0.33333334|0.33333334|   0.6666667|          0|       0|                   0|              0|                    0|      3917|  1.0|(13,[3,5,6,7,8,12...|\n|         bot|             1|            0|           0|             9|0.71428573|0.42857143|  0.71428573|          0|       0|                   0|              1|                    0|      3382|  1.0|(13,[2,5,6,7,8,10...|\n|         bot|             1|            0|           0|            27|       0.6|      0.12|         0.6|          0|       0|                   0|              1|                    0|      2309|  1.0|(13,[2,5,6,7,8,10...|\n|         bot|             2|            0|           0|           648|       0.0| 0.8923077|         0.0|          0|       0|                   0|              1|                    1|      2126|  1.0|(13,[2,5,7,10,11,...|\n+------------+--------------+-------------+------------+--------------+----------+----------+------------+-----------+--------+--------------------+---------------+---------------------+----------+-----+--------------------+\nonly showing top 5 rows\n\n</div>",
       "datasetInfos": [],
       "metadata": {},
       "removedWidgets": [],
       "type": "html"
      }
     },
     "output_type": "display_data"
    }
   ],
   "source": [
    "oh_test_df.show(5)"
   ]
  },
  {
   "cell_type": "code",
   "execution_count": 0,
   "metadata": {
    "application/vnd.databricks.v1+cell": {
     "inputWidgets": {},
     "nuid": "2cacd1f3-584d-45c3-a353-ea4d6b2a342b",
     "showTitle": false,
     "title": ""
    }
   },
   "outputs": [
    {
     "data": {
      "text/html": [
       "<style scoped>\n",
       "  .ansiout {\n",
       "    display: block;\n",
       "    unicode-bidi: embed;\n",
       "    white-space: pre-wrap;\n",
       "    word-wrap: break-word;\n",
       "    word-break: break-all;\n",
       "    font-family: \"Source Code Pro\", \"Menlo\", monospace;;\n",
       "    font-size: 13px;\n",
       "    color: #555;\n",
       "    margin-left: 4px;\n",
       "    line-height: 19px;\n",
       "  }\n",
       "</style>\n",
       "<div class=\"ansiout\">+--------------------+-----+\n",
       "            features|label|\n",
       "+--------------------+-----+\n",
       "(13,[5,6,7,8,10,1...|  1.0|\n",
       "(13,[3,5,6,7,8,12...|  1.0|\n",
       "(13,[2,5,6,7,8,10...|  1.0|\n",
       "(13,[2,5,6,7,8,10...|  1.0|\n",
       "(13,[2,5,7,10,11,...|  1.0|\n",
       "+--------------------+-----+\n",
       "only showing top 5 rows\n",
       "\n",
       "</div>"
      ]
     },
     "metadata": {
      "application/vnd.databricks.v1+output": {
       "addedWidgets": {},
       "arguments": {},
       "data": "<div class=\"ansiout\">+--------------------+-----+\n|            features|label|\n+--------------------+-----+\n|(13,[5,6,7,8,10,1...|  1.0|\n|(13,[3,5,6,7,8,12...|  1.0|\n|(13,[2,5,6,7,8,10...|  1.0|\n|(13,[2,5,6,7,8,10...|  1.0|\n|(13,[2,5,7,10,11,...|  1.0|\n+--------------------+-----+\nonly showing top 5 rows\n\n</div>",
       "datasetInfos": [],
       "metadata": {},
       "removedWidgets": [],
       "type": "html"
      }
     },
     "output_type": "display_data"
    }
   ],
   "source": [
    "# Select `features` and `label` only\n",
    "test = oh_test_df.select([\"features\", \"label\"])\n",
    "test.show(5)\n"
   ]
  },
  {
   "cell_type": "code",
   "execution_count": 0,
   "metadata": {
    "application/vnd.databricks.v1+cell": {
     "inputWidgets": {},
     "nuid": "cdc8ade7-da57-4d08-9af7-96a8d450176e",
     "showTitle": false,
     "title": ""
    }
   },
   "outputs": [
    {
     "data": {
      "text/html": [
       "<style scoped>\n",
       "  .ansiout {\n",
       "    display: block;\n",
       "    unicode-bidi: embed;\n",
       "    white-space: pre-wrap;\n",
       "    word-wrap: break-word;\n",
       "    word-break: break-all;\n",
       "    font-family: \"Source Code Pro\", \"Menlo\", monospace;;\n",
       "    font-size: 13px;\n",
       "    color: #555;\n",
       "    margin-left: 4px;\n",
       "    line-height: 19px;\n",
       "  }\n",
       "</style>\n",
       "<div class=\"ansiout\"></div>"
      ]
     },
     "metadata": {
      "application/vnd.databricks.v1+output": {
       "addedWidgets": {},
       "arguments": {},
       "data": "<div class=\"ansiout\"></div>",
       "datasetInfos": [],
       "metadata": {},
       "removedWidgets": [],
       "type": "html"
      }
     },
     "output_type": "display_data"
    }
   ],
   "source": [
    "predictions = log_reg_model.transform(test)"
   ]
  },
  {
   "cell_type": "code",
   "execution_count": 0,
   "metadata": {
    "application/vnd.databricks.v1+cell": {
     "inputWidgets": {},
     "nuid": "6c50b175-0a0e-432c-84fc-053bd3ad50c9",
     "showTitle": false,
     "title": ""
    }
   },
   "outputs": [
    {
     "data": {
      "text/html": [
       "<style scoped>\n",
       "  .ansiout {\n",
       "    display: block;\n",
       "    unicode-bidi: embed;\n",
       "    white-space: pre-wrap;\n",
       "    word-wrap: break-word;\n",
       "    word-break: break-all;\n",
       "    font-family: \"Source Code Pro\", \"Menlo\", monospace;;\n",
       "    font-size: 13px;\n",
       "    color: #555;\n",
       "    margin-left: 4px;\n",
       "    line-height: 19px;\n",
       "  }\n",
       "</style>\n",
       "<div class=\"ansiout\">+--------------------+----------+-----+\n",
       "            features|prediction|label|\n",
       "+--------------------+----------+-----+\n",
       "(13,[5,6,7,8,10,1...|       1.0|  1.0|\n",
       "(13,[3,5,6,7,8,12...|       0.0|  1.0|\n",
       "(13,[2,5,6,7,8,10...|       1.0|  1.0|\n",
       "(13,[2,5,6,7,8,10...|       1.0|  1.0|\n",
       "(13,[2,5,7,10,11,...|       1.0|  1.0|\n",
       "[0.0,0.0,2.0,12.0...|       0.0|  1.0|\n",
       "(13,[2,5,6,7,8,10...|       1.0|  1.0|\n",
       "[1.0,0.0,3.0,28.0...|       0.0|  1.0|\n",
       "(13,[2,5,6,7,8,10...|       1.0|  1.0|\n",
       "(13,[2,5,6,7,8,10...|       1.0|  1.0|\n",
       "(13,[2,5,6,7,8,10...|       1.0|  1.0|\n",
       "(13,[2,5,6,7,8,10...|       1.0|  1.0|\n",
       "[0.0,0.0,4.0,14.0...|       1.0|  1.0|\n",
       "[0.0,0.0,4.0,30.0...|       1.0|  1.0|\n",
       "(13,[2,5,6,7,8,10...|       1.0|  1.0|\n",
       "[0.0,0.0,5.0,24.0...|       0.0|  1.0|\n",
       "[0.0,0.0,5.0,201....|       1.0|  1.0|\n",
       "(13,[2,5,6,7,8,10...|       1.0|  1.0|\n",
       "[0.0,0.0,8.0,23.0...|       1.0|  1.0|\n",
       "[0.0,0.0,8.0,37.0...|       1.0|  1.0|\n",
       "[0.0,0.0,8.0,39.0...|       0.0|  1.0|\n",
       "[0.0,0.0,8.0,104....|       0.0|  1.0|\n",
       "(13,[2,3,4,5,7,8,...|       0.0|  1.0|\n",
       "[0.0,0.0,9.0,68.0...|       0.0|  1.0|\n",
       "(13,[2,5,6,7,8,10...|       1.0|  1.0|\n",
       "(13,[2,5,6,7,8,10...|       1.0|  1.0|\n",
       "[0.0,0.0,12.0,18....|       1.0|  1.0|\n",
       "(13,[2,5,6,7,8,10...|       1.0|  1.0|\n",
       "[0.0,0.0,13.0,72....|       0.0|  1.0|\n",
       "[1.0,0.0,14.0,80....|       0.0|  1.0|\n",
       "(13,[2,5,10,12],[...|       1.0|  1.0|\n",
       "[0.0,0.0,16.0,129...|       0.0|  1.0|\n",
       "[0.0,0.0,17.0,202...|       1.0|  1.0|\n",
       "[0.0,0.0,18.0,14....|       0.0|  1.0|\n",
       "[0.0,0.0,19.0,8.0...|       0.0|  1.0|\n",
       "(13,[2,3,4,5,7,10...|       1.0|  1.0|\n",
       "[0.0,0.0,22.0,334...|       1.0|  1.0|\n",
       "[0.0,0.0,23.0,66....|       1.0|  1.0|\n",
       "(13,[2,3,5,7,10,1...|       1.0|  1.0|\n",
       "[0.0,0.0,23.0,139...|       1.0|  1.0|\n",
       "[1.0,0.0,25.0,38....|       0.0|  1.0|\n",
       "[0.0,0.0,25.0,100...|       0.0|  1.0|\n",
       "[0.0,0.0,31.0,198...|       0.0|  1.0|\n",
       "[0.0,0.0,32.0,10....|       0.0|  1.0|\n",
       "[0.0,0.0,32.0,35....|       0.0|  1.0|\n",
       "(13,[2,5,6,7,8,10...|       1.0|  1.0|\n",
       "[0.0,0.0,33.0,16....|       1.0|  1.0|\n",
       "[0.0,0.0,37.0,106...|       1.0|  1.0|\n",
       "(13,[2,5,6,7,8,10...|       1.0|  1.0|\n",
       "[0.0,0.0,42.0,300...|       0.0|  1.0|\n",
       "[0.0,0.0,48.0,46....|       1.0|  1.0|\n",
       "(13,[2,5,6,7,8,10...|       1.0|  1.0|\n",
       "[0.0,0.0,51.0,189...|       0.0|  1.0|\n",
       "[1.0,0.0,54.0,248...|       0.0|  1.0|\n",
       "(13,[2,3,4,5,12],...|       0.0|  1.0|\n",
       "(13,[2,5,6,7,8,10...|       1.0|  1.0|\n",
       "(13,[2,4,5,8,12],...|       0.0|  1.0|\n",
       "(13,[2,4,5,12],[1...|       0.0|  1.0|\n",
       "[1.0,0.0,117.0,24...|       0.0|  1.0|\n",
       "(13,[2,4,5,8,10,1...|       1.0|  1.0|\n",
       "(13,[2,3,4,5,8,10...|       0.0|  1.0|\n",
       "[0.0,0.0,166.0,13...|       0.0|  1.0|\n",
       "[1.0,0.0,192.0,18...|       0.0|  1.0|\n",
       "[0.0,0.0,207.0,7....|       0.0|  1.0|\n",
       "[1.0,0.0,216.0,0....|       0.0|  1.0|\n",
       "(13,[2,3,4,5,12],...|       0.0|  1.0|\n",
       "[1.0,0.0,279.0,18...|       0.0|  1.0|\n",
       "(13,[2,3,5,12],[3...|       0.0|  1.0|\n",
       "[0.0,0.0,333.0,46...|       0.0|  1.0|\n",
       "(13,[2,3,4,5,12],...|       0.0|  1.0|\n",
       "[0.0,0.0,389.0,26...|       0.0|  1.0|\n",
       "[1.0,0.0,407.0,0....|       0.0|  1.0|\n",
       "[0.0,0.0,451.0,55...|       0.0|  1.0|\n",
       "[0.0,0.0,508.0,60...|       0.0|  1.0|\n",
       "[0.0,0.0,596.0,92...|       0.0|  1.0|\n",
       "[1.0,0.0,604.0,36...|       0.0|  1.0|\n",
       "[1.0,0.0,653.0,57...|       0.0|  1.0|\n",
       "(13,[2,4,5,10,12]...|       1.0|  1.0|\n",
       "(13,[2,4,5,7,9,12...|       0.0|  1.0|\n",
       "[0.0,0.0,754.0,11...|       0.0|  1.0|\n",
       "[1.0,0.0,813.0,57...|       0.0|  1.0|\n",
       "(13,[2,3,4,5,9,12...|       0.0|  1.0|\n",
       "(13,[2,3,4,5,10,1...|       1.0|  1.0|\n",
       "(13,[2,4,5,7,10,1...|       1.0|  1.0|\n",
       "[1.0,0.0,1266.0,9...|       0.0|  1.0|\n",
       "[1.0,0.0,1399.0,1...|       0.0|  1.0|\n",
       "(13,[2,3,4,5,7,10...|       1.0|  1.0|\n",
       "[1.0,0.0,2557.0,3...|       0.0|  1.0|\n",
       "[0.0,0.0,3390.0,8...|       0.0|  1.0|\n",
       "(13,[0,2,5,6,7,8,...|       0.0|  1.0|\n",
       "(13,[2,3,4,5,7,12...|       1.0|  1.0|\n",
       "[0.0,0.0,4737.0,5...|       1.0|  1.0|\n",
       "[1.0,0.0,5716.0,2...|       0.0|  1.0|\n",
       "[0.0,0.0,6438.0,5...|       0.0|  1.0|\n",
       "[0.0,0.0,7119.0,7...|       0.0|  1.0|\n",
       "(13,[2,4,5,8,12],...|       0.0|  1.0|\n",
       "[1.0,0.0,71949.0,...|       0.0|  1.0|\n",
       "[1.0,0.0,91518.0,...|       0.0|  1.0|\n",
       "[0.0,0.0,136247.0...|       0.0|  1.0|\n",
       "[1.0,1.0,160103.0...|       0.0|  1.0|\n",
       "[1.0,1.0,180125.0...|       0.0|  1.0|\n",
       "[1.0,1.0,189426.0...|       0.0|  1.0|\n",
       "[0.0,1.0,282976.0...|       0.0|  1.0|\n",
       "[1.0,0.0,487153.0...|       0.0|  1.0|\n",
       "[0.0,1.0,905944.0...|       0.0|  1.0|\n",
       "[0.0,1.0,1654803....|       0.0|  1.0|\n",
       "[1.0,1.0,3.327356...|       0.0|  1.0|\n",
       "(13,[5,6,7,8,12],...|       0.0|  0.0|\n",
       "(13,[5,6,7,8,10,1...|       1.0|  0.0|\n",
       "(13,[5,6,7,8,10,1...|       1.0|  0.0|\n",
       "(13,[5,6,7,8,10,1...|       1.0|  0.0|\n",
       "(13,[5,6,7,8,10,1...|       1.0|  0.0|\n",
       "(13,[5,6,7,8,10,1...|       1.0|  0.0|\n",
       "(13,[5,6,7,8,10,1...|       1.0|  0.0|\n",
       "(13,[5,6,7,8,10,1...|       1.0|  0.0|\n",
       "(13,[4,5,6,7,8,10...|       1.0|  0.0|\n",
       "(13,[4,5,6,7,8,10...|       1.0|  0.0|\n",
       "[0.0,0.0,1.0,0.0,...|       0.0|  0.0|\n",
       "(13,[2,5,6,7,8,10...|       1.0|  0.0|\n",
       "(13,[2,5,6,7,8,10...|       1.0|  0.0|\n",
       "(13,[2,5,6,7,8,10...|       1.0|  0.0|\n",
       "(13,[2,3,5,8,12],...|       0.0|  0.0|\n",
       "[0.0,0.0,2.0,0.0,...|       1.0|  0.0|\n",
       "(13,[2,5,6,7,8,10...|       1.0|  0.0|\n",
       "(13,[2,3,4,5,7,8,...|       1.0|  0.0|\n",
       "(13,[2,3,5,6,7,8,...|       0.0|  0.0|\n",
       "[0.0,0.0,9.0,0.0,...|       1.0|  0.0|\n",
       "[0.0,0.0,9.0,88.0...|       0.0|  0.0|\n",
       "[0.0,0.0,11.0,12....|       0.0|  0.0|\n",
       "[1.0,0.0,12.0,117...|       0.0|  0.0|\n",
       "[0.0,0.0,15.0,119...|       0.0|  0.0|\n",
       "(13,[2,5,6,7,8,11...|       0.0|  0.0|\n",
       "[0.0,0.0,24.0,125...|       0.0|  0.0|\n",
       "[1.0,0.0,25.0,611...|       0.0|  0.0|\n",
       "[1.0,0.0,26.0,105...|       0.0|  0.0|\n",
       "[0.0,0.0,27.0,214...|       0.0|  0.0|\n",
       "[1.0,0.0,29.0,47....|       0.0|  0.0|\n",
       "(13,[0,2,5,6,7,8,...|       0.0|  0.0|\n",
       "[0.0,0.0,33.0,164...|       0.0|  0.0|\n",
       "[0.0,0.0,33.0,255...|       0.0|  0.0|\n",
       "(13,[2,3,5,6,7,8,...|       0.0|  0.0|\n",
       "[0.0,0.0,37.0,309...|       0.0|  0.0|\n",
       "(13,[2,5,8,12],[3...|       0.0|  0.0|\n",
       "[0.0,0.0,40.0,616...|       0.0|  0.0|\n",
       "[1.0,0.0,41.0,89....|       0.0|  0.0|\n",
       "[0.0,0.0,42.0,213...|       0.0|  0.0|\n",
       "[0.0,0.0,43.0,963...|       0.0|  0.0|\n",
       "[1.0,0.0,44.0,168...|       0.0|  0.0|\n",
       "[1.0,0.0,48.0,45....|       0.0|  0.0|\n",
       "[1.0,0.0,50.0,79....|       0.0|  0.0|\n",
       "[0.0,0.0,51.0,46....|       0.0|  0.0|\n",
       "[0.0,0.0,53.0,161...|       0.0|  0.0|\n",
       "[1.0,0.0,54.0,0.0...|       0.0|  0.0|\n",
       "[1.0,0.0,58.0,248...|       0.0|  0.0|\n",
       "[0.0,0.0,63.0,86....|       0.0|  0.0|\n",
       "[0.0,0.0,66.0,134...|       0.0|  0.0|\n",
       "[1.0,0.0,67.0,100...|       0.0|  0.0|\n",
       "[1.0,0.0,67.0,203...|       0.0|  0.0|\n",
       "[1.0,0.0,68.0,699...|       0.0|  0.0|\n",
       "(13,[2,3,5,6,8,12...|       0.0|  0.0|\n",
       "(13,[0,2,5,6,7,8,...|       0.0|  0.0|\n",
       "[0.0,0.0,75.0,367...|       0.0|  0.0|\n",
       "(13,[2,5,6,7,8,12...|       0.0|  0.0|\n",
       "[1.0,0.0,76.0,251...|       0.0|  0.0|\n",
       "[1.0,0.0,76.0,309...|       0.0|  0.0|\n",
       "[0.0,0.0,77.0,104...|       1.0|  0.0|\n",
       "[0.0,0.0,77.0,168...|       0.0|  0.0|\n",
       "[1.0,0.0,78.0,0.0...|       0.0|  0.0|\n",
       "[0.0,0.0,82.0,358...|       0.0|  0.0|\n",
       "[1.0,0.0,83.0,756...|       0.0|  0.0|\n",
       "[1.0,0.0,85.0,258...|       0.0|  0.0|\n",
       "[1.0,0.0,87.0,195...|       0.0|  0.0|\n",
       "[0.0,0.0,90.0,145...|       0.0|  0.0|\n",
       "[1.0,0.0,92.0,329...|       0.0|  0.0|\n",
       "[0.0,0.0,93.0,303...|       0.0|  0.0|\n",
       "[0.0,0.0,96.0,642...|       0.0|  0.0|\n",
       "[0.0,0.0,102.0,10...|       0.0|  0.0|\n",
       "[0.0,0.0,102.0,31...|       0.0|  0.0|\n",
       "[1.0,0.0,103.0,45...|       0.0|  0.0|\n",
       "[1.0,0.0,106.0,30...|       0.0|  0.0|\n",
       "[1.0,0.0,107.0,22...|       0.0|  0.0|\n",
       "[0.0,0.0,108.0,16...|       0.0|  0.0|\n",
       "[1.0,0.0,108.0,47...|       0.0|  0.0|\n",
       "[1.0,0.0,109.0,34...|       0.0|  0.0|\n",
       "(13,[0,2,3,5,7,8,...|       0.0|  0.0|\n",
       "[0.0,0.0,122.0,67...|       0.0|  0.0|\n",
       "[0.0,0.0,123.0,29...|       0.0|  0.0|\n",
       "[1.0,0.0,124.0,43...|       0.0|  0.0|\n",
       "[0.0,0.0,124.0,64...|       0.0|  0.0|\n",
       "[1.0,0.0,130.0,51...|       0.0|  0.0|\n",
       "[1.0,0.0,131.0,13...|       0.0|  0.0|\n",
       "[0.0,0.0,131.0,15...|       0.0|  0.0|\n",
       "[0.0,0.0,133.0,77...|       0.0|  0.0|\n",
       "(13,[2,3,5,6,7,8,...|       0.0|  0.0|\n",
       "[1.0,0.0,137.0,38...|       0.0|  0.0|\n",
       "(13,[2,3,5,6,7,8,...|       0.0|  0.0|\n",
       "[1.0,0.0,138.0,19...|       0.0|  0.0|\n",
       "[1.0,0.0,138.0,61...|       0.0|  0.0|\n",
       "[0.0,0.0,139.0,23...|       1.0|  0.0|\n",
       "[1.0,0.0,140.0,80...|       0.0|  0.0|\n",
       "(13,[2,5,6,7,8,12...|       1.0|  0.0|\n",
       "[1.0,0.0,142.0,0....|       0.0|  0.0|\n",
       "[1.0,0.0,144.0,39...|       0.0|  0.0|\n",
       "[0.0,0.0,144.0,73...|       0.0|  0.0|\n",
       "[1.0,0.0,147.0,44...|       0.0|  0.0|\n",
       "[0.0,0.0,158.0,15...|       0.0|  0.0|\n",
       "[0.0,0.0,159.0,16...|       0.0|  0.0|\n",
       "(13,[2,3,5,6,7,8,...|       0.0|  0.0|\n",
       "[0.0,0.0,170.0,12...|       0.0|  0.0|\n",
       "[1.0,0.0,170.0,57...|       0.0|  0.0|\n",
       "[1.0,0.0,190.0,33...|       0.0|  0.0|\n",
       "[0.0,0.0,191.0,34...|       0.0|  0.0|\n",
       "[0.0,0.0,192.0,14...|       0.0|  0.0|\n",
       "[1.0,0.0,195.0,30...|       0.0|  0.0|\n",
       "(13,[2,3,5,7,9,10...|       1.0|  0.0|\n",
       "[1.0,0.0,199.0,14...|       0.0|  0.0|\n",
       "[0.0,0.0,203.0,36...|       0.0|  0.0|\n",
       "[0.0,0.0,205.0,36...|       0.0|  0.0|\n",
       "[0.0,0.0,206.0,91...|       0.0|  0.0|\n",
       "[1.0,0.0,206.0,18...|       0.0|  0.0|\n",
       "[1.0,0.0,206.0,23...|       0.0|  0.0|\n",
       "[1.0,0.0,206.0,42...|       0.0|  0.0|\n",
       "[1.0,0.0,220.0,39...|       0.0|  0.0|\n",
       "[0.0,0.0,221.0,10...|       0.0|  0.0|\n",
       "[0.0,0.0,222.0,66...|       0.0|  0.0|\n",
       "[1.0,0.0,230.0,28...|       0.0|  0.0|\n",
       "[0.0,0.0,247.0,0....|       0.0|  0.0|\n",
       "[0.0,0.0,255.0,68...|       0.0|  0.0|\n",
       "[1.0,0.0,255.0,27...|       0.0|  0.0|\n",
       "[0.0,0.0,259.0,21...|       0.0|  0.0|\n",
       "[1.0,0.0,270.0,32...|       0.0|  0.0|\n",
       "[0.0,0.0,275.0,28...|       0.0|  0.0|\n",
       "[1.0,0.0,279.0,47...|       0.0|  0.0|\n",
       "[1.0,0.0,282.0,62...|       0.0|  0.0|\n",
       "[0.0,0.0,289.0,58...|       0.0|  0.0|\n",
       "[0.0,0.0,291.0,12...|       0.0|  0.0|\n",
       "[0.0,0.0,291.0,16...|       0.0|  0.0|\n",
       "[0.0,0.0,294.0,21...|       0.0|  0.0|\n",
       "(13,[0,2,3,5,7,8,...|       0.0|  0.0|\n",
       "[0.0,0.0,299.0,29...|       0.0|  0.0|\n",
       "[1.0,0.0,313.0,44...|       0.0|  0.0|\n",
       "[0.0,0.0,313.0,33...|       0.0|  0.0|\n",
       "[1.0,0.0,314.0,10...|       0.0|  0.0|\n",
       "[0.0,0.0,315.0,37...|       0.0|  0.0|\n",
       "[1.0,0.0,321.0,98...|       0.0|  0.0|\n",
       "[1.0,0.0,339.0,23...|       0.0|  0.0|\n",
       "[1.0,0.0,340.0,13...|       0.0|  0.0|\n",
       "[1.0,0.0,340.0,34...|       0.0|  0.0|\n",
       "[1.0,0.0,341.0,64...|       0.0|  0.0|\n",
       "[1.0,0.0,342.0,27...|       0.0|  0.0|\n",
       "[0.0,0.0,358.0,20...|       0.0|  0.0|\n",
       "[1.0,0.0,361.0,10...|       0.0|  0.0|\n",
       "[1.0,0.0,367.0,29...|       0.0|  0.0|\n",
       "[1.0,0.0,377.0,44...|       0.0|  0.0|\n",
       "[1.0,0.0,394.0,33...|       0.0|  0.0|\n",
       "[0.0,0.0,403.0,19...|       0.0|  0.0|\n",
       "[0.0,0.0,412.0,0....|       0.0|  0.0|\n",
       "(13,[2,3,4,5,10,1...|       1.0|  0.0|\n",
       "[1.0,0.0,426.0,16...|       0.0|  0.0|\n",
       "[1.0,0.0,427.0,54...|       0.0|  0.0|\n",
       "[1.0,0.0,451.0,11...|       0.0|  0.0|\n",
       "[1.0,0.0,460.0,16...|       0.0|  0.0|\n",
       "[1.0,0.0,465.0,53...|       0.0|  0.0|\n",
       "[1.0,0.0,469.0,36...|       0.0|  0.0|\n",
       "[1.0,0.0,472.0,34...|       0.0|  0.0|\n",
       "[1.0,0.0,477.0,84...|       0.0|  0.0|\n",
       "[1.0,0.0,484.0,14...|       0.0|  0.0|\n",
       "[1.0,0.0,494.0,36...|       0.0|  0.0|\n",
       "[1.0,0.0,501.0,32...|       0.0|  0.0|\n",
       "[0.0,0.0,516.0,27...|       0.0|  0.0|\n",
       "[1.0,0.0,518.0,71...|       0.0|  0.0|\n",
       "[1.0,0.0,519.0,29...|       0.0|  0.0|\n",
       "[0.0,0.0,527.0,37...|       0.0|  0.0|\n",
       "[1.0,0.0,529.0,33...|       0.0|  0.0|\n",
       "[0.0,0.0,533.0,63...|       0.0|  0.0|\n",
       "[1.0,0.0,536.0,33...|       0.0|  0.0|\n",
       "(13,[2,3,5,6,7,8,...|       0.0|  0.0|\n",
       "[1.0,0.0,541.0,13...|       0.0|  0.0|\n",
       "[1.0,0.0,542.0,11...|       0.0|  0.0|\n",
       "[0.0,0.0,544.0,13...|       0.0|  0.0|\n",
       "[1.0,0.0,555.0,99...|       0.0|  0.0|\n",
       "[1.0,0.0,556.0,13...|       0.0|  0.0|\n",
       "[0.0,0.0,561.0,54...|       0.0|  0.0|\n",
       "[0.0,0.0,565.0,42...|       0.0|  0.0|\n",
       "[0.0,0.0,590.0,14...|       0.0|  0.0|\n",
       "[1.0,0.0,595.0,95...|       0.0|  0.0|\n",
       "[1.0,0.0,599.0,12...|       0.0|  0.0|\n",
       "[1.0,0.0,618.0,58...|       0.0|  0.0|\n",
       "[1.0,0.0,631.0,49...|       0.0|  0.0|\n",
       "[1.0,0.0,636.0,12...|       0.0|  0.0|\n",
       "[0.0,0.0,658.0,21...|       0.0|  0.0|\n",
       "[1.0,0.0,659.0,16...|       0.0|  0.0|\n",
       "[1.0,0.0,668.0,16...|       0.0|  0.0|\n",
       "[1.0,0.0,676.0,30...|       0.0|  0.0|\n",
       "[1.0,0.0,678.0,64...|       0.0|  0.0|\n",
       "[1.0,0.0,697.0,12...|       0.0|  0.0|\n",
       "[1.0,0.0,731.0,22...|       0.0|  0.0|\n",
       "[1.0,0.0,767.0,66...|       0.0|  0.0|\n",
       "[1.0,0.0,780.0,45...|       0.0|  0.0|\n",
       "[1.0,0.0,792.0,61...|       0.0|  0.0|\n",
       "[1.0,0.0,793.0,18...|       0.0|  0.0|\n",
       "[1.0,0.0,803.0,61...|       0.0|  0.0|\n",
       "[0.0,0.0,815.0,59...|       0.0|  0.0|\n",
       "[1.0,0.0,817.0,84...|       0.0|  0.0|\n",
       "[1.0,0.0,851.0,48...|       0.0|  0.0|\n",
       "[1.0,0.0,881.0,59...|       0.0|  0.0|\n",
       "[1.0,0.0,901.0,35...|       0.0|  0.0|\n",
       "[1.0,0.0,919.0,10...|       0.0|  0.0|\n",
       "[1.0,0.0,926.0,56...|       0.0|  0.0|\n",
       "[1.0,0.0,931.0,76...|       0.0|  0.0|\n",
       "[1.0,0.0,931.0,23...|       0.0|  0.0|\n",
       "[1.0,0.0,943.0,77...|       0.0|  0.0|\n",
       "[1.0,0.0,949.0,16...|       0.0|  0.0|\n",
       "[1.0,0.0,950.0,82...|       0.0|  0.0|\n",
       "[1.0,0.0,970.0,12...|       0.0|  0.0|\n",
       "[0.0,0.0,987.0,13...|       0.0|  0.0|\n",
       "[1.0,0.0,990.0,18...|       0.0|  0.0|\n",
       "[0.0,0.0,1023.0,5...|       0.0|  0.0|\n",
       "[1.0,0.0,1032.0,8...|       0.0|  0.0|\n",
       "[1.0,0.0,1038.0,9...|       0.0|  0.0|\n",
       "[1.0,0.0,1073.0,3...|       0.0|  0.0|\n",
       "(13,[2,3,4,5,8,12...|       0.0|  0.0|\n",
       "[1.0,0.0,1095.0,7...|       0.0|  0.0|\n",
       "[1.0,0.0,1121.0,2...|       0.0|  0.0|\n",
       "[0.0,1.0,1130.0,4...|       0.0|  0.0|\n",
       "[1.0,0.0,1136.0,9...|       0.0|  0.0|\n",
       "[0.0,0.0,1144.0,1...|       0.0|  0.0|\n",
       "[0.0,0.0,1164.0,6...|       0.0|  0.0|\n",
       "[1.0,0.0,1176.0,1...|       0.0|  0.0|\n",
       "[1.0,0.0,1207.0,1...|       0.0|  0.0|\n",
       "[0.0,0.0,1222.0,3...|       0.0|  0.0|\n",
       "[1.0,0.0,1249.0,2...|       0.0|  0.0|\n",
       "[0.0,0.0,1270.0,7...|       0.0|  0.0|\n",
       "[1.0,0.0,1276.0,2...|       0.0|  0.0|\n",
       "[0.0,0.0,1307.0,1...|       0.0|  0.0|\n",
       "[1.0,0.0,1316.0,9...|       0.0|  0.0|\n",
       "[1.0,0.0,1320.0,1...|       0.0|  0.0|\n",
       "[1.0,0.0,1358.0,3...|       0.0|  0.0|\n",
       "[1.0,0.0,1370.0,1...|       0.0|  0.0|\n",
       "[0.0,0.0,1375.0,9...|       0.0|  0.0|\n",
       "[0.0,0.0,1391.0,1...|       0.0|  0.0|\n",
       "[0.0,0.0,1424.0,1...|       0.0|  0.0|\n",
       "[1.0,0.0,1437.0,3...|       0.0|  0.0|\n",
       "[1.0,0.0,1465.0,2...|       0.0|  0.0|\n",
       "[1.0,0.0,1506.0,5...|       0.0|  0.0|\n",
       "[1.0,0.0,1526.0,1...|       0.0|  0.0|\n",
       "[1.0,0.0,1548.0,2...|       0.0|  0.0|\n",
       "[1.0,0.0,1630.0,9...|       0.0|  0.0|\n",
       "[0.0,0.0,1643.0,1...|       0.0|  0.0|\n",
       "[1.0,1.0,1659.0,1...|       0.0|  0.0|\n",
       "[1.0,1.0,1703.0,9...|       0.0|  0.0|\n",
       "[1.0,0.0,1725.0,1...|       0.0|  0.0|\n",
       "[1.0,0.0,1816.0,9...|       0.0|  0.0|\n",
       "[0.0,0.0,1820.0,3...|       0.0|  0.0|\n",
       "[1.0,0.0,1835.0,9...|       0.0|  0.0|\n",
       "[1.0,0.0,1894.0,9...|       0.0|  0.0|\n",
       "[0.0,0.0,1933.0,1...|       0.0|  0.0|\n",
       "[1.0,0.0,1959.0,7...|       0.0|  0.0|\n",
       "(13,[0,2,3,4,5,7,...|       0.0|  0.0|\n",
       "[1.0,0.0,2056.0,1...|       0.0|  0.0|\n",
       "[1.0,0.0,2310.0,2...|       0.0|  0.0|\n",
       "[0.0,0.0,2429.0,8...|       0.0|  0.0|\n",
       "[0.0,1.0,2488.0,3...|       0.0|  0.0|\n",
       "[0.0,0.0,2573.0,2...|       0.0|  0.0|\n",
       "[1.0,0.0,2647.0,1...|       0.0|  0.0|\n",
       "[1.0,1.0,2694.0,1...|       0.0|  0.0|\n",
       "[1.0,0.0,2707.0,1...|       0.0|  0.0|\n",
       "[1.0,0.0,2715.0,1...|       0.0|  0.0|\n",
       "[0.0,0.0,2760.0,2...|       0.0|  0.0|\n",
       "[1.0,1.0,2793.0,9...|       0.0|  0.0|\n",
       "[0.0,0.0,2817.0,1...|       0.0|  0.0|\n",
       "[1.0,0.0,2942.0,8...|       0.0|  0.0|\n",
       "[1.0,0.0,3247.0,3...|       0.0|  0.0|\n",
       "[0.0,0.0,3465.0,1...|       0.0|  0.0|\n",
       "(13,[2,3,4,5,7,8,...|       1.0|  0.0|\n",
       "[1.0,1.0,3607.0,2...|       0.0|  0.0|\n",
       "[0.0,0.0,3646.0,3...|       0.0|  0.0|\n",
       "[0.0,0.0,3752.0,4...|       0.0|  0.0|\n",
       "[1.0,0.0,3809.0,8...|       0.0|  0.0|\n",
       "[0.0,1.0,3955.0,1...|       0.0|  0.0|\n",
       "[1.0,1.0,4122.0,1...|       0.0|  0.0|\n",
       "[0.0,1.0,4352.0,4...|       0.0|  0.0|\n",
       "[1.0,1.0,4460.0,5...|       0.0|  0.0|\n",
       "[1.0,1.0,4999.0,6...|       0.0|  0.0|\n",
       "[1.0,0.0,5002.0,1...|       0.0|  0.0|\n",
       "[1.0,1.0,5066.0,1...|       0.0|  0.0|\n",
       "[0.0,1.0,5102.0,1...|       0.0|  0.0|\n",
       "[1.0,0.0,5105.0,1...|       0.0|  0.0|\n",
       "[0.0,1.0,5245.0,7...|       0.0|  0.0|\n",
       "[0.0,0.0,5362.0,5...|       0.0|  0.0|\n",
       "[0.0,1.0,6018.0,4...|       0.0|  0.0|\n",
       "[1.0,1.0,6130.0,1...|       0.0|  0.0|\n",
       "[1.0,1.0,6540.0,5...|       0.0|  0.0|\n",
       "[1.0,1.0,7096.0,1...|       0.0|  0.0|\n",
       "[1.0,0.0,7707.0,2...|       0.0|  0.0|\n",
       "[0.0,0.0,8475.0,9...|       0.0|  0.0|\n",
       "[0.0,1.0,8836.0,1...|       0.0|  0.0|\n",
       "[1.0,1.0,8980.0,5...|       0.0|  0.0|\n",
       "[1.0,1.0,10060.0,...|       0.0|  0.0|\n",
       "[1.0,0.0,10489.0,...|       0.0|  0.0|\n",
       "[1.0,1.0,11086.0,...|       0.0|  0.0|\n",
       "[1.0,0.0,11911.0,...|       0.0|  0.0|\n",
       "[0.0,1.0,12112.0,...|       0.0|  0.0|\n",
       "[1.0,1.0,12502.0,...|       0.0|  0.0|\n",
       "[1.0,1.0,13234.0,...|       0.0|  0.0|\n",
       "[1.0,1.0,13611.0,...|       0.0|  0.0|\n",
       "[0.0,1.0,14315.0,...|       0.0|  0.0|\n",
       "[1.0,0.0,14494.0,...|       0.0|  0.0|\n",
       "[1.0,1.0,16416.0,...|       0.0|  0.0|\n",
       "[0.0,0.0,16815.0,...|       0.0|  0.0|\n",
       "[1.0,1.0,17103.0,...|       0.0|  0.0|\n",
       "[0.0,0.0,18204.0,...|       0.0|  0.0|\n",
       "[1.0,1.0,18415.0,...|       0.0|  0.0|\n",
       "[1.0,0.0,19217.0,...|       0.0|  0.0|\n",
       "[1.0,1.0,19310.0,...|       0.0|  0.0|\n",
       "[1.0,0.0,20439.0,...|       0.0|  0.0|\n",
       "[1.0,0.0,20928.0,...|       0.0|  0.0|\n",
       "[0.0,1.0,25201.0,...|       0.0|  0.0|\n",
       "[0.0,0.0,25604.0,...|       1.0|  0.0|\n",
       "[1.0,1.0,25636.0,...|       0.0|  0.0|\n",
       "[0.0,0.0,27218.0,...|       0.0|  0.0|\n",
       "[0.0,0.0,27439.0,...|       0.0|  0.0|\n",
       "[0.0,1.0,27981.0,...|       0.0|  0.0|\n",
       "[0.0,1.0,30418.0,...|       0.0|  0.0|\n",
       "[1.0,1.0,30439.0,...|       0.0|  0.0|\n",
       "[1.0,0.0,31115.0,...|       0.0|  0.0|\n",
       "[1.0,1.0,33118.0,...|       0.0|  0.0|\n",
       "[0.0,0.0,33158.0,...|       1.0|  0.0|\n",
       "[0.0,0.0,34054.0,...|       0.0|  0.0|\n",
       "[1.0,1.0,34407.0,...|       0.0|  0.0|\n",
       "[1.0,1.0,34538.0,...|       0.0|  0.0|\n",
       "(13,[2,4,5,8,10,1...|       0.0|  0.0|\n",
       "[1.0,1.0,34759.0,...|       0.0|  0.0|\n",
       "[1.0,0.0,35416.0,...|       0.0|  0.0|\n",
       "[1.0,1.0,36663.0,...|       0.0|  0.0|\n",
       "[1.0,1.0,38299.0,...|       0.0|  0.0|\n",
       "[0.0,0.0,39371.0,...|       0.0|  0.0|\n",
       "[1.0,0.0,40370.0,...|       0.0|  0.0|\n",
       "[1.0,1.0,45573.0,...|       0.0|  0.0|\n",
       "[1.0,1.0,47645.0,...|       0.0|  0.0|\n",
       "[1.0,1.0,51999.0,...|       0.0|  0.0|\n",
       "[1.0,1.0,52611.0,...|       0.0|  0.0|\n",
       "[0.0,1.0,53687.0,...|       0.0|  0.0|\n",
       "[1.0,1.0,66513.0,...|       0.0|  0.0|\n",
       "[1.0,1.0,69079.0,...|       0.0|  0.0|\n",
       "[1.0,1.0,72449.0,...|       0.0|  0.0|\n",
       "[1.0,1.0,72681.0,...|       0.0|  0.0|\n",
       "[1.0,1.0,72872.0,...|       0.0|  0.0|\n",
       "[1.0,0.0,80473.0,...|       0.0|  0.0|\n",
       "(13,[1,2,3,4,5,7,...|       0.0|  0.0|\n",
       "[0.0,0.0,91102.0,...|       1.0|  0.0|\n",
       "[0.0,1.0,94287.0,...|       0.0|  0.0|\n",
       "[1.0,1.0,98268.0,...|       0.0|  0.0|\n",
       "[1.0,0.0,98496.0,...|       0.0|  0.0|\n",
       "[1.0,1.0,100476.0...|       0.0|  0.0|\n",
       "[1.0,1.0,111004.0...|       0.0|  0.0|\n",
       "[0.0,1.0,118890.0...|       0.0|  0.0|\n",
       "[1.0,1.0,119063.0...|       0.0|  0.0|\n",
       "[1.0,0.0,120413.0...|       0.0|  0.0|\n",
       "[0.0,1.0,133556.0...|       0.0|  0.0|\n",
       "[0.0,1.0,135196.0...|       0.0|  0.0|\n",
       "[0.0,0.0,149403.0...|       0.0|  0.0|\n",
       "[0.0,0.0,156442.0...|       0.0|  0.0|\n",
       "[0.0,1.0,158639.0...|       0.0|  0.0|\n",
       "[0.0,1.0,163194.0...|       0.0|  0.0|\n",
       "[0.0,1.0,163772.0...|       0.0|  0.0|\n",
       "[0.0,1.0,191926.0...|       0.0|  0.0|\n",
       "[1.0,1.0,199405.0...|       0.0|  0.0|\n",
       "[1.0,0.0,201016.0...|       0.0|  0.0|\n",
       "[1.0,0.0,203962.0...|       0.0|  0.0|\n",
       "[1.0,1.0,206747.0...|       0.0|  0.0|\n",
       "[1.0,1.0,206803.0...|       0.0|  0.0|\n",
       "[1.0,1.0,209688.0...|       0.0|  0.0|\n",
       "[0.0,1.0,225017.0...|       0.0|  0.0|\n",
       "[1.0,1.0,234580.0...|       0.0|  0.0|\n",
       "[1.0,0.0,248808.0...|       0.0|  0.0|\n",
       "[1.0,1.0,251777.0...|       0.0|  0.0|\n",
       "[1.0,1.0,259047.0...|       0.0|  0.0|\n",
       "[1.0,1.0,260116.0...|       0.0|  0.0|\n",
       "[1.0,0.0,264759.0...|       0.0|  0.0|\n",
       "[1.0,0.0,278226.0...|       0.0|  0.0|\n",
       "[1.0,1.0,287193.0...|       0.0|  0.0|\n",
       "[1.0,1.0,287874.0...|       0.0|  0.0|\n",
       "[1.0,1.0,289411.0...|       0.0|  0.0|\n",
       "[0.0,1.0,306773.0...|       0.0|  0.0|\n",
       "[1.0,1.0,312997.0...|       0.0|  0.0|\n",
       "[1.0,1.0,318238.0...|       0.0|  0.0|\n",
       "[0.0,1.0,322557.0...|       0.0|  0.0|\n",
       "[1.0,1.0,338261.0...|       0.0|  0.0|\n",
       "[1.0,1.0,356509.0...|       0.0|  0.0|\n",
       "[0.0,1.0,369723.0...|       0.0|  0.0|\n",
       "[0.0,1.0,382003.0...|       0.0|  0.0|\n",
       "[1.0,1.0,384775.0...|       0.0|  0.0|\n",
       "[0.0,0.0,402553.0...|       0.0|  0.0|\n",
       "[1.0,1.0,409984.0...|       0.0|  0.0|\n",
       "[1.0,1.0,443562.0...|       0.0|  0.0|\n",
       "[1.0,1.0,594490.0...|       0.0|  0.0|\n",
       "[0.0,1.0,600189.0...|       0.0|  0.0|\n",
       "[0.0,1.0,611437.0...|       0.0|  0.0|\n",
       "[0.0,1.0,624586.0...|       0.0|  0.0|\n",
       "[0.0,1.0,641417.0...|       0.0|  0.0|\n",
       "[1.0,1.0,648595.0...|       0.0|  0.0|\n",
       "[1.0,1.0,663534.0...|       0.0|  0.0|\n",
       "[0.0,1.0,682689.0...|       0.0|  0.0|\n",
       "[0.0,1.0,739050.0...|       0.0|  0.0|\n",
       "[1.0,1.0,762589.0...|       0.0|  0.0|\n",
       "[1.0,0.0,850191.0...|       0.0|  0.0|\n",
       "[1.0,1.0,906641.0...|       0.0|  0.0|\n",
       "[1.0,1.0,907452.0...|       0.0|  0.0|\n",
       "[0.0,1.0,958440.0...|       0.0|  0.0|\n",
       "[1.0,1.0,961815.0...|       0.0|  0.0|\n",
       "[0.0,0.0,1030149....|       0.0|  0.0|\n",
       "[1.0,1.0,1061766....|       0.0|  0.0|\n",
       "[1.0,1.0,1065714....|       0.0|  0.0|\n",
       "[0.0,0.0,1068322....|       0.0|  0.0|\n",
       "[0.0,1.0,1140143....|       0.0|  0.0|\n",
       "[0.0,1.0,1178773....|       0.0|  0.0|\n",
       "[1.0,1.0,1217663....|       0.0|  0.0|\n",
       "[1.0,1.0,1227249....|       0.0|  0.0|\n",
       "[0.0,1.0,1318167....|       0.0|  0.0|\n",
       "[1.0,1.0,1378352....|       0.0|  0.0|\n",
       "[1.0,1.0,1453381....|       0.0|  0.0|\n",
       "[1.0,1.0,1464899....|       0.0|  0.0|\n",
       "[0.0,1.0,1508665....|       0.0|  0.0|\n",
       "[0.0,1.0,1571860....|       0.0|  0.0|\n",
       "[1.0,1.0,1609886....|       0.0|  0.0|\n",
       "[1.0,1.0,1714079....|       0.0|  0.0|\n",
       "[0.0,1.0,1740780....|       0.0|  0.0|\n",
       "[1.0,1.0,1752592....|       0.0|  0.0|\n",
       "[1.0,1.0,1752995....|       0.0|  0.0|\n",
       "[1.0,1.0,1859847....|       0.0|  0.0|\n",
       "[1.0,1.0,2026236....|       0.0|  0.0|\n",
       "[0.0,1.0,2235903....|       0.0|  0.0|\n",
       "[0.0,1.0,2383147....|       0.0|  0.0|\n",
       "[0.0,1.0,2528386....|       0.0|  0.0|\n",
       "[0.0,1.0,2959730....|       0.0|  0.0|\n",
       "[0.0,1.0,3093315....|       0.0|  0.0|\n",
       "[1.0,1.0,3451647....|       0.0|  0.0|\n",
       "[1.0,1.0,3736741....|       0.0|  0.0|\n",
       "[1.0,1.0,4131788....|       0.0|  0.0|\n",
       "[0.0,1.0,4363932....|       0.0|  0.0|\n",
       "[0.0,1.0,4556980....|       0.0|  0.0|\n",
       "[0.0,1.0,5060011....|       0.0|  0.0|\n",
       "[1.0,1.0,5408702....|       0.0|  0.0|\n",
       "[1.0,1.0,5457731....|       0.0|  0.0|\n",
       "[1.0,1.0,5533309....|       0.0|  0.0|\n",
       "[1.0,1.0,5896071....|       0.0|  0.0|\n",
       "[0.0,1.0,7417586....|       0.0|  0.0|\n",
       "[1.0,1.0,8388905....|       0.0|  0.0|\n",
       "[1.0,1.0,1.079785...|       0.0|  0.0|\n",
       "[0.0,1.0,1.141038...|       0.0|  0.0|\n",
       "[1.0,1.0,1.215671...|       0.0|  0.0|\n",
       "[1.0,1.0,1.264469...|       0.0|  0.0|\n",
       "(13,[5,6,7,8,10,1...|       1.0|  1.0|\n",
       "(13,[5,6,7,8,10,1...|       1.0|  1.0|\n",
       "(13,[5,6,7,8,10,1...|       1.0|  1.0|\n",
       "(13,[2,5,6,7,8,10...|       1.0|  1.0|\n",
       "(13,[2,5,6,7,8,10...|       1.0|  1.0|\n",
       "(13,[2,5,6,7,8,10...|       1.0|  1.0|\n",
       "(13,[2,5,6,7,8,10...|       1.0|  1.0|\n",
       "(13,[2,5,6,7,8,10...|       1.0|  1.0|\n",
       "(13,[2,5,7,10,11,...|       1.0|  1.0|\n",
       "(13,[2,5,6,7,8,10...|       1.0|  1.0|\n",
       "[0.0,0.0,3.0,0.0,...|       1.0|  1.0|\n",
       "[0.0,0.0,3.0,12.0...|       0.0|  1.0|\n",
       "[0.0,0.0,3.0,13.0...|       1.0|  1.0|\n",
       "[0.0,0.0,3.0,59.0...|       0.0|  1.0|\n",
       "[0.0,0.0,3.0,141....|       1.0|  1.0|\n",
       "(13,[2,5,6,7,8,10...|       1.0|  1.0|\n",
       "[0.0,0.0,5.0,10.0...|       1.0|  1.0|\n",
       "(13,[2,5,10,12],[...|       1.0|  1.0|\n",
       "[0.0,0.0,6.0,95.0...|       1.0|  1.0|\n",
       "(13,[2,5,6,7,8,10...|       0.0|  1.0|\n",
       "[0.0,0.0,7.0,171....|       0.0|  1.0|\n",
       "[0.0,0.0,7.0,186....|       1.0|  1.0|\n",
       "(13,[2,5,6,7,8,10...|       1.0|  1.0|\n",
       "(13,[2,5,6,7,8,10...|       1.0|  1.0|\n",
       "(13,[2,5,6,7,8,10...|       1.0|  1.0|\n",
       "(13,[2,5,6,7,8,10...|       1.0|  1.0|\n",
       "[0.0,0.0,8.0,271....|       1.0|  1.0|\n",
       "[0.0,0.0,9.0,22.0...|       1.0|  1.0|\n",
       "(13,[2,5,6,7,8,10...|       1.0|  1.0|\n",
       "(13,[2,4,5,10,12]...|       1.0|  1.0|\n",
       "(13,[2,3,5,6,7,8,...|       0.0|  1.0|\n",
       "(13,[2,5,6,7,8,10...|       1.0|  1.0|\n",
       "[1.0,0.0,11.0,108...|       0.0|  1.0|\n",
       "(13,[2,5,6,7,8,10...|       1.0|  1.0|\n",
       "(13,[2,5,6,7,8,10...|       1.0|  1.0|\n",
       "(13,[2,4,5,10,12]...|       1.0|  1.0|\n",
       "[1.0,0.0,12.0,50....|       0.0|  1.0|\n",
       "(13,[2,5,6,7,8,10...|       1.0|  1.0|\n",
       "(13,[2,3,5,6,8,10...|       1.0|  1.0|\n",
       "(13,[2,5,6,7,8,10...|       1.0|  1.0|\n",
       "(13,[2,5,6,7,8,10...|       1.0|  1.0|\n",
       "[0.0,0.0,14.0,13....|       0.0|  1.0|\n",
       "(13,[2,3,5,6,7,8,...|       0.0|  1.0|\n",
       "(13,[2,5,6,7,8,10...|       1.0|  1.0|\n",
       "(13,[2,3,5,7,10,1...|       1.0|  1.0|\n",
       "(13,[2,3,5,8,10,1...|       0.0|  1.0|\n",
       "(13,[2,4,5,7,8,10...|       0.0|  1.0|\n",
       "[0.0,0.0,18.0,38....|       1.0|  1.0|\n",
       "[0.0,0.0,20.0,18....|       0.0|  1.0|\n",
       "[0.0,0.0,20.0,43....|       1.0|  1.0|\n",
       "[0.0,0.0,21.0,16....|       0.0|  1.0|\n",
       "(13,[2,5,6,7,8,10...|       1.0|  1.0|\n",
       "[0.0,0.0,22.0,127...|       1.0|  1.0|\n",
       "(13,[2,5,6,7,8,10...|       1.0|  1.0|\n",
       "(13,[2,3,4,5,10,1...|       1.0|  1.0|\n",
       "[0.0,0.0,25.0,332...|       1.0|  1.0|\n",
       "(13,[2,5,6,7,8,10...|       1.0|  1.0|\n",
       "(13,[2,5,6,7,8,10...|       0.0|  1.0|\n",
       "(13,[2,3,5,7,8,10...|       0.0|  1.0|\n",
       "(13,[0,2,5,6,7,8,...|       0.0|  1.0|\n",
       "[1.0,0.0,27.0,73....|       0.0|  1.0|\n",
       "[0.0,0.0,27.0,163...|       1.0|  1.0|\n",
       "[0.0,0.0,28.0,114...|       0.0|  1.0|\n",
       "[1.0,0.0,29.0,0.0...|       0.0|  1.0|\n",
       "[0.0,0.0,29.0,0.0...|       0.0|  1.0|\n",
       "(13,[2,5,6,7,8,10...|       1.0|  1.0|\n",
       "[0.0,0.0,30.0,132...|       1.0|  1.0|\n",
       "(13,[2,5,6,7,8,10...|       1.0|  1.0|\n",
       "[1.0,0.0,32.0,33....|       0.0|  1.0|\n",
       "(13,[2,5,6,7,8,10...|       1.0|  1.0|\n",
       "[1.0,0.0,33.0,342...|       0.0|  1.0|\n",
       "[1.0,0.0,35.0,186...|       0.0|  1.0|\n",
       "[0.0,0.0,36.0,739...|       1.0|  1.0|\n",
       "[1.0,0.0,38.0,729...|       0.0|  1.0|\n",
       "[0.0,0.0,41.0,114...|       0.0|  1.0|\n",
       "[0.0,0.0,44.0,0.0...|       0.0|  1.0|\n",
       "[0.0,0.0,46.0,64....|       1.0|  1.0|\n",
       "[1.0,0.0,48.0,43....|       0.0|  1.0|\n",
       "(13,[2,3,4,5,12],...|       0.0|  1.0|\n",
       "[0.0,0.0,51.0,182...|       0.0|  1.0|\n",
       "[1.0,0.0,53.0,213...|       0.0|  1.0|\n",
       "[0.0,0.0,56.0,189...|       0.0|  1.0|\n",
       "[1.0,0.0,61.0,137...|       0.0|  1.0|\n",
       "[1.0,0.0,61.0,246...|       0.0|  1.0|\n",
       "[1.0,0.0,69.0,90....|       0.0|  1.0|\n",
       "(13,[2,4,5,6,7,8,...|       0.0|  1.0|\n",
       "[0.0,0.0,70.0,417...|       0.0|  1.0|\n",
       "[0.0,0.0,82.0,106...|       0.0|  1.0|\n",
       "[0.0,0.0,83.0,107...|       0.0|  1.0|\n",
       "[0.0,0.0,87.0,712...|       1.0|  1.0|\n",
       "[1.0,0.0,92.0,387...|       0.0|  1.0|\n",
       "(13,[2,5,6,7,8,12...|       0.0|  1.0|\n",
       "[0.0,0.0,96.0,821...|       1.0|  1.0|\n",
       "[1.0,0.0,98.0,154...|       0.0|  1.0|\n",
       "(13,[2,3,4,5,7,12...|       0.0|  1.0|\n",
       "[0.0,0.0,101.0,11...|       0.0|  1.0|\n",
       "[0.0,0.0,109.0,17...|       0.0|  1.0|\n",
       "[0.0,0.0,110.0,12...|       0.0|  1.0|\n",
       "(13,[2,3,4,5,9,12...|       0.0|  1.0|\n",
       "[0.0,0.0,116.0,19...|       0.0|  1.0|\n",
       "[0.0,0.0,135.0,44...|       0.0|  1.0|\n",
       "[1.0,0.0,140.0,66...|       0.0|  1.0|\n",
       "[1.0,0.0,153.0,17...|       0.0|  1.0|\n",
       "[0.0,0.0,155.0,74...|       1.0|  1.0|\n",
       "[0.0,0.0,157.0,49...|       0.0|  1.0|\n",
       "[0.0,0.0,159.0,11...|       0.0|  1.0|\n",
       "[1.0,0.0,171.0,95...|       0.0|  1.0|\n",
       "(13,[2,3,4,5,7,12...|       0.0|  1.0|\n",
       "(13,[2,3,4,5,8,10...|       0.0|  1.0|\n",
       "(13,[2,3,4,5,10,1...|       1.0|  1.0|\n",
       "(13,[2,3,4,5,7,12...|       1.0|  1.0|\n",
       "[1.0,0.0,230.0,56...|       0.0|  1.0|\n",
       "[0.0,0.0,240.0,57...|       0.0|  1.0|\n",
       "[1.0,0.0,240.0,25...|       0.0|  1.0|\n",
       "[1.0,0.0,253.0,29...|       0.0|  1.0|\n",
       "(13,[2,4,5,6,7,8,...|       0.0|  1.0|\n",
       "[1.0,0.0,302.0,0....|       0.0|  1.0|\n",
       "[1.0,0.0,307.0,26...|       0.0|  1.0|\n",
       "[0.0,0.0,319.0,11...|       0.0|  1.0|\n",
       "(13,[2,3,4,5,7,10...|       1.0|  1.0|\n",
       "[1.0,0.0,333.0,98...|       0.0|  1.0|\n",
       "[1.0,0.0,365.0,51...|       0.0|  1.0|\n",
       "(13,[2,4,5,7,10,1...|       1.0|  1.0|\n",
       "[0.0,0.0,378.0,45...|       0.0|  1.0|\n",
       "[1.0,0.0,458.0,27...|       0.0|  1.0|\n",
       "[1.0,0.0,458.0,80...|       0.0|  1.0|\n",
       "[0.0,0.0,460.0,39...|       0.0|  1.0|\n",
       "(13,[2,4,5,10,12]...|       1.0|  1.0|\n",
       "(13,[2,3,4,5,8,10...|       1.0|  1.0|\n",
       "[1.0,0.0,753.0,0....|       0.0|  1.0|\n",
       "[0.0,0.0,781.0,22...|       0.0|  1.0|\n",
       "(13,[2,3,4,5,7,12...|       0.0|  1.0|\n",
       "[0.0,0.0,998.0,0....|       0.0|  1.0|\n",
       "(13,[2,3,4,5,12],...|       0.0|  1.0|\n",
       "[0.0,0.0,1055.0,2...|       0.0|  1.0|\n",
       "(13,[0,2,3,4,5,12...|       0.0|  1.0|\n",
       "(13,[0,2,3,4,5,7,...|       0.0|  1.0|\n",
       "[0.0,0.0,1523.0,9...|       0.0|  1.0|\n",
       "[1.0,0.0,1566.0,4...|       0.0|  1.0|\n",
       "(13,[2,3,4,5,7,8,...|       0.0|  1.0|\n",
       "[1.0,0.0,2439.0,2...|       0.0|  1.0|\n",
       "[1.0,0.0,3300.0,3...|       0.0|  1.0|\n",
       "[0.0,0.0,6309.0,6...|       1.0|  1.0|\n",
       "[0.0,0.0,6744.0,2...|       1.0|  1.0|\n",
       "(13,[2,3,4,5,7,12...|       1.0|  1.0|\n",
       "[1.0,0.0,28997.0,...|       0.0|  1.0|\n",
       "(13,[2,3,4,5,10,1...|       1.0|  1.0|\n",
       "[1.0,1.0,39541.0,...|       0.0|  1.0|\n",
       "[0.0,0.0,94516.0,...|       0.0|  1.0|\n",
       "(13,[2,3,4,5,7,8,...|       1.0|  1.0|\n",
       "[1.0,0.0,119088.0...|       0.0|  1.0|\n",
       "[0.0,0.0,140248.0...|       0.0|  1.0|\n",
       "[1.0,1.0,154086.0...|       0.0|  1.0|\n",
       "[1.0,0.0,209172.0...|       0.0|  1.0|\n",
       "[0.0,1.0,231908.0...|       0.0|  1.0|\n",
       "[1.0,0.0,367669.0...|       1.0|  1.0|\n",
       "[1.0,1.0,406026.0...|       0.0|  1.0|\n",
       "(13,[5,6,7,8,10,1...|       1.0|  0.0|\n",
       "(13,[5,6,7,8,10,1...|       1.0|  0.0|\n",
       "(13,[5,6,7,8,10,1...|       1.0|  0.0|\n",
       "(13,[5,6,7,8,10,1...|       1.0|  0.0|\n",
       "(13,[5,6,7,8,9,10...|       0.0|  0.0|\n",
       "(13,[5,6,7,8,10,1...|       1.0|  0.0|\n",
       "(13,[5,6,7,8,10,1...|       1.0|  0.0|\n",
       "(13,[5,6,7,8,10,1...|       1.0|  0.0|\n",
       "(13,[4,5,6,7,8,10...|       1.0|  0.0|\n",
       "(13,[2,5,6,7,8,10...|       1.0|  0.0|\n",
       "(13,[2,5,6,7,8,10...|       1.0|  0.0|\n",
       "(13,[2,5,6,7,8,10...|       1.0|  0.0|\n",
       "(13,[2,5,6,7,8,10...|       1.0|  0.0|\n",
       "(13,[2,5,6,7,8,10...|       1.0|  0.0|\n",
       "[0.0,0.0,1.0,0.0,...|       1.0|  0.0|\n",
       "[0.0,0.0,1.0,0.0,...|       1.0|  0.0|\n",
       "[0.0,0.0,1.0,0.0,...|       1.0|  0.0|\n",
       "(13,[2,3,4,5,12],...|       0.0|  0.0|\n",
       "[0.0,0.0,2.0,0.0,...|       1.0|  0.0|\n",
       "(13,[2,4,5,6,7,8,...|       0.0|  0.0|\n",
       "[0.0,0.0,11.0,70....|       0.0|  0.0|\n",
       "[0.0,0.0,13.0,13....|       1.0|  0.0|\n",
       "[0.0,0.0,17.0,53....|       0.0|  0.0|\n",
       "[1.0,0.0,18.0,0.0...|       0.0|  0.0|\n",
       "(13,[2,5,6,7,8,12...|       0.0|  0.0|\n",
       "[1.0,0.0,21.0,55....|       0.0|  0.0|\n",
       "[1.0,0.0,22.0,29....|       0.0|  0.0|\n",
       "[1.0,0.0,24.0,315...|       0.0|  0.0|\n",
       "[1.0,0.0,32.0,238...|       0.0|  0.0|\n",
       "[1.0,0.0,32.0,243...|       0.0|  0.0|\n",
       "[1.0,0.0,34.0,164...|       0.0|  0.0|\n",
       "[1.0,0.0,37.0,361...|       0.0|  0.0|\n",
       "[1.0,0.0,38.0,89....|       0.0|  0.0|\n",
       "[0.0,0.0,39.0,91....|       0.0|  0.0|\n",
       "[1.0,0.0,39.0,115...|       0.0|  0.0|\n",
       "[0.0,0.0,39.0,149...|       0.0|  0.0|\n",
       "[0.0,0.0,42.0,446...|       0.0|  0.0|\n",
       "[0.0,0.0,43.0,275...|       0.0|  0.0|\n",
       "[0.0,0.0,44.0,19....|       0.0|  0.0|\n",
       "[0.0,0.0,44.0,276...|       0.0|  0.0|\n",
       "[1.0,0.0,49.0,321...|       0.0|  0.0|\n",
       "[1.0,0.0,52.0,103...|       0.0|  0.0|\n",
       "[1.0,0.0,54.0,167...|       0.0|  0.0|\n",
       "[1.0,0.0,56.0,121...|       0.0|  0.0|\n",
       "(13,[2,4,5,6,7,8,...|       0.0|  0.0|\n",
       "[0.0,0.0,64.0,99....|       1.0|  0.0|\n",
       "(13,[2,3,4,5,8,12...|       0.0|  0.0|\n",
       "[1.0,0.0,67.0,237...|       0.0|  0.0|\n",
       "[1.0,0.0,69.0,40....|       0.0|  0.0|\n",
       "[1.0,0.0,69.0,41....|       0.0|  0.0|\n",
       "[1.0,0.0,73.0,727...|       0.0|  0.0|\n",
       "[0.0,0.0,74.0,125...|       0.0|  0.0|\n",
       "[1.0,0.0,75.0,251...|       0.0|  0.0|\n",
       "[1.0,0.0,76.0,162...|       0.0|  0.0|\n",
       "[1.0,0.0,77.0,357...|       0.0|  0.0|\n",
       "(13,[2,3,5,6,7,8,...|       0.0|  0.0|\n",
       "(13,[2,3,5,10,12]...|       1.0|  0.0|\n",
       "[0.0,0.0,89.0,332...|       0.0|  0.0|\n",
       "[0.0,0.0,90.0,85....|       0.0|  0.0|\n",
       "(13,[2,5,6,7,8,12...|       0.0|  0.0|\n",
       "[1.0,0.0,96.0,99....|       0.0|  0.0|\n",
       "[0.0,0.0,98.0,873...|       1.0|  0.0|\n",
       "[1.0,0.0,101.0,53...|       0.0|  0.0|\n",
       "[0.0,0.0,102.0,88...|       0.0|  0.0|\n",
       "(13,[2,3,4,5,7,12...|       1.0|  0.0|\n",
       "[0.0,0.0,103.0,21...|       0.0|  0.0|\n",
       "(13,[2,3,5,6,7,8,...|       0.0|  0.0|\n",
       "[1.0,0.0,104.0,36...|       0.0|  0.0|\n",
       "[0.0,0.0,105.0,28...|       1.0|  0.0|\n",
       "(13,[2,4,5,6,7,8,...|       0.0|  0.0|\n",
       "[1.0,0.0,112.0,60...|       0.0|  0.0|\n",
       "[0.0,0.0,113.0,10...|       0.0|  0.0|\n",
       "[0.0,0.0,113.0,51...|       0.0|  0.0|\n",
       "[0.0,0.0,113.0,54...|       0.0|  0.0|\n",
       "(13,[2,3,4,5,6,8,...|       0.0|  0.0|\n",
       "[1.0,0.0,120.0,25...|       0.0|  0.0|\n",
       "[1.0,0.0,120.0,35...|       0.0|  0.0|\n",
       "[0.0,0.0,121.0,42...|       0.0|  0.0|\n",
       "[0.0,0.0,121.0,91...|       0.0|  0.0|\n",
       "[0.0,0.0,122.0,0....|       1.0|  0.0|\n",
       "[1.0,0.0,123.0,20...|       0.0|  0.0|\n",
       "[1.0,0.0,124.0,43...|       0.0|  0.0|\n",
       "[1.0,0.0,125.0,19...|       0.0|  0.0|\n",
       "[0.0,0.0,129.0,39...|       0.0|  0.0|\n",
       "[0.0,0.0,131.0,23...|       0.0|  0.0|\n",
       "(13,[2,5,6,7,8,10...|       0.0|  0.0|\n",
       "[0.0,0.0,141.0,14...|       0.0|  0.0|\n",
       "[1.0,0.0,143.0,91...|       0.0|  0.0|\n",
       "[0.0,0.0,146.0,24...|       0.0|  0.0|\n",
       "[0.0,0.0,149.0,30...|       0.0|  0.0|\n",
       "(13,[2,5,6,7,8,10...|       1.0|  0.0|\n",
       "[1.0,0.0,158.0,30...|       0.0|  0.0|\n",
       "[0.0,0.0,159.0,11...|       0.0|  0.0|\n",
       "[1.0,0.0,163.0,42...|       0.0|  0.0|\n",
       "[1.0,0.0,165.0,78...|       0.0|  0.0|\n",
       "[0.0,0.0,168.0,30...|       0.0|  0.0|\n",
       "[0.0,0.0,173.0,55...|       0.0|  0.0|\n",
       "[1.0,0.0,174.0,48...|       0.0|  0.0|\n",
       "[1.0,0.0,176.0,37...|       0.0|  0.0|\n",
       "[0.0,0.0,182.0,81...|       0.0|  0.0|\n",
       "[0.0,0.0,184.0,54...|       0.0|  0.0|\n",
       "[1.0,0.0,185.0,43...|       0.0|  0.0|\n",
       "[1.0,0.0,188.0,18...|       0.0|  0.0|\n",
       "[0.0,0.0,188.0,40...|       0.0|  0.0|\n",
       "[0.0,0.0,189.0,43...|       0.0|  0.0|\n",
       "[1.0,0.0,191.0,80...|       0.0|  0.0|\n",
       "[1.0,0.0,195.0,45...|       0.0|  0.0|\n",
       "[1.0,0.0,205.0,19...|       0.0|  0.0|\n",
       "[1.0,0.0,218.0,67...|       0.0|  0.0|\n",
       "[1.0,0.0,219.0,24...|       0.0|  0.0|\n",
       "[1.0,0.0,223.0,56...|       0.0|  0.0|\n",
       "[1.0,0.0,225.0,55...|       0.0|  0.0|\n",
       "[0.0,0.0,227.0,31...|       0.0|  0.0|\n",
       "[0.0,0.0,227.0,99...|       0.0|  0.0|\n",
       "[0.0,0.0,233.0,20...|       0.0|  0.0|\n",
       "[1.0,0.0,235.0,60...|       0.0|  0.0|\n",
       "[1.0,0.0,237.0,21...|       0.0|  0.0|\n",
       "[1.0,0.0,239.0,40...|       0.0|  0.0|\n",
       "[1.0,0.0,240.0,40...|       0.0|  0.0|\n",
       "[1.0,0.0,242.0,29...|       0.0|  0.0|\n",
       "[0.0,0.0,244.0,72...|       0.0|  0.0|\n",
       "[0.0,0.0,249.0,36...|       0.0|  0.0|\n",
       "[0.0,0.0,255.0,26...|       0.0|  0.0|\n",
       "[0.0,0.0,255.0,39...|       0.0|  0.0|\n",
       "[1.0,0.0,259.0,16...|       0.0|  0.0|\n",
       "[0.0,0.0,259.0,18...|       0.0|  0.0|\n",
       "[1.0,0.0,259.0,31...|       0.0|  0.0|\n",
       "[1.0,0.0,259.0,11...|       0.0|  0.0|\n",
       "(13,[2,3,5,6,7,8,...|       0.0|  0.0|\n",
       "[1.0,0.0,262.0,11...|       0.0|  0.0|\n",
       "[1.0,0.0,264.0,28...|       0.0|  0.0|\n",
       "[1.0,0.0,271.0,27...|       0.0|  0.0|\n",
       "[0.0,0.0,274.0,13...|       0.0|  0.0|\n",
       "[1.0,0.0,277.0,61...|       0.0|  0.0|\n",
       "[1.0,0.0,287.0,16...|       0.0|  0.0|\n",
       "[0.0,0.0,289.0,11...|       0.0|  0.0|\n",
       "[1.0,0.0,296.0,47...|       0.0|  0.0|\n",
       "[1.0,0.0,303.0,70...|       0.0|  0.0|\n",
       "[1.0,0.0,309.0,59...|       0.0|  0.0|\n",
       "[0.0,0.0,320.0,29...|       0.0|  0.0|\n",
       "[1.0,0.0,321.0,49...|       0.0|  0.0|\n",
       "[1.0,0.0,328.0,22...|       0.0|  0.0|\n",
       "[1.0,0.0,333.0,47...|       0.0|  0.0|\n",
       "[1.0,0.0,333.0,51...|       0.0|  0.0|\n",
       "[0.0,0.0,335.0,90...|       1.0|  0.0|\n",
       "[1.0,0.0,340.0,21...|       0.0|  0.0|\n",
       "[0.0,0.0,342.0,53...|       0.0|  0.0|\n",
       "[1.0,0.0,361.0,12...|       0.0|  0.0|\n",
       "[1.0,0.0,364.0,42...|       0.0|  0.0|\n",
       "[1.0,0.0,372.0,12...|       0.0|  0.0|\n",
       "[1.0,0.0,378.0,77...|       0.0|  0.0|\n",
       "[1.0,0.0,379.0,37...|       0.0|  0.0|\n",
       "[0.0,0.0,381.0,94...|       0.0|  0.0|\n",
       "[0.0,0.0,392.0,20...|       0.0|  0.0|\n",
       "[1.0,0.0,393.0,12...|       0.0|  0.0|\n",
       "[1.0,0.0,393.0,47...|       0.0|  0.0|\n",
       "[1.0,0.0,398.0,36...|       0.0|  0.0|\n",
       "[0.0,0.0,400.0,19...|       0.0|  0.0|\n",
       "[1.0,0.0,411.0,29...|       0.0|  0.0|\n",
       "[1.0,0.0,427.0,11...|       0.0|  0.0|\n",
       "[0.0,0.0,443.0,48...|       0.0|  0.0|\n",
       "[1.0,0.0,460.0,10...|       0.0|  0.0|\n",
       "[0.0,0.0,461.0,43...|       0.0|  0.0|\n",
       "[0.0,0.0,466.0,33...|       0.0|  0.0|\n",
       "[0.0,0.0,469.0,31...|       1.0|  0.0|\n",
       "[1.0,0.0,477.0,48...|       0.0|  0.0|\n",
       "[1.0,0.0,483.0,59...|       0.0|  0.0|\n",
       "[0.0,0.0,486.0,40...|       0.0|  0.0|\n",
       "[1.0,0.0,498.0,75...|       0.0|  0.0|\n",
       "[1.0,0.0,503.0,13...|       0.0|  0.0|\n",
       "[1.0,0.0,543.0,57...|       0.0|  0.0|\n",
       "[1.0,0.0,547.0,33...|       0.0|  0.0|\n",
       "[1.0,0.0,552.0,67...|       0.0|  0.0|\n",
       "[1.0,0.0,559.0,56...|       0.0|  0.0|\n",
       "[1.0,0.0,575.0,55...|       0.0|  0.0|\n",
       "[1.0,0.0,576.0,47...|       0.0|  0.0|\n",
       "[1.0,0.0,589.0,17...|       0.0|  0.0|\n",
       "[1.0,0.0,592.0,37...|       0.0|  0.0|\n",
       "[1.0,0.0,593.0,15...|       0.0|  0.0|\n",
       "[1.0,0.0,597.0,87...|       0.0|  0.0|\n",
       "[1.0,0.0,600.0,90...|       0.0|  0.0|\n",
       "[0.0,0.0,618.0,71...|       1.0|  0.0|\n",
       "[1.0,0.0,624.0,38...|       0.0|  0.0|\n",
       "[0.0,0.0,624.0,68...|       0.0|  0.0|\n",
       "[1.0,0.0,624.0,18...|       0.0|  0.0|\n",
       "[1.0,0.0,640.0,61...|       0.0|  0.0|\n",
       "[1.0,0.0,651.0,36...|       0.0|  0.0|\n",
       "[1.0,0.0,660.0,59...|       0.0|  0.0|\n",
       "[0.0,0.0,663.0,21...|       0.0|  0.0|\n",
       "[1.0,0.0,668.0,29...|       0.0|  0.0|\n",
       "[0.0,0.0,668.0,22...|       0.0|  0.0|\n",
       "[1.0,0.0,670.0,35...|       0.0|  0.0|\n",
       "[1.0,0.0,671.0,31...|       0.0|  0.0|\n",
       "[1.0,0.0,690.0,87...|       0.0|  0.0|\n",
       "[1.0,0.0,694.0,35...|       0.0|  0.0|\n",
       "[1.0,0.0,701.0,78...|       0.0|  0.0|\n",
       "[0.0,0.0,717.0,13...|       0.0|  0.0|\n",
       "[1.0,0.0,728.0,91...|       0.0|  0.0|\n",
       "[1.0,0.0,728.0,10...|       0.0|  0.0|\n",
       "[1.0,0.0,738.0,13...|       0.0|  0.0|\n",
       "[1.0,0.0,743.0,15...|       0.0|  0.0|\n",
       "[0.0,0.0,754.0,23...|       0.0|  0.0|\n",
       "[0.0,1.0,785.0,68...|       0.0|  0.0|\n",
       "[1.0,0.0,786.0,22...|       0.0|  0.0|\n",
       "[1.0,0.0,787.0,31...|       0.0|  0.0|\n",
       "[0.0,0.0,789.0,16...|       0.0|  0.0|\n",
       "[0.0,0.0,791.0,38...|       0.0|  0.0|\n",
       "[1.0,0.0,794.0,25...|       0.0|  0.0|\n",
       "[1.0,0.0,808.0,93...|       0.0|  0.0|\n",
       "[1.0,0.0,826.0,12...|       0.0|  0.0|\n",
       "[1.0,0.0,840.0,88...|       0.0|  0.0|\n",
       "[0.0,0.0,851.0,14...|       0.0|  0.0|\n",
       "[0.0,0.0,855.0,32...|       0.0|  0.0|\n",
       "[1.0,0.0,859.0,41...|       0.0|  0.0|\n",
       "[1.0,0.0,874.0,15...|       0.0|  0.0|\n",
       "[1.0,0.0,887.0,75...|       0.0|  0.0|\n",
       "[1.0,0.0,898.0,75...|       0.0|  0.0|\n",
       "[1.0,0.0,902.0,68...|       0.0|  0.0|\n",
       "[1.0,0.0,922.0,57...|       0.0|  0.0|\n",
       "[0.0,0.0,947.0,41...|       0.0|  0.0|\n",
       "[1.0,0.0,965.0,78...|       0.0|  0.0|\n",
       "[1.0,0.0,968.0,16...|       0.0|  0.0|\n",
       "[1.0,0.0,969.0,16...|       0.0|  0.0|\n",
       "[1.0,0.0,990.0,50...|       0.0|  0.0|\n",
       "[1.0,0.0,1032.0,1...|       0.0|  0.0|\n",
       "[0.0,0.0,1092.0,1...|       0.0|  0.0|\n",
       "[1.0,0.0,1102.0,8...|       0.0|  0.0|\n",
       "[1.0,0.0,1107.0,1...|       0.0|  0.0|\n",
       "[1.0,0.0,1140.0,2...|       0.0|  0.0|\n",
       "[0.0,0.0,1143.0,1...|       0.0|  0.0|\n",
       "[1.0,0.0,1157.0,5...|       0.0|  0.0|\n",
       "[0.0,0.0,1169.0,4...|       1.0|  0.0|\n",
       "[1.0,1.0,1214.0,8...|       0.0|  0.0|\n",
       "[1.0,0.0,1237.0,1...|       0.0|  0.0|\n",
       "[1.0,0.0,1265.0,1...|       0.0|  0.0|\n",
       "[1.0,0.0,1270.0,3...|       0.0|  0.0|\n",
       "[1.0,0.0,1288.0,9...|       0.0|  0.0|\n",
       "[0.0,0.0,1305.0,3...|       0.0|  0.0|\n",
       "[1.0,0.0,1316.0,1...|       0.0|  0.0|\n",
       "[0.0,0.0,1377.0,1...|       0.0|  0.0|\n",
       "[1.0,0.0,1389.0,4...|       0.0|  0.0|\n",
       "[1.0,0.0,1389.0,7...|       0.0|  0.0|\n",
       "[1.0,0.0,1391.0,1...|       0.0|  0.0|\n",
       "[1.0,0.0,1434.0,5...|       0.0|  0.0|\n",
       "[0.0,0.0,1456.0,9...|       0.0|  0.0|\n",
       "[0.0,0.0,1470.0,1...|       0.0|  0.0|\n",
       "[0.0,0.0,1521.0,2...|       0.0|  0.0|\n",
       "[1.0,0.0,1543.0,1...|       0.0|  0.0|\n",
       "[0.0,0.0,1574.0,2...|       1.0|  0.0|\n",
       "[1.0,0.0,1613.0,2...|       0.0|  0.0|\n",
       "[1.0,0.0,1629.0,4...|       0.0|  0.0|\n",
       "[1.0,0.0,1641.0,1...|       0.0|  0.0|\n",
       "[0.0,0.0,1645.0,1...|       0.0|  0.0|\n",
       "[0.0,0.0,1671.0,7...|       0.0|  0.0|\n",
       "[0.0,0.0,1678.0,9...|       0.0|  0.0|\n",
       "[1.0,0.0,1764.0,3...|       0.0|  0.0|\n",
       "[1.0,0.0,1779.0,1...|       0.0|  0.0|\n",
       "[1.0,0.0,1803.0,1...|       0.0|  0.0|\n",
       "[1.0,0.0,1855.0,2...|       0.0|  0.0|\n",
       "[1.0,0.0,1877.0,7...|       0.0|  0.0|\n",
       "[1.0,0.0,1882.0,2...|       0.0|  0.0|\n",
       "[1.0,0.0,1918.0,4...|       0.0|  0.0|\n",
       "[0.0,0.0,1977.0,2...|       0.0|  0.0|\n",
       "[1.0,0.0,2012.0,1...|       0.0|  0.0|\n",
       "[0.0,0.0,2027.0,1...|       0.0|  0.0|\n",
       "[1.0,0.0,2062.0,8...|       0.0|  0.0|\n",
       "[1.0,0.0,2145.0,8...|       0.0|  0.0|\n",
       "[1.0,1.0,2163.0,9...|       0.0|  0.0|\n",
       "[0.0,0.0,2187.0,2...|       0.0|  0.0|\n",
       "[1.0,1.0,2249.0,1...|       0.0|  0.0|\n",
       "[1.0,1.0,2402.0,1...|       0.0|  0.0|\n",
       "[1.0,0.0,2425.0,4...|       0.0|  0.0|\n",
       "[0.0,0.0,2485.0,3...|       0.0|  0.0|\n",
       "[1.0,1.0,2497.0,1...|       0.0|  0.0|\n",
       "[1.0,0.0,2513.0,1...|       0.0|  0.0|\n",
       "[1.0,0.0,2574.0,2...|       0.0|  0.0|\n",
       "[1.0,0.0,2607.0,2...|       0.0|  0.0|\n",
       "[1.0,0.0,2731.0,4...|       0.0|  0.0|\n",
       "[1.0,0.0,2939.0,5...|       0.0|  0.0|\n",
       "[1.0,0.0,3002.0,1...|       0.0|  0.0|\n",
       "[0.0,1.0,3136.0,7...|       0.0|  0.0|\n",
       "[1.0,1.0,3217.0,7...|       0.0|  0.0|\n",
       "[0.0,0.0,3617.0,4...|       0.0|  0.0|\n",
       "[1.0,0.0,3642.0,1...|       0.0|  0.0|\n",
       "[1.0,1.0,3680.0,4...|       0.0|  0.0|\n",
       "[1.0,0.0,3721.0,7...|       0.0|  0.0|\n",
       "[1.0,0.0,3747.0,4...|       0.0|  0.0|\n",
       "[0.0,0.0,4002.0,2...|       1.0|  0.0|\n",
       "[1.0,0.0,4196.0,3...|       0.0|  0.0|\n",
       "(13,[2,3,4,5,7,8,...|       0.0|  0.0|\n",
       "+--------------------+----------+-----+\n",
       "only showing top 1000 rows\n",
       "\n",
       "</div>"
      ]
     },
     "metadata": {
      "application/vnd.databricks.v1+output": {
       "addedWidgets": {},
       "arguments": {},
       "data": "<div class=\"ansiout\">+--------------------+----------+-----+\n|            features|prediction|label|\n+--------------------+----------+-----+\n|(13,[5,6,7,8,10,1...|       1.0|  1.0|\n|(13,[3,5,6,7,8,12...|       0.0|  1.0|\n|(13,[2,5,6,7,8,10...|       1.0|  1.0|\n|(13,[2,5,6,7,8,10...|       1.0|  1.0|\n|(13,[2,5,7,10,11,...|       1.0|  1.0|\n|[0.0,0.0,2.0,12.0...|       0.0|  1.0|\n|(13,[2,5,6,7,8,10...|       1.0|  1.0|\n|[1.0,0.0,3.0,28.0...|       0.0|  1.0|\n|(13,[2,5,6,7,8,10...|       1.0|  1.0|\n|(13,[2,5,6,7,8,10...|       1.0|  1.0|\n|(13,[2,5,6,7,8,10...|       1.0|  1.0|\n|(13,[2,5,6,7,8,10...|       1.0|  1.0|\n|[0.0,0.0,4.0,14.0...|       1.0|  1.0|\n|[0.0,0.0,4.0,30.0...|       1.0|  1.0|\n|(13,[2,5,6,7,8,10...|       1.0|  1.0|\n|[0.0,0.0,5.0,24.0...|       0.0|  1.0|\n|[0.0,0.0,5.0,201....|       1.0|  1.0|\n|(13,[2,5,6,7,8,10...|       1.0|  1.0|\n|[0.0,0.0,8.0,23.0...|       1.0|  1.0|\n|[0.0,0.0,8.0,37.0...|       1.0|  1.0|\n|[0.0,0.0,8.0,39.0...|       0.0|  1.0|\n|[0.0,0.0,8.0,104....|       0.0|  1.0|\n|(13,[2,3,4,5,7,8,...|       0.0|  1.0|\n|[0.0,0.0,9.0,68.0...|       0.0|  1.0|\n|(13,[2,5,6,7,8,10...|       1.0|  1.0|\n|(13,[2,5,6,7,8,10...|       1.0|  1.0|\n|[0.0,0.0,12.0,18....|       1.0|  1.0|\n|(13,[2,5,6,7,8,10...|       1.0|  1.0|\n|[0.0,0.0,13.0,72....|       0.0|  1.0|\n|[1.0,0.0,14.0,80....|       0.0|  1.0|\n|(13,[2,5,10,12],[...|       1.0|  1.0|\n|[0.0,0.0,16.0,129...|       0.0|  1.0|\n|[0.0,0.0,17.0,202...|       1.0|  1.0|\n|[0.0,0.0,18.0,14....|       0.0|  1.0|\n|[0.0,0.0,19.0,8.0...|       0.0|  1.0|\n|(13,[2,3,4,5,7,10...|       1.0|  1.0|\n|[0.0,0.0,22.0,334...|       1.0|  1.0|\n|[0.0,0.0,23.0,66....|       1.0|  1.0|\n|(13,[2,3,5,7,10,1...|       1.0|  1.0|\n|[0.0,0.0,23.0,139...|       1.0|  1.0|\n|[1.0,0.0,25.0,38....|       0.0|  1.0|\n|[0.0,0.0,25.0,100...|       0.0|  1.0|\n|[0.0,0.0,31.0,198...|       0.0|  1.0|\n|[0.0,0.0,32.0,10....|       0.0|  1.0|\n|[0.0,0.0,32.0,35....|       0.0|  1.0|\n|(13,[2,5,6,7,8,10...|       1.0|  1.0|\n|[0.0,0.0,33.0,16....|       1.0|  1.0|\n|[0.0,0.0,37.0,106...|       1.0|  1.0|\n|(13,[2,5,6,7,8,10...|       1.0|  1.0|\n|[0.0,0.0,42.0,300...|       0.0|  1.0|\n|[0.0,0.0,48.0,46....|       1.0|  1.0|\n|(13,[2,5,6,7,8,10...|       1.0|  1.0|\n|[0.0,0.0,51.0,189...|       0.0|  1.0|\n|[1.0,0.0,54.0,248...|       0.0|  1.0|\n|(13,[2,3,4,5,12],...|       0.0|  1.0|\n|(13,[2,5,6,7,8,10...|       1.0|  1.0|\n|(13,[2,4,5,8,12],...|       0.0|  1.0|\n|(13,[2,4,5,12],[1...|       0.0|  1.0|\n|[1.0,0.0,117.0,24...|       0.0|  1.0|\n|(13,[2,4,5,8,10,1...|       1.0|  1.0|\n|(13,[2,3,4,5,8,10...|       0.0|  1.0|\n|[0.0,0.0,166.0,13...|       0.0|  1.0|\n|[1.0,0.0,192.0,18...|       0.0|  1.0|\n|[0.0,0.0,207.0,7....|       0.0|  1.0|\n|[1.0,0.0,216.0,0....|       0.0|  1.0|\n|(13,[2,3,4,5,12],...|       0.0|  1.0|\n|[1.0,0.0,279.0,18...|       0.0|  1.0|\n|(13,[2,3,5,12],[3...|       0.0|  1.0|\n|[0.0,0.0,333.0,46...|       0.0|  1.0|\n|(13,[2,3,4,5,12],...|       0.0|  1.0|\n|[0.0,0.0,389.0,26...|       0.0|  1.0|\n|[1.0,0.0,407.0,0....|       0.0|  1.0|\n|[0.0,0.0,451.0,55...|       0.0|  1.0|\n|[0.0,0.0,508.0,60...|       0.0|  1.0|\n|[0.0,0.0,596.0,92...|       0.0|  1.0|\n|[1.0,0.0,604.0,36...|       0.0|  1.0|\n|[1.0,0.0,653.0,57...|       0.0|  1.0|\n|(13,[2,4,5,10,12]...|       1.0|  1.0|\n|(13,[2,4,5,7,9,12...|       0.0|  1.0|\n|[0.0,0.0,754.0,11...|       0.0|  1.0|\n|[1.0,0.0,813.0,57...|       0.0|  1.0|\n|(13,[2,3,4,5,9,12...|       0.0|  1.0|\n|(13,[2,3,4,5,10,1...|       1.0|  1.0|\n|(13,[2,4,5,7,10,1...|       1.0|  1.0|\n|[1.0,0.0,1266.0,9...|       0.0|  1.0|\n|[1.0,0.0,1399.0,1...|       0.0|  1.0|\n|(13,[2,3,4,5,7,10...|       1.0|  1.0|\n|[1.0,0.0,2557.0,3...|       0.0|  1.0|\n|[0.0,0.0,3390.0,8...|       0.0|  1.0|\n|(13,[0,2,5,6,7,8,...|       0.0|  1.0|\n|(13,[2,3,4,5,7,12...|       1.0|  1.0|\n|[0.0,0.0,4737.0,5...|       1.0|  1.0|\n|[1.0,0.0,5716.0,2...|       0.0|  1.0|\n|[0.0,0.0,6438.0,5...|       0.0|  1.0|\n|[0.0,0.0,7119.0,7...|       0.0|  1.0|\n|(13,[2,4,5,8,12],...|       0.0|  1.0|\n|[1.0,0.0,71949.0,...|       0.0|  1.0|\n|[1.0,0.0,91518.0,...|       0.0|  1.0|\n|[0.0,0.0,136247.0...|       0.0|  1.0|\n|[1.0,1.0,160103.0...|       0.0|  1.0|\n|[1.0,1.0,180125.0...|       0.0|  1.0|\n|[1.0,1.0,189426.0...|       0.0|  1.0|\n|[0.0,1.0,282976.0...|       0.0|  1.0|\n|[1.0,0.0,487153.0...|       0.0|  1.0|\n|[0.0,1.0,905944.0...|       0.0|  1.0|\n|[0.0,1.0,1654803....|       0.0|  1.0|\n|[1.0,1.0,3.327356...|       0.0|  1.0|\n|(13,[5,6,7,8,12],...|       0.0|  0.0|\n|(13,[5,6,7,8,10,1...|       1.0|  0.0|\n|(13,[5,6,7,8,10,1...|       1.0|  0.0|\n|(13,[5,6,7,8,10,1...|       1.0|  0.0|\n|(13,[5,6,7,8,10,1...|       1.0|  0.0|\n|(13,[5,6,7,8,10,1...|       1.0|  0.0|\n|(13,[5,6,7,8,10,1...|       1.0|  0.0|\n|(13,[5,6,7,8,10,1...|       1.0|  0.0|\n|(13,[4,5,6,7,8,10...|       1.0|  0.0|\n|(13,[4,5,6,7,8,10...|       1.0|  0.0|\n|[0.0,0.0,1.0,0.0,...|       0.0|  0.0|\n|(13,[2,5,6,7,8,10...|       1.0|  0.0|\n|(13,[2,5,6,7,8,10...|       1.0|  0.0|\n|(13,[2,5,6,7,8,10...|       1.0|  0.0|\n|(13,[2,3,5,8,12],...|       0.0|  0.0|\n|[0.0,0.0,2.0,0.0,...|       1.0|  0.0|\n|(13,[2,5,6,7,8,10...|       1.0|  0.0|\n|(13,[2,3,4,5,7,8,...|       1.0|  0.0|\n|(13,[2,3,5,6,7,8,...|       0.0|  0.0|\n|[0.0,0.0,9.0,0.0,...|       1.0|  0.0|\n|[0.0,0.0,9.0,88.0...|       0.0|  0.0|\n|[0.0,0.0,11.0,12....|       0.0|  0.0|\n|[1.0,0.0,12.0,117...|       0.0|  0.0|\n|[0.0,0.0,15.0,119...|       0.0|  0.0|\n|(13,[2,5,6,7,8,11...|       0.0|  0.0|\n|[0.0,0.0,24.0,125...|       0.0|  0.0|\n|[1.0,0.0,25.0,611...|       0.0|  0.0|\n|[1.0,0.0,26.0,105...|       0.0|  0.0|\n|[0.0,0.0,27.0,214...|       0.0|  0.0|\n|[1.0,0.0,29.0,47....|       0.0|  0.0|\n|(13,[0,2,5,6,7,8,...|       0.0|  0.0|\n|[0.0,0.0,33.0,164...|       0.0|  0.0|\n|[0.0,0.0,33.0,255...|       0.0|  0.0|\n|(13,[2,3,5,6,7,8,...|       0.0|  0.0|\n|[0.0,0.0,37.0,309...|       0.0|  0.0|\n|(13,[2,5,8,12],[3...|       0.0|  0.0|\n|[0.0,0.0,40.0,616...|       0.0|  0.0|\n|[1.0,0.0,41.0,89....|       0.0|  0.0|\n|[0.0,0.0,42.0,213...|       0.0|  0.0|\n|[0.0,0.0,43.0,963...|       0.0|  0.0|\n|[1.0,0.0,44.0,168...|       0.0|  0.0|\n|[1.0,0.0,48.0,45....|       0.0|  0.0|\n|[1.0,0.0,50.0,79....|       0.0|  0.0|\n|[0.0,0.0,51.0,46....|       0.0|  0.0|\n|[0.0,0.0,53.0,161...|       0.0|  0.0|\n|[1.0,0.0,54.0,0.0...|       0.0|  0.0|\n|[1.0,0.0,58.0,248...|       0.0|  0.0|\n|[0.0,0.0,63.0,86....|       0.0|  0.0|\n|[0.0,0.0,66.0,134...|       0.0|  0.0|\n|[1.0,0.0,67.0,100...|       0.0|  0.0|\n|[1.0,0.0,67.0,203...|       0.0|  0.0|\n|[1.0,0.0,68.0,699...|       0.0|  0.0|\n|(13,[2,3,5,6,8,12...|       0.0|  0.0|\n|(13,[0,2,5,6,7,8,...|       0.0|  0.0|\n|[0.0,0.0,75.0,367...|       0.0|  0.0|\n|(13,[2,5,6,7,8,12...|       0.0|  0.0|\n|[1.0,0.0,76.0,251...|       0.0|  0.0|\n|[1.0,0.0,76.0,309...|       0.0|  0.0|\n|[0.0,0.0,77.0,104...|       1.0|  0.0|\n|[0.0,0.0,77.0,168...|       0.0|  0.0|\n|[1.0,0.0,78.0,0.0...|       0.0|  0.0|\n|[0.0,0.0,82.0,358...|       0.0|  0.0|\n|[1.0,0.0,83.0,756...|       0.0|  0.0|\n|[1.0,0.0,85.0,258...|       0.0|  0.0|\n|[1.0,0.0,87.0,195...|       0.0|  0.0|\n|[0.0,0.0,90.0,145...|       0.0|  0.0|\n|[1.0,0.0,92.0,329...|       0.0|  0.0|\n|[0.0,0.0,93.0,303...|       0.0|  0.0|\n|[0.0,0.0,96.0,642...|       0.0|  0.0|\n|[0.0,0.0,102.0,10...|       0.0|  0.0|\n|[0.0,0.0,102.0,31...|       0.0|  0.0|\n|[1.0,0.0,103.0,45...|       0.0|  0.0|\n|[1.0,0.0,106.0,30...|       0.0|  0.0|\n|[1.0,0.0,107.0,22...|       0.0|  0.0|\n|[0.0,0.0,108.0,16...|       0.0|  0.0|\n|[1.0,0.0,108.0,47...|       0.0|  0.0|\n|[1.0,0.0,109.0,34...|       0.0|  0.0|\n|(13,[0,2,3,5,7,8,...|       0.0|  0.0|\n|[0.0,0.0,122.0,67...|       0.0|  0.0|\n|[0.0,0.0,123.0,29...|       0.0|  0.0|\n|[1.0,0.0,124.0,43...|       0.0|  0.0|\n|[0.0,0.0,124.0,64...|       0.0|  0.0|\n|[1.0,0.0,130.0,51...|       0.0|  0.0|\n|[1.0,0.0,131.0,13...|       0.0|  0.0|\n|[0.0,0.0,131.0,15...|       0.0|  0.0|\n|[0.0,0.0,133.0,77...|       0.0|  0.0|\n|(13,[2,3,5,6,7,8,...|       0.0|  0.0|\n|[1.0,0.0,137.0,38...|       0.0|  0.0|\n|(13,[2,3,5,6,7,8,...|       0.0|  0.0|\n|[1.0,0.0,138.0,19...|       0.0|  0.0|\n|[1.0,0.0,138.0,61...|       0.0|  0.0|\n|[0.0,0.0,139.0,23...|       1.0|  0.0|\n|[1.0,0.0,140.0,80...|       0.0|  0.0|\n|(13,[2,5,6,7,8,12...|       1.0|  0.0|\n|[1.0,0.0,142.0,0....|       0.0|  0.0|\n|[1.0,0.0,144.0,39...|       0.0|  0.0|\n|[0.0,0.0,144.0,73...|       0.0|  0.0|\n|[1.0,0.0,147.0,44...|       0.0|  0.0|\n|[0.0,0.0,158.0,15...|       0.0|  0.0|\n|[0.0,0.0,159.0,16...|       0.0|  0.0|\n|(13,[2,3,5,6,7,8,...|       0.0|  0.0|\n|[0.0,0.0,170.0,12...|       0.0|  0.0|\n|[1.0,0.0,170.0,57...|       0.0|  0.0|\n|[1.0,0.0,190.0,33...|       0.0|  0.0|\n|[0.0,0.0,191.0,34...|       0.0|  0.0|\n|[0.0,0.0,192.0,14...|       0.0|  0.0|\n|[1.0,0.0,195.0,30...|       0.0|  0.0|\n|(13,[2,3,5,7,9,10...|       1.0|  0.0|\n|[1.0,0.0,199.0,14...|       0.0|  0.0|\n|[0.0,0.0,203.0,36...|       0.0|  0.0|\n|[0.0,0.0,205.0,36...|       0.0|  0.0|\n|[0.0,0.0,206.0,91...|       0.0|  0.0|\n|[1.0,0.0,206.0,18...|       0.0|  0.0|\n|[1.0,0.0,206.0,23...|       0.0|  0.0|\n|[1.0,0.0,206.0,42...|       0.0|  0.0|\n|[1.0,0.0,220.0,39...|       0.0|  0.0|\n|[0.0,0.0,221.0,10...|       0.0|  0.0|\n|[0.0,0.0,222.0,66...|       0.0|  0.0|\n|[1.0,0.0,230.0,28...|       0.0|  0.0|\n|[0.0,0.0,247.0,0....|       0.0|  0.0|\n|[0.0,0.0,255.0,68...|       0.0|  0.0|\n|[1.0,0.0,255.0,27...|       0.0|  0.0|\n|[0.0,0.0,259.0,21...|       0.0|  0.0|\n|[1.0,0.0,270.0,32...|       0.0|  0.0|\n|[0.0,0.0,275.0,28...|       0.0|  0.0|\n|[1.0,0.0,279.0,47...|       0.0|  0.0|\n|[1.0,0.0,282.0,62...|       0.0|  0.0|\n|[0.0,0.0,289.0,58...|       0.0|  0.0|\n|[0.0,0.0,291.0,12...|       0.0|  0.0|\n|[0.0,0.0,291.0,16...|       0.0|  0.0|\n|[0.0,0.0,294.0,21...|       0.0|  0.0|\n|(13,[0,2,3,5,7,8,...|       0.0|  0.0|\n|[0.0,0.0,299.0,29...|       0.0|  0.0|\n|[1.0,0.0,313.0,44...|       0.0|  0.0|\n|[0.0,0.0,313.0,33...|       0.0|  0.0|\n|[1.0,0.0,314.0,10...|       0.0|  0.0|\n|[0.0,0.0,315.0,37...|       0.0|  0.0|\n|[1.0,0.0,321.0,98...|       0.0|  0.0|\n|[1.0,0.0,339.0,23...|       0.0|  0.0|\n|[1.0,0.0,340.0,13...|       0.0|  0.0|\n|[1.0,0.0,340.0,34...|       0.0|  0.0|\n|[1.0,0.0,341.0,64...|       0.0|  0.0|\n|[1.0,0.0,342.0,27...|       0.0|  0.0|\n|[0.0,0.0,358.0,20...|       0.0|  0.0|\n|[1.0,0.0,361.0,10...|       0.0|  0.0|\n|[1.0,0.0,367.0,29...|       0.0|  0.0|\n|[1.0,0.0,377.0,44...|       0.0|  0.0|\n|[1.0,0.0,394.0,33...|       0.0|  0.0|\n|[0.0,0.0,403.0,19...|       0.0|  0.0|\n|[0.0,0.0,412.0,0....|       0.0|  0.0|\n|(13,[2,3,4,5,10,1...|       1.0|  0.0|\n|[1.0,0.0,426.0,16...|       0.0|  0.0|\n|[1.0,0.0,427.0,54...|       0.0|  0.0|\n|[1.0,0.0,451.0,11...|       0.0|  0.0|\n|[1.0,0.0,460.0,16...|       0.0|  0.0|\n|[1.0,0.0,465.0,53...|       0.0|  0.0|\n|[1.0,0.0,469.0,36...|       0.0|  0.0|\n|[1.0,0.0,472.0,34...|       0.0|  0.0|\n|[1.0,0.0,477.0,84...|       0.0|  0.0|\n|[1.0,0.0,484.0,14...|       0.0|  0.0|\n|[1.0,0.0,494.0,36...|       0.0|  0.0|\n|[1.0,0.0,501.0,32...|       0.0|  0.0|\n|[0.0,0.0,516.0,27...|       0.0|  0.0|\n|[1.0,0.0,518.0,71...|       0.0|  0.0|\n|[1.0,0.0,519.0,29...|       0.0|  0.0|\n|[0.0,0.0,527.0,37...|       0.0|  0.0|\n|[1.0,0.0,529.0,33...|       0.0|  0.0|\n|[0.0,0.0,533.0,63...|       0.0|  0.0|\n|[1.0,0.0,536.0,33...|       0.0|  0.0|\n|(13,[2,3,5,6,7,8,...|       0.0|  0.0|\n|[1.0,0.0,541.0,13...|       0.0|  0.0|\n|[1.0,0.0,542.0,11...|       0.0|  0.0|\n|[0.0,0.0,544.0,13...|       0.0|  0.0|\n|[1.0,0.0,555.0,99...|       0.0|  0.0|\n|[1.0,0.0,556.0,13...|       0.0|  0.0|\n|[0.0,0.0,561.0,54...|       0.0|  0.0|\n|[0.0,0.0,565.0,42...|       0.0|  0.0|\n|[0.0,0.0,590.0,14...|       0.0|  0.0|\n|[1.0,0.0,595.0,95...|       0.0|  0.0|\n|[1.0,0.0,599.0,12...|       0.0|  0.0|\n|[1.0,0.0,618.0,58...|       0.0|  0.0|\n|[1.0,0.0,631.0,49...|       0.0|  0.0|\n|[1.0,0.0,636.0,12...|       0.0|  0.0|\n|[0.0,0.0,658.0,21...|       0.0|  0.0|\n|[1.0,0.0,659.0,16...|       0.0|  0.0|\n|[1.0,0.0,668.0,16...|       0.0|  0.0|\n|[1.0,0.0,676.0,30...|       0.0|  0.0|\n|[1.0,0.0,678.0,64...|       0.0|  0.0|\n|[1.0,0.0,697.0,12...|       0.0|  0.0|\n|[1.0,0.0,731.0,22...|       0.0|  0.0|\n|[1.0,0.0,767.0,66...|       0.0|  0.0|\n|[1.0,0.0,780.0,45...|       0.0|  0.0|\n|[1.0,0.0,792.0,61...|       0.0|  0.0|\n|[1.0,0.0,793.0,18...|       0.0|  0.0|\n|[1.0,0.0,803.0,61...|       0.0|  0.0|\n|[0.0,0.0,815.0,59...|       0.0|  0.0|\n|[1.0,0.0,817.0,84...|       0.0|  0.0|\n|[1.0,0.0,851.0,48...|       0.0|  0.0|\n|[1.0,0.0,881.0,59...|       0.0|  0.0|\n|[1.0,0.0,901.0,35...|       0.0|  0.0|\n|[1.0,0.0,919.0,10...|       0.0|  0.0|\n|[1.0,0.0,926.0,56...|       0.0|  0.0|\n|[1.0,0.0,931.0,76...|       0.0|  0.0|\n|[1.0,0.0,931.0,23...|       0.0|  0.0|\n|[1.0,0.0,943.0,77...|       0.0|  0.0|\n|[1.0,0.0,949.0,16...|       0.0|  0.0|\n|[1.0,0.0,950.0,82...|       0.0|  0.0|\n|[1.0,0.0,970.0,12...|       0.0|  0.0|\n|[0.0,0.0,987.0,13...|       0.0|  0.0|\n|[1.0,0.0,990.0,18...|       0.0|  0.0|\n|[0.0,0.0,1023.0,5...|       0.0|  0.0|\n|[1.0,0.0,1032.0,8...|       0.0|  0.0|\n|[1.0,0.0,1038.0,9...|       0.0|  0.0|\n|[1.0,0.0,1073.0,3...|       0.0|  0.0|\n|(13,[2,3,4,5,8,12...|       0.0|  0.0|\n|[1.0,0.0,1095.0,7...|       0.0|  0.0|\n|[1.0,0.0,1121.0,2...|       0.0|  0.0|\n|[0.0,1.0,1130.0,4...|       0.0|  0.0|\n|[1.0,0.0,1136.0,9...|       0.0|  0.0|\n|[0.0,0.0,1144.0,1...|       0.0|  0.0|\n|[0.0,0.0,1164.0,6...|       0.0|  0.0|\n|[1.0,0.0,1176.0,1...|       0.0|  0.0|\n|[1.0,0.0,1207.0,1...|       0.0|  0.0|\n|[0.0,0.0,1222.0,3...|       0.0|  0.0|\n|[1.0,0.0,1249.0,2...|       0.0|  0.0|\n|[0.0,0.0,1270.0,7...|       0.0|  0.0|\n|[1.0,0.0,1276.0,2...|       0.0|  0.0|\n|[0.0,0.0,1307.0,1...|       0.0|  0.0|\n|[1.0,0.0,1316.0,9...|       0.0|  0.0|\n|[1.0,0.0,1320.0,1...|       0.0|  0.0|\n|[1.0,0.0,1358.0,3...|       0.0|  0.0|\n|[1.0,0.0,1370.0,1...|       0.0|  0.0|\n|[0.0,0.0,1375.0,9...|       0.0|  0.0|\n|[0.0,0.0,1391.0,1...|       0.0|  0.0|\n|[0.0,0.0,1424.0,1...|       0.0|  0.0|\n|[1.0,0.0,1437.0,3...|       0.0|  0.0|\n|[1.0,0.0,1465.0,2...|       0.0|  0.0|\n|[1.0,0.0,1506.0,5...|       0.0|  0.0|\n|[1.0,0.0,1526.0,1...|       0.0|  0.0|\n|[1.0,0.0,1548.0,2...|       0.0|  0.0|\n|[1.0,0.0,1630.0,9...|       0.0|  0.0|\n|[0.0,0.0,1643.0,1...|       0.0|  0.0|\n|[1.0,1.0,1659.0,1...|       0.0|  0.0|\n|[1.0,1.0,1703.0,9...|       0.0|  0.0|\n|[1.0,0.0,1725.0,1...|       0.0|  0.0|\n|[1.0,0.0,1816.0,9...|       0.0|  0.0|\n|[0.0,0.0,1820.0,3...|       0.0|  0.0|\n|[1.0,0.0,1835.0,9...|       0.0|  0.0|\n|[1.0,0.0,1894.0,9...|       0.0|  0.0|\n|[0.0,0.0,1933.0,1...|       0.0|  0.0|\n|[1.0,0.0,1959.0,7...|       0.0|  0.0|\n|(13,[0,2,3,4,5,7,...|       0.0|  0.0|\n|[1.0,0.0,2056.0,1...|       0.0|  0.0|\n|[1.0,0.0,2310.0,2...|       0.0|  0.0|\n|[0.0,0.0,2429.0,8...|       0.0|  0.0|\n|[0.0,1.0,2488.0,3...|       0.0|  0.0|\n|[0.0,0.0,2573.0,2...|       0.0|  0.0|\n|[1.0,0.0,2647.0,1...|       0.0|  0.0|\n|[1.0,1.0,2694.0,1...|       0.0|  0.0|\n|[1.0,0.0,2707.0,1...|       0.0|  0.0|\n|[1.0,0.0,2715.0,1...|       0.0|  0.0|\n|[0.0,0.0,2760.0,2...|       0.0|  0.0|\n|[1.0,1.0,2793.0,9...|       0.0|  0.0|\n|[0.0,0.0,2817.0,1...|       0.0|  0.0|\n|[1.0,0.0,2942.0,8...|       0.0|  0.0|\n|[1.0,0.0,3247.0,3...|       0.0|  0.0|\n|[0.0,0.0,3465.0,1...|       0.0|  0.0|\n|(13,[2,3,4,5,7,8,...|       1.0|  0.0|\n|[1.0,1.0,3607.0,2...|       0.0|  0.0|\n|[0.0,0.0,3646.0,3...|       0.0|  0.0|\n|[0.0,0.0,3752.0,4...|       0.0|  0.0|\n|[1.0,0.0,3809.0,8...|       0.0|  0.0|\n|[0.0,1.0,3955.0,1...|       0.0|  0.0|\n|[1.0,1.0,4122.0,1...|       0.0|  0.0|\n|[0.0,1.0,4352.0,4...|       0.0|  0.0|\n|[1.0,1.0,4460.0,5...|       0.0|  0.0|\n|[1.0,1.0,4999.0,6...|       0.0|  0.0|\n|[1.0,0.0,5002.0,1...|       0.0|  0.0|\n|[1.0,1.0,5066.0,1...|       0.0|  0.0|\n|[0.0,1.0,5102.0,1...|       0.0|  0.0|\n|[1.0,0.0,5105.0,1...|       0.0|  0.0|\n|[0.0,1.0,5245.0,7...|       0.0|  0.0|\n|[0.0,0.0,5362.0,5...|       0.0|  0.0|\n|[0.0,1.0,6018.0,4...|       0.0|  0.0|\n|[1.0,1.0,6130.0,1...|       0.0|  0.0|\n|[1.0,1.0,6540.0,5...|       0.0|  0.0|\n|[1.0,1.0,7096.0,1...|       0.0|  0.0|\n|[1.0,0.0,7707.0,2...|       0.0|  0.0|\n|[0.0,0.0,8475.0,9...|       0.0|  0.0|\n|[0.0,1.0,8836.0,1...|       0.0|  0.0|\n|[1.0,1.0,8980.0,5...|       0.0|  0.0|\n|[1.0,1.0,10060.0,...|       0.0|  0.0|\n|[1.0,0.0,10489.0,...|       0.0|  0.0|\n|[1.0,1.0,11086.0,...|       0.0|  0.0|\n|[1.0,0.0,11911.0,...|       0.0|  0.0|\n|[0.0,1.0,12112.0,...|       0.0|  0.0|\n|[1.0,1.0,12502.0,...|       0.0|  0.0|\n|[1.0,1.0,13234.0,...|       0.0|  0.0|\n|[1.0,1.0,13611.0,...|       0.0|  0.0|\n|[0.0,1.0,14315.0,...|       0.0|  0.0|\n|[1.0,0.0,14494.0,...|       0.0|  0.0|\n|[1.0,1.0,16416.0,...|       0.0|  0.0|\n|[0.0,0.0,16815.0,...|       0.0|  0.0|\n|[1.0,1.0,17103.0,...|       0.0|  0.0|\n|[0.0,0.0,18204.0,...|       0.0|  0.0|\n|[1.0,1.0,18415.0,...|       0.0|  0.0|\n|[1.0,0.0,19217.0,...|       0.0|  0.0|\n|[1.0,1.0,19310.0,...|       0.0|  0.0|\n|[1.0,0.0,20439.0,...|       0.0|  0.0|\n|[1.0,0.0,20928.0,...|       0.0|  0.0|\n|[0.0,1.0,25201.0,...|       0.0|  0.0|\n|[0.0,0.0,25604.0,...|       1.0|  0.0|\n|[1.0,1.0,25636.0,...|       0.0|  0.0|\n|[0.0,0.0,27218.0,...|       0.0|  0.0|\n|[0.0,0.0,27439.0,...|       0.0|  0.0|\n|[0.0,1.0,27981.0,...|       0.0|  0.0|\n|[0.0,1.0,30418.0,...|       0.0|  0.0|\n|[1.0,1.0,30439.0,...|       0.0|  0.0|\n|[1.0,0.0,31115.0,...|       0.0|  0.0|\n|[1.0,1.0,33118.0,...|       0.0|  0.0|\n|[0.0,0.0,33158.0,...|       1.0|  0.0|\n|[0.0,0.0,34054.0,...|       0.0|  0.0|\n|[1.0,1.0,34407.0,...|       0.0|  0.0|\n|[1.0,1.0,34538.0,...|       0.0|  0.0|\n|(13,[2,4,5,8,10,1...|       0.0|  0.0|\n|[1.0,1.0,34759.0,...|       0.0|  0.0|\n|[1.0,0.0,35416.0,...|       0.0|  0.0|\n|[1.0,1.0,36663.0,...|       0.0|  0.0|\n|[1.0,1.0,38299.0,...|       0.0|  0.0|\n|[0.0,0.0,39371.0,...|       0.0|  0.0|\n|[1.0,0.0,40370.0,...|       0.0|  0.0|\n|[1.0,1.0,45573.0,...|       0.0|  0.0|\n|[1.0,1.0,47645.0,...|       0.0|  0.0|\n|[1.0,1.0,51999.0,...|       0.0|  0.0|\n|[1.0,1.0,52611.0,...|       0.0|  0.0|\n|[0.0,1.0,53687.0,...|       0.0|  0.0|\n|[1.0,1.0,66513.0,...|       0.0|  0.0|\n|[1.0,1.0,69079.0,...|       0.0|  0.0|\n|[1.0,1.0,72449.0,...|       0.0|  0.0|\n|[1.0,1.0,72681.0,...|       0.0|  0.0|\n|[1.0,1.0,72872.0,...|       0.0|  0.0|\n|[1.0,0.0,80473.0,...|       0.0|  0.0|\n|(13,[1,2,3,4,5,7,...|       0.0|  0.0|\n|[0.0,0.0,91102.0,...|       1.0|  0.0|\n|[0.0,1.0,94287.0,...|       0.0|  0.0|\n|[1.0,1.0,98268.0,...|       0.0|  0.0|\n|[1.0,0.0,98496.0,...|       0.0|  0.0|\n|[1.0,1.0,100476.0...|       0.0|  0.0|\n|[1.0,1.0,111004.0...|       0.0|  0.0|\n|[0.0,1.0,118890.0...|       0.0|  0.0|\n|[1.0,1.0,119063.0...|       0.0|  0.0|\n|[1.0,0.0,120413.0...|       0.0|  0.0|\n|[0.0,1.0,133556.0...|       0.0|  0.0|\n|[0.0,1.0,135196.0...|       0.0|  0.0|\n|[0.0,0.0,149403.0...|       0.0|  0.0|\n|[0.0,0.0,156442.0...|       0.0|  0.0|\n|[0.0,1.0,158639.0...|       0.0|  0.0|\n|[0.0,1.0,163194.0...|       0.0|  0.0|\n|[0.0,1.0,163772.0...|       0.0|  0.0|\n|[0.0,1.0,191926.0...|       0.0|  0.0|\n|[1.0,1.0,199405.0...|       0.0|  0.0|\n|[1.0,0.0,201016.0...|       0.0|  0.0|\n|[1.0,0.0,203962.0...|       0.0|  0.0|\n|[1.0,1.0,206747.0...|       0.0|  0.0|\n|[1.0,1.0,206803.0...|       0.0|  0.0|\n|[1.0,1.0,209688.0...|       0.0|  0.0|\n|[0.0,1.0,225017.0...|       0.0|  0.0|\n|[1.0,1.0,234580.0...|       0.0|  0.0|\n|[1.0,0.0,248808.0...|       0.0|  0.0|\n|[1.0,1.0,251777.0...|       0.0|  0.0|\n|[1.0,1.0,259047.0...|       0.0|  0.0|\n|[1.0,1.0,260116.0...|       0.0|  0.0|\n|[1.0,0.0,264759.0...|       0.0|  0.0|\n|[1.0,0.0,278226.0...|       0.0|  0.0|\n|[1.0,1.0,287193.0...|       0.0|  0.0|\n|[1.0,1.0,287874.0...|       0.0|  0.0|\n|[1.0,1.0,289411.0...|       0.0|  0.0|\n|[0.0,1.0,306773.0...|       0.0|  0.0|\n|[1.0,1.0,312997.0...|       0.0|  0.0|\n|[1.0,1.0,318238.0...|       0.0|  0.0|\n|[0.0,1.0,322557.0...|       0.0|  0.0|\n|[1.0,1.0,338261.0...|       0.0|  0.0|\n|[1.0,1.0,356509.0...|       0.0|  0.0|\n|[0.0,1.0,369723.0...|       0.0|  0.0|\n|[0.0,1.0,382003.0...|       0.0|  0.0|\n|[1.0,1.0,384775.0...|       0.0|  0.0|\n|[0.0,0.0,402553.0...|       0.0|  0.0|\n|[1.0,1.0,409984.0...|       0.0|  0.0|\n|[1.0,1.0,443562.0...|       0.0|  0.0|\n|[1.0,1.0,594490.0...|       0.0|  0.0|\n|[0.0,1.0,600189.0...|       0.0|  0.0|\n|[0.0,1.0,611437.0...|       0.0|  0.0|\n|[0.0,1.0,624586.0...|       0.0|  0.0|\n|[0.0,1.0,641417.0...|       0.0|  0.0|\n|[1.0,1.0,648595.0...|       0.0|  0.0|\n|[1.0,1.0,663534.0...|       0.0|  0.0|\n|[0.0,1.0,682689.0...|       0.0|  0.0|\n|[0.0,1.0,739050.0...|       0.0|  0.0|\n|[1.0,1.0,762589.0...|       0.0|  0.0|\n|[1.0,0.0,850191.0...|       0.0|  0.0|\n|[1.0,1.0,906641.0...|       0.0|  0.0|\n|[1.0,1.0,907452.0...|       0.0|  0.0|\n|[0.0,1.0,958440.0...|       0.0|  0.0|\n|[1.0,1.0,961815.0...|       0.0|  0.0|\n|[0.0,0.0,1030149....|       0.0|  0.0|\n|[1.0,1.0,1061766....|       0.0|  0.0|\n|[1.0,1.0,1065714....|       0.0|  0.0|\n|[0.0,0.0,1068322....|       0.0|  0.0|\n|[0.0,1.0,1140143....|       0.0|  0.0|\n|[0.0,1.0,1178773....|       0.0|  0.0|\n|[1.0,1.0,1217663....|       0.0|  0.0|\n|[1.0,1.0,1227249....|       0.0|  0.0|\n|[0.0,1.0,1318167....|       0.0|  0.0|\n|[1.0,1.0,1378352....|       0.0|  0.0|\n|[1.0,1.0,1453381....|       0.0|  0.0|\n|[1.0,1.0,1464899....|       0.0|  0.0|\n|[0.0,1.0,1508665....|       0.0|  0.0|\n|[0.0,1.0,1571860....|       0.0|  0.0|\n|[1.0,1.0,1609886....|       0.0|  0.0|\n|[1.0,1.0,1714079....|       0.0|  0.0|\n|[0.0,1.0,1740780....|       0.0|  0.0|\n|[1.0,1.0,1752592....|       0.0|  0.0|\n|[1.0,1.0,1752995....|       0.0|  0.0|\n|[1.0,1.0,1859847....|       0.0|  0.0|\n|[1.0,1.0,2026236....|       0.0|  0.0|\n|[0.0,1.0,2235903....|       0.0|  0.0|\n|[0.0,1.0,2383147....|       0.0|  0.0|\n|[0.0,1.0,2528386....|       0.0|  0.0|\n|[0.0,1.0,2959730....|       0.0|  0.0|\n|[0.0,1.0,3093315....|       0.0|  0.0|\n|[1.0,1.0,3451647....|       0.0|  0.0|\n|[1.0,1.0,3736741....|       0.0|  0.0|\n|[1.0,1.0,4131788....|       0.0|  0.0|\n|[0.0,1.0,4363932....|       0.0|  0.0|\n|[0.0,1.0,4556980....|       0.0|  0.0|\n|[0.0,1.0,5060011....|       0.0|  0.0|\n|[1.0,1.0,5408702....|       0.0|  0.0|\n|[1.0,1.0,5457731....|       0.0|  0.0|\n|[1.0,1.0,5533309....|       0.0|  0.0|\n|[1.0,1.0,5896071....|       0.0|  0.0|\n|[0.0,1.0,7417586....|       0.0|  0.0|\n|[1.0,1.0,8388905....|       0.0|  0.0|\n|[1.0,1.0,1.079785...|       0.0|  0.0|\n|[0.0,1.0,1.141038...|       0.0|  0.0|\n|[1.0,1.0,1.215671...|       0.0|  0.0|\n|[1.0,1.0,1.264469...|       0.0|  0.0|\n|(13,[5,6,7,8,10,1...|       1.0|  1.0|\n|(13,[5,6,7,8,10,1...|       1.0|  1.0|\n|(13,[5,6,7,8,10,1...|       1.0|  1.0|\n|(13,[2,5,6,7,8,10...|       1.0|  1.0|\n|(13,[2,5,6,7,8,10...|       1.0|  1.0|\n|(13,[2,5,6,7,8,10...|       1.0|  1.0|\n|(13,[2,5,6,7,8,10...|       1.0|  1.0|\n|(13,[2,5,6,7,8,10...|       1.0|  1.0|\n|(13,[2,5,7,10,11,...|       1.0|  1.0|\n|(13,[2,5,6,7,8,10...|       1.0|  1.0|\n|[0.0,0.0,3.0,0.0,...|       1.0|  1.0|\n|[0.0,0.0,3.0,12.0...|       0.0|  1.0|\n|[0.0,0.0,3.0,13.0...|       1.0|  1.0|\n|[0.0,0.0,3.0,59.0...|       0.0|  1.0|\n|[0.0,0.0,3.0,141....|       1.0|  1.0|\n|(13,[2,5,6,7,8,10...|       1.0|  1.0|\n|[0.0,0.0,5.0,10.0...|       1.0|  1.0|\n|(13,[2,5,10,12],[...|       1.0|  1.0|\n|[0.0,0.0,6.0,95.0...|       1.0|  1.0|\n|(13,[2,5,6,7,8,10...|       0.0|  1.0|\n|[0.0,0.0,7.0,171....|       0.0|  1.0|\n|[0.0,0.0,7.0,186....|       1.0|  1.0|\n|(13,[2,5,6,7,8,10...|       1.0|  1.0|\n|(13,[2,5,6,7,8,10...|       1.0|  1.0|\n|(13,[2,5,6,7,8,10...|       1.0|  1.0|\n|(13,[2,5,6,7,8,10...|       1.0|  1.0|\n|[0.0,0.0,8.0,271....|       1.0|  1.0|\n|[0.0,0.0,9.0,22.0...|       1.0|  1.0|\n|(13,[2,5,6,7,8,10...|       1.0|  1.0|\n|(13,[2,4,5,10,12]...|       1.0|  1.0|\n|(13,[2,3,5,6,7,8,...|       0.0|  1.0|\n|(13,[2,5,6,7,8,10...|       1.0|  1.0|\n|[1.0,0.0,11.0,108...|       0.0|  1.0|\n|(13,[2,5,6,7,8,10...|       1.0|  1.0|\n|(13,[2,5,6,7,8,10...|       1.0|  1.0|\n|(13,[2,4,5,10,12]...|       1.0|  1.0|\n|[1.0,0.0,12.0,50....|       0.0|  1.0|\n|(13,[2,5,6,7,8,10...|       1.0|  1.0|\n|(13,[2,3,5,6,8,10...|       1.0|  1.0|\n|(13,[2,5,6,7,8,10...|       1.0|  1.0|\n|(13,[2,5,6,7,8,10...|       1.0|  1.0|\n|[0.0,0.0,14.0,13....|       0.0|  1.0|\n|(13,[2,3,5,6,7,8,...|       0.0|  1.0|\n|(13,[2,5,6,7,8,10...|       1.0|  1.0|\n|(13,[2,3,5,7,10,1...|       1.0|  1.0|\n|(13,[2,3,5,8,10,1...|       0.0|  1.0|\n|(13,[2,4,5,7,8,10...|       0.0|  1.0|\n|[0.0,0.0,18.0,38....|       1.0|  1.0|\n|[0.0,0.0,20.0,18....|       0.0|  1.0|\n|[0.0,0.0,20.0,43....|       1.0|  1.0|\n|[0.0,0.0,21.0,16....|       0.0|  1.0|\n|(13,[2,5,6,7,8,10...|       1.0|  1.0|\n|[0.0,0.0,22.0,127...|       1.0|  1.0|\n|(13,[2,5,6,7,8,10...|       1.0|  1.0|\n|(13,[2,3,4,5,10,1...|       1.0|  1.0|\n|[0.0,0.0,25.0,332...|       1.0|  1.0|\n|(13,[2,5,6,7,8,10...|       1.0|  1.0|\n|(13,[2,5,6,7,8,10...|       0.0|  1.0|\n|(13,[2,3,5,7,8,10...|       0.0|  1.0|\n|(13,[0,2,5,6,7,8,...|       0.0|  1.0|\n|[1.0,0.0,27.0,73....|       0.0|  1.0|\n|[0.0,0.0,27.0,163...|       1.0|  1.0|\n|[0.0,0.0,28.0,114...|       0.0|  1.0|\n|[1.0,0.0,29.0,0.0...|       0.0|  1.0|\n|[0.0,0.0,29.0,0.0...|       0.0|  1.0|\n|(13,[2,5,6,7,8,10...|       1.0|  1.0|\n|[0.0,0.0,30.0,132...|       1.0|  1.0|\n|(13,[2,5,6,7,8,10...|       1.0|  1.0|\n|[1.0,0.0,32.0,33....|       0.0|  1.0|\n|(13,[2,5,6,7,8,10...|       1.0|  1.0|\n|[1.0,0.0,33.0,342...|       0.0|  1.0|\n|[1.0,0.0,35.0,186...|       0.0|  1.0|\n|[0.0,0.0,36.0,739...|       1.0|  1.0|\n|[1.0,0.0,38.0,729...|       0.0|  1.0|\n|[0.0,0.0,41.0,114...|       0.0|  1.0|\n|[0.0,0.0,44.0,0.0...|       0.0|  1.0|\n|[0.0,0.0,46.0,64....|       1.0|  1.0|\n|[1.0,0.0,48.0,43....|       0.0|  1.0|\n|(13,[2,3,4,5,12],...|       0.0|  1.0|\n|[0.0,0.0,51.0,182...|       0.0|  1.0|\n|[1.0,0.0,53.0,213...|       0.0|  1.0|\n|[0.0,0.0,56.0,189...|       0.0|  1.0|\n|[1.0,0.0,61.0,137...|       0.0|  1.0|\n|[1.0,0.0,61.0,246...|       0.0|  1.0|\n|[1.0,0.0,69.0,90....|       0.0|  1.0|\n|(13,[2,4,5,6,7,8,...|       0.0|  1.0|\n|[0.0,0.0,70.0,417...|       0.0|  1.0|\n|[0.0,0.0,82.0,106...|       0.0|  1.0|\n|[0.0,0.0,83.0,107...|       0.0|  1.0|\n|[0.0,0.0,87.0,712...|       1.0|  1.0|\n|[1.0,0.0,92.0,387...|       0.0|  1.0|\n|(13,[2,5,6,7,8,12...|       0.0|  1.0|\n|[0.0,0.0,96.0,821...|       1.0|  1.0|\n|[1.0,0.0,98.0,154...|       0.0|  1.0|\n|(13,[2,3,4,5,7,12...|       0.0|  1.0|\n|[0.0,0.0,101.0,11...|       0.0|  1.0|\n|[0.0,0.0,109.0,17...|       0.0|  1.0|\n|[0.0,0.0,110.0,12...|       0.0|  1.0|\n|(13,[2,3,4,5,9,12...|       0.0|  1.0|\n|[0.0,0.0,116.0,19...|       0.0|  1.0|\n|[0.0,0.0,135.0,44...|       0.0|  1.0|\n|[1.0,0.0,140.0,66...|       0.0|  1.0|\n|[1.0,0.0,153.0,17...|       0.0|  1.0|\n|[0.0,0.0,155.0,74...|       1.0|  1.0|\n|[0.0,0.0,157.0,49...|       0.0|  1.0|\n|[0.0,0.0,159.0,11...|       0.0|  1.0|\n|[1.0,0.0,171.0,95...|       0.0|  1.0|\n|(13,[2,3,4,5,7,12...|       0.0|  1.0|\n|(13,[2,3,4,5,8,10...|       0.0|  1.0|\n|(13,[2,3,4,5,10,1...|       1.0|  1.0|\n|(13,[2,3,4,5,7,12...|       1.0|  1.0|\n|[1.0,0.0,230.0,56...|       0.0|  1.0|\n|[0.0,0.0,240.0,57...|       0.0|  1.0|\n|[1.0,0.0,240.0,25...|       0.0|  1.0|\n|[1.0,0.0,253.0,29...|       0.0|  1.0|\n|(13,[2,4,5,6,7,8,...|       0.0|  1.0|\n|[1.0,0.0,302.0,0....|       0.0|  1.0|\n|[1.0,0.0,307.0,26...|       0.0|  1.0|\n|[0.0,0.0,319.0,11...|       0.0|  1.0|\n|(13,[2,3,4,5,7,10...|       1.0|  1.0|\n|[1.0,0.0,333.0,98...|       0.0|  1.0|\n|[1.0,0.0,365.0,51...|       0.0|  1.0|\n|(13,[2,4,5,7,10,1...|       1.0|  1.0|\n|[0.0,0.0,378.0,45...|       0.0|  1.0|\n|[1.0,0.0,458.0,27...|       0.0|  1.0|\n|[1.0,0.0,458.0,80...|       0.0|  1.0|\n|[0.0,0.0,460.0,39...|       0.0|  1.0|\n|(13,[2,4,5,10,12]...|       1.0|  1.0|\n|(13,[2,3,4,5,8,10...|       1.0|  1.0|\n|[1.0,0.0,753.0,0....|       0.0|  1.0|\n|[0.0,0.0,781.0,22...|       0.0|  1.0|\n|(13,[2,3,4,5,7,12...|       0.0|  1.0|\n|[0.0,0.0,998.0,0....|       0.0|  1.0|\n|(13,[2,3,4,5,12],...|       0.0|  1.0|\n|[0.0,0.0,1055.0,2...|       0.0|  1.0|\n|(13,[0,2,3,4,5,12...|       0.0|  1.0|\n|(13,[0,2,3,4,5,7,...|       0.0|  1.0|\n|[0.0,0.0,1523.0,9...|       0.0|  1.0|\n|[1.0,0.0,1566.0,4...|       0.0|  1.0|\n|(13,[2,3,4,5,7,8,...|       0.0|  1.0|\n|[1.0,0.0,2439.0,2...|       0.0|  1.0|\n|[1.0,0.0,3300.0,3...|       0.0|  1.0|\n|[0.0,0.0,6309.0,6...|       1.0|  1.0|\n|[0.0,0.0,6744.0,2...|       1.0|  1.0|\n|(13,[2,3,4,5,7,12...|       1.0|  1.0|\n|[1.0,0.0,28997.0,...|       0.0|  1.0|\n|(13,[2,3,4,5,10,1...|       1.0|  1.0|\n|[1.0,1.0,39541.0,...|       0.0|  1.0|\n|[0.0,0.0,94516.0,...|       0.0|  1.0|\n|(13,[2,3,4,5,7,8,...|       1.0|  1.0|\n|[1.0,0.0,119088.0...|       0.0|  1.0|\n|[0.0,0.0,140248.0...|       0.0|  1.0|\n|[1.0,1.0,154086.0...|       0.0|  1.0|\n|[1.0,0.0,209172.0...|       0.0|  1.0|\n|[0.0,1.0,231908.0...|       0.0|  1.0|\n|[1.0,0.0,367669.0...|       1.0|  1.0|\n|[1.0,1.0,406026.0...|       0.0|  1.0|\n|(13,[5,6,7,8,10,1...|       1.0|  0.0|\n|(13,[5,6,7,8,10,1...|       1.0|  0.0|\n|(13,[5,6,7,8,10,1...|       1.0|  0.0|\n|(13,[5,6,7,8,10,1...|       1.0|  0.0|\n|(13,[5,6,7,8,9,10...|       0.0|  0.0|\n|(13,[5,6,7,8,10,1...|       1.0|  0.0|\n|(13,[5,6,7,8,10,1...|       1.0|  0.0|\n|(13,[5,6,7,8,10,1...|       1.0|  0.0|\n|(13,[4,5,6,7,8,10...|       1.0|  0.0|\n|(13,[2,5,6,7,8,10...|       1.0|  0.0|\n|(13,[2,5,6,7,8,10...|       1.0|  0.0|\n|(13,[2,5,6,7,8,10...|       1.0|  0.0|\n|(13,[2,5,6,7,8,10...|       1.0|  0.0|\n|(13,[2,5,6,7,8,10...|       1.0|  0.0|\n|[0.0,0.0,1.0,0.0,...|       1.0|  0.0|\n|[0.0,0.0,1.0,0.0,...|       1.0|  0.0|\n|[0.0,0.0,1.0,0.0,...|       1.0|  0.0|\n|(13,[2,3,4,5,12],...|       0.0|  0.0|\n|[0.0,0.0,2.0,0.0,...|       1.0|  0.0|\n|(13,[2,4,5,6,7,8,...|       0.0|  0.0|\n|[0.0,0.0,11.0,70....|       0.0|  0.0|\n|[0.0,0.0,13.0,13....|       1.0|  0.0|\n|[0.0,0.0,17.0,53....|       0.0|  0.0|\n|[1.0,0.0,18.0,0.0...|       0.0|  0.0|\n|(13,[2,5,6,7,8,12...|       0.0|  0.0|\n|[1.0,0.0,21.0,55....|       0.0|  0.0|\n|[1.0,0.0,22.0,29....|       0.0|  0.0|\n|[1.0,0.0,24.0,315...|       0.0|  0.0|\n|[1.0,0.0,32.0,238...|       0.0|  0.0|\n|[1.0,0.0,32.0,243...|       0.0|  0.0|\n|[1.0,0.0,34.0,164...|       0.0|  0.0|\n|[1.0,0.0,37.0,361...|       0.0|  0.0|\n|[1.0,0.0,38.0,89....|       0.0|  0.0|\n|[0.0,0.0,39.0,91....|       0.0|  0.0|\n|[1.0,0.0,39.0,115...|       0.0|  0.0|\n|[0.0,0.0,39.0,149...|       0.0|  0.0|\n|[0.0,0.0,42.0,446...|       0.0|  0.0|\n|[0.0,0.0,43.0,275...|       0.0|  0.0|\n|[0.0,0.0,44.0,19....|       0.0|  0.0|\n|[0.0,0.0,44.0,276...|       0.0|  0.0|\n|[1.0,0.0,49.0,321...|       0.0|  0.0|\n|[1.0,0.0,52.0,103...|       0.0|  0.0|\n|[1.0,0.0,54.0,167...|       0.0|  0.0|\n|[1.0,0.0,56.0,121...|       0.0|  0.0|\n|(13,[2,4,5,6,7,8,...|       0.0|  0.0|\n|[0.0,0.0,64.0,99....|       1.0|  0.0|\n|(13,[2,3,4,5,8,12...|       0.0|  0.0|\n|[1.0,0.0,67.0,237...|       0.0|  0.0|\n|[1.0,0.0,69.0,40....|       0.0|  0.0|\n|[1.0,0.0,69.0,41....|       0.0|  0.0|\n|[1.0,0.0,73.0,727...|       0.0|  0.0|\n|[0.0,0.0,74.0,125...|       0.0|  0.0|\n|[1.0,0.0,75.0,251...|       0.0|  0.0|\n|[1.0,0.0,76.0,162...|       0.0|  0.0|\n|[1.0,0.0,77.0,357...|       0.0|  0.0|\n|(13,[2,3,5,6,7,8,...|       0.0|  0.0|\n|(13,[2,3,5,10,12]...|       1.0|  0.0|\n|[0.0,0.0,89.0,332...|       0.0|  0.0|\n|[0.0,0.0,90.0,85....|       0.0|  0.0|\n|(13,[2,5,6,7,8,12...|       0.0|  0.0|\n|[1.0,0.0,96.0,99....|       0.0|  0.0|\n|[0.0,0.0,98.0,873...|       1.0|  0.0|\n|[1.0,0.0,101.0,53...|       0.0|  0.0|\n|[0.0,0.0,102.0,88...|       0.0|  0.0|\n|(13,[2,3,4,5,7,12...|       1.0|  0.0|\n|[0.0,0.0,103.0,21...|       0.0|  0.0|\n|(13,[2,3,5,6,7,8,...|       0.0|  0.0|\n|[1.0,0.0,104.0,36...|       0.0|  0.0|\n|[0.0,0.0,105.0,28...|       1.0|  0.0|\n|(13,[2,4,5,6,7,8,...|       0.0|  0.0|\n|[1.0,0.0,112.0,60...|       0.0|  0.0|\n|[0.0,0.0,113.0,10...|       0.0|  0.0|\n|[0.0,0.0,113.0,51...|       0.0|  0.0|\n|[0.0,0.0,113.0,54...|       0.0|  0.0|\n|(13,[2,3,4,5,6,8,...|       0.0|  0.0|\n|[1.0,0.0,120.0,25...|       0.0|  0.0|\n|[1.0,0.0,120.0,35...|       0.0|  0.0|\n|[0.0,0.0,121.0,42...|       0.0|  0.0|\n|[0.0,0.0,121.0,91...|       0.0|  0.0|\n|[0.0,0.0,122.0,0....|       1.0|  0.0|\n|[1.0,0.0,123.0,20...|       0.0|  0.0|\n|[1.0,0.0,124.0,43...|       0.0|  0.0|\n|[1.0,0.0,125.0,19...|       0.0|  0.0|\n|[0.0,0.0,129.0,39...|       0.0|  0.0|\n|[0.0,0.0,131.0,23...|       0.0|  0.0|\n|(13,[2,5,6,7,8,10...|       0.0|  0.0|\n|[0.0,0.0,141.0,14...|       0.0|  0.0|\n|[1.0,0.0,143.0,91...|       0.0|  0.0|\n|[0.0,0.0,146.0,24...|       0.0|  0.0|\n|[0.0,0.0,149.0,30...|       0.0|  0.0|\n|(13,[2,5,6,7,8,10...|       1.0|  0.0|\n|[1.0,0.0,158.0,30...|       0.0|  0.0|\n|[0.0,0.0,159.0,11...|       0.0|  0.0|\n|[1.0,0.0,163.0,42...|       0.0|  0.0|\n|[1.0,0.0,165.0,78...|       0.0|  0.0|\n|[0.0,0.0,168.0,30...|       0.0|  0.0|\n|[0.0,0.0,173.0,55...|       0.0|  0.0|\n|[1.0,0.0,174.0,48...|       0.0|  0.0|\n|[1.0,0.0,176.0,37...|       0.0|  0.0|\n|[0.0,0.0,182.0,81...|       0.0|  0.0|\n|[0.0,0.0,184.0,54...|       0.0|  0.0|\n|[1.0,0.0,185.0,43...|       0.0|  0.0|\n|[1.0,0.0,188.0,18...|       0.0|  0.0|\n|[0.0,0.0,188.0,40...|       0.0|  0.0|\n|[0.0,0.0,189.0,43...|       0.0|  0.0|\n|[1.0,0.0,191.0,80...|       0.0|  0.0|\n|[1.0,0.0,195.0,45...|       0.0|  0.0|\n|[1.0,0.0,205.0,19...|       0.0|  0.0|\n|[1.0,0.0,218.0,67...|       0.0|  0.0|\n|[1.0,0.0,219.0,24...|       0.0|  0.0|\n|[1.0,0.0,223.0,56...|       0.0|  0.0|\n|[1.0,0.0,225.0,55...|       0.0|  0.0|\n|[0.0,0.0,227.0,31...|       0.0|  0.0|\n|[0.0,0.0,227.0,99...|       0.0|  0.0|\n|[0.0,0.0,233.0,20...|       0.0|  0.0|\n|[1.0,0.0,235.0,60...|       0.0|  0.0|\n|[1.0,0.0,237.0,21...|       0.0|  0.0|\n|[1.0,0.0,239.0,40...|       0.0|  0.0|\n|[1.0,0.0,240.0,40...|       0.0|  0.0|\n|[1.0,0.0,242.0,29...|       0.0|  0.0|\n|[0.0,0.0,244.0,72...|       0.0|  0.0|\n|[0.0,0.0,249.0,36...|       0.0|  0.0|\n|[0.0,0.0,255.0,26...|       0.0|  0.0|\n|[0.0,0.0,255.0,39...|       0.0|  0.0|\n|[1.0,0.0,259.0,16...|       0.0|  0.0|\n|[0.0,0.0,259.0,18...|       0.0|  0.0|\n|[1.0,0.0,259.0,31...|       0.0|  0.0|\n|[1.0,0.0,259.0,11...|       0.0|  0.0|\n|(13,[2,3,5,6,7,8,...|       0.0|  0.0|\n|[1.0,0.0,262.0,11...|       0.0|  0.0|\n|[1.0,0.0,264.0,28...|       0.0|  0.0|\n|[1.0,0.0,271.0,27...|       0.0|  0.0|\n|[0.0,0.0,274.0,13...|       0.0|  0.0|\n|[1.0,0.0,277.0,61...|       0.0|  0.0|\n|[1.0,0.0,287.0,16...|       0.0|  0.0|\n|[0.0,0.0,289.0,11...|       0.0|  0.0|\n|[1.0,0.0,296.0,47...|       0.0|  0.0|\n|[1.0,0.0,303.0,70...|       0.0|  0.0|\n|[1.0,0.0,309.0,59...|       0.0|  0.0|\n|[0.0,0.0,320.0,29...|       0.0|  0.0|\n|[1.0,0.0,321.0,49...|       0.0|  0.0|\n|[1.0,0.0,328.0,22...|       0.0|  0.0|\n|[1.0,0.0,333.0,47...|       0.0|  0.0|\n|[1.0,0.0,333.0,51...|       0.0|  0.0|\n|[0.0,0.0,335.0,90...|       1.0|  0.0|\n|[1.0,0.0,340.0,21...|       0.0|  0.0|\n|[0.0,0.0,342.0,53...|       0.0|  0.0|\n|[1.0,0.0,361.0,12...|       0.0|  0.0|\n|[1.0,0.0,364.0,42...|       0.0|  0.0|\n|[1.0,0.0,372.0,12...|       0.0|  0.0|\n|[1.0,0.0,378.0,77...|       0.0|  0.0|\n|[1.0,0.0,379.0,37...|       0.0|  0.0|\n|[0.0,0.0,381.0,94...|       0.0|  0.0|\n|[0.0,0.0,392.0,20...|       0.0|  0.0|\n|[1.0,0.0,393.0,12...|       0.0|  0.0|\n|[1.0,0.0,393.0,47...|       0.0|  0.0|\n|[1.0,0.0,398.0,36...|       0.0|  0.0|\n|[0.0,0.0,400.0,19...|       0.0|  0.0|\n|[1.0,0.0,411.0,29...|       0.0|  0.0|\n|[1.0,0.0,427.0,11...|       0.0|  0.0|\n|[0.0,0.0,443.0,48...|       0.0|  0.0|\n|[1.0,0.0,460.0,10...|       0.0|  0.0|\n|[0.0,0.0,461.0,43...|       0.0|  0.0|\n|[0.0,0.0,466.0,33...|       0.0|  0.0|\n|[0.0,0.0,469.0,31...|       1.0|  0.0|\n|[1.0,0.0,477.0,48...|       0.0|  0.0|\n|[1.0,0.0,483.0,59...|       0.0|  0.0|\n|[0.0,0.0,486.0,40...|       0.0|  0.0|\n|[1.0,0.0,498.0,75...|       0.0|  0.0|\n|[1.0,0.0,503.0,13...|       0.0|  0.0|\n|[1.0,0.0,543.0,57...|       0.0|  0.0|\n|[1.0,0.0,547.0,33...|       0.0|  0.0|\n|[1.0,0.0,552.0,67...|       0.0|  0.0|\n|[1.0,0.0,559.0,56...|       0.0|  0.0|\n|[1.0,0.0,575.0,55...|       0.0|  0.0|\n|[1.0,0.0,576.0,47...|       0.0|  0.0|\n|[1.0,0.0,589.0,17...|       0.0|  0.0|\n|[1.0,0.0,592.0,37...|       0.0|  0.0|\n|[1.0,0.0,593.0,15...|       0.0|  0.0|\n|[1.0,0.0,597.0,87...|       0.0|  0.0|\n|[1.0,0.0,600.0,90...|       0.0|  0.0|\n|[0.0,0.0,618.0,71...|       1.0|  0.0|\n|[1.0,0.0,624.0,38...|       0.0|  0.0|\n|[0.0,0.0,624.0,68...|       0.0|  0.0|\n|[1.0,0.0,624.0,18...|       0.0|  0.0|\n|[1.0,0.0,640.0,61...|       0.0|  0.0|\n|[1.0,0.0,651.0,36...|       0.0|  0.0|\n|[1.0,0.0,660.0,59...|       0.0|  0.0|\n|[0.0,0.0,663.0,21...|       0.0|  0.0|\n|[1.0,0.0,668.0,29...|       0.0|  0.0|\n|[0.0,0.0,668.0,22...|       0.0|  0.0|\n|[1.0,0.0,670.0,35...|       0.0|  0.0|\n|[1.0,0.0,671.0,31...|       0.0|  0.0|\n|[1.0,0.0,690.0,87...|       0.0|  0.0|\n|[1.0,0.0,694.0,35...|       0.0|  0.0|\n|[1.0,0.0,701.0,78...|       0.0|  0.0|\n|[0.0,0.0,717.0,13...|       0.0|  0.0|\n|[1.0,0.0,728.0,91...|       0.0|  0.0|\n|[1.0,0.0,728.0,10...|       0.0|  0.0|\n|[1.0,0.0,738.0,13...|       0.0|  0.0|\n|[1.0,0.0,743.0,15...|       0.0|  0.0|\n|[0.0,0.0,754.0,23...|       0.0|  0.0|\n|[0.0,1.0,785.0,68...|       0.0|  0.0|\n|[1.0,0.0,786.0,22...|       0.0|  0.0|\n|[1.0,0.0,787.0,31...|       0.0|  0.0|\n|[0.0,0.0,789.0,16...|       0.0|  0.0|\n|[0.0,0.0,791.0,38...|       0.0|  0.0|\n|[1.0,0.0,794.0,25...|       0.0|  0.0|\n|[1.0,0.0,808.0,93...|       0.0|  0.0|\n|[1.0,0.0,826.0,12...|       0.0|  0.0|\n|[1.0,0.0,840.0,88...|       0.0|  0.0|\n|[0.0,0.0,851.0,14...|       0.0|  0.0|\n|[0.0,0.0,855.0,32...|       0.0|  0.0|\n|[1.0,0.0,859.0,41...|       0.0|  0.0|\n|[1.0,0.0,874.0,15...|       0.0|  0.0|\n|[1.0,0.0,887.0,75...|       0.0|  0.0|\n|[1.0,0.0,898.0,75...|       0.0|  0.0|\n|[1.0,0.0,902.0,68...|       0.0|  0.0|\n|[1.0,0.0,922.0,57...|       0.0|  0.0|\n|[0.0,0.0,947.0,41...|       0.0|  0.0|\n|[1.0,0.0,965.0,78...|       0.0|  0.0|\n|[1.0,0.0,968.0,16...|       0.0|  0.0|\n|[1.0,0.0,969.0,16...|       0.0|  0.0|\n|[1.0,0.0,990.0,50...|       0.0|  0.0|\n|[1.0,0.0,1032.0,1...|       0.0|  0.0|\n|[0.0,0.0,1092.0,1...|       0.0|  0.0|\n|[1.0,0.0,1102.0,8...|       0.0|  0.0|\n|[1.0,0.0,1107.0,1...|       0.0|  0.0|\n|[1.0,0.0,1140.0,2...|       0.0|  0.0|\n|[0.0,0.0,1143.0,1...|       0.0|  0.0|\n|[1.0,0.0,1157.0,5...|       0.0|  0.0|\n|[0.0,0.0,1169.0,4...|       1.0|  0.0|\n|[1.0,1.0,1214.0,8...|       0.0|  0.0|\n|[1.0,0.0,1237.0,1...|       0.0|  0.0|\n|[1.0,0.0,1265.0,1...|       0.0|  0.0|\n|[1.0,0.0,1270.0,3...|       0.0|  0.0|\n|[1.0,0.0,1288.0,9...|       0.0|  0.0|\n|[0.0,0.0,1305.0,3...|       0.0|  0.0|\n|[1.0,0.0,1316.0,1...|       0.0|  0.0|\n|[0.0,0.0,1377.0,1...|       0.0|  0.0|\n|[1.0,0.0,1389.0,4...|       0.0|  0.0|\n|[1.0,0.0,1389.0,7...|       0.0|  0.0|\n|[1.0,0.0,1391.0,1...|       0.0|  0.0|\n|[1.0,0.0,1434.0,5...|       0.0|  0.0|\n|[0.0,0.0,1456.0,9...|       0.0|  0.0|\n|[0.0,0.0,1470.0,1...|       0.0|  0.0|\n|[0.0,0.0,1521.0,2...|       0.0|  0.0|\n|[1.0,0.0,1543.0,1...|       0.0|  0.0|\n|[0.0,0.0,1574.0,2...|       1.0|  0.0|\n|[1.0,0.0,1613.0,2...|       0.0|  0.0|\n|[1.0,0.0,1629.0,4...|       0.0|  0.0|\n|[1.0,0.0,1641.0,1...|       0.0|  0.0|\n|[0.0,0.0,1645.0,1...|       0.0|  0.0|\n|[0.0,0.0,1671.0,7...|       0.0|  0.0|\n|[0.0,0.0,1678.0,9...|       0.0|  0.0|\n|[1.0,0.0,1764.0,3...|       0.0|  0.0|\n|[1.0,0.0,1779.0,1...|       0.0|  0.0|\n|[1.0,0.0,1803.0,1...|       0.0|  0.0|\n|[1.0,0.0,1855.0,2...|       0.0|  0.0|\n|[1.0,0.0,1877.0,7...|       0.0|  0.0|\n|[1.0,0.0,1882.0,2...|       0.0|  0.0|\n|[1.0,0.0,1918.0,4...|       0.0|  0.0|\n|[0.0,0.0,1977.0,2...|       0.0|  0.0|\n|[1.0,0.0,2012.0,1...|       0.0|  0.0|\n|[0.0,0.0,2027.0,1...|       0.0|  0.0|\n|[1.0,0.0,2062.0,8...|       0.0|  0.0|\n|[1.0,0.0,2145.0,8...|       0.0|  0.0|\n|[1.0,1.0,2163.0,9...|       0.0|  0.0|\n|[0.0,0.0,2187.0,2...|       0.0|  0.0|\n|[1.0,1.0,2249.0,1...|       0.0|  0.0|\n|[1.0,1.0,2402.0,1...|       0.0|  0.0|\n|[1.0,0.0,2425.0,4...|       0.0|  0.0|\n|[0.0,0.0,2485.0,3...|       0.0|  0.0|\n|[1.0,1.0,2497.0,1...|       0.0|  0.0|\n|[1.0,0.0,2513.0,1...|       0.0|  0.0|\n|[1.0,0.0,2574.0,2...|       0.0|  0.0|\n|[1.0,0.0,2607.0,2...|       0.0|  0.0|\n|[1.0,0.0,2731.0,4...|       0.0|  0.0|\n|[1.0,0.0,2939.0,5...|       0.0|  0.0|\n|[1.0,0.0,3002.0,1...|       0.0|  0.0|\n|[0.0,1.0,3136.0,7...|       0.0|  0.0|\n|[1.0,1.0,3217.0,7...|       0.0|  0.0|\n|[0.0,0.0,3617.0,4...|       0.0|  0.0|\n|[1.0,0.0,3642.0,1...|       0.0|  0.0|\n|[1.0,1.0,3680.0,4...|       0.0|  0.0|\n|[1.0,0.0,3721.0,7...|       0.0|  0.0|\n|[1.0,0.0,3747.0,4...|       0.0|  0.0|\n|[0.0,0.0,4002.0,2...|       1.0|  0.0|\n|[1.0,0.0,4196.0,3...|       0.0|  0.0|\n|(13,[2,3,4,5,7,8,...|       0.0|  0.0|\n+--------------------+----------+-----+\nonly showing top 1000 rows\n\n</div>",
       "datasetInfos": [],
       "metadata": {},
       "removedWidgets": [],
       "type": "html"
      }
     },
     "output_type": "display_data"
    }
   ],
   "source": [
    "predictions.select(\"features\", \"prediction\", \"label\").show(1000)\n"
   ]
  },
  {
   "cell_type": "code",
   "execution_count": 0,
   "metadata": {
    "application/vnd.databricks.v1+cell": {
     "inputWidgets": {},
     "nuid": "d8bbb689-ea8d-4c5b-9390-a5d4538489b3",
     "showTitle": false,
     "title": ""
    }
   },
   "outputs": [
    {
     "data": {
      "text/html": [
       "<style scoped>\n",
       "  .ansiout {\n",
       "    display: block;\n",
       "    unicode-bidi: embed;\n",
       "    white-space: pre-wrap;\n",
       "    word-wrap: break-word;\n",
       "    word-break: break-all;\n",
       "    font-family: \"Source Code Pro\", \"Menlo\", monospace;;\n",
       "    font-size: 13px;\n",
       "    color: #555;\n",
       "    margin-left: 4px;\n",
       "    line-height: 19px;\n",
       "  }\n",
       "</style>\n",
       "<div class=\"ansiout\">Test Set AUC: 0.820\n",
       "</div>"
      ]
     },
     "metadata": {
      "application/vnd.databricks.v1+output": {
       "addedWidgets": {},
       "arguments": {},
       "data": "<div class=\"ansiout\">Test Set AUC: 0.820\n</div>",
       "datasetInfos": [],
       "metadata": {},
       "removedWidgets": [],
       "type": "html"
      }
     },
     "output_type": "display_data"
    }
   ],
   "source": [
    "evaluator = BinaryClassificationEvaluator()\n",
    "print('Test Set AUC: {:.3f}'.format(evaluator.evaluate(predictions)))"
   ]
  },
  {
   "cell_type": "markdown",
   "metadata": {
    "application/vnd.databricks.v1+cell": {
     "inputWidgets": {},
     "nuid": "516e8a06-51de-4327-bec2-37863a940b7c",
     "showTitle": false,
     "title": ""
    }
   },
   "source": [
    "## Tuning Hyperparameters"
   ]
  },
  {
   "cell_type": "code",
   "execution_count": 0,
   "metadata": {
    "application/vnd.databricks.v1+cell": {
     "inputWidgets": {},
     "nuid": "b38d8579-6467-4535-817d-a65597326ee8",
     "showTitle": false,
     "title": ""
    }
   },
   "outputs": [
    {
     "data": {
      "text/html": [
       "<style scoped>\n",
       "  .ansiout {\n",
       "    display: block;\n",
       "    unicode-bidi: embed;\n",
       "    white-space: pre-wrap;\n",
       "    word-wrap: break-word;\n",
       "    word-break: break-all;\n",
       "    font-family: \"Source Code Pro\", \"Menlo\", monospace;;\n",
       "    font-size: 13px;\n",
       "    color: #555;\n",
       "    margin-left: 4px;\n",
       "    line-height: 19px;\n",
       "  }\n",
       "</style>\n",
       "<div class=\"ansiout\"></div>"
      ]
     },
     "metadata": {
      "application/vnd.databricks.v1+output": {
       "addedWidgets": {},
       "arguments": {},
       "data": "<div class=\"ansiout\"></div>",
       "datasetInfos": [],
       "metadata": {},
       "removedWidgets": [],
       "type": "html"
      }
     },
     "output_type": "display_data"
    }
   ],
   "source": [
    "# This function defines the general pipeline for logistic regression\n",
    "def logistic_regression_pipeline(train, \n",
    "                                 numerical_features, \n",
    "                                 target_variable, \n",
    "                                 with_std=True,\n",
    "                                 with_mean=True,\n",
    "                                 k_fold=5):\n",
    "\n",
    "    # Configure a logistic regression pipeline, which consists of the following stages: \n",
    "    # 1) standardize feature values (optional)\n",
    "    # ... add any other custom transformation here ...\n",
    "    # n) fit a logistic regression model\n",
    "\n",
    "\n",
    "    # 1.c Indexing the target column (i.e., transform it into 0/1) and rename it as \"label\"\n",
    "    # Note that by default StringIndexer will assign the value `0` to the most frequent label, which in the case of `deposit` is `no`\n",
    "    # As such, this nicely resembles the idea of having `deposit = 0` if no deposit is subscribed, or `deposit = 1` otherwise.\n",
    "    label_indexer = StringIndexer(inputCol = target_variable, outputCol = \"label\")\n",
    "    \n",
    "    # 1.d Assemble all the features (both one-hot-encoded categorical and numerical) into a single vector\n",
    "    assembler = VectorAssembler(inputCols=numerical_features, outputCol=\"features\")\n",
    "\n",
    "    # 2.a Create the StandardScaler\n",
    "    # scaler = StandardScaler(inputCol=assembler.getOutputCol(), outputCol=\"std_\"+assembler.getOutputCol(), withStd=with_std, withMean=with_mean)\n",
    "    # ...\n",
    "\n",
    "    # 3 Populate the stages of the pipeline with all the preprocessing steps\n",
    "    stages = [label_indexer] + [assembler] # + [scaler] + ...\n",
    "\n",
    "    # 4. Create the logistic regression transformer\n",
    "    log_reg = LogisticRegression(featuresCol=\"features\", labelCol=\"label\", maxIter=100) # change `featuresCol=std_features` if scaler is used\n",
    "\n",
    "    # 5. Add the logistic regression transformer to the pipeline stages (i.e., the last one)\n",
    "    stages += [log_reg]\n",
    "    \n",
    "    # 6. Set up the pipeline\n",
    "    pipeline = Pipeline(stages=stages)\n",
    "\n",
    "    # We use a ParamGridBuilder to construct a grid of parameters to search over.\n",
    "    # A CrossValidator requires an Estimator, a set of Estimator ParamMaps, and an Evaluator.\n",
    "    # We use a ParamGridBuilder to construct a grid of parameters to search over.\n",
    "    # With 3 values for log_reg.regParam ($\\lambda$) and 3 values for log_reg.elasticNetParam ($\\alpha$),\n",
    "    # this grid will have 3 x 3 = 9 parameter settings for CrossValidator to choose from.\n",
    "    param_grid = ParamGridBuilder()\\\n",
    "    .addGrid(log_reg.regParam, [0.0, 0.05, 0.1]) \\\n",
    "    .addGrid(log_reg.elasticNetParam, [0.0, 0.5, 1.0]) \\\n",
    "    .build()\n",
    "    \n",
    "    cross_val = CrossValidator(estimator=pipeline, \n",
    "                               estimatorParamMaps=param_grid,\n",
    "                               evaluator=BinaryClassificationEvaluator(metricName=\"areaUnderROC\"), # default = \"areaUnderROC\", alternatively \"areaUnderPR\"\n",
    "                               numFolds=k_fold,\n",
    "                               collectSubModels=True # this flag allows us to store ALL the models trained during k-fold cross validation\n",
    "                               )\n",
    "\n",
    "    # Run cross-validation, and choose the best set of parameters.\n",
    "    cv_model = cross_val.fit(train)\n",
    "\n",
    "    return cv_model\n"
   ]
  },
  {
   "cell_type": "code",
   "execution_count": 0,
   "metadata": {
    "application/vnd.databricks.v1+cell": {
     "inputWidgets": {},
     "nuid": "535e1225-840d-4d23-9c5d-e0c3b837a03c",
     "showTitle": false,
     "title": ""
    }
   },
   "outputs": [
    {
     "data": {
      "text/html": [
       "<style scoped>\n",
       "  .ansiout {\n",
       "    display: block;\n",
       "    unicode-bidi: embed;\n",
       "    white-space: pre-wrap;\n",
       "    word-wrap: break-word;\n",
       "    word-break: break-all;\n",
       "    font-family: \"Source Code Pro\", \"Menlo\", monospace;;\n",
       "    font-size: 13px;\n",
       "    color: #555;\n",
       "    margin-left: 4px;\n",
       "    line-height: 19px;\n",
       "  }\n",
       "</style>\n",
       "<div class=\"ansiout\">MLlib will automatically track trials in MLflow. After your tuning fit() call has completed, view the MLflow UI to see logged runs.\n",
       "</div>"
      ]
     },
     "metadata": {
      "application/vnd.databricks.v1+output": {
       "addedWidgets": {},
       "arguments": {},
       "data": "<div class=\"ansiout\">MLlib will automatically track trials in MLflow. After your tuning fit() call has completed, view the MLflow UI to see logged runs.\n</div>",
       "datasetInfos": [],
       "metadata": {},
       "removedWidgets": [],
       "type": "html"
      }
     },
     "output_type": "display_data"
    }
   ],
   "source": [
    "cv_model = logistic_regression_pipeline(train_df, NUMERICAL_FEATURES, TARGET_VARIABLE)"
   ]
  },
  {
   "cell_type": "code",
   "execution_count": 0,
   "metadata": {
    "application/vnd.databricks.v1+cell": {
     "inputWidgets": {},
     "nuid": "8b559822-c58d-496c-bcde-55eea036c922",
     "showTitle": false,
     "title": ""
    }
   },
   "outputs": [
    {
     "data": {
      "text/html": [
       "<style scoped>\n",
       "  .ansiout {\n",
       "    display: block;\n",
       "    unicode-bidi: embed;\n",
       "    white-space: pre-wrap;\n",
       "    word-wrap: break-word;\n",
       "    word-break: break-all;\n",
       "    font-family: \"Source Code Pro\", \"Menlo\", monospace;;\n",
       "    font-size: 13px;\n",
       "    color: #555;\n",
       "    margin-left: 4px;\n",
       "    line-height: 19px;\n",
       "  }\n",
       "</style>\n",
       "<div class=\"ansiout\"></div>"
      ]
     },
     "metadata": {
      "application/vnd.databricks.v1+output": {
       "addedWidgets": {},
       "arguments": {},
       "data": "<div class=\"ansiout\"></div>",
       "datasetInfos": [],
       "metadata": {},
       "removedWidgets": [],
       "type": "html"
      }
     },
     "output_type": "display_data"
    }
   ],
   "source": [
    "# This function summarizes all the models trained during k-fold cross validation\n",
    "def summarize_all_models(cv_models):\n",
    "    for k, models in enumerate(cv_models):\n",
    "        print(\"*************** Fold #{:d} ***************\\n\".format(k+1))\n",
    "        for i, m in enumerate(models):\n",
    "            print(\"--- Model #{:d} out of {:d} ---\".format(i+1, len(models)))\n",
    "            print(\"\\tParameters: lambda=[{:.3f}]; alpha=[{:.3f}] \".format(m.stages[-1]._java_obj.getRegParam(), m.stages[-1]._java_obj.getElasticNetParam()))\n",
    "            print(\"\\tModel summary: {}\\n\".format(m.stages[-1]))\n",
    "        print(\"***************************************\\n\")"
   ]
  },
  {
   "cell_type": "code",
   "execution_count": 0,
   "metadata": {
    "application/vnd.databricks.v1+cell": {
     "inputWidgets": {},
     "nuid": "94213c0f-50d1-4109-a87d-7b512a42d447",
     "showTitle": false,
     "title": ""
    }
   },
   "outputs": [
    {
     "data": {
      "text/html": [
       "<style scoped>\n",
       "  .ansiout {\n",
       "    display: block;\n",
       "    unicode-bidi: embed;\n",
       "    white-space: pre-wrap;\n",
       "    word-wrap: break-word;\n",
       "    word-break: break-all;\n",
       "    font-family: \"Source Code Pro\", \"Menlo\", monospace;;\n",
       "    font-size: 13px;\n",
       "    color: #555;\n",
       "    margin-left: 4px;\n",
       "    line-height: 19px;\n",
       "  }\n",
       "</style>\n",
       "<div class=\"ansiout\">*************** Fold #1 ***************\n",
       "\n",
       "--- Model #1 out of 9 ---\n",
       "\tParameters: lambda=[0.000]; alpha=[0.000] \n",
       "\tModel summary: LogisticRegressionModel: uid=LogisticRegression_5cc6b4d022c0, numClasses=2, numFeatures=13\n",
       "\n",
       "--- Model #2 out of 9 ---\n",
       "\tParameters: lambda=[0.000]; alpha=[0.500] \n",
       "\tModel summary: LogisticRegressionModel: uid=LogisticRegression_5cc6b4d022c0, numClasses=2, numFeatures=13\n",
       "\n",
       "--- Model #3 out of 9 ---\n",
       "\tParameters: lambda=[0.000]; alpha=[1.000] \n",
       "\tModel summary: LogisticRegressionModel: uid=LogisticRegression_5cc6b4d022c0, numClasses=2, numFeatures=13\n",
       "\n",
       "--- Model #4 out of 9 ---\n",
       "\tParameters: lambda=[0.050]; alpha=[0.000] \n",
       "\tModel summary: LogisticRegressionModel: uid=LogisticRegression_5cc6b4d022c0, numClasses=2, numFeatures=13\n",
       "\n",
       "--- Model #5 out of 9 ---\n",
       "\tParameters: lambda=[0.050]; alpha=[0.500] \n",
       "\tModel summary: LogisticRegressionModel: uid=LogisticRegression_5cc6b4d022c0, numClasses=2, numFeatures=13\n",
       "\n",
       "--- Model #6 out of 9 ---\n",
       "\tParameters: lambda=[0.050]; alpha=[1.000] \n",
       "\tModel summary: LogisticRegressionModel: uid=LogisticRegression_5cc6b4d022c0, numClasses=2, numFeatures=13\n",
       "\n",
       "--- Model #7 out of 9 ---\n",
       "\tParameters: lambda=[0.100]; alpha=[0.000] \n",
       "\tModel summary: LogisticRegressionModel: uid=LogisticRegression_5cc6b4d022c0, numClasses=2, numFeatures=13\n",
       "\n",
       "--- Model #8 out of 9 ---\n",
       "\tParameters: lambda=[0.100]; alpha=[0.500] \n",
       "\tModel summary: LogisticRegressionModel: uid=LogisticRegression_5cc6b4d022c0, numClasses=2, numFeatures=13\n",
       "\n",
       "--- Model #9 out of 9 ---\n",
       "\tParameters: lambda=[0.100]; alpha=[1.000] \n",
       "\tModel summary: LogisticRegressionModel: uid=LogisticRegression_5cc6b4d022c0, numClasses=2, numFeatures=13\n",
       "\n",
       "***************************************\n",
       "\n",
       "*************** Fold #2 ***************\n",
       "\n",
       "--- Model #1 out of 9 ---\n",
       "\tParameters: lambda=[0.000]; alpha=[0.000] \n",
       "\tModel summary: LogisticRegressionModel: uid=LogisticRegression_5cc6b4d022c0, numClasses=2, numFeatures=13\n",
       "\n",
       "--- Model #2 out of 9 ---\n",
       "\tParameters: lambda=[0.000]; alpha=[0.500] \n",
       "\tModel summary: LogisticRegressionModel: uid=LogisticRegression_5cc6b4d022c0, numClasses=2, numFeatures=13\n",
       "\n",
       "--- Model #3 out of 9 ---\n",
       "\tParameters: lambda=[0.000]; alpha=[1.000] \n",
       "\tModel summary: LogisticRegressionModel: uid=LogisticRegression_5cc6b4d022c0, numClasses=2, numFeatures=13\n",
       "\n",
       "--- Model #4 out of 9 ---\n",
       "\tParameters: lambda=[0.050]; alpha=[0.000] \n",
       "\tModel summary: LogisticRegressionModel: uid=LogisticRegression_5cc6b4d022c0, numClasses=2, numFeatures=13\n",
       "\n",
       "--- Model #5 out of 9 ---\n",
       "\tParameters: lambda=[0.050]; alpha=[0.500] \n",
       "\tModel summary: LogisticRegressionModel: uid=LogisticRegression_5cc6b4d022c0, numClasses=2, numFeatures=13\n",
       "\n",
       "--- Model #6 out of 9 ---\n",
       "\tParameters: lambda=[0.050]; alpha=[1.000] \n",
       "\tModel summary: LogisticRegressionModel: uid=LogisticRegression_5cc6b4d022c0, numClasses=2, numFeatures=13\n",
       "\n",
       "--- Model #7 out of 9 ---\n",
       "\tParameters: lambda=[0.100]; alpha=[0.000] \n",
       "\tModel summary: LogisticRegressionModel: uid=LogisticRegression_5cc6b4d022c0, numClasses=2, numFeatures=13\n",
       "\n",
       "--- Model #8 out of 9 ---\n",
       "\tParameters: lambda=[0.100]; alpha=[0.500] \n",
       "\tModel summary: LogisticRegressionModel: uid=LogisticRegression_5cc6b4d022c0, numClasses=2, numFeatures=13\n",
       "\n",
       "--- Model #9 out of 9 ---\n",
       "\tParameters: lambda=[0.100]; alpha=[1.000] \n",
       "\tModel summary: LogisticRegressionModel: uid=LogisticRegression_5cc6b4d022c0, numClasses=2, numFeatures=13\n",
       "\n",
       "***************************************\n",
       "\n",
       "*************** Fold #3 ***************\n",
       "\n",
       "--- Model #1 out of 9 ---\n",
       "\tParameters: lambda=[0.000]; alpha=[0.000] \n",
       "\tModel summary: LogisticRegressionModel: uid=LogisticRegression_5cc6b4d022c0, numClasses=2, numFeatures=13\n",
       "\n",
       "--- Model #2 out of 9 ---\n",
       "\tParameters: lambda=[0.000]; alpha=[0.500] \n",
       "\tModel summary: LogisticRegressionModel: uid=LogisticRegression_5cc6b4d022c0, numClasses=2, numFeatures=13\n",
       "\n",
       "--- Model #3 out of 9 ---\n",
       "\tParameters: lambda=[0.000]; alpha=[1.000] \n",
       "\tModel summary: LogisticRegressionModel: uid=LogisticRegression_5cc6b4d022c0, numClasses=2, numFeatures=13\n",
       "\n",
       "--- Model #4 out of 9 ---\n",
       "\tParameters: lambda=[0.050]; alpha=[0.000] \n",
       "\tModel summary: LogisticRegressionModel: uid=LogisticRegression_5cc6b4d022c0, numClasses=2, numFeatures=13\n",
       "\n",
       "--- Model #5 out of 9 ---\n",
       "\tParameters: lambda=[0.050]; alpha=[0.500] \n",
       "\tModel summary: LogisticRegressionModel: uid=LogisticRegression_5cc6b4d022c0, numClasses=2, numFeatures=13\n",
       "\n",
       "--- Model #6 out of 9 ---\n",
       "\tParameters: lambda=[0.050]; alpha=[1.000] \n",
       "\tModel summary: LogisticRegressionModel: uid=LogisticRegression_5cc6b4d022c0, numClasses=2, numFeatures=13\n",
       "\n",
       "--- Model #7 out of 9 ---\n",
       "\tParameters: lambda=[0.100]; alpha=[0.000] \n",
       "\tModel summary: LogisticRegressionModel: uid=LogisticRegression_5cc6b4d022c0, numClasses=2, numFeatures=13\n",
       "\n",
       "--- Model #8 out of 9 ---\n",
       "\tParameters: lambda=[0.100]; alpha=[0.500] \n",
       "\tModel summary: LogisticRegressionModel: uid=LogisticRegression_5cc6b4d022c0, numClasses=2, numFeatures=13\n",
       "\n",
       "--- Model #9 out of 9 ---\n",
       "\tParameters: lambda=[0.100]; alpha=[1.000] \n",
       "\tModel summary: LogisticRegressionModel: uid=LogisticRegression_5cc6b4d022c0, numClasses=2, numFeatures=13\n",
       "\n",
       "***************************************\n",
       "\n",
       "*************** Fold #4 ***************\n",
       "\n",
       "--- Model #1 out of 9 ---\n",
       "\tParameters: lambda=[0.000]; alpha=[0.000] \n",
       "\tModel summary: LogisticRegressionModel: uid=LogisticRegression_5cc6b4d022c0, numClasses=2, numFeatures=13\n",
       "\n",
       "--- Model #2 out of 9 ---\n",
       "\tParameters: lambda=[0.000]; alpha=[0.500] \n",
       "\tModel summary: LogisticRegressionModel: uid=LogisticRegression_5cc6b4d022c0, numClasses=2, numFeatures=13\n",
       "\n",
       "--- Model #3 out of 9 ---\n",
       "\tParameters: lambda=[0.000]; alpha=[1.000] \n",
       "\tModel summary: LogisticRegressionModel: uid=LogisticRegression_5cc6b4d022c0, numClasses=2, numFeatures=13\n",
       "\n",
       "--- Model #4 out of 9 ---\n",
       "\tParameters: lambda=[0.050]; alpha=[0.000] \n",
       "\tModel summary: LogisticRegressionModel: uid=LogisticRegression_5cc6b4d022c0, numClasses=2, numFeatures=13\n",
       "\n",
       "--- Model #5 out of 9 ---\n",
       "\tParameters: lambda=[0.050]; alpha=[0.500] \n",
       "\tModel summary: LogisticRegressionModel: uid=LogisticRegression_5cc6b4d022c0, numClasses=2, numFeatures=13\n",
       "\n",
       "--- Model #6 out of 9 ---\n",
       "\tParameters: lambda=[0.050]; alpha=[1.000] \n",
       "\tModel summary: LogisticRegressionModel: uid=LogisticRegression_5cc6b4d022c0, numClasses=2, numFeatures=13\n",
       "\n",
       "--- Model #7 out of 9 ---\n",
       "\tParameters: lambda=[0.100]; alpha=[0.000] \n",
       "\tModel summary: LogisticRegressionModel: uid=LogisticRegression_5cc6b4d022c0, numClasses=2, numFeatures=13\n",
       "\n",
       "--- Model #8 out of 9 ---\n",
       "\tParameters: lambda=[0.100]; alpha=[0.500] \n",
       "\tModel summary: LogisticRegressionModel: uid=LogisticRegression_5cc6b4d022c0, numClasses=2, numFeatures=13\n",
       "\n",
       "--- Model #9 out of 9 ---\n",
       "\tParameters: lambda=[0.100]; alpha=[1.000] \n",
       "\tModel summary: LogisticRegressionModel: uid=LogisticRegression_5cc6b4d022c0, numClasses=2, numFeatures=13\n",
       "\n",
       "***************************************\n",
       "\n",
       "*************** Fold #5 ***************\n",
       "\n",
       "--- Model #1 out of 9 ---\n",
       "\tParameters: lambda=[0.000]; alpha=[0.000] \n",
       "\tModel summary: LogisticRegressionModel: uid=LogisticRegression_5cc6b4d022c0, numClasses=2, numFeatures=13\n",
       "\n",
       "--- Model #2 out of 9 ---\n",
       "\tParameters: lambda=[0.000]; alpha=[0.500] \n",
       "\tModel summary: LogisticRegressionModel: uid=LogisticRegression_5cc6b4d022c0, numClasses=2, numFeatures=13\n",
       "\n",
       "--- Model #3 out of 9 ---\n",
       "\tParameters: lambda=[0.000]; alpha=[1.000] \n",
       "\tModel summary: LogisticRegressionModel: uid=LogisticRegression_5cc6b4d022c0, numClasses=2, numFeatures=13\n",
       "\n",
       "--- Model #4 out of 9 ---\n",
       "\tParameters: lambda=[0.050]; alpha=[0.000] \n",
       "\tModel summary: LogisticRegressionModel: uid=LogisticRegression_5cc6b4d022c0, numClasses=2, numFeatures=13\n",
       "\n",
       "--- Model #5 out of 9 ---\n",
       "\tParameters: lambda=[0.050]; alpha=[0.500] \n",
       "\tModel summary: LogisticRegressionModel: uid=LogisticRegression_5cc6b4d022c0, numClasses=2, numFeatures=13\n",
       "\n",
       "--- Model #6 out of 9 ---\n",
       "\tParameters: lambda=[0.050]; alpha=[1.000] \n",
       "\tModel summary: LogisticRegressionModel: uid=LogisticRegression_5cc6b4d022c0, numClasses=2, numFeatures=13\n",
       "\n",
       "--- Model #7 out of 9 ---\n",
       "\tParameters: lambda=[0.100]; alpha=[0.000] \n",
       "\tModel summary: LogisticRegressionModel: uid=LogisticRegression_5cc6b4d022c0, numClasses=2, numFeatures=13\n",
       "\n",
       "--- Model #8 out of 9 ---\n",
       "\tParameters: lambda=[0.100]; alpha=[0.500] \n",
       "\tModel summary: LogisticRegressionModel: uid=LogisticRegression_5cc6b4d022c0, numClasses=2, numFeatures=13\n",
       "\n",
       "--- Model #9 out of 9 ---\n",
       "\tParameters: lambda=[0.100]; alpha=[1.000] \n",
       "\tModel summary: LogisticRegressionModel: uid=LogisticRegression_5cc6b4d022c0, numClasses=2, numFeatures=13\n",
       "\n",
       "***************************************\n",
       "\n",
       "</div>"
      ]
     },
     "metadata": {
      "application/vnd.databricks.v1+output": {
       "addedWidgets": {},
       "arguments": {},
       "data": "<div class=\"ansiout\">*************** Fold #1 ***************\n\n--- Model #1 out of 9 ---\n\tParameters: lambda=[0.000]; alpha=[0.000] \n\tModel summary: LogisticRegressionModel: uid=LogisticRegression_5cc6b4d022c0, numClasses=2, numFeatures=13\n\n--- Model #2 out of 9 ---\n\tParameters: lambda=[0.000]; alpha=[0.500] \n\tModel summary: LogisticRegressionModel: uid=LogisticRegression_5cc6b4d022c0, numClasses=2, numFeatures=13\n\n--- Model #3 out of 9 ---\n\tParameters: lambda=[0.000]; alpha=[1.000] \n\tModel summary: LogisticRegressionModel: uid=LogisticRegression_5cc6b4d022c0, numClasses=2, numFeatures=13\n\n--- Model #4 out of 9 ---\n\tParameters: lambda=[0.050]; alpha=[0.000] \n\tModel summary: LogisticRegressionModel: uid=LogisticRegression_5cc6b4d022c0, numClasses=2, numFeatures=13\n\n--- Model #5 out of 9 ---\n\tParameters: lambda=[0.050]; alpha=[0.500] \n\tModel summary: LogisticRegressionModel: uid=LogisticRegression_5cc6b4d022c0, numClasses=2, numFeatures=13\n\n--- Model #6 out of 9 ---\n\tParameters: lambda=[0.050]; alpha=[1.000] \n\tModel summary: LogisticRegressionModel: uid=LogisticRegression_5cc6b4d022c0, numClasses=2, numFeatures=13\n\n--- Model #7 out of 9 ---\n\tParameters: lambda=[0.100]; alpha=[0.000] \n\tModel summary: LogisticRegressionModel: uid=LogisticRegression_5cc6b4d022c0, numClasses=2, numFeatures=13\n\n--- Model #8 out of 9 ---\n\tParameters: lambda=[0.100]; alpha=[0.500] \n\tModel summary: LogisticRegressionModel: uid=LogisticRegression_5cc6b4d022c0, numClasses=2, numFeatures=13\n\n--- Model #9 out of 9 ---\n\tParameters: lambda=[0.100]; alpha=[1.000] \n\tModel summary: LogisticRegressionModel: uid=LogisticRegression_5cc6b4d022c0, numClasses=2, numFeatures=13\n\n***************************************\n\n*************** Fold #2 ***************\n\n--- Model #1 out of 9 ---\n\tParameters: lambda=[0.000]; alpha=[0.000] \n\tModel summary: LogisticRegressionModel: uid=LogisticRegression_5cc6b4d022c0, numClasses=2, numFeatures=13\n\n--- Model #2 out of 9 ---\n\tParameters: lambda=[0.000]; alpha=[0.500] \n\tModel summary: LogisticRegressionModel: uid=LogisticRegression_5cc6b4d022c0, numClasses=2, numFeatures=13\n\n--- Model #3 out of 9 ---\n\tParameters: lambda=[0.000]; alpha=[1.000] \n\tModel summary: LogisticRegressionModel: uid=LogisticRegression_5cc6b4d022c0, numClasses=2, numFeatures=13\n\n--- Model #4 out of 9 ---\n\tParameters: lambda=[0.050]; alpha=[0.000] \n\tModel summary: LogisticRegressionModel: uid=LogisticRegression_5cc6b4d022c0, numClasses=2, numFeatures=13\n\n--- Model #5 out of 9 ---\n\tParameters: lambda=[0.050]; alpha=[0.500] \n\tModel summary: LogisticRegressionModel: uid=LogisticRegression_5cc6b4d022c0, numClasses=2, numFeatures=13\n\n--- Model #6 out of 9 ---\n\tParameters: lambda=[0.050]; alpha=[1.000] \n\tModel summary: LogisticRegressionModel: uid=LogisticRegression_5cc6b4d022c0, numClasses=2, numFeatures=13\n\n--- Model #7 out of 9 ---\n\tParameters: lambda=[0.100]; alpha=[0.000] \n\tModel summary: LogisticRegressionModel: uid=LogisticRegression_5cc6b4d022c0, numClasses=2, numFeatures=13\n\n--- Model #8 out of 9 ---\n\tParameters: lambda=[0.100]; alpha=[0.500] \n\tModel summary: LogisticRegressionModel: uid=LogisticRegression_5cc6b4d022c0, numClasses=2, numFeatures=13\n\n--- Model #9 out of 9 ---\n\tParameters: lambda=[0.100]; alpha=[1.000] \n\tModel summary: LogisticRegressionModel: uid=LogisticRegression_5cc6b4d022c0, numClasses=2, numFeatures=13\n\n***************************************\n\n*************** Fold #3 ***************\n\n--- Model #1 out of 9 ---\n\tParameters: lambda=[0.000]; alpha=[0.000] \n\tModel summary: LogisticRegressionModel: uid=LogisticRegression_5cc6b4d022c0, numClasses=2, numFeatures=13\n\n--- Model #2 out of 9 ---\n\tParameters: lambda=[0.000]; alpha=[0.500] \n\tModel summary: LogisticRegressionModel: uid=LogisticRegression_5cc6b4d022c0, numClasses=2, numFeatures=13\n\n--- Model #3 out of 9 ---\n\tParameters: lambda=[0.000]; alpha=[1.000] \n\tModel summary: LogisticRegressionModel: uid=LogisticRegression_5cc6b4d022c0, numClasses=2, numFeatures=13\n\n--- Model #4 out of 9 ---\n\tParameters: lambda=[0.050]; alpha=[0.000] \n\tModel summary: LogisticRegressionModel: uid=LogisticRegression_5cc6b4d022c0, numClasses=2, numFeatures=13\n\n--- Model #5 out of 9 ---\n\tParameters: lambda=[0.050]; alpha=[0.500] \n\tModel summary: LogisticRegressionModel: uid=LogisticRegression_5cc6b4d022c0, numClasses=2, numFeatures=13\n\n--- Model #6 out of 9 ---\n\tParameters: lambda=[0.050]; alpha=[1.000] \n\tModel summary: LogisticRegressionModel: uid=LogisticRegression_5cc6b4d022c0, numClasses=2, numFeatures=13\n\n--- Model #7 out of 9 ---\n\tParameters: lambda=[0.100]; alpha=[0.000] \n\tModel summary: LogisticRegressionModel: uid=LogisticRegression_5cc6b4d022c0, numClasses=2, numFeatures=13\n\n--- Model #8 out of 9 ---\n\tParameters: lambda=[0.100]; alpha=[0.500] \n\tModel summary: LogisticRegressionModel: uid=LogisticRegression_5cc6b4d022c0, numClasses=2, numFeatures=13\n\n--- Model #9 out of 9 ---\n\tParameters: lambda=[0.100]; alpha=[1.000] \n\tModel summary: LogisticRegressionModel: uid=LogisticRegression_5cc6b4d022c0, numClasses=2, numFeatures=13\n\n***************************************\n\n*************** Fold #4 ***************\n\n--- Model #1 out of 9 ---\n\tParameters: lambda=[0.000]; alpha=[0.000] \n\tModel summary: LogisticRegressionModel: uid=LogisticRegression_5cc6b4d022c0, numClasses=2, numFeatures=13\n\n--- Model #2 out of 9 ---\n\tParameters: lambda=[0.000]; alpha=[0.500] \n\tModel summary: LogisticRegressionModel: uid=LogisticRegression_5cc6b4d022c0, numClasses=2, numFeatures=13\n\n--- Model #3 out of 9 ---\n\tParameters: lambda=[0.000]; alpha=[1.000] \n\tModel summary: LogisticRegressionModel: uid=LogisticRegression_5cc6b4d022c0, numClasses=2, numFeatures=13\n\n--- Model #4 out of 9 ---\n\tParameters: lambda=[0.050]; alpha=[0.000] \n\tModel summary: LogisticRegressionModel: uid=LogisticRegression_5cc6b4d022c0, numClasses=2, numFeatures=13\n\n--- Model #5 out of 9 ---\n\tParameters: lambda=[0.050]; alpha=[0.500] \n\tModel summary: LogisticRegressionModel: uid=LogisticRegression_5cc6b4d022c0, numClasses=2, numFeatures=13\n\n--- Model #6 out of 9 ---\n\tParameters: lambda=[0.050]; alpha=[1.000] \n\tModel summary: LogisticRegressionModel: uid=LogisticRegression_5cc6b4d022c0, numClasses=2, numFeatures=13\n\n--- Model #7 out of 9 ---\n\tParameters: lambda=[0.100]; alpha=[0.000] \n\tModel summary: LogisticRegressionModel: uid=LogisticRegression_5cc6b4d022c0, numClasses=2, numFeatures=13\n\n--- Model #8 out of 9 ---\n\tParameters: lambda=[0.100]; alpha=[0.500] \n\tModel summary: LogisticRegressionModel: uid=LogisticRegression_5cc6b4d022c0, numClasses=2, numFeatures=13\n\n--- Model #9 out of 9 ---\n\tParameters: lambda=[0.100]; alpha=[1.000] \n\tModel summary: LogisticRegressionModel: uid=LogisticRegression_5cc6b4d022c0, numClasses=2, numFeatures=13\n\n***************************************\n\n*************** Fold #5 ***************\n\n--- Model #1 out of 9 ---\n\tParameters: lambda=[0.000]; alpha=[0.000] \n\tModel summary: LogisticRegressionModel: uid=LogisticRegression_5cc6b4d022c0, numClasses=2, numFeatures=13\n\n--- Model #2 out of 9 ---\n\tParameters: lambda=[0.000]; alpha=[0.500] \n\tModel summary: LogisticRegressionModel: uid=LogisticRegression_5cc6b4d022c0, numClasses=2, numFeatures=13\n\n--- Model #3 out of 9 ---\n\tParameters: lambda=[0.000]; alpha=[1.000] \n\tModel summary: LogisticRegressionModel: uid=LogisticRegression_5cc6b4d022c0, numClasses=2, numFeatures=13\n\n--- Model #4 out of 9 ---\n\tParameters: lambda=[0.050]; alpha=[0.000] \n\tModel summary: LogisticRegressionModel: uid=LogisticRegression_5cc6b4d022c0, numClasses=2, numFeatures=13\n\n--- Model #5 out of 9 ---\n\tParameters: lambda=[0.050]; alpha=[0.500] \n\tModel summary: LogisticRegressionModel: uid=LogisticRegression_5cc6b4d022c0, numClasses=2, numFeatures=13\n\n--- Model #6 out of 9 ---\n\tParameters: lambda=[0.050]; alpha=[1.000] \n\tModel summary: LogisticRegressionModel: uid=LogisticRegression_5cc6b4d022c0, numClasses=2, numFeatures=13\n\n--- Model #7 out of 9 ---\n\tParameters: lambda=[0.100]; alpha=[0.000] \n\tModel summary: LogisticRegressionModel: uid=LogisticRegression_5cc6b4d022c0, numClasses=2, numFeatures=13\n\n--- Model #8 out of 9 ---\n\tParameters: lambda=[0.100]; alpha=[0.500] \n\tModel summary: LogisticRegressionModel: uid=LogisticRegression_5cc6b4d022c0, numClasses=2, numFeatures=13\n\n--- Model #9 out of 9 ---\n\tParameters: lambda=[0.100]; alpha=[1.000] \n\tModel summary: LogisticRegressionModel: uid=LogisticRegression_5cc6b4d022c0, numClasses=2, numFeatures=13\n\n***************************************\n\n</div>",
       "datasetInfos": [],
       "metadata": {},
       "removedWidgets": [],
       "type": "html"
      }
     },
     "output_type": "display_data"
    }
   ],
   "source": [
    "# Call the function above|\n",
    "summarize_all_models(cv_model.subModels)"
   ]
  },
  {
   "cell_type": "code",
   "execution_count": 0,
   "metadata": {
    "application/vnd.databricks.v1+cell": {
     "inputWidgets": {},
     "nuid": "a41fb147-76ac-4488-8708-a9283cb79fa6",
     "showTitle": false,
     "title": ""
    }
   },
   "outputs": [
    {
     "data": {
      "text/html": [
       "<style scoped>\n",
       "  .ansiout {\n",
       "    display: block;\n",
       "    unicode-bidi: embed;\n",
       "    white-space: pre-wrap;\n",
       "    word-wrap: break-word;\n",
       "    word-break: break-all;\n",
       "    font-family: \"Source Code Pro\", \"Menlo\", monospace;;\n",
       "    font-size: 13px;\n",
       "    color: #555;\n",
       "    margin-left: 4px;\n",
       "    line-height: 19px;\n",
       "  }\n",
       "</style>\n",
       "<div class=\"ansiout\">Avg. ROC AUC computed across k-fold cross validation for model setting #1: 0.813\n",
       "Avg. ROC AUC computed across k-fold cross validation for model setting #2: 0.813\n",
       "Avg. ROC AUC computed across k-fold cross validation for model setting #3: 0.813\n",
       "Avg. ROC AUC computed across k-fold cross validation for model setting #4: 0.808\n",
       "Avg. ROC AUC computed across k-fold cross validation for model setting #5: 0.798\n",
       "Avg. ROC AUC computed across k-fold cross validation for model setting #6: 0.773\n",
       "Avg. ROC AUC computed across k-fold cross validation for model setting #7: 0.805\n",
       "Avg. ROC AUC computed across k-fold cross validation for model setting #8: 0.772\n",
       "Avg. ROC AUC computed across k-fold cross validation for model setting #9: 0.720\n",
       "</div>"
      ]
     },
     "metadata": {
      "application/vnd.databricks.v1+output": {
       "addedWidgets": {},
       "arguments": {},
       "data": "<div class=\"ansiout\">Avg. ROC AUC computed across k-fold cross validation for model setting #1: 0.813\nAvg. ROC AUC computed across k-fold cross validation for model setting #2: 0.813\nAvg. ROC AUC computed across k-fold cross validation for model setting #3: 0.813\nAvg. ROC AUC computed across k-fold cross validation for model setting #4: 0.808\nAvg. ROC AUC computed across k-fold cross validation for model setting #5: 0.798\nAvg. ROC AUC computed across k-fold cross validation for model setting #6: 0.773\nAvg. ROC AUC computed across k-fold cross validation for model setting #7: 0.805\nAvg. ROC AUC computed across k-fold cross validation for model setting #8: 0.772\nAvg. ROC AUC computed across k-fold cross validation for model setting #9: 0.720\n</div>",
       "datasetInfos": [],
       "metadata": {},
       "removedWidgets": [],
       "type": "html"
      }
     },
     "output_type": "display_data"
    }
   ],
   "source": [
    "for i, avg_roc_auc in enumerate(cv_model.avgMetrics):\n",
    "    print(\"Avg. ROC AUC computed across k-fold cross validation for model setting #{:d}: {:.3f}\".format(i+1, avg_roc_auc))"
   ]
  },
  {
   "cell_type": "code",
   "execution_count": 0,
   "metadata": {
    "application/vnd.databricks.v1+cell": {
     "inputWidgets": {},
     "nuid": "ce61c680-8d32-4e03-8a99-e2440f86096d",
     "showTitle": false,
     "title": ""
    }
   },
   "outputs": [
    {
     "data": {
      "text/html": [
       "<style scoped>\n",
       "  .ansiout {\n",
       "    display: block;\n",
       "    unicode-bidi: embed;\n",
       "    white-space: pre-wrap;\n",
       "    word-wrap: break-word;\n",
       "    word-break: break-all;\n",
       "    font-family: \"Source Code Pro\", \"Menlo\", monospace;;\n",
       "    font-size: 13px;\n",
       "    color: #555;\n",
       "    margin-left: 4px;\n",
       "    line-height: 19px;\n",
       "  }\n",
       "</style>\n",
       "<div class=\"ansiout\">Best model according to k-fold cross validation: lambda=[0.000]; alfa=[0.500]\n",
       "LogisticRegressionModel: uid=LogisticRegression_5cc6b4d022c0, numClasses=2, numFeatures=13\n",
       "</div>"
      ]
     },
     "metadata": {
      "application/vnd.databricks.v1+output": {
       "addedWidgets": {},
       "arguments": {},
       "data": "<div class=\"ansiout\">Best model according to k-fold cross validation: lambda=[0.000]; alfa=[0.500]\nLogisticRegressionModel: uid=LogisticRegression_5cc6b4d022c0, numClasses=2, numFeatures=13\n</div>",
       "datasetInfos": [],
       "metadata": {},
       "removedWidgets": [],
       "type": "html"
      }
     },
     "output_type": "display_data"
    }
   ],
   "source": [
    "print(\"Best model according to k-fold cross validation: lambda=[{:.3f}]; alfa=[{:.3f}]\".\n",
    "      format(cv_model.bestModel.stages[-1]._java_obj.getRegParam(), \n",
    "             cv_model.bestModel.stages[-1]._java_obj.getElasticNetParam(),\n",
    "             )\n",
    "      )\n",
    "print(cv_model.bestModel.stages[-1])"
   ]
  },
  {
   "cell_type": "code",
   "execution_count": 0,
   "metadata": {
    "application/vnd.databricks.v1+cell": {
     "inputWidgets": {},
     "nuid": "43fa6bf0-1f1f-406d-9600-424fac34ecbb",
     "showTitle": false,
     "title": ""
    }
   },
   "outputs": [
    {
     "data": {
      "text/html": [
       "<style scoped>\n",
       "  .ansiout {\n",
       "    display: block;\n",
       "    unicode-bidi: embed;\n",
       "    white-space: pre-wrap;\n",
       "    word-wrap: break-word;\n",
       "    word-break: break-all;\n",
       "    font-family: \"Source Code Pro\", \"Menlo\", monospace;;\n",
       "    font-size: 13px;\n",
       "    color: #555;\n",
       "    margin-left: 4px;\n",
       "    line-height: 19px;\n",
       "  }\n",
       "</style>\n",
       "<div class=\"ansiout\">***** Training Set *****\n",
       "Area Under ROC Curve (ROC AUC): 0.814\n",
       "***** Training Set *****\n",
       "</div>"
      ]
     },
     "metadata": {
      "application/vnd.databricks.v1+output": {
       "addedWidgets": {},
       "arguments": {},
       "data": "<div class=\"ansiout\">***** Training Set *****\nArea Under ROC Curve (ROC AUC): 0.814\n***** Training Set *****\n</div>",
       "datasetInfos": [],
       "metadata": {},
       "removedWidgets": [],
       "type": "html"
      }
     },
     "output_type": "display_data"
    }
   ],
   "source": [
    "# `bestModel` is the best resulting model according to k-fold cross validation, which is also entirely retrained on the whole `train_df`\n",
    "training_result = cv_model.bestModel.stages[-1].summary\n",
    "print(\"***** Training Set *****\")\n",
    "print(\"Area Under ROC Curve (ROC AUC): {:.3f}\".format(training_result.areaUnderROC))\n",
    "print(\"***** Training Set *****\")"
   ]
  },
  {
   "cell_type": "code",
   "execution_count": 0,
   "metadata": {
    "application/vnd.databricks.v1+cell": {
     "inputWidgets": {},
     "nuid": "70ae6829-5889-42d9-9ed8-6bd757761791",
     "showTitle": false,
     "title": ""
    }
   },
   "outputs": [
    {
     "data": {
      "text/html": [
       "<style scoped>\n",
       "  .ansiout {\n",
       "    display: block;\n",
       "    unicode-bidi: embed;\n",
       "    white-space: pre-wrap;\n",
       "    word-wrap: break-word;\n",
       "    word-break: break-all;\n",
       "    font-family: \"Source Code Pro\", \"Menlo\", monospace;;\n",
       "    font-size: 13px;\n",
       "    color: #555;\n",
       "    margin-left: 4px;\n",
       "    line-height: 19px;\n",
       "  }\n",
       "</style>\n",
       "<div class=\"ansiout\"></div>"
      ]
     },
     "metadata": {
      "application/vnd.databricks.v1+output": {
       "addedWidgets": {},
       "arguments": {},
       "data": "<div class=\"ansiout\"></div>",
       "datasetInfos": [],
       "metadata": {},
       "removedWidgets": [],
       "type": "html"
      }
     },
     "output_type": "display_data"
    }
   ],
   "source": [
    "# Make predictions on the test set (`cv_model` contains the best model according to the result of k-fold cross validation)\n",
    "# `test_df` will follow exactly the same pipeline defined above, and already fit to `train_df`\n",
    "test_predictions = cv_model.transform(test_df)"
   ]
  },
  {
   "cell_type": "code",
   "execution_count": 0,
   "metadata": {
    "application/vnd.databricks.v1+cell": {
     "inputWidgets": {},
     "nuid": "c891aeeb-b193-40dd-95a5-bb19cc0ea631",
     "showTitle": false,
     "title": ""
    }
   },
   "outputs": [
    {
     "data": {
      "text/html": [
       "<style scoped>\n",
       "  .ansiout {\n",
       "    display: block;\n",
       "    unicode-bidi: embed;\n",
       "    white-space: pre-wrap;\n",
       "    word-wrap: break-word;\n",
       "    word-break: break-all;\n",
       "    font-family: \"Source Code Pro\", \"Menlo\", monospace;;\n",
       "    font-size: 13px;\n",
       "    color: #555;\n",
       "    margin-left: 4px;\n",
       "    line-height: 19px;\n",
       "  }\n",
       "</style>\n",
       "<div class=\"ansiout\">+--------------------+----------+-----+\n",
       "            features|prediction|label|\n",
       "+--------------------+----------+-----+\n",
       "(13,[5,6,7,8,10,1...|       1.0|  1.0|\n",
       "(13,[3,5,6,7,8,12...|       0.0|  1.0|\n",
       "(13,[2,5,6,7,8,10...|       1.0|  1.0|\n",
       "(13,[2,5,6,7,8,10...|       1.0|  1.0|\n",
       "(13,[2,5,7,10,11,...|       1.0|  1.0|\n",
       "+--------------------+----------+-----+\n",
       "only showing top 5 rows\n",
       "\n",
       "</div>"
      ]
     },
     "metadata": {
      "application/vnd.databricks.v1+output": {
       "addedWidgets": {},
       "arguments": {},
       "data": "<div class=\"ansiout\">+--------------------+----------+-----+\n|            features|prediction|label|\n+--------------------+----------+-----+\n|(13,[5,6,7,8,10,1...|       1.0|  1.0|\n|(13,[3,5,6,7,8,12...|       0.0|  1.0|\n|(13,[2,5,6,7,8,10...|       1.0|  1.0|\n|(13,[2,5,6,7,8,10...|       1.0|  1.0|\n|(13,[2,5,7,10,11,...|       1.0|  1.0|\n+--------------------+----------+-----+\nonly showing top 5 rows\n\n</div>",
       "datasetInfos": [],
       "metadata": {},
       "removedWidgets": [],
       "type": "html"
      }
     },
     "output_type": "display_data"
    }
   ],
   "source": [
    "test_predictions.select(\"features\", \"prediction\", \"label\").show(5)"
   ]
  },
  {
   "cell_type": "code",
   "execution_count": 0,
   "metadata": {
    "application/vnd.databricks.v1+cell": {
     "inputWidgets": {},
     "nuid": "a068641c-0995-4b85-af00-129de9cf4e1a",
     "showTitle": false,
     "title": ""
    }
   },
   "outputs": [
    {
     "data": {
      "text/html": [
       "<style scoped>\n",
       "  .ansiout {\n",
       "    display: block;\n",
       "    unicode-bidi: embed;\n",
       "    white-space: pre-wrap;\n",
       "    word-wrap: break-word;\n",
       "    word-break: break-all;\n",
       "    font-family: \"Source Code Pro\", \"Menlo\", monospace;;\n",
       "    font-size: 13px;\n",
       "    color: #555;\n",
       "    margin-left: 4px;\n",
       "    line-height: 19px;\n",
       "  }\n",
       "</style>\n",
       "<div class=\"ansiout\"></div>"
      ]
     },
     "metadata": {
      "application/vnd.databricks.v1+output": {
       "addedWidgets": {},
       "arguments": {},
       "data": "<div class=\"ansiout\"></div>",
       "datasetInfos": [],
       "metadata": {},
       "removedWidgets": [],
       "type": "html"
      }
     },
     "output_type": "display_data"
    }
   ],
   "source": [
    "def evaluate_model(predictions, metric=\"areaUnderROC\"):\n",
    "    evaluator = BinaryClassificationEvaluator(metricName=metric)\n",
    "    return evaluator.evaluate(predictions)"
   ]
  },
  {
   "cell_type": "code",
   "execution_count": 0,
   "metadata": {
    "application/vnd.databricks.v1+cell": {
     "inputWidgets": {},
     "nuid": "457617f1-4ecb-4515-9b89-d68614696709",
     "showTitle": false,
     "title": ""
    }
   },
   "outputs": [
    {
     "data": {
      "text/html": [
       "<style scoped>\n",
       "  .ansiout {\n",
       "    display: block;\n",
       "    unicode-bidi: embed;\n",
       "    white-space: pre-wrap;\n",
       "    word-wrap: break-word;\n",
       "    word-break: break-all;\n",
       "    font-family: \"Source Code Pro\", \"Menlo\", monospace;;\n",
       "    font-size: 13px;\n",
       "    color: #555;\n",
       "    margin-left: 4px;\n",
       "    line-height: 19px;\n",
       "  }\n",
       "</style>\n",
       "<div class=\"ansiout\">***** Test Set *****\n",
       "Area Under ROC Curve (ROC AUC): 0.820\n",
       "Area Under Precision-Recall Curve: 0.541\n",
       "***** Test Set *****\n",
       "</div>"
      ]
     },
     "metadata": {
      "application/vnd.databricks.v1+output": {
       "addedWidgets": {},
       "arguments": {},
       "data": "<div class=\"ansiout\">***** Test Set *****\nArea Under ROC Curve (ROC AUC): 0.820\nArea Under Precision-Recall Curve: 0.541\n***** Test Set *****\n</div>",
       "datasetInfos": [],
       "metadata": {},
       "removedWidgets": [],
       "type": "html"
      }
     },
     "output_type": "display_data"
    }
   ],
   "source": [
    "print(\"***** Test Set *****\")\n",
    "print(\"Area Under ROC Curve (ROC AUC): {:.3f}\".format(evaluate_model(test_predictions)))\n",
    "print(\"Area Under Precision-Recall Curve: {:.3f}\".format(evaluate_model(test_predictions, metric=\"areaUnderPR\")))\n",
    "print(\"***** Test Set *****\")"
   ]
  },
  {
   "cell_type": "markdown",
   "metadata": {
    "application/vnd.databricks.v1+cell": {
     "inputWidgets": {},
     "nuid": "4a45fc81-b8b4-4b4a-ae89-820b24a5947a",
     "showTitle": false,
     "title": ""
    }
   },
   "source": [
    "## Desicion Tree"
   ]
  },
  {
   "cell_type": "code",
   "execution_count": 0,
   "metadata": {
    "application/vnd.databricks.v1+cell": {
     "inputWidgets": {},
     "nuid": "03112a38-6a0c-422a-9e7d-8993a78cd17b",
     "showTitle": false,
     "title": ""
    }
   },
   "outputs": [
    {
     "data": {
      "text/html": [
       "<style scoped>\n",
       "  .ansiout {\n",
       "    display: block;\n",
       "    unicode-bidi: embed;\n",
       "    white-space: pre-wrap;\n",
       "    word-wrap: break-word;\n",
       "    word-break: break-all;\n",
       "    font-family: \"Source Code Pro\", \"Menlo\", monospace;;\n",
       "    font-size: 13px;\n",
       "    color: #555;\n",
       "    margin-left: 4px;\n",
       "    line-height: 19px;\n",
       "  }\n",
       "</style>\n",
       "<div class=\"ansiout\"></div>"
      ]
     },
     "metadata": {
      "application/vnd.databricks.v1+output": {
       "addedWidgets": {},
       "arguments": {},
       "data": "<div class=\"ansiout\"></div>",
       "datasetInfos": [],
       "metadata": {},
       "removedWidgets": [],
       "type": "html"
      }
     },
     "output_type": "display_data"
    }
   ],
   "source": [
    "# This function defines the general pipeline for logistic regression\n",
    "def decision_tree_pipeline(train, \n",
    "                           numerical_features, \n",
    "                           target_variable, \n",
    "                           with_std=True,\n",
    "                           with_mean=True,\n",
    "                           k_fold=5):\n",
    "\n",
    "\n",
    "    # Configure a decision tree pipeline, which consists of the following stages: \n",
    "\n",
    "    # Indexing the target column (i.e., transform it into 0/1) and rename it as \"label\"\n",
    "    # Note that by default StringIndexer will assign the value `0` to the most frequent label, which in the case of `deposit` is `no`\n",
    "    # As such, this nicely resembles the idea of having `deposit = 0` if no deposit is subscribed, or `deposit = 1` otherwise.\n",
    "    label_indexer = StringIndexer(inputCol = target_variable, outputCol = \"label\")\n",
    "    \n",
    "    # Assemble all the features (both one-hot-encoded categorical and numerical) into a single vector\n",
    "    assembler = VectorAssembler(inputCols=numerical_features, outputCol=\"features\")\n",
    "\n",
    "    # Populate the stages of the pipeline with all the preprocessing steps\n",
    "    stages = [label_indexer] + [assembler] # + ...\n",
    "\n",
    "    # Create the decision tree transformer\n",
    "    dt = DecisionTreeClassifier(featuresCol=\"features\", labelCol=\"label\") # change `featuresCol=std_features` if scaler is used\n",
    "\n",
    "    # 5. Add the decision tree transformer to the pipeline stages (i.e., the last one)\n",
    "    stages += [dt]\n",
    "\n",
    "    # 6. Set up the pipeline\n",
    "    pipeline = Pipeline(stages=stages)\n",
    "\n",
    "    # We use a ParamGridBuilder to construct a grid of parameters to search over.\n",
    "    # A CrossValidator requires an Estimator, a set of Estimator ParamMaps, and an Evaluator.\n",
    "    # We use a ParamGridBuilder to construct a grid of parameters to search over.\n",
    "    # With 3 values for dt.maxDepth and 2 values for dt.impurity\n",
    "    # this grid will have 3 x 2 = 9 parameter settings for CrossValidator to choose from.\n",
    "    param_grid = ParamGridBuilder()\\\n",
    "    .addGrid(dt.maxDepth, [3, 5, 8]) \\\n",
    "    .addGrid(dt.impurity, [\"gini\", \"entropy\"]) \\\n",
    "    .build()\n",
    "    \n",
    "    cross_val = CrossValidator(estimator=pipeline,\n",
    "                               estimatorParamMaps=param_grid,\n",
    "                               evaluator=BinaryClassificationEvaluator(metricName=\"areaUnderROC\"), # default = \"areaUnderROC\", alternatively \"areaUnderPR\"\n",
    "                               numFolds=k_fold,\n",
    "                               collectSubModels=True # this flag allows us to store ALL the models trained during k-fold cross validation\n",
    "                               )\n",
    "\n",
    "    # Run cross-validation, and choose the best set of parameters.\n",
    "    cv_model = cross_val.fit(train)\n",
    "\n",
    "    return cv_model"
   ]
  },
  {
   "cell_type": "code",
   "execution_count": 0,
   "metadata": {
    "application/vnd.databricks.v1+cell": {
     "inputWidgets": {},
     "nuid": "6aa47cf8-6137-4e32-a312-7dc3d7897c79",
     "showTitle": false,
     "title": ""
    }
   },
   "outputs": [
    {
     "data": {
      "text/html": [
       "<style scoped>\n",
       "  .ansiout {\n",
       "    display: block;\n",
       "    unicode-bidi: embed;\n",
       "    white-space: pre-wrap;\n",
       "    word-wrap: break-word;\n",
       "    word-break: break-all;\n",
       "    font-family: \"Source Code Pro\", \"Menlo\", monospace;;\n",
       "    font-size: 13px;\n",
       "    color: #555;\n",
       "    margin-left: 4px;\n",
       "    line-height: 19px;\n",
       "  }\n",
       "</style>\n",
       "<div class=\"ansiout\">MLlib will automatically track trials in MLflow. After your tuning fit() call has completed, view the MLflow UI to see logged runs.\n",
       "</div>"
      ]
     },
     "metadata": {
      "application/vnd.databricks.v1+output": {
       "addedWidgets": {},
       "arguments": {},
       "data": "<div class=\"ansiout\">MLlib will automatically track trials in MLflow. After your tuning fit() call has completed, view the MLflow UI to see logged runs.\n</div>",
       "datasetInfos": [],
       "metadata": {},
       "removedWidgets": [],
       "type": "html"
      }
     },
     "output_type": "display_data"
    }
   ],
   "source": [
    "cv_model = decision_tree_pipeline(train_df, NUMERICAL_FEATURES, TARGET_VARIABLE)"
   ]
  },
  {
   "cell_type": "code",
   "execution_count": 0,
   "metadata": {
    "application/vnd.databricks.v1+cell": {
     "inputWidgets": {},
     "nuid": "0f4b1519-e9a5-42e1-bfb5-4bc89878638a",
     "showTitle": false,
     "title": ""
    }
   },
   "outputs": [
    {
     "data": {
      "text/html": [
       "<style scoped>\n",
       "  .ansiout {\n",
       "    display: block;\n",
       "    unicode-bidi: embed;\n",
       "    white-space: pre-wrap;\n",
       "    word-wrap: break-word;\n",
       "    word-break: break-all;\n",
       "    font-family: \"Source Code Pro\", \"Menlo\", monospace;;\n",
       "    font-size: 13px;\n",
       "    color: #555;\n",
       "    margin-left: 4px;\n",
       "    line-height: 19px;\n",
       "  }\n",
       "</style>\n",
       "<div class=\"ansiout\"></div>"
      ]
     },
     "metadata": {
      "application/vnd.databricks.v1+output": {
       "addedWidgets": {},
       "arguments": {},
       "data": "<div class=\"ansiout\"></div>",
       "datasetInfos": [],
       "metadata": {},
       "removedWidgets": [],
       "type": "html"
      }
     },
     "output_type": "display_data"
    }
   ],
   "source": [
    "# This function summarizes all the models trained during k-fold cross validation\n",
    "\n",
    "def summarize_all_models(cv_models):\n",
    "    for k, models in enumerate(cv_models):\n",
    "        print(\"*************** Fold #{:d} ***************\\n\".format(k+1))\n",
    "        for i, m in enumerate(models):\n",
    "            print(\"--- Model #{:d} out of {:d} ---\".format(i+1, len(models)))\n",
    "            print(\"\\tParameters: maxDept=[{:d}]; impurity=[{:s}] \".format(m.stages[-1]._java_obj.getMaxDepth(), m.stages[-1]._java_obj.getImpurity()))\n",
    "            print(\"\\tModel summary: {}\\n\".format(m.stages[-1]))\n",
    "        print(\"***************************************\\n\")"
   ]
  },
  {
   "cell_type": "code",
   "execution_count": 0,
   "metadata": {
    "application/vnd.databricks.v1+cell": {
     "inputWidgets": {},
     "nuid": "f74de5e1-58e8-4691-872b-78a40f8a90a7",
     "showTitle": false,
     "title": ""
    }
   },
   "outputs": [
    {
     "data": {
      "text/html": [
       "<style scoped>\n",
       "  .ansiout {\n",
       "    display: block;\n",
       "    unicode-bidi: embed;\n",
       "    white-space: pre-wrap;\n",
       "    word-wrap: break-word;\n",
       "    word-break: break-all;\n",
       "    font-family: \"Source Code Pro\", \"Menlo\", monospace;;\n",
       "    font-size: 13px;\n",
       "    color: #555;\n",
       "    margin-left: 4px;\n",
       "    line-height: 19px;\n",
       "  }\n",
       "</style>\n",
       "<div class=\"ansiout\">*************** Fold #1 ***************\n",
       "\n",
       "--- Model #1 out of 6 ---\n",
       "\tParameters: maxDept=[3]; impurity=[gini] \n",
       "\tModel summary: DecisionTreeClassificationModel: uid=DecisionTreeClassifier_8e9c0983e68f, depth=3, numNodes=11, numClasses=2, numFeatures=13\n",
       "\n",
       "--- Model #2 out of 6 ---\n",
       "\tParameters: maxDept=[3]; impurity=[entropy] \n",
       "\tModel summary: DecisionTreeClassificationModel: uid=DecisionTreeClassifier_8e9c0983e68f, depth=3, numNodes=9, numClasses=2, numFeatures=13\n",
       "\n",
       "--- Model #3 out of 6 ---\n",
       "\tParameters: maxDept=[5]; impurity=[gini] \n",
       "\tModel summary: DecisionTreeClassificationModel: uid=DecisionTreeClassifier_8e9c0983e68f, depth=5, numNodes=55, numClasses=2, numFeatures=13\n",
       "\n",
       "--- Model #4 out of 6 ---\n",
       "\tParameters: maxDept=[5]; impurity=[entropy] \n",
       "\tModel summary: DecisionTreeClassificationModel: uid=DecisionTreeClassifier_8e9c0983e68f, depth=5, numNodes=43, numClasses=2, numFeatures=13\n",
       "\n",
       "--- Model #5 out of 6 ---\n",
       "\tParameters: maxDept=[8]; impurity=[gini] \n",
       "\tModel summary: DecisionTreeClassificationModel: uid=DecisionTreeClassifier_8e9c0983e68f, depth=8, numNodes=273, numClasses=2, numFeatures=13\n",
       "\n",
       "--- Model #6 out of 6 ---\n",
       "\tParameters: maxDept=[8]; impurity=[entropy] \n",
       "\tModel summary: DecisionTreeClassificationModel: uid=DecisionTreeClassifier_8e9c0983e68f, depth=8, numNodes=247, numClasses=2, numFeatures=13\n",
       "\n",
       "***************************************\n",
       "\n",
       "*************** Fold #2 ***************\n",
       "\n",
       "--- Model #1 out of 6 ---\n",
       "\tParameters: maxDept=[3]; impurity=[gini] \n",
       "\tModel summary: DecisionTreeClassificationModel: uid=DecisionTreeClassifier_8e9c0983e68f, depth=3, numNodes=9, numClasses=2, numFeatures=13\n",
       "\n",
       "--- Model #2 out of 6 ---\n",
       "\tParameters: maxDept=[3]; impurity=[entropy] \n",
       "\tModel summary: DecisionTreeClassificationModel: uid=DecisionTreeClassifier_8e9c0983e68f, depth=3, numNodes=11, numClasses=2, numFeatures=13\n",
       "\n",
       "--- Model #3 out of 6 ---\n",
       "\tParameters: maxDept=[5]; impurity=[gini] \n",
       "\tModel summary: DecisionTreeClassificationModel: uid=DecisionTreeClassifier_8e9c0983e68f, depth=5, numNodes=43, numClasses=2, numFeatures=13\n",
       "\n",
       "--- Model #4 out of 6 ---\n",
       "\tParameters: maxDept=[5]; impurity=[entropy] \n",
       "\tModel summary: DecisionTreeClassificationModel: uid=DecisionTreeClassifier_8e9c0983e68f, depth=5, numNodes=43, numClasses=2, numFeatures=13\n",
       "\n",
       "--- Model #5 out of 6 ---\n",
       "\tParameters: maxDept=[8]; impurity=[gini] \n",
       "\tModel summary: DecisionTreeClassificationModel: uid=DecisionTreeClassifier_8e9c0983e68f, depth=8, numNodes=287, numClasses=2, numFeatures=13\n",
       "\n",
       "--- Model #6 out of 6 ---\n",
       "\tParameters: maxDept=[8]; impurity=[entropy] \n",
       "\tModel summary: DecisionTreeClassificationModel: uid=DecisionTreeClassifier_8e9c0983e68f, depth=8, numNodes=253, numClasses=2, numFeatures=13\n",
       "\n",
       "***************************************\n",
       "\n",
       "*************** Fold #3 ***************\n",
       "\n",
       "--- Model #1 out of 6 ---\n",
       "\tParameters: maxDept=[3]; impurity=[gini] \n",
       "\tModel summary: DecisionTreeClassificationModel: uid=DecisionTreeClassifier_8e9c0983e68f, depth=3, numNodes=11, numClasses=2, numFeatures=13\n",
       "\n",
       "--- Model #2 out of 6 ---\n",
       "\tParameters: maxDept=[3]; impurity=[entropy] \n",
       "\tModel summary: DecisionTreeClassificationModel: uid=DecisionTreeClassifier_8e9c0983e68f, depth=3, numNodes=9, numClasses=2, numFeatures=13\n",
       "\n",
       "--- Model #3 out of 6 ---\n",
       "\tParameters: maxDept=[5]; impurity=[gini] \n",
       "\tModel summary: DecisionTreeClassificationModel: uid=DecisionTreeClassifier_8e9c0983e68f, depth=5, numNodes=47, numClasses=2, numFeatures=13\n",
       "\n",
       "--- Model #4 out of 6 ---\n",
       "\tParameters: maxDept=[5]; impurity=[entropy] \n",
       "\tModel summary: DecisionTreeClassificationModel: uid=DecisionTreeClassifier_8e9c0983e68f, depth=5, numNodes=41, numClasses=2, numFeatures=13\n",
       "\n",
       "--- Model #5 out of 6 ---\n",
       "\tParameters: maxDept=[8]; impurity=[gini] \n",
       "\tModel summary: DecisionTreeClassificationModel: uid=DecisionTreeClassifier_8e9c0983e68f, depth=8, numNodes=303, numClasses=2, numFeatures=13\n",
       "\n",
       "--- Model #6 out of 6 ---\n",
       "\tParameters: maxDept=[8]; impurity=[entropy] \n",
       "\tModel summary: DecisionTreeClassificationModel: uid=DecisionTreeClassifier_8e9c0983e68f, depth=8, numNodes=255, numClasses=2, numFeatures=13\n",
       "\n",
       "***************************************\n",
       "\n",
       "*************** Fold #4 ***************\n",
       "\n",
       "--- Model #1 out of 6 ---\n",
       "\tParameters: maxDept=[3]; impurity=[gini] \n",
       "\tModel summary: DecisionTreeClassificationModel: uid=DecisionTreeClassifier_8e9c0983e68f, depth=3, numNodes=9, numClasses=2, numFeatures=13\n",
       "\n",
       "--- Model #2 out of 6 ---\n",
       "\tParameters: maxDept=[3]; impurity=[entropy] \n",
       "\tModel summary: DecisionTreeClassificationModel: uid=DecisionTreeClassifier_8e9c0983e68f, depth=3, numNodes=9, numClasses=2, numFeatures=13\n",
       "\n",
       "--- Model #3 out of 6 ---\n",
       "\tParameters: maxDept=[5]; impurity=[gini] \n",
       "\tModel summary: DecisionTreeClassificationModel: uid=DecisionTreeClassifier_8e9c0983e68f, depth=5, numNodes=45, numClasses=2, numFeatures=13\n",
       "\n",
       "--- Model #4 out of 6 ---\n",
       "\tParameters: maxDept=[5]; impurity=[entropy] \n",
       "\tModel summary: DecisionTreeClassificationModel: uid=DecisionTreeClassifier_8e9c0983e68f, depth=5, numNodes=37, numClasses=2, numFeatures=13\n",
       "\n",
       "--- Model #5 out of 6 ---\n",
       "\tParameters: maxDept=[8]; impurity=[gini] \n",
       "\tModel summary: DecisionTreeClassificationModel: uid=DecisionTreeClassifier_8e9c0983e68f, depth=8, numNodes=297, numClasses=2, numFeatures=13\n",
       "\n",
       "--- Model #6 out of 6 ---\n",
       "\tParameters: maxDept=[8]; impurity=[entropy] \n",
       "\tModel summary: DecisionTreeClassificationModel: uid=DecisionTreeClassifier_8e9c0983e68f, depth=8, numNodes=263, numClasses=2, numFeatures=13\n",
       "\n",
       "***************************************\n",
       "\n",
       "*************** Fold #5 ***************\n",
       "\n",
       "--- Model #1 out of 6 ---\n",
       "\tParameters: maxDept=[3]; impurity=[gini] \n",
       "\tModel summary: DecisionTreeClassificationModel: uid=DecisionTreeClassifier_8e9c0983e68f, depth=3, numNodes=9, numClasses=2, numFeatures=13\n",
       "\n",
       "--- Model #2 out of 6 ---\n",
       "\tParameters: maxDept=[3]; impurity=[entropy] \n",
       "\tModel summary: DecisionTreeClassificationModel: uid=DecisionTreeClassifier_8e9c0983e68f, depth=3, numNodes=11, numClasses=2, numFeatures=13\n",
       "\n",
       "--- Model #3 out of 6 ---\n",
       "\tParameters: maxDept=[5]; impurity=[gini] \n",
       "\tModel summary: DecisionTreeClassificationModel: uid=DecisionTreeClassifier_8e9c0983e68f, depth=5, numNodes=53, numClasses=2, numFeatures=13\n",
       "\n",
       "--- Model #4 out of 6 ---\n",
       "\tParameters: maxDept=[5]; impurity=[entropy] \n",
       "\tModel summary: DecisionTreeClassificationModel: uid=DecisionTreeClassifier_8e9c0983e68f, depth=5, numNodes=51, numClasses=2, numFeatures=13\n",
       "\n",
       "--- Model #5 out of 6 ---\n",
       "\tParameters: maxDept=[8]; impurity=[gini] \n",
       "\tModel summary: DecisionTreeClassificationModel: uid=DecisionTreeClassifier_8e9c0983e68f, depth=8, numNodes=297, numClasses=2, numFeatures=13\n",
       "\n",
       "--- Model #6 out of 6 ---\n",
       "\tParameters: maxDept=[8]; impurity=[entropy] \n",
       "\tModel summary: DecisionTreeClassificationModel: uid=DecisionTreeClassifier_8e9c0983e68f, depth=8, numNodes=275, numClasses=2, numFeatures=13\n",
       "\n",
       "***************************************\n",
       "\n",
       "</div>"
      ]
     },
     "metadata": {
      "application/vnd.databricks.v1+output": {
       "addedWidgets": {},
       "arguments": {},
       "data": "<div class=\"ansiout\">*************** Fold #1 ***************\n\n--- Model #1 out of 6 ---\n\tParameters: maxDept=[3]; impurity=[gini] \n\tModel summary: DecisionTreeClassificationModel: uid=DecisionTreeClassifier_8e9c0983e68f, depth=3, numNodes=11, numClasses=2, numFeatures=13\n\n--- Model #2 out of 6 ---\n\tParameters: maxDept=[3]; impurity=[entropy] \n\tModel summary: DecisionTreeClassificationModel: uid=DecisionTreeClassifier_8e9c0983e68f, depth=3, numNodes=9, numClasses=2, numFeatures=13\n\n--- Model #3 out of 6 ---\n\tParameters: maxDept=[5]; impurity=[gini] \n\tModel summary: DecisionTreeClassificationModel: uid=DecisionTreeClassifier_8e9c0983e68f, depth=5, numNodes=55, numClasses=2, numFeatures=13\n\n--- Model #4 out of 6 ---\n\tParameters: maxDept=[5]; impurity=[entropy] \n\tModel summary: DecisionTreeClassificationModel: uid=DecisionTreeClassifier_8e9c0983e68f, depth=5, numNodes=43, numClasses=2, numFeatures=13\n\n--- Model #5 out of 6 ---\n\tParameters: maxDept=[8]; impurity=[gini] \n\tModel summary: DecisionTreeClassificationModel: uid=DecisionTreeClassifier_8e9c0983e68f, depth=8, numNodes=273, numClasses=2, numFeatures=13\n\n--- Model #6 out of 6 ---\n\tParameters: maxDept=[8]; impurity=[entropy] \n\tModel summary: DecisionTreeClassificationModel: uid=DecisionTreeClassifier_8e9c0983e68f, depth=8, numNodes=247, numClasses=2, numFeatures=13\n\n***************************************\n\n*************** Fold #2 ***************\n\n--- Model #1 out of 6 ---\n\tParameters: maxDept=[3]; impurity=[gini] \n\tModel summary: DecisionTreeClassificationModel: uid=DecisionTreeClassifier_8e9c0983e68f, depth=3, numNodes=9, numClasses=2, numFeatures=13\n\n--- Model #2 out of 6 ---\n\tParameters: maxDept=[3]; impurity=[entropy] \n\tModel summary: DecisionTreeClassificationModel: uid=DecisionTreeClassifier_8e9c0983e68f, depth=3, numNodes=11, numClasses=2, numFeatures=13\n\n--- Model #3 out of 6 ---\n\tParameters: maxDept=[5]; impurity=[gini] \n\tModel summary: DecisionTreeClassificationModel: uid=DecisionTreeClassifier_8e9c0983e68f, depth=5, numNodes=43, numClasses=2, numFeatures=13\n\n--- Model #4 out of 6 ---\n\tParameters: maxDept=[5]; impurity=[entropy] \n\tModel summary: DecisionTreeClassificationModel: uid=DecisionTreeClassifier_8e9c0983e68f, depth=5, numNodes=43, numClasses=2, numFeatures=13\n\n--- Model #5 out of 6 ---\n\tParameters: maxDept=[8]; impurity=[gini] \n\tModel summary: DecisionTreeClassificationModel: uid=DecisionTreeClassifier_8e9c0983e68f, depth=8, numNodes=287, numClasses=2, numFeatures=13\n\n--- Model #6 out of 6 ---\n\tParameters: maxDept=[8]; impurity=[entropy] \n\tModel summary: DecisionTreeClassificationModel: uid=DecisionTreeClassifier_8e9c0983e68f, depth=8, numNodes=253, numClasses=2, numFeatures=13\n\n***************************************\n\n*************** Fold #3 ***************\n\n--- Model #1 out of 6 ---\n\tParameters: maxDept=[3]; impurity=[gini] \n\tModel summary: DecisionTreeClassificationModel: uid=DecisionTreeClassifier_8e9c0983e68f, depth=3, numNodes=11, numClasses=2, numFeatures=13\n\n--- Model #2 out of 6 ---\n\tParameters: maxDept=[3]; impurity=[entropy] \n\tModel summary: DecisionTreeClassificationModel: uid=DecisionTreeClassifier_8e9c0983e68f, depth=3, numNodes=9, numClasses=2, numFeatures=13\n\n--- Model #3 out of 6 ---\n\tParameters: maxDept=[5]; impurity=[gini] \n\tModel summary: DecisionTreeClassificationModel: uid=DecisionTreeClassifier_8e9c0983e68f, depth=5, numNodes=47, numClasses=2, numFeatures=13\n\n--- Model #4 out of 6 ---\n\tParameters: maxDept=[5]; impurity=[entropy] \n\tModel summary: DecisionTreeClassificationModel: uid=DecisionTreeClassifier_8e9c0983e68f, depth=5, numNodes=41, numClasses=2, numFeatures=13\n\n--- Model #5 out of 6 ---\n\tParameters: maxDept=[8]; impurity=[gini] \n\tModel summary: DecisionTreeClassificationModel: uid=DecisionTreeClassifier_8e9c0983e68f, depth=8, numNodes=303, numClasses=2, numFeatures=13\n\n--- Model #6 out of 6 ---\n\tParameters: maxDept=[8]; impurity=[entropy] \n\tModel summary: DecisionTreeClassificationModel: uid=DecisionTreeClassifier_8e9c0983e68f, depth=8, numNodes=255, numClasses=2, numFeatures=13\n\n***************************************\n\n*************** Fold #4 ***************\n\n--- Model #1 out of 6 ---\n\tParameters: maxDept=[3]; impurity=[gini] \n\tModel summary: DecisionTreeClassificationModel: uid=DecisionTreeClassifier_8e9c0983e68f, depth=3, numNodes=9, numClasses=2, numFeatures=13\n\n--- Model #2 out of 6 ---\n\tParameters: maxDept=[3]; impurity=[entropy] \n\tModel summary: DecisionTreeClassificationModel: uid=DecisionTreeClassifier_8e9c0983e68f, depth=3, numNodes=9, numClasses=2, numFeatures=13\n\n--- Model #3 out of 6 ---\n\tParameters: maxDept=[5]; impurity=[gini] \n\tModel summary: DecisionTreeClassificationModel: uid=DecisionTreeClassifier_8e9c0983e68f, depth=5, numNodes=45, numClasses=2, numFeatures=13\n\n--- Model #4 out of 6 ---\n\tParameters: maxDept=[5]; impurity=[entropy] \n\tModel summary: DecisionTreeClassificationModel: uid=DecisionTreeClassifier_8e9c0983e68f, depth=5, numNodes=37, numClasses=2, numFeatures=13\n\n--- Model #5 out of 6 ---\n\tParameters: maxDept=[8]; impurity=[gini] \n\tModel summary: DecisionTreeClassificationModel: uid=DecisionTreeClassifier_8e9c0983e68f, depth=8, numNodes=297, numClasses=2, numFeatures=13\n\n--- Model #6 out of 6 ---\n\tParameters: maxDept=[8]; impurity=[entropy] \n\tModel summary: DecisionTreeClassificationModel: uid=DecisionTreeClassifier_8e9c0983e68f, depth=8, numNodes=263, numClasses=2, numFeatures=13\n\n***************************************\n\n*************** Fold #5 ***************\n\n--- Model #1 out of 6 ---\n\tParameters: maxDept=[3]; impurity=[gini] \n\tModel summary: DecisionTreeClassificationModel: uid=DecisionTreeClassifier_8e9c0983e68f, depth=3, numNodes=9, numClasses=2, numFeatures=13\n\n--- Model #2 out of 6 ---\n\tParameters: maxDept=[3]; impurity=[entropy] \n\tModel summary: DecisionTreeClassificationModel: uid=DecisionTreeClassifier_8e9c0983e68f, depth=3, numNodes=11, numClasses=2, numFeatures=13\n\n--- Model #3 out of 6 ---\n\tParameters: maxDept=[5]; impurity=[gini] \n\tModel summary: DecisionTreeClassificationModel: uid=DecisionTreeClassifier_8e9c0983e68f, depth=5, numNodes=53, numClasses=2, numFeatures=13\n\n--- Model #4 out of 6 ---\n\tParameters: maxDept=[5]; impurity=[entropy] \n\tModel summary: DecisionTreeClassificationModel: uid=DecisionTreeClassifier_8e9c0983e68f, depth=5, numNodes=51, numClasses=2, numFeatures=13\n\n--- Model #5 out of 6 ---\n\tParameters: maxDept=[8]; impurity=[gini] \n\tModel summary: DecisionTreeClassificationModel: uid=DecisionTreeClassifier_8e9c0983e68f, depth=8, numNodes=297, numClasses=2, numFeatures=13\n\n--- Model #6 out of 6 ---\n\tParameters: maxDept=[8]; impurity=[entropy] \n\tModel summary: DecisionTreeClassificationModel: uid=DecisionTreeClassifier_8e9c0983e68f, depth=8, numNodes=275, numClasses=2, numFeatures=13\n\n***************************************\n\n</div>",
       "datasetInfos": [],
       "metadata": {},
       "removedWidgets": [],
       "type": "html"
      }
     },
     "output_type": "display_data"
    }
   ],
   "source": [
    "summarize_all_models(cv_model.subModels)"
   ]
  },
  {
   "cell_type": "code",
   "execution_count": 0,
   "metadata": {
    "application/vnd.databricks.v1+cell": {
     "inputWidgets": {},
     "nuid": "cd054df2-fefb-4467-800f-a2e106ae305e",
     "showTitle": false,
     "title": ""
    }
   },
   "outputs": [
    {
     "data": {
      "text/html": [
       "<style scoped>\n",
       "  .ansiout {\n",
       "    display: block;\n",
       "    unicode-bidi: embed;\n",
       "    white-space: pre-wrap;\n",
       "    word-wrap: break-word;\n",
       "    word-break: break-all;\n",
       "    font-family: \"Source Code Pro\", \"Menlo\", monospace;;\n",
       "    font-size: 13px;\n",
       "    color: #555;\n",
       "    margin-left: 4px;\n",
       "    line-height: 19px;\n",
       "  }\n",
       "</style>\n",
       "<div class=\"ansiout\">Avg. ROC AUC computed across k-fold cross validation for model setting #1: 0.330\n",
       "Avg. ROC AUC computed across k-fold cross validation for model setting #2: 0.252\n",
       "Avg. ROC AUC computed across k-fold cross validation for model setting #3: 0.435\n",
       "Avg. ROC AUC computed across k-fold cross validation for model setting #4: 0.403\n",
       "Avg. ROC AUC computed across k-fold cross validation for model setting #5: 0.521\n",
       "Avg. ROC AUC computed across k-fold cross validation for model setting #6: 0.520\n",
       "</div>"
      ]
     },
     "metadata": {
      "application/vnd.databricks.v1+output": {
       "addedWidgets": {},
       "arguments": {},
       "data": "<div class=\"ansiout\">Avg. ROC AUC computed across k-fold cross validation for model setting #1: 0.330\nAvg. ROC AUC computed across k-fold cross validation for model setting #2: 0.252\nAvg. ROC AUC computed across k-fold cross validation for model setting #3: 0.435\nAvg. ROC AUC computed across k-fold cross validation for model setting #4: 0.403\nAvg. ROC AUC computed across k-fold cross validation for model setting #5: 0.521\nAvg. ROC AUC computed across k-fold cross validation for model setting #6: 0.520\n</div>",
       "datasetInfos": [],
       "metadata": {},
       "removedWidgets": [],
       "type": "html"
      }
     },
     "output_type": "display_data"
    }
   ],
   "source": [
    "for i, avg_roc_auc in enumerate(cv_model.avgMetrics):\n",
    "    print(\"Avg. ROC AUC computed across k-fold cross validation for model setting #{:d}: {:.3f}\".format(i+1, avg_roc_auc))"
   ]
  },
  {
   "cell_type": "code",
   "execution_count": 0,
   "metadata": {
    "application/vnd.databricks.v1+cell": {
     "inputWidgets": {},
     "nuid": "637b567f-130c-4874-94a0-4b3e0b0dd3ff",
     "showTitle": false,
     "title": ""
    }
   },
   "outputs": [
    {
     "data": {
      "text/html": [
       "<style scoped>\n",
       "  .ansiout {\n",
       "    display: block;\n",
       "    unicode-bidi: embed;\n",
       "    white-space: pre-wrap;\n",
       "    word-wrap: break-word;\n",
       "    word-break: break-all;\n",
       "    font-family: \"Source Code Pro\", \"Menlo\", monospace;;\n",
       "    font-size: 13px;\n",
       "    color: #555;\n",
       "    margin-left: 4px;\n",
       "    line-height: 19px;\n",
       "  }\n",
       "</style>\n",
       "<div class=\"ansiout\">Best model according to k-fold cross validation: maxDept=[8]; impurity=[gini]\n",
       "DecisionTreeClassificationModel: uid=DecisionTreeClassifier_8e9c0983e68f, depth=8, numNodes=323, numClasses=2, numFeatures=13\n",
       "</div>"
      ]
     },
     "metadata": {
      "application/vnd.databricks.v1+output": {
       "addedWidgets": {},
       "arguments": {},
       "data": "<div class=\"ansiout\">Best model according to k-fold cross validation: maxDept=[8]; impurity=[gini]\nDecisionTreeClassificationModel: uid=DecisionTreeClassifier_8e9c0983e68f, depth=8, numNodes=323, numClasses=2, numFeatures=13\n</div>",
       "datasetInfos": [],
       "metadata": {},
       "removedWidgets": [],
       "type": "html"
      }
     },
     "output_type": "display_data"
    }
   ],
   "source": [
    "print(\"Best model according to k-fold cross validation: maxDept=[{:d}]; impurity=[{:s}]\".\n",
    "      format(cv_model.bestModel.stages[-1]._java_obj.getMaxDepth(), \n",
    "             cv_model.bestModel.stages[-1]._java_obj.getImpurity(),\n",
    "             )\n",
    "      )\n",
    "print(cv_model.bestModel.stages[-1])"
   ]
  },
  {
   "cell_type": "code",
   "execution_count": 0,
   "metadata": {
    "application/vnd.databricks.v1+cell": {
     "inputWidgets": {},
     "nuid": "43c01817-a230-432f-8abc-a760721b7074",
     "showTitle": false,
     "title": ""
    }
   },
   "outputs": [
    {
     "data": {
      "text/html": [
       "<style scoped>\n",
       "  .ansiout {\n",
       "    display: block;\n",
       "    unicode-bidi: embed;\n",
       "    white-space: pre-wrap;\n",
       "    word-wrap: break-word;\n",
       "    word-break: break-all;\n",
       "    font-family: \"Source Code Pro\", \"Menlo\", monospace;;\n",
       "    font-size: 13px;\n",
       "    color: #555;\n",
       "    margin-left: 4px;\n",
       "    line-height: 19px;\n",
       "  }\n",
       "</style>\n",
       "<div class=\"ansiout\"></div>"
      ]
     },
     "metadata": {
      "application/vnd.databricks.v1+output": {
       "addedWidgets": {},
       "arguments": {},
       "data": "<div class=\"ansiout\"></div>",
       "datasetInfos": [],
       "metadata": {},
       "removedWidgets": [],
       "type": "html"
      }
     },
     "output_type": "display_data"
    }
   ],
   "source": [
    "# Make predictions on the test set (`cv_model` contains the best model according to the result of k-fold cross validation)\n",
    "# `test_df` will follow exactly the same pipeline defined above, and already fit to `train_df`\n",
    "test_predictions = cv_model.transform(test_df)\n",
    "test_predictions.select(\"features\", \"prediction\", \"label\").show(5)"
   ]
  },
  {
   "cell_type": "code",
   "execution_count": 0,
   "metadata": {
    "application/vnd.databricks.v1+cell": {
     "inputWidgets": {},
     "nuid": "14cfc32d-97b7-43ab-a30f-fb9e4a362bb0",
     "showTitle": false,
     "title": ""
    }
   },
   "outputs": [
    {
     "data": {
      "text/html": [
       "<style scoped>\n",
       "  .ansiout {\n",
       "    display: block;\n",
       "    unicode-bidi: embed;\n",
       "    white-space: pre-wrap;\n",
       "    word-wrap: break-word;\n",
       "    word-break: break-all;\n",
       "    font-family: \"Source Code Pro\", \"Menlo\", monospace;;\n",
       "    font-size: 13px;\n",
       "    color: #555;\n",
       "    margin-left: 4px;\n",
       "    line-height: 19px;\n",
       "  }\n",
       "</style>\n",
       "<div class=\"ansiout\">***** Test Set *****\n",
       "Area Under ROC Curve (ROC AUC): 0.545\n",
       "Area Under Precision-Recall Curve: 0.403\n",
       "***** Test Set *****\n",
       "</div>"
      ]
     },
     "metadata": {
      "application/vnd.databricks.v1+output": {
       "addedWidgets": {},
       "arguments": {},
       "data": "<div class=\"ansiout\">***** Test Set *****\nArea Under ROC Curve (ROC AUC): 0.545\nArea Under Precision-Recall Curve: 0.403\n***** Test Set *****\n</div>",
       "datasetInfos": [],
       "metadata": {},
       "removedWidgets": [],
       "type": "html"
      }
     },
     "output_type": "display_data"
    }
   ],
   "source": [
    "print(\"***** Test Set *****\")\n",
    "print(\"Area Under ROC Curve (ROC AUC): {:.3f}\".format(evaluate_model(test_predictions)))\n",
    "print(\"Area Under Precision-Recall Curve: {:.3f}\".format(evaluate_model(test_predictions, metric=\"areaUnderPR\")))\n",
    "print(\"***** Test Set *****\")"
   ]
  },
  {
   "cell_type": "markdown",
   "metadata": {
    "application/vnd.databricks.v1+cell": {
     "inputWidgets": {},
     "nuid": "78523c63-abaf-400d-8ac2-53a375671ff0",
     "showTitle": false,
     "title": ""
    }
   },
   "source": [
    "## Random Forests"
   ]
  },
  {
   "cell_type": "code",
   "execution_count": 0,
   "metadata": {
    "application/vnd.databricks.v1+cell": {
     "inputWidgets": {},
     "nuid": "c3d7b063-ad1e-4ee1-a0f1-8f3d2283f980",
     "showTitle": false,
     "title": ""
    }
   },
   "outputs": [
    {
     "data": {
      "text/html": [
       "<style scoped>\n",
       "  .ansiout {\n",
       "    display: block;\n",
       "    unicode-bidi: embed;\n",
       "    white-space: pre-wrap;\n",
       "    word-wrap: break-word;\n",
       "    word-break: break-all;\n",
       "    font-family: \"Source Code Pro\", \"Menlo\", monospace;;\n",
       "    font-size: 13px;\n",
       "    color: #555;\n",
       "    margin-left: 4px;\n",
       "    line-height: 19px;\n",
       "  }\n",
       "</style>\n",
       "<div class=\"ansiout\"></div>"
      ]
     },
     "metadata": {
      "application/vnd.databricks.v1+output": {
       "addedWidgets": {},
       "arguments": {},
       "data": "<div class=\"ansiout\"></div>",
       "datasetInfos": [],
       "metadata": {},
       "removedWidgets": [],
       "type": "html"
      }
     },
     "output_type": "display_data"
    }
   ],
   "source": [
    "# This function defines the general pipeline for logistic regression\n",
    "def random_forest_pipeline(train, \n",
    "                           numerical_features, \n",
    "                           target_variable, \n",
    "                           with_std=True,\n",
    "                           with_mean=True,\n",
    "                           k_fold=5):\n",
    "\n",
    "\n",
    "    # Configure a random forest pipeline, which consists of the following stages: \n",
    "\n",
    "    # Indexing the target column (i.e., transform it into 0/1) and rename it as \"label\"\n",
    "    # Note that by default StringIndexer will assign the value `0` to the most frequent label, which in the case of `deposit` is `no`\n",
    "    # As such, this nicely resembles the idea of having `deposit = 0` if no deposit is subscribed, or `deposit = 1` otherwise.\n",
    "    label_indexer = StringIndexer(inputCol = target_variable, outputCol = \"label\")\n",
    "    \n",
    "    # Assemble all the features (both one-hot-encoded categorical and numerical) into a single vector\n",
    "    assembler = VectorAssembler(inputCols= numerical_features, outputCol=\"features\")\n",
    "\n",
    "    # Populate the stages of the pipeline with all the preprocessing steps\n",
    "    stages = [label_indexer] + [assembler] # + ...\n",
    "\n",
    "    # Create the random forest transformer\n",
    "    rf = RandomForestClassifier(featuresCol=\"features\", labelCol=\"label\") # change `featuresCol=std_features` if scaler is used\n",
    "\n",
    "    # 5. Add the random forest transformer to the pipeline stages (i.e., the last one)\n",
    "    stages += [rf]\n",
    "\n",
    "    # 6. Set up the pipeline\n",
    "    pipeline = Pipeline(stages=stages)\n",
    "    \n",
    "    # We use a ParamGridBuilder to construct a grid of parameters to search over.\n",
    "    # A CrossValidator requires an Estimator, a set of Estimator ParamMaps, and an Evaluator.\n",
    "    # We use a ParamGridBuilder to construct a grid of parameters to search over.\n",
    "    # With 3 values for rf.maxDepth and 3 values for rf.numTrees\n",
    "    # this grid will have 3 x 3 = 9 parameter settings for CrossValidator to choose from.\n",
    "    param_grid = ParamGridBuilder()\\\n",
    "    .addGrid(rf.maxDepth, [3, 5, 8]) \\\n",
    "    .addGrid(rf.numTrees, [10, 50, 100]) \\\n",
    "    .build()\n",
    "    \n",
    "    cross_val = CrossValidator(estimator=pipeline, \n",
    "                               estimatorParamMaps=param_grid,\n",
    "                               evaluator=BinaryClassificationEvaluator(metricName=\"areaUnderROC\"), # default = \"areaUnderROC\", alternatively \"areaUnderPR\"\n",
    "                               numFolds=k_fold,\n",
    "                               collectSubModels=True # this flag allows us to store ALL the models trained during k-fold cross validation\n",
    "                               )\n",
    "\n",
    "    # Run cross-validation, and choose the best set of parameters.\n",
    "    cv_model = cross_val.fit(train)\n",
    "\n",
    "    return cv_model"
   ]
  },
  {
   "cell_type": "code",
   "execution_count": 0,
   "metadata": {
    "application/vnd.databricks.v1+cell": {
     "inputWidgets": {},
     "nuid": "ea0ba678-e1d1-4cb6-b700-e69bfe33bdf2",
     "showTitle": false,
     "title": ""
    }
   },
   "outputs": [
    {
     "data": {
      "text/html": [
       "<style scoped>\n",
       "  .ansiout {\n",
       "    display: block;\n",
       "    unicode-bidi: embed;\n",
       "    white-space: pre-wrap;\n",
       "    word-wrap: break-word;\n",
       "    word-break: break-all;\n",
       "    font-family: \"Source Code Pro\", \"Menlo\", monospace;;\n",
       "    font-size: 13px;\n",
       "    color: #555;\n",
       "    margin-left: 4px;\n",
       "    line-height: 19px;\n",
       "  }\n",
       "</style>\n",
       "<div class=\"ansiout\">MLlib will automatically track trials in MLflow. After your tuning fit() call has completed, view the MLflow UI to see logged runs.\n",
       "Avg. ROC AUC computed across k-fold cross validation for model setting #1: 0.850\n",
       "Avg. ROC AUC computed across k-fold cross validation for model setting #2: 0.854\n",
       "Avg. ROC AUC computed across k-fold cross validation for model setting #3: 0.854\n",
       "Avg. ROC AUC computed across k-fold cross validation for model setting #4: 0.872\n",
       "Avg. ROC AUC computed across k-fold cross validation for model setting #5: 0.880\n",
       "Avg. ROC AUC computed across k-fold cross validation for model setting #6: 0.880\n",
       "Avg. ROC AUC computed across k-fold cross validation for model setting #7: 0.899\n",
       "Avg. ROC AUC computed across k-fold cross validation for model setting #8: 0.906\n",
       "Avg. ROC AUC computed across k-fold cross validation for model setting #9: 0.906\n",
       "Best model according to k-fold cross validation: maxDept=[8]\n",
       "RandomForestClassificationModel: uid=RandomForestClassifier_1c1eaa859c6b, numTrees=100, numClasses=2, numFeatures=13\n",
       "</div>"
      ]
     },
     "metadata": {
      "application/vnd.databricks.v1+output": {
       "addedWidgets": {},
       "arguments": {},
       "data": "<div class=\"ansiout\">MLlib will automatically track trials in MLflow. After your tuning fit() call has completed, view the MLflow UI to see logged runs.\nAvg. ROC AUC computed across k-fold cross validation for model setting #1: 0.850\nAvg. ROC AUC computed across k-fold cross validation for model setting #2: 0.854\nAvg. ROC AUC computed across k-fold cross validation for model setting #3: 0.854\nAvg. ROC AUC computed across k-fold cross validation for model setting #4: 0.872\nAvg. ROC AUC computed across k-fold cross validation for model setting #5: 0.880\nAvg. ROC AUC computed across k-fold cross validation for model setting #6: 0.880\nAvg. ROC AUC computed across k-fold cross validation for model setting #7: 0.899\nAvg. ROC AUC computed across k-fold cross validation for model setting #8: 0.906\nAvg. ROC AUC computed across k-fold cross validation for model setting #9: 0.906\nBest model according to k-fold cross validation: maxDept=[8]\nRandomForestClassificationModel: uid=RandomForestClassifier_1c1eaa859c6b, numTrees=100, numClasses=2, numFeatures=13\n</div>",
       "datasetInfos": [],
       "metadata": {},
       "removedWidgets": [],
       "type": "html"
      }
     },
     "output_type": "display_data"
    }
   ],
   "source": [
    "cv_model = random_forest_pipeline(train_df, NUMERICAL_FEATURES, TARGET_VARIABLE)\n",
    "for i, avg_roc_auc in enumerate(cv_model.avgMetrics):\n",
    "    print(\"Avg. ROC AUC computed across k-fold cross validation for model setting #{:d}: {:.3f}\".format(i+1, avg_roc_auc))\n",
    "print(\"Best model according to k-fold cross validation: maxDept=[{:d}]\".\n",
    "      format(cv_model.bestModel.stages[-1]._java_obj.getMaxDepth(), \n",
    "             )\n",
    "      )\n",
    "print(cv_model.bestModel.stages[-1])"
   ]
  },
  {
   "cell_type": "code",
   "execution_count": 0,
   "metadata": {
    "application/vnd.databricks.v1+cell": {
     "inputWidgets": {},
     "nuid": "767c4e92-e23f-4e41-8be8-5cbe746af7f2",
     "showTitle": false,
     "title": ""
    }
   },
   "outputs": [
    {
     "data": {
      "text/html": [
       "<style scoped>\n",
       "  .ansiout {\n",
       "    display: block;\n",
       "    unicode-bidi: embed;\n",
       "    white-space: pre-wrap;\n",
       "    word-wrap: break-word;\n",
       "    word-break: break-all;\n",
       "    font-family: \"Source Code Pro\", \"Menlo\", monospace;;\n",
       "    font-size: 13px;\n",
       "    color: #555;\n",
       "    margin-left: 4px;\n",
       "    line-height: 19px;\n",
       "  }\n",
       "</style>\n",
       "<div class=\"ansiout\">+--------------------+----------+-----+\n",
       "            features|prediction|label|\n",
       "+--------------------+----------+-----+\n",
       "(13,[5,6,7,8,10,1...|       1.0|  1.0|\n",
       "(13,[3,5,6,7,8,12...|       0.0|  1.0|\n",
       "(13,[2,5,6,7,8,10...|       1.0|  1.0|\n",
       "(13,[2,5,6,7,8,10...|       1.0|  1.0|\n",
       "(13,[2,5,7,10,11,...|       1.0|  1.0|\n",
       "+--------------------+----------+-----+\n",
       "only showing top 5 rows\n",
       "\n",
       "</div>"
      ]
     },
     "metadata": {
      "application/vnd.databricks.v1+output": {
       "addedWidgets": {},
       "arguments": {},
       "data": "<div class=\"ansiout\">+--------------------+----------+-----+\n|            features|prediction|label|\n+--------------------+----------+-----+\n|(13,[5,6,7,8,10,1...|       1.0|  1.0|\n|(13,[3,5,6,7,8,12...|       0.0|  1.0|\n|(13,[2,5,6,7,8,10...|       1.0|  1.0|\n|(13,[2,5,6,7,8,10...|       1.0|  1.0|\n|(13,[2,5,7,10,11,...|       1.0|  1.0|\n+--------------------+----------+-----+\nonly showing top 5 rows\n\n</div>",
       "datasetInfos": [],
       "metadata": {},
       "removedWidgets": [],
       "type": "html"
      }
     },
     "output_type": "display_data"
    }
   ],
   "source": [
    "# Make predictions on the test set (`cv_model` contains the best model according to the result of k-fold cross validation)\n",
    "# `test_df` will follow exactly the same pipeline defined above, and already fit to `train_df`\n",
    "test_predictions = cv_model.transform(test_df)\n",
    "test_predictions.select(\"features\", \"prediction\", \"label\").show(5)"
   ]
  },
  {
   "cell_type": "code",
   "execution_count": null,
   "metadata": {
    "application/vnd.databricks.v1+cell": {
     "inputWidgets": {},
     "nuid": "2f59d2aa-1362-4b71-a715-c5d0f19b394e",
     "showTitle": false,
     "title": ""
    }
   },
   "outputs": [],
   "source": [
    "print(\"***** Test Set *****\")\n",
    "print(\"Area Under ROC Curve (ROC AUC): {:.3f}\".format(evaluate_model(test_predictions)))\n",
    "print(\"Area Under Precision-Recall Curve: {:.3f}\".format(evaluate_model(test_predictions, metric=\"areaUnderPR\")))\n",
    "print(\"***** Test Set *****\")"
   ]
  }
 ],
 "metadata": {
  "application/vnd.databricks.v1+notebook": {
   "dashboards": [],
   "language": "python",
   "notebookMetadata": {
    "experimentId": "3788279257147735",
    "pythonIndentUnit": 2
   },
   "notebookName": "project",
   "notebookOrigID": 3788279257147735,
   "widgets": {}
  },
  "kernelspec": {
   "display_name": "Python 3",
   "language": "python",
   "name": "python3"
  }
 },
 "nbformat": 4,
 "nbformat_minor": 1
}
